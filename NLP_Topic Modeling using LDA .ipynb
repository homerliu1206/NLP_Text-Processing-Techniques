{
 "cells": [
  {
   "cell_type": "markdown",
   "metadata": {
    "id": "z0XwDiC7cF51"
   },
   "source": [
    "# **Topic Modeling using LDA**"
   ]
  },
  {
   "cell_type": "markdown",
   "metadata": {
    "id": "CQfQ1af7cMY2"
   },
   "source": [
    "Title: LA3-Topic Modeling using LDA\\\n",
    "Author Name: Kuan-Hung Liu\\\n",
    "ASI ID: 1230540209\\\n",
    "File Creation Date: 1/31/2024"
   ]
  },
  {
   "cell_type": "markdown",
   "metadata": {
    "id": "Z4fd7wM_ccuK"
   },
   "source": [
    "## Library and Data Import"
   ]
  },
  {
   "cell_type": "code",
   "execution_count": null,
   "metadata": {
    "colab": {
     "base_uri": "https://localhost:8080/"
    },
    "executionInfo": {
     "elapsed": 1667,
     "status": "ok",
     "timestamp": 1706720305364,
     "user": {
      "displayName": "Homer Liu",
      "userId": "02498362625275100753"
     },
     "user_tz": 420
    },
    "id": "mnsXoHaVb_zV",
    "outputId": "5417d284-a742-4ede-d3f7-5df8cbc96c74"
   },
   "outputs": [
    {
     "name": "stdout",
     "output_type": "stream",
     "text": [
      "\u001b[33mWARNING: Skipping pyLDAvis as it is not installed.\u001b[0m\u001b[33m\n",
      "\u001b[0m"
     ]
    }
   ],
   "source": [
    "!pip uninstall pyLDAvis"
   ]
  },
  {
   "cell_type": "code",
   "execution_count": null,
   "metadata": {
    "colab": {
     "base_uri": "https://localhost:8080/"
    },
    "executionInfo": {
     "elapsed": 29119,
     "status": "ok",
     "timestamp": 1706720416943,
     "user": {
      "displayName": "Homer Liu",
      "userId": "02498362625275100753"
     },
     "user_tz": 420
    },
    "id": "qyndP9jVcmri",
    "outputId": "5e7216a4-bd8b-4c59-e56a-e4966ba17b6f"
   },
   "outputs": [
    {
     "name": "stdout",
     "output_type": "stream",
     "text": [
      "Found existing installation: gensim 4.3.2\n",
      "Uninstalling gensim-4.3.2:\n",
      "  Would remove:\n",
      "    /usr/local/lib/python3.10/dist-packages/gensim-4.3.2.dist-info/*\n",
      "    /usr/local/lib/python3.10/dist-packages/gensim/*\n",
      "Proceed (Y/n)? y\n",
      "  Successfully uninstalled gensim-4.3.2\n",
      "Found existing installation: pyLDAvis 3.4.1\n",
      "Uninstalling pyLDAvis-3.4.1:\n",
      "  Would remove:\n",
      "    /usr/local/lib/python3.10/dist-packages/pyLDAvis-3.4.1.dist-info/*\n",
      "    /usr/local/lib/python3.10/dist-packages/pyLDAvis/*\n",
      "Proceed (Y/n)? y\n",
      "  Successfully uninstalled pyLDAvis-3.4.1\n",
      "Found existing installation: spacy 3.6.1\n",
      "Uninstalling spacy-3.6.1:\n",
      "  Would remove:\n",
      "    /usr/local/bin/spacy\n",
      "    /usr/local/lib/python3.10/dist-packages/spacy-3.6.1.dist-info/*\n",
      "    /usr/local/lib/python3.10/dist-packages/spacy/*\n",
      "Proceed (Y/n)? y\n",
      "  Successfully uninstalled spacy-3.6.1\n",
      "Found existing installation: numpy 1.24.3\n",
      "Uninstalling numpy-1.24.3:\n",
      "  Would remove:\n",
      "    /usr/local/bin/f2py\n",
      "    /usr/local/bin/f2py3\n",
      "    /usr/local/bin/f2py3.10\n",
      "    /usr/local/lib/python3.10/dist-packages/numpy-1.24.3.dist-info/*\n",
      "    /usr/local/lib/python3.10/dist-packages/numpy.libs/libgfortran-040039e1.so.5.0.0\n",
      "    /usr/local/lib/python3.10/dist-packages/numpy.libs/libopenblas64_p-r0-15028c96.3.21.so\n",
      "    /usr/local/lib/python3.10/dist-packages/numpy.libs/libquadmath-96973f99.so.0.0.0\n",
      "    /usr/local/lib/python3.10/dist-packages/numpy/*\n",
      "Proceed (Y/n)? y\n",
      "  Successfully uninstalled numpy-1.24.3\n"
     ]
    }
   ],
   "source": [
    "!pip uninstall gensim\n",
    "!pip uninstall pyLDAvis\n",
    "!pip uninstall spacy\n",
    "!pip uninstall numpy"
   ]
  },
  {
   "cell_type": "code",
   "execution_count": null,
   "metadata": {
    "colab": {
     "base_uri": "https://localhost:8080/"
    },
    "id": "W2RtRbBQcpmu",
    "outputId": "592b3d52-17de-4cbf-a993-569a8b8ac5cd"
   },
   "outputs": [
    {
     "name": "stdout",
     "output_type": "stream",
     "text": [
      "Collecting gensim==4.3.2\n",
      "  Downloading gensim-4.3.2-cp310-cp310-manylinux_2_17_x86_64.manylinux2014_x86_64.whl (26.5 MB)\n",
      "\u001b[2K     \u001b[90m━━━━━━━━━━━━━━━━━━━━━━━━━━━━━━━━━━━━━━━━\u001b[0m \u001b[32m26.5/26.5 MB\u001b[0m \u001b[31m26.7 MB/s\u001b[0m eta \u001b[36m0:00:00\u001b[0m\n",
      "\u001b[?25hCollecting numpy>=1.18.5 (from gensim==4.3.2)\n",
      "  Using cached numpy-1.26.3-cp310-cp310-manylinux_2_17_x86_64.manylinux2014_x86_64.whl (18.2 MB)\n",
      "Requirement already satisfied: scipy>=1.7.0 in /usr/local/lib/python3.10/dist-packages (from gensim==4.3.2) (1.11.4)\n",
      "Requirement already satisfied: smart-open>=1.8.1 in /usr/local/lib/python3.10/dist-packages (from gensim==4.3.2) (6.4.0)\n",
      "Installing collected packages: numpy, gensim\n",
      "\u001b[31mERROR: pip's dependency resolver does not currently take into account all the packages that are installed. This behaviour is the source of the following dependency conflicts.\n",
      "lida 0.0.10 requires fastapi, which is not installed.\n",
      "lida 0.0.10 requires kaleido, which is not installed.\n",
      "lida 0.0.10 requires python-multipart, which is not installed.\n",
      "lida 0.0.10 requires uvicorn, which is not installed.\u001b[0m\u001b[31m\n",
      "\u001b[0mSuccessfully installed gensim-4.3.2 numpy-1.26.3\n"
     ]
    }
   ],
   "source": [
    "!pip install gensim==4.3.2\n",
    "!pip install pyLDAvis==3.4.1\n",
    "!pip install spacy==3.6.1\n",
    "#!pip install --upgrade numpy==1.24.4\n",
    "!pip install --upgrade numpy==1.24.3"
   ]
  },
  {
   "cell_type": "code",
   "execution_count": null,
   "metadata": {
    "id": "MWMAf6thcrz3"
   },
   "outputs": [],
   "source": [
    "# install gensim and pyLDAvis before you run this code\n",
    "from gensim import corpora\n",
    "from gensim import models\n",
    "import pyLDAvis\n",
    "import pyLDAvis.gensim_models\n",
    "import spacy\n",
    "import json"
   ]
  },
  {
   "cell_type": "code",
   "execution_count": null,
   "metadata": {
    "colab": {
     "base_uri": "https://localhost:8080/"
    },
    "executionInfo": {
     "elapsed": 34012,
     "status": "ok",
     "timestamp": 1706720919132,
     "user": {
      "displayName": "Homer Liu",
      "userId": "02498362625275100753"
     },
     "user_tz": 420
    },
    "id": "N3ZNYpqeffAv",
    "outputId": "65dde44c-185e-4e29-80bc-c3dec734e38a"
   },
   "outputs": [
    {
     "name": "stderr",
     "output_type": "stream",
     "text": [
      "/usr/local/lib/python3.10/dist-packages/ipykernel/ipkernel.py:283: DeprecationWarning: `should_run_async` will not call `transform_cell` automatically in the future. Please pass the result to `transformed_cell` argument and any exception that happen during thetransform in `preprocessing_exc_tuple` in IPython 7.17 and above.\n",
      "  and should_run_async(code)\n"
     ]
    },
    {
     "name": "stdout",
     "output_type": "stream",
     "text": [
      "\u001b[38;5;2m✔ Download and installation successful\u001b[0m\n",
      "You can now load the package via spacy.load('en_core_web_lg')\n"
     ]
    }
   ],
   "source": [
    "import spacy.cli;\n",
    "spacy.cli.download(\"en_core_web_lg\");"
   ]
  },
  {
   "cell_type": "code",
   "execution_count": 4,
   "metadata": {
    "colab": {
     "base_uri": "https://localhost:8080/",
     "height": 528
    },
    "executionInfo": {
     "elapsed": 15100,
     "status": "ok",
     "timestamp": 1706986180520,
     "user": {
      "displayName": "Homer Liu",
      "userId": "02498362625275100753"
     },
     "user_tz": 420
    },
    "id": "1u-1bHq8cuJ_",
    "outputId": "544bdc56-261f-422c-ed01-7af8efcd33ba"
   },
   "outputs": [
    {
     "name": "stdout",
     "output_type": "stream",
     "text": [
      "Mounted at /content/drive\n"
     ]
    },
    {
     "data": {
      "text/html": [
       "\n",
       "  <div id=\"df-ce1ef4d6-15cf-4a7e-bdcb-3a7c4a1aeb2d\" class=\"colab-df-container\">\n",
       "    <div>\n",
       "<style scoped>\n",
       "    .dataframe tbody tr th:only-of-type {\n",
       "        vertical-align: middle;\n",
       "    }\n",
       "\n",
       "    .dataframe tbody tr th {\n",
       "        vertical-align: top;\n",
       "    }\n",
       "\n",
       "    .dataframe thead th {\n",
       "        text-align: right;\n",
       "    }\n",
       "</style>\n",
       "<table border=\"1\" class=\"dataframe\">\n",
       "  <thead>\n",
       "    <tr style=\"text-align: right;\">\n",
       "      <th></th>\n",
       "      <th>review_id</th>\n",
       "      <th>user_id</th>\n",
       "      <th>business_id</th>\n",
       "      <th>stars</th>\n",
       "      <th>useful</th>\n",
       "      <th>funny</th>\n",
       "      <th>cool</th>\n",
       "      <th>text</th>\n",
       "      <th>date</th>\n",
       "      <th>Sentiment</th>\n",
       "    </tr>\n",
       "  </thead>\n",
       "  <tbody>\n",
       "    <tr>\n",
       "      <th>0</th>\n",
       "      <td>IVS7do_HBzroiCiymNdxDg</td>\n",
       "      <td>fdFgZQQYQJeEAshH4lxSfQ</td>\n",
       "      <td>sGy67CpJctjeCWClWqonjA</td>\n",
       "      <td>3</td>\n",
       "      <td>1</td>\n",
       "      <td>1</td>\n",
       "      <td>0</td>\n",
       "      <td>OK, the hype about having Hatch chili in your ...</td>\n",
       "      <td>1/27/2020 22:59</td>\n",
       "      <td>1</td>\n",
       "    </tr>\n",
       "    <tr>\n",
       "      <th>1</th>\n",
       "      <td>QP2pSzSqpJTMWOCuUuyXkQ</td>\n",
       "      <td>JBLWSXBTKFvJYYiM-FnCOQ</td>\n",
       "      <td>3w7NRntdQ9h0KwDsksIt5Q</td>\n",
       "      <td>5</td>\n",
       "      <td>1</td>\n",
       "      <td>1</td>\n",
       "      <td>1</td>\n",
       "      <td>Pandemic pit stop to have an ice cream.... onl...</td>\n",
       "      <td>4/19/2020 5:33</td>\n",
       "      <td>1</td>\n",
       "    </tr>\n",
       "    <tr>\n",
       "      <th>2</th>\n",
       "      <td>oK0cGYStgDOusZKz9B1qug</td>\n",
       "      <td>2_9fKnXChUjC5xArfF8BLg</td>\n",
       "      <td>OMnPtRGmbY8qH_wIILfYKA</td>\n",
       "      <td>5</td>\n",
       "      <td>1</td>\n",
       "      <td>0</td>\n",
       "      <td>0</td>\n",
       "      <td>I was lucky enough to go to the soft opening a...</td>\n",
       "      <td>2/29/2020 19:43</td>\n",
       "      <td>1</td>\n",
       "    </tr>\n",
       "    <tr>\n",
       "      <th>3</th>\n",
       "      <td>E_ABvFCNVLbfOgRg3Pv1KQ</td>\n",
       "      <td>9MExTQ76GSKhxSWnTS901g</td>\n",
       "      <td>V9XlikTxq0My4gE8LULsjw</td>\n",
       "      <td>5</td>\n",
       "      <td>0</td>\n",
       "      <td>0</td>\n",
       "      <td>0</td>\n",
       "      <td>I've gone to claim Jumpers all over the US and...</td>\n",
       "      <td>3/14/2020 21:47</td>\n",
       "      <td>1</td>\n",
       "    </tr>\n",
       "    <tr>\n",
       "      <th>4</th>\n",
       "      <td>Rd222CrrnXkXukR2iWj69g</td>\n",
       "      <td>LPxuausjvDN88uPr-Q4cQA</td>\n",
       "      <td>CA5BOxKRDPGJgdUQ8OUOpw</td>\n",
       "      <td>4</td>\n",
       "      <td>1</td>\n",
       "      <td>0</td>\n",
       "      <td>0</td>\n",
       "      <td>If you haven't been  to Maynard's kitchen, it'...</td>\n",
       "      <td>1/17/2020 20:32</td>\n",
       "      <td>1</td>\n",
       "    </tr>\n",
       "    <tr>\n",
       "      <th>...</th>\n",
       "      <td>...</td>\n",
       "      <td>...</td>\n",
       "      <td>...</td>\n",
       "      <td>...</td>\n",
       "      <td>...</td>\n",
       "      <td>...</td>\n",
       "      <td>...</td>\n",
       "      <td>...</td>\n",
       "      <td>...</td>\n",
       "      <td>...</td>\n",
       "    </tr>\n",
       "    <tr>\n",
       "      <th>995</th>\n",
       "      <td>idzmt7q9wute-U12OXJiqQ</td>\n",
       "      <td>Ms9Y6kURlD7dGo3DMnXY5Q</td>\n",
       "      <td>3StNEgKAwpCFR1q0urmJrw</td>\n",
       "      <td>5</td>\n",
       "      <td>0</td>\n",
       "      <td>0</td>\n",
       "      <td>0</td>\n",
       "      <td>Best ramen I've ever had! Literally nothing Co...</td>\n",
       "      <td>8/29/2021 3:35</td>\n",
       "      <td>1</td>\n",
       "    </tr>\n",
       "    <tr>\n",
       "      <th>996</th>\n",
       "      <td>RhN-CYKz4aZm6VZlVtlMWA</td>\n",
       "      <td>XDmE8qlypJQ0CMpqop5jMg</td>\n",
       "      <td>UCMSWPqzXjd7QHq7v8PJjQ</td>\n",
       "      <td>1</td>\n",
       "      <td>1</td>\n",
       "      <td>0</td>\n",
       "      <td>0</td>\n",
       "      <td>We are trying to support local restaurants dur...</td>\n",
       "      <td>4/12/2020 17:44</td>\n",
       "      <td>0</td>\n",
       "    </tr>\n",
       "    <tr>\n",
       "      <th>997</th>\n",
       "      <td>#NAME?</td>\n",
       "      <td>JX7p-7wmPAMbC1861ut9RQ</td>\n",
       "      <td>v5T1Q21TT1_S_aY_G8Mf-g</td>\n",
       "      <td>4</td>\n",
       "      <td>0</td>\n",
       "      <td>0</td>\n",
       "      <td>1</td>\n",
       "      <td>We checked out this place for Taco Tuesday and...</td>\n",
       "      <td>3/22/2020 18:56</td>\n",
       "      <td>1</td>\n",
       "    </tr>\n",
       "    <tr>\n",
       "      <th>998</th>\n",
       "      <td>YhltcyrGQSWsrQoFeGqKQg</td>\n",
       "      <td>sBHS_gL9aTaTbTAcdrfE7w</td>\n",
       "      <td>OMnPtRGmbY8qH_wIILfYKA</td>\n",
       "      <td>5</td>\n",
       "      <td>1</td>\n",
       "      <td>0</td>\n",
       "      <td>1</td>\n",
       "      <td>Love this place. Awesome Tucson vibes, great f...</td>\n",
       "      <td>2/12/2021 0:50</td>\n",
       "      <td>1</td>\n",
       "    </tr>\n",
       "    <tr>\n",
       "      <th>999</th>\n",
       "      <td>hVQOizWPIomErxq3OljhqA</td>\n",
       "      <td>fCES-6w1t5a9MW1IT6l1_w</td>\n",
       "      <td>UCMSWPqzXjd7QHq7v8PJjQ</td>\n",
       "      <td>5</td>\n",
       "      <td>0</td>\n",
       "      <td>0</td>\n",
       "      <td>0</td>\n",
       "      <td>I've heard good things about Prep &amp; Pastry fro...</td>\n",
       "      <td>1/27/2021 18:41</td>\n",
       "      <td>1</td>\n",
       "    </tr>\n",
       "  </tbody>\n",
       "</table>\n",
       "<p>1000 rows × 10 columns</p>\n",
       "</div>\n",
       "    <div class=\"colab-df-buttons\">\n",
       "\n",
       "  <div class=\"colab-df-container\">\n",
       "    <button class=\"colab-df-convert\" onclick=\"convertToInteractive('df-ce1ef4d6-15cf-4a7e-bdcb-3a7c4a1aeb2d')\"\n",
       "            title=\"Convert this dataframe to an interactive table.\"\n",
       "            style=\"display:none;\">\n",
       "\n",
       "  <svg xmlns=\"http://www.w3.org/2000/svg\" height=\"24px\" viewBox=\"0 -960 960 960\">\n",
       "    <path d=\"M120-120v-720h720v720H120Zm60-500h600v-160H180v160Zm220 220h160v-160H400v160Zm0 220h160v-160H400v160ZM180-400h160v-160H180v160Zm440 0h160v-160H620v160ZM180-180h160v-160H180v160Zm440 0h160v-160H620v160Z\"/>\n",
       "  </svg>\n",
       "    </button>\n",
       "\n",
       "  <style>\n",
       "    .colab-df-container {\n",
       "      display:flex;\n",
       "      gap: 12px;\n",
       "    }\n",
       "\n",
       "    .colab-df-convert {\n",
       "      background-color: #E8F0FE;\n",
       "      border: none;\n",
       "      border-radius: 50%;\n",
       "      cursor: pointer;\n",
       "      display: none;\n",
       "      fill: #1967D2;\n",
       "      height: 32px;\n",
       "      padding: 0 0 0 0;\n",
       "      width: 32px;\n",
       "    }\n",
       "\n",
       "    .colab-df-convert:hover {\n",
       "      background-color: #E2EBFA;\n",
       "      box-shadow: 0px 1px 2px rgba(60, 64, 67, 0.3), 0px 1px 3px 1px rgba(60, 64, 67, 0.15);\n",
       "      fill: #174EA6;\n",
       "    }\n",
       "\n",
       "    .colab-df-buttons div {\n",
       "      margin-bottom: 4px;\n",
       "    }\n",
       "\n",
       "    [theme=dark] .colab-df-convert {\n",
       "      background-color: #3B4455;\n",
       "      fill: #D2E3FC;\n",
       "    }\n",
       "\n",
       "    [theme=dark] .colab-df-convert:hover {\n",
       "      background-color: #434B5C;\n",
       "      box-shadow: 0px 1px 3px 1px rgba(0, 0, 0, 0.15);\n",
       "      filter: drop-shadow(0px 1px 2px rgba(0, 0, 0, 0.3));\n",
       "      fill: #FFFFFF;\n",
       "    }\n",
       "  </style>\n",
       "\n",
       "    <script>\n",
       "      const buttonEl =\n",
       "        document.querySelector('#df-ce1ef4d6-15cf-4a7e-bdcb-3a7c4a1aeb2d button.colab-df-convert');\n",
       "      buttonEl.style.display =\n",
       "        google.colab.kernel.accessAllowed ? 'block' : 'none';\n",
       "\n",
       "      async function convertToInteractive(key) {\n",
       "        const element = document.querySelector('#df-ce1ef4d6-15cf-4a7e-bdcb-3a7c4a1aeb2d');\n",
       "        const dataTable =\n",
       "          await google.colab.kernel.invokeFunction('convertToInteractive',\n",
       "                                                    [key], {});\n",
       "        if (!dataTable) return;\n",
       "\n",
       "        const docLinkHtml = 'Like what you see? Visit the ' +\n",
       "          '<a target=\"_blank\" href=https://colab.research.google.com/notebooks/data_table.ipynb>data table notebook</a>'\n",
       "          + ' to learn more about interactive tables.';\n",
       "        element.innerHTML = '';\n",
       "        dataTable['output_type'] = 'display_data';\n",
       "        await google.colab.output.renderOutput(dataTable, element);\n",
       "        const docLink = document.createElement('div');\n",
       "        docLink.innerHTML = docLinkHtml;\n",
       "        element.appendChild(docLink);\n",
       "      }\n",
       "    </script>\n",
       "  </div>\n",
       "\n",
       "\n",
       "<div id=\"df-9871097c-ea91-4a0a-82eb-a18889bd7211\">\n",
       "  <button class=\"colab-df-quickchart\" onclick=\"quickchart('df-9871097c-ea91-4a0a-82eb-a18889bd7211')\"\n",
       "            title=\"Suggest charts\"\n",
       "            style=\"display:none;\">\n",
       "\n",
       "<svg xmlns=\"http://www.w3.org/2000/svg\" height=\"24px\"viewBox=\"0 0 24 24\"\n",
       "     width=\"24px\">\n",
       "    <g>\n",
       "        <path d=\"M19 3H5c-1.1 0-2 .9-2 2v14c0 1.1.9 2 2 2h14c1.1 0 2-.9 2-2V5c0-1.1-.9-2-2-2zM9 17H7v-7h2v7zm4 0h-2V7h2v10zm4 0h-2v-4h2v4z\"/>\n",
       "    </g>\n",
       "</svg>\n",
       "  </button>\n",
       "\n",
       "<style>\n",
       "  .colab-df-quickchart {\n",
       "      --bg-color: #E8F0FE;\n",
       "      --fill-color: #1967D2;\n",
       "      --hover-bg-color: #E2EBFA;\n",
       "      --hover-fill-color: #174EA6;\n",
       "      --disabled-fill-color: #AAA;\n",
       "      --disabled-bg-color: #DDD;\n",
       "  }\n",
       "\n",
       "  [theme=dark] .colab-df-quickchart {\n",
       "      --bg-color: #3B4455;\n",
       "      --fill-color: #D2E3FC;\n",
       "      --hover-bg-color: #434B5C;\n",
       "      --hover-fill-color: #FFFFFF;\n",
       "      --disabled-bg-color: #3B4455;\n",
       "      --disabled-fill-color: #666;\n",
       "  }\n",
       "\n",
       "  .colab-df-quickchart {\n",
       "    background-color: var(--bg-color);\n",
       "    border: none;\n",
       "    border-radius: 50%;\n",
       "    cursor: pointer;\n",
       "    display: none;\n",
       "    fill: var(--fill-color);\n",
       "    height: 32px;\n",
       "    padding: 0;\n",
       "    width: 32px;\n",
       "  }\n",
       "\n",
       "  .colab-df-quickchart:hover {\n",
       "    background-color: var(--hover-bg-color);\n",
       "    box-shadow: 0 1px 2px rgba(60, 64, 67, 0.3), 0 1px 3px 1px rgba(60, 64, 67, 0.15);\n",
       "    fill: var(--button-hover-fill-color);\n",
       "  }\n",
       "\n",
       "  .colab-df-quickchart-complete:disabled,\n",
       "  .colab-df-quickchart-complete:disabled:hover {\n",
       "    background-color: var(--disabled-bg-color);\n",
       "    fill: var(--disabled-fill-color);\n",
       "    box-shadow: none;\n",
       "  }\n",
       "\n",
       "  .colab-df-spinner {\n",
       "    border: 2px solid var(--fill-color);\n",
       "    border-color: transparent;\n",
       "    border-bottom-color: var(--fill-color);\n",
       "    animation:\n",
       "      spin 1s steps(1) infinite;\n",
       "  }\n",
       "\n",
       "  @keyframes spin {\n",
       "    0% {\n",
       "      border-color: transparent;\n",
       "      border-bottom-color: var(--fill-color);\n",
       "      border-left-color: var(--fill-color);\n",
       "    }\n",
       "    20% {\n",
       "      border-color: transparent;\n",
       "      border-left-color: var(--fill-color);\n",
       "      border-top-color: var(--fill-color);\n",
       "    }\n",
       "    30% {\n",
       "      border-color: transparent;\n",
       "      border-left-color: var(--fill-color);\n",
       "      border-top-color: var(--fill-color);\n",
       "      border-right-color: var(--fill-color);\n",
       "    }\n",
       "    40% {\n",
       "      border-color: transparent;\n",
       "      border-right-color: var(--fill-color);\n",
       "      border-top-color: var(--fill-color);\n",
       "    }\n",
       "    60% {\n",
       "      border-color: transparent;\n",
       "      border-right-color: var(--fill-color);\n",
       "    }\n",
       "    80% {\n",
       "      border-color: transparent;\n",
       "      border-right-color: var(--fill-color);\n",
       "      border-bottom-color: var(--fill-color);\n",
       "    }\n",
       "    90% {\n",
       "      border-color: transparent;\n",
       "      border-bottom-color: var(--fill-color);\n",
       "    }\n",
       "  }\n",
       "</style>\n",
       "\n",
       "  <script>\n",
       "    async function quickchart(key) {\n",
       "      const quickchartButtonEl =\n",
       "        document.querySelector('#' + key + ' button');\n",
       "      quickchartButtonEl.disabled = true;  // To prevent multiple clicks.\n",
       "      quickchartButtonEl.classList.add('colab-df-spinner');\n",
       "      try {\n",
       "        const charts = await google.colab.kernel.invokeFunction(\n",
       "            'suggestCharts', [key], {});\n",
       "      } catch (error) {\n",
       "        console.error('Error during call to suggestCharts:', error);\n",
       "      }\n",
       "      quickchartButtonEl.classList.remove('colab-df-spinner');\n",
       "      quickchartButtonEl.classList.add('colab-df-quickchart-complete');\n",
       "    }\n",
       "    (() => {\n",
       "      let quickchartButtonEl =\n",
       "        document.querySelector('#df-9871097c-ea91-4a0a-82eb-a18889bd7211 button');\n",
       "      quickchartButtonEl.style.display =\n",
       "        google.colab.kernel.accessAllowed ? 'block' : 'none';\n",
       "    })();\n",
       "  </script>\n",
       "</div>\n",
       "\n",
       "  <div id=\"id_4dd6367a-1d8f-47bc-b957-7edaf67691b9\">\n",
       "    <style>\n",
       "      .colab-df-generate {\n",
       "        background-color: #E8F0FE;\n",
       "        border: none;\n",
       "        border-radius: 50%;\n",
       "        cursor: pointer;\n",
       "        display: none;\n",
       "        fill: #1967D2;\n",
       "        height: 32px;\n",
       "        padding: 0 0 0 0;\n",
       "        width: 32px;\n",
       "      }\n",
       "\n",
       "      .colab-df-generate:hover {\n",
       "        background-color: #E2EBFA;\n",
       "        box-shadow: 0px 1px 2px rgba(60, 64, 67, 0.3), 0px 1px 3px 1px rgba(60, 64, 67, 0.15);\n",
       "        fill: #174EA6;\n",
       "      }\n",
       "\n",
       "      [theme=dark] .colab-df-generate {\n",
       "        background-color: #3B4455;\n",
       "        fill: #D2E3FC;\n",
       "      }\n",
       "\n",
       "      [theme=dark] .colab-df-generate:hover {\n",
       "        background-color: #434B5C;\n",
       "        box-shadow: 0px 1px 3px 1px rgba(0, 0, 0, 0.15);\n",
       "        filter: drop-shadow(0px 1px 2px rgba(0, 0, 0, 0.3));\n",
       "        fill: #FFFFFF;\n",
       "      }\n",
       "    </style>\n",
       "    <button class=\"colab-df-generate\" onclick=\"generateWithVariable('data')\"\n",
       "            title=\"Generate code using this dataframe.\"\n",
       "            style=\"display:none;\">\n",
       "\n",
       "  <svg xmlns=\"http://www.w3.org/2000/svg\" height=\"24px\"viewBox=\"0 0 24 24\"\n",
       "       width=\"24px\">\n",
       "    <path d=\"M7,19H8.4L18.45,9,17,7.55,7,17.6ZM5,21V16.75L18.45,3.32a2,2,0,0,1,2.83,0l1.4,1.43a1.91,1.91,0,0,1,.58,1.4,1.91,1.91,0,0,1-.58,1.4L9.25,21ZM18.45,9,17,7.55Zm-12,3A5.31,5.31,0,0,0,4.9,8.1,5.31,5.31,0,0,0,1,6.5,5.31,5.31,0,0,0,4.9,4.9,5.31,5.31,0,0,0,6.5,1,5.31,5.31,0,0,0,8.1,4.9,5.31,5.31,0,0,0,12,6.5,5.46,5.46,0,0,0,6.5,12Z\"/>\n",
       "  </svg>\n",
       "    </button>\n",
       "    <script>\n",
       "      (() => {\n",
       "      const buttonEl =\n",
       "        document.querySelector('#id_4dd6367a-1d8f-47bc-b957-7edaf67691b9 button.colab-df-generate');\n",
       "      buttonEl.style.display =\n",
       "        google.colab.kernel.accessAllowed ? 'block' : 'none';\n",
       "\n",
       "      buttonEl.onclick = () => {\n",
       "        google.colab.notebook.generateWithVariable('data');\n",
       "      }\n",
       "      })();\n",
       "    </script>\n",
       "  </div>\n",
       "\n",
       "    </div>\n",
       "  </div>\n"
      ],
      "text/plain": [
       "                  review_id                 user_id             business_id  \\\n",
       "0    IVS7do_HBzroiCiymNdxDg  fdFgZQQYQJeEAshH4lxSfQ  sGy67CpJctjeCWClWqonjA   \n",
       "1    QP2pSzSqpJTMWOCuUuyXkQ  JBLWSXBTKFvJYYiM-FnCOQ  3w7NRntdQ9h0KwDsksIt5Q   \n",
       "2    oK0cGYStgDOusZKz9B1qug  2_9fKnXChUjC5xArfF8BLg  OMnPtRGmbY8qH_wIILfYKA   \n",
       "3    E_ABvFCNVLbfOgRg3Pv1KQ  9MExTQ76GSKhxSWnTS901g  V9XlikTxq0My4gE8LULsjw   \n",
       "4    Rd222CrrnXkXukR2iWj69g  LPxuausjvDN88uPr-Q4cQA  CA5BOxKRDPGJgdUQ8OUOpw   \n",
       "..                      ...                     ...                     ...   \n",
       "995  idzmt7q9wute-U12OXJiqQ  Ms9Y6kURlD7dGo3DMnXY5Q  3StNEgKAwpCFR1q0urmJrw   \n",
       "996  RhN-CYKz4aZm6VZlVtlMWA  XDmE8qlypJQ0CMpqop5jMg  UCMSWPqzXjd7QHq7v8PJjQ   \n",
       "997                  #NAME?  JX7p-7wmPAMbC1861ut9RQ  v5T1Q21TT1_S_aY_G8Mf-g   \n",
       "998  YhltcyrGQSWsrQoFeGqKQg  sBHS_gL9aTaTbTAcdrfE7w  OMnPtRGmbY8qH_wIILfYKA   \n",
       "999  hVQOizWPIomErxq3OljhqA  fCES-6w1t5a9MW1IT6l1_w  UCMSWPqzXjd7QHq7v8PJjQ   \n",
       "\n",
       "     stars  useful  funny  cool  \\\n",
       "0        3       1      1     0   \n",
       "1        5       1      1     1   \n",
       "2        5       1      0     0   \n",
       "3        5       0      0     0   \n",
       "4        4       1      0     0   \n",
       "..     ...     ...    ...   ...   \n",
       "995      5       0      0     0   \n",
       "996      1       1      0     0   \n",
       "997      4       0      0     1   \n",
       "998      5       1      0     1   \n",
       "999      5       0      0     0   \n",
       "\n",
       "                                                  text             date  \\\n",
       "0    OK, the hype about having Hatch chili in your ...  1/27/2020 22:59   \n",
       "1    Pandemic pit stop to have an ice cream.... onl...   4/19/2020 5:33   \n",
       "2    I was lucky enough to go to the soft opening a...  2/29/2020 19:43   \n",
       "3    I've gone to claim Jumpers all over the US and...  3/14/2020 21:47   \n",
       "4    If you haven't been  to Maynard's kitchen, it'...  1/17/2020 20:32   \n",
       "..                                                 ...              ...   \n",
       "995  Best ramen I've ever had! Literally nothing Co...   8/29/2021 3:35   \n",
       "996  We are trying to support local restaurants dur...  4/12/2020 17:44   \n",
       "997  We checked out this place for Taco Tuesday and...  3/22/2020 18:56   \n",
       "998  Love this place. Awesome Tucson vibes, great f...   2/12/2021 0:50   \n",
       "999  I've heard good things about Prep & Pastry fro...  1/27/2021 18:41   \n",
       "\n",
       "     Sentiment  \n",
       "0            1  \n",
       "1            1  \n",
       "2            1  \n",
       "3            1  \n",
       "4            1  \n",
       "..         ...  \n",
       "995          1  \n",
       "996          0  \n",
       "997          1  \n",
       "998          1  \n",
       "999          1  \n",
       "\n",
       "[1000 rows x 10 columns]"
      ]
     },
     "execution_count": 4,
     "metadata": {},
     "output_type": "execute_result"
    }
   ],
   "source": [
    "from google.colab import drive\n",
    "drive.mount('/content/drive')\n",
    "\n",
    "import pandas as pd\n",
    "data = pd.read_csv('/content/drive/MyDrive/CIS_509/restaurant_reviews_az.csv', nrows=1000)\n",
    "data"
   ]
  },
  {
   "cell_type": "markdown",
   "metadata": {
    "id": "R6mDNhdRstDb"
   },
   "source": [
    "## The Whole Dataset\n",
    "- Select a proper K\n",
    "- Fit an LDA model of K topics\n",
    "- Visualize results\n",
    "- Interpret topics"
   ]
  },
  {
   "cell_type": "markdown",
   "metadata": {
    "id": "l9LGldjogaBb"
   },
   "source": [
    "### Coherence Measure\n",
    "Based on all the review data provided, calculate coherence measure and plot it (K = 2 - 30)."
   ]
  },
  {
   "cell_type": "code",
   "execution_count": null,
   "metadata": {
    "colab": {
     "base_uri": "https://localhost:8080/"
    },
    "executionInfo": {
     "elapsed": 45793,
     "status": "ok",
     "timestamp": 1706720965301,
     "user": {
      "displayName": "Homer Liu",
      "userId": "02498362625275100753"
     },
     "user_tz": 420
    },
    "id": "9ebBnuIHfUV3",
    "outputId": "9b8f17c6-5b16-4a32-c47d-260b2d0411ad"
   },
   "outputs": [
    {
     "name": "stderr",
     "output_type": "stream",
     "text": [
      "/usr/local/lib/python3.10/dist-packages/ipykernel/ipkernel.py:283: DeprecationWarning: `should_run_async` will not call `transform_cell` automatically in the future. Please pass the result to `transformed_cell` argument and any exception that happen during thetransform in `preprocessing_exc_tuple` in IPython 7.17 and above.\n",
      "  and should_run_async(code)\n"
     ]
    }
   ],
   "source": [
    "# TF-IDF with Data Processing\n",
    "nlp = spacy.load(\"en_core_web_lg\")\n",
    "\n",
    "documents = []\n",
    "for index, row in data.iterrows():\n",
    "    text = row[\"text\"]\n",
    "    doc = nlp(text)\n",
    "    if len(doc) <= 5: # exclude comments with five or less than five words\n",
    "        pass\n",
    "    else:\n",
    "        documents.append(text.replace(\"!\",\"\").replace(\".\",\"\").replace(\"?\",\"\").replace(\"[\",\"\").replace(\"]\",\"\").replace(\")\",\"\").replace(\"(\",\"\").replace(\"  \",\" \").replace('\\\"',\" \").replace(\"\\'\",\" \").replace(\"/\",\" \").replace(\"\\\\\",\" \"))\n",
    "\n",
    "processed_documents = [] # list for storing tokenized documents\n",
    "for document in documents:\n",
    "    temp_list = [] # list for storing tokens in a document\n",
    "    for token in nlp(document):\n",
    "        if token.is_stop is True: # check whether the provided token is a stop word and decide whether to disregard it\n",
    "            pass\n",
    "        elif not nlp.vocab.has_vector(str(token)): # check whether the provided token is in a vocabulary\n",
    "            pass\n",
    "        else:\n",
    "            temp_list.append(str(token.lemma_)) # lemmatize\n",
    "    processed_documents.append(temp_list)\n",
    "dictionary = corpora.Dictionary(processed_documents) # index words with integers\n",
    "corpus = [dictionary.doc2bow(sentence) for sentence in processed_documents] # TF representation\n",
    "tfidf = models.TfidfModel(corpus) # Fit TF-IDF\n",
    "corpus_tfidf = tfidf[corpus] # Transform \"corpus\" into TF-IDF"
   ]
  },
  {
   "cell_type": "code",
   "execution_count": null,
   "metadata": {
    "colab": {
     "base_uri": "https://localhost:8080/"
    },
    "executionInfo": {
     "elapsed": 1018,
     "status": "ok",
     "timestamp": 1706723644770,
     "user": {
      "displayName": "Homer Liu",
      "userId": "02498362625275100753"
     },
     "user_tz": 420
    },
    "id": "pLqT3Z5bfPnp",
    "outputId": "ecab4b67-6d73-4d49-b519-13d13090476e"
   },
   "outputs": [
    {
     "name": "stderr",
     "output_type": "stream",
     "text": [
      "/usr/local/lib/python3.10/dist-packages/ipykernel/ipkernel.py:283: DeprecationWarning: `should_run_async` will not call `transform_cell` automatically in the future. Please pass the result to `transformed_cell` argument and any exception that happen during thetransform in `preprocessing_exc_tuple` in IPython 7.17 and above.\n",
      "  and should_run_async(code)\n",
      "WARNING:gensim.models.ldamodel:too few updates, training might not converge; consider increasing the number of passes or iterations to improve accuracy\n"
     ]
    }
   ],
   "source": [
    "lda_model = models.ldamodel.LdaModel(corpus_tfidf, id2word=dictionary, num_topics=8) # train LDA model"
   ]
  },
  {
   "cell_type": "code",
   "execution_count": null,
   "metadata": {
    "colab": {
     "base_uri": "https://localhost:8080/"
    },
    "executionInfo": {
     "elapsed": 542,
     "status": "ok",
     "timestamp": 1706723645925,
     "user": {
      "displayName": "Homer Liu",
      "userId": "02498362625275100753"
     },
     "user_tz": 420
    },
    "id": "QpfB1X8bec6T",
    "outputId": "6d22db9b-bf4c-4270-e25f-d6b9ec06e587"
   },
   "outputs": [
    {
     "name": "stderr",
     "output_type": "stream",
     "text": [
      "/usr/local/lib/python3.10/dist-packages/ipykernel/ipkernel.py:283: DeprecationWarning: `should_run_async` will not call `transform_cell` automatically in the future. Please pass the result to `transformed_cell` argument and any exception that happen during thetransform in `preprocessing_exc_tuple` in IPython 7.17 and above.\n",
      "  and should_run_async(code)\n"
     ]
    },
    {
     "name": "stdout",
     "output_type": "stream",
     "text": [
      "0.26556944113079084\n"
     ]
    }
   ],
   "source": [
    "# Coherence Measures\n",
    "from gensim.models import CoherenceModel\n",
    "coherence_model_lda = CoherenceModel(model=lda_model, texts=processed_documents, dictionary=dictionary, coherence='c_v') # by changing the values for the \"coherence\" parameter, you can use different coherence methods (e.g., 'u_mass', 'c_v', 'c_uci', 'c_npmi')\n",
    "coherence_lda = coherence_model_lda.get_coherence()\n",
    "print(coherence_lda)"
   ]
  },
  {
   "cell_type": "code",
   "execution_count": null,
   "metadata": {
    "colab": {
     "base_uri": "https://localhost:8080/"
    },
    "executionInfo": {
     "elapsed": 53646,
     "status": "ok",
     "timestamp": 1706723701469,
     "user": {
      "displayName": "Homer Liu",
      "userId": "02498362625275100753"
     },
     "user_tz": 420
    },
    "id": "pOcPr0e5f7QK",
    "outputId": "1fb8786f-c4e5-40cb-8a5d-3b76dd823277"
   },
   "outputs": [
    {
     "name": "stderr",
     "output_type": "stream",
     "text": [
      "/usr/local/lib/python3.10/dist-packages/ipykernel/ipkernel.py:283: DeprecationWarning: `should_run_async` will not call `transform_cell` automatically in the future. Please pass the result to `transformed_cell` argument and any exception that happen during thetransform in `preprocessing_exc_tuple` in IPython 7.17 and above.\n",
      "  and should_run_async(code)\n",
      "WARNING:gensim.models.ldamodel:too few updates, training might not converge; consider increasing the number of passes or iterations to improve accuracy\n",
      "WARNING:gensim.models.ldamodel:too few updates, training might not converge; consider increasing the number of passes or iterations to improve accuracy\n",
      "WARNING:gensim.models.ldamodel:too few updates, training might not converge; consider increasing the number of passes or iterations to improve accuracy\n",
      "WARNING:gensim.models.ldamodel:too few updates, training might not converge; consider increasing the number of passes or iterations to improve accuracy\n",
      "WARNING:gensim.models.ldamodel:too few updates, training might not converge; consider increasing the number of passes or iterations to improve accuracy\n",
      "WARNING:gensim.models.ldamodel:too few updates, training might not converge; consider increasing the number of passes or iterations to improve accuracy\n",
      "WARNING:gensim.models.ldamodel:too few updates, training might not converge; consider increasing the number of passes or iterations to improve accuracy\n",
      "WARNING:gensim.models.ldamodel:too few updates, training might not converge; consider increasing the number of passes or iterations to improve accuracy\n",
      "WARNING:gensim.models.ldamodel:too few updates, training might not converge; consider increasing the number of passes or iterations to improve accuracy\n",
      "WARNING:gensim.models.ldamodel:too few updates, training might not converge; consider increasing the number of passes or iterations to improve accuracy\n",
      "WARNING:gensim.models.ldamodel:too few updates, training might not converge; consider increasing the number of passes or iterations to improve accuracy\n",
      "WARNING:gensim.models.ldamodel:too few updates, training might not converge; consider increasing the number of passes or iterations to improve accuracy\n",
      "WARNING:gensim.models.ldamodel:too few updates, training might not converge; consider increasing the number of passes or iterations to improve accuracy\n",
      "WARNING:gensim.models.ldamodel:too few updates, training might not converge; consider increasing the number of passes or iterations to improve accuracy\n",
      "WARNING:gensim.models.ldamodel:too few updates, training might not converge; consider increasing the number of passes or iterations to improve accuracy\n",
      "WARNING:gensim.models.ldamodel:too few updates, training might not converge; consider increasing the number of passes or iterations to improve accuracy\n",
      "WARNING:gensim.models.ldamodel:too few updates, training might not converge; consider increasing the number of passes or iterations to improve accuracy\n",
      "WARNING:gensim.models.ldamodel:too few updates, training might not converge; consider increasing the number of passes or iterations to improve accuracy\n",
      "WARNING:gensim.models.ldamodel:too few updates, training might not converge; consider increasing the number of passes or iterations to improve accuracy\n",
      "WARNING:gensim.models.ldamodel:too few updates, training might not converge; consider increasing the number of passes or iterations to improve accuracy\n",
      "WARNING:gensim.models.ldamodel:too few updates, training might not converge; consider increasing the number of passes or iterations to improve accuracy\n",
      "WARNING:gensim.models.ldamodel:too few updates, training might not converge; consider increasing the number of passes or iterations to improve accuracy\n",
      "WARNING:gensim.models.ldamodel:too few updates, training might not converge; consider increasing the number of passes or iterations to improve accuracy\n",
      "WARNING:gensim.models.ldamodel:too few updates, training might not converge; consider increasing the number of passes or iterations to improve accuracy\n",
      "WARNING:gensim.models.ldamodel:too few updates, training might not converge; consider increasing the number of passes or iterations to improve accuracy\n",
      "WARNING:gensim.models.ldamodel:too few updates, training might not converge; consider increasing the number of passes or iterations to improve accuracy\n",
      "WARNING:gensim.models.ldamodel:too few updates, training might not converge; consider increasing the number of passes or iterations to improve accuracy\n",
      "WARNING:gensim.models.ldamodel:too few updates, training might not converge; consider increasing the number of passes or iterations to improve accuracy\n",
      "WARNING:gensim.models.ldamodel:too few updates, training might not converge; consider increasing the number of passes or iterations to improve accuracy\n"
     ]
    }
   ],
   "source": [
    "# Coherence measures over different K\n",
    "num_of_topics = []\n",
    "coherence = []\n",
    "for k in range(29):\n",
    "    lda_model = models.ldamodel.LdaModel(corpus_tfidf, id2word=dictionary, num_topics=k+2) # train LDA model; k+2 because we are only intereseted when K >= 2\n",
    "    coherence_model_lda = CoherenceModel(model=lda_model, texts=processed_documents, dictionary=dictionary, coherence='c_v') # calculate coherence measures\n",
    "    coherence_lda = coherence_model_lda.get_coherence()\n",
    "    num_of_topics.append(k+2)\n",
    "    coherence.append(coherence_lda)"
   ]
  },
  {
   "cell_type": "code",
   "execution_count": null,
   "metadata": {
    "colab": {
     "base_uri": "https://localhost:8080/",
     "height": 516
    },
    "executionInfo": {
     "elapsed": 528,
     "status": "ok",
     "timestamp": 1706723705880,
     "user": {
      "displayName": "Homer Liu",
      "userId": "02498362625275100753"
     },
     "user_tz": 420
    },
    "id": "11PLznxVf_zd",
    "outputId": "c5bc0d99-467b-47d5-c4ba-912bfdb8eaf5"
   },
   "outputs": [
    {
     "name": "stderr",
     "output_type": "stream",
     "text": [
      "/usr/local/lib/python3.10/dist-packages/ipykernel/ipkernel.py:283: DeprecationWarning: `should_run_async` will not call `transform_cell` automatically in the future. Please pass the result to `transformed_cell` argument and any exception that happen during thetransform in `preprocessing_exc_tuple` in IPython 7.17 and above.\n",
      "  and should_run_async(code)\n",
      "<ipython-input-29-8985d06e50f9>:3: MatplotlibDeprecationWarning: The seaborn styles shipped by Matplotlib are deprecated since 3.6, as they no longer correspond to the styles shipped by seaborn. However, they will remain available as 'seaborn-v0_8-<style>'. Alternatively, directly use the seaborn API instead.\n",
      "  plt.style.use('seaborn-whitegrid')\n"
     ]
    },
    {
     "data": {
      "image/png": "[encoded data removed]",
      "text/plain": [
       "<Figure size 640x480 with 1 Axes>"
      ]
     },
     "metadata": {},
     "output_type": "display_data"
    }
   ],
   "source": [
    "# Visualizaing coherence measures over different K\n",
    "import matplotlib.pyplot as plt\n",
    "plt.style.use('seaborn-whitegrid')\n",
    "plt.plot(num_of_topics, coherence) # x-axis = K, y-axis = coherece measures\n",
    "plt.xticks(num_of_topics) # To label x-axis with K values\n",
    "plt.show()"
   ]
  },
  {
   "cell_type": "markdown",
   "metadata": {
    "id": "lTvbqi1Sg8s2"
   },
   "source": [
    "### Selection\n",
    "Pick a K and explain reasoning behind your *choice*"
   ]
  },
  {
   "cell_type": "markdown",
   "metadata": {
    "id": "2qd6C9FOjk6z"
   },
   "source": [
    "I would like to choose **K when it equals 6** because it is a suitable number of topics and demonstrates optimal coherence performance . Although there are several points with higher scores, I am considering concerns about overfitting\n",
    "\n",
    "."
   ]
  },
  {
   "cell_type": "markdown",
   "metadata": {
    "id": "h1-1VQRCjv6Z"
   },
   "source": [
    "### LDA Model\n",
    "Fit an LDA model of K topics with the data and visualize it using pyLDAvis."
   ]
  },
  {
   "cell_type": "code",
   "execution_count": null,
   "metadata": {
    "colab": {
     "base_uri": "https://localhost:8080/"
    },
    "executionInfo": {
     "elapsed": 2052,
     "status": "ok",
     "timestamp": 1706723761404,
     "user": {
      "displayName": "Homer Liu",
      "userId": "02498362625275100753"
     },
     "user_tz": 420
    },
    "id": "KvdDxek8fLkf",
    "outputId": "df6ba4b5-ccf0-44a1-a699-6fc2f69efe3f"
   },
   "outputs": [
    {
     "name": "stderr",
     "output_type": "stream",
     "text": [
      "/usr/local/lib/python3.10/dist-packages/ipykernel/ipkernel.py:283: DeprecationWarning: `should_run_async` will not call `transform_cell` automatically in the future. Please pass the result to `transformed_cell` argument and any exception that happen during thetransform in `preprocessing_exc_tuple` in IPython 7.17 and above.\n",
      "  and should_run_async(code)\n",
      "WARNING:gensim.models.ldamodel:too few updates, training might not converge; consider increasing the number of passes or iterations to improve accuracy\n"
     ]
    },
    {
     "name": "stdout",
     "output_type": "stream",
     "text": [
      "(5, '0.003*\",\" + 0.002*\"great\" + 0.002*\"-\" + 0.002*\"taco\" + 0.002*\"good\"')\n",
      "(1, '0.004*\",\" + 0.003*\"order\" + 0.003*\"amazing\" + 0.003*\"good\" + 0.003*\"great\"')\n",
      "(4, '0.003*\",\" + 0.003*\"food\" + 0.003*\"t\" + 0.002*\"great\" + 0.002*\"place\"')\n",
      "[(0, 0.4142221977959588), (1, 0.04563030846336671), (2, 0.17182972315509015), (3, 0.06568152872840585), (4, 0.0504957528956407), (5, 0.055401596256795436), (6, 0.06381181874730447), (7, 0.055401596256795436), (8, 0.5708001182828979), (9, 0.11416002365657958), (10, 0.0911472370327814), (11, 0.11416002365657958), (12, 0.12689287780876735), (13, 0.034972257937657424), (14, 0.12689287780876735), (15, 0.1014271695043918), (16, 0.07977571857871399), (17, 0.06381181874730447), (18, 0.0911472370327814), (19, 0.10671178145039806), (20, 0.12316493049742679), (21, 0.18319493036295964), (22, 0.12689287780876735), (23, 0.07379783093984099), (24, 0.028932830457169562), (25, 0.10671178145039806), (26, 0.07714700966633006), (27, 0.0812460731460225), (28, 0.07411799111007707), (29, 0.12689287780876735), (30, 0.12689287780876735), (31, 0.048849611096525615), (32, 0.04758223788226205), (33, 0.04938210129426417), (34, 0.03401153571760749), (35, 0.07945987683948451), (36, 0.07379783093984099), (37, 0.09732810602469935), (38, 0.0911472370327814), (39, 0.03222884091053063), (40, 0.15429401933266013), (41, 0.15682876576118726), (42, 0.08459525187251157), (43, 0.13269917746731894), (44, 0.057378731254816205), (45, 0.10671178145039806), (46, 0.0831543122443013), (47, 0.06568152872840585), (48, 0.0939789272982103), (49, 0.05361673458147169), (50, 0.0707453465400207), (51, 0.06851321899383472), (52, 0.06568152872840585), (53, 0.05168130136195449), (54, 0.12689287780876735), (55, 0.060629313074542786), (56, 0.04965424887250572), (57, 0.10671178145039806), (58, 0.11416002365657958)]\n",
      "(0, 0.024502378)\n",
      "(1, 0.024484783)\n",
      "(2, 0.024403797)\n",
      "(3, 0.0245426)\n",
      "(4, 0.024876507)\n",
      "(5, 0.87718993)\n",
      "OK, the hype about having Hatch chili in your burger is overrated It s OK I do like the kick But it s an average burger Good bun Good fries I rather go to In-N-Out or Freddy s But you try it and see if it is your cup of tea\n",
      "\n",
      "5* = A top favorite Mind-blowing good I will definitely return and I will go out of my way to go here Worth every dime of my money\n",
      "\n",
      "4* = Outstanding Tucson-top-tier Some elements not quite as good as it gets, but it still is worthy of my regular business\n",
      "\n",
      "3* = Good experience I might do repeat business if it is convenient, the only option, the only one in its category, or on a whim, but would not be among the first thing to come to mind Would definitely recommend you trying it to get your own take on it\n",
      "\n",
      "2* = Not so good Would not recommend at all Waste of money\n",
      "\n",
      "1* = How are they still in business Stay away at all costs :  [(0, 0.02450235), (1, 0.024483634), (2, 0.02440378), (3, 0.024542637), (4, 0.024877928), (5, 0.8771897)]\n"
     ]
    }
   ],
   "source": [
    "lda_model = models.ldamodel.LdaModel(corpus_tfidf, id2word=dictionary, num_topics=6) # train LDA model\n",
    "\n",
    "for topic in lda_model.show_topics(num_topics=3, num_words=5):# show 5 most important words for each topic\n",
    "    print(topic)\n",
    "\n",
    "print(corpus_tfidf[0])\n",
    "for topic_proportion in lda_model[corpus_tfidf[0]]: # show topic distribution for the first document in the corpus\n",
    "    print(topic_proportion)\n",
    "for doc, topic_dist in zip(documents, lda_model[corpus_tfidf]): # print out topic distribution for each document in the corpus\n",
    "    print(doc, \": \", topic_dist)\n",
    "    break"
   ]
  },
  {
   "cell_type": "code",
   "execution_count": null,
   "metadata": {
    "colab": {
     "base_uri": "https://localhost:8080/",
     "height": 917
    },
    "executionInfo": {
     "elapsed": 1393,
     "status": "ok",
     "timestamp": 1706723765591,
     "user": {
      "displayName": "Homer Liu",
      "userId": "02498362625275100753"
     },
     "user_tz": 420
    },
    "id": "X4tQIbxTj0jl",
    "outputId": "a79cd25d-8df6-44a9-b9b4-ea32745603d2"
   },
   "outputs": [
    {
     "name": "stderr",
     "output_type": "stream",
     "text": [
      "/usr/local/lib/python3.10/dist-packages/ipykernel/ipkernel.py:283: DeprecationWarning: `should_run_async` will not call `transform_cell` automatically in the future. Please pass the result to `transformed_cell` argument and any exception that happen during thetransform in `preprocessing_exc_tuple` in IPython 7.17 and above.\n",
      "  and should_run_async(code)\n"
     ]
    },
    {
     "data": {
      "text/html": [
       "\n",
       "<link rel=\"stylesheet\" type=\"text/css\" href=\"https://cdn.jsdelivr.net/gh/bmabey/pyLDAvis@3.4.0/pyLDAvis/js/ldavis.v1.0.0.css\">\n",
       "\n",
       "\n",
       "<div id=\"ldavis_el32411391050729384802576289696\" style=\"background-color:white;\"></div>\n",
       "<script type=\"text/javascript\">\n",
       "\n",
       "var ldavis_el32411391050729384802576289696_data = {\"mdsDat\": {\"x\": [0.03445104622028502, 0.0017860328603156559, 0.0011079524978565335, -0.007715631571032551, -0.01973786640519069, -0.009891533602233967], \"y\": [0.011666641916200475, 0.0020932258209981455, -0.028819459912870785, -0.006136949215606522, 0.02147196721045767, -0.0002754258191790004], \"topics\": [1, 2, 3, 4, 5, 6], \"cluster\": [1, 1, 1, 1, 1, 1], \"Freq\": [23.29277672729459, 18.32187574921314, 17.010042651245897, 14.769054820861363, 14.72461853329591, 11.881631518089103]}, \"tinfo\": {\"Term\": [\"10\", \"burger\", \"raman\", \"pizza\", \"disappoint\", \"beer\", \"mexican\", \"twice\", \"dog\", \"fun\", \"%\", \"loud\", \"persian\", \"Taco\", \"kid\", \"5\", \"quesadilla\", \"remember\", \"Fiamme\", \"taco\", \"japanese\", \"welcoming\", \"100\", \"splendid\", \"price\", \"*\", \"update\", \"Amazing\", \"seafood\", \"Atmosphere\", \"pour\", \"operate\", \"caring\", \"Macy\", \"graduation\", \"rainy\", \"sirloin\", \"Omelette\", \"raman\", \"purse\", \"salsas\", \"spinach\", \"sesame\", \"blast\", \"delighted\", \"Arizona\", \"Zoe\", \"school\", \"Gyoza\", \"Wine\", \"dull\", \"uncooked\", \"mood\", \"Bloody\", \"pub\", \"Boise\", \"roll\", \"pass\", \"moment\", \"Japan\", \"crazy\", \"spectacular\", \"incredible\", \"single\", \"stay\", \"pasta\", \"meat\", \"steak\", \"perfect\", \"road\", \"Super\", \"order\", \"amazing\", \"Tucson\", \"restaurant\", \"taco\", \"come\", \"m\", \"bad\", \"ve\", \"favorite\", \"customer\", \"definitely\", \"go\", \",\", \"good\", \"t\", \"great\", \"recommend\", \"love\", \"try\", \"place\", \"highly\", \"nice\", \"s\", \"food\", \"time\", \"service\", \"get\", \"like\", \"wait\", \"pizza\", \"eat\", \"delicious\", \"Postino\", \"%\", \"Fiamme\", \"consistent\", \"pancake\", \"100\", \"Matt\", \"hospitable\", \"Cheese\", \"appropriate\", \"boba\", \"fox\", \"numerous\", \"17\", \"EL\", \"Parmesan\", \"reopening\", \"expire\", \"gather\", \"Troy\", \"COVID\", \"wingstop\", \"step\", \"Gumbo\", \"manger\", \"goody\", \"Ambience\", \"beloved\", \"snail\", \"distanced\", \"rock\", \"BLT\", \"covid\", \"dip\", \"fantastic\", \"pumpkin\", \"course\", \"tea\", \"cauliflower\", \"milk\", \"nice\", \"visit\", \"week\", \"pizza\", \"love\", \"meal\", \"wine\", \"worth\", \"service\", \",\", \"atmosphere\", \"place\", \"friendly\", \"food\", \"time\", \"good\", \"eat\", \"thank\", \"s\", \"sauce\", \"order\", \"great\", \"amazing\", \"Tucson\", \"definitely\", \"t\", \"like\", \"try\", \"-\", \"&\", \"come\", \"restaurant\", \"wait\", \"Amazing\", \"tar\", \"quesadilla\", \"stellar\", \"Ismael\", \"prob\", \"credit\", \"craze\", \"Christen\", \"promote\", \"resource\", \"patisserie\", \"BF\", \"vacation\", \"brew\", \"Milk\", \"instantaneously\", \"Buffet\", \"poblano\", \"poach\", \"Nancy\", \"accurate\", \"APP\", \"decade\", \"allergy\", \"bless\", \"Red\", \"thinker\", \"health\", \"Jeremy\", \"Winter\", \"Bell\", \"life\", \"number\", \"card\", \"pandemic\", \"*\", \"Taco\", \"return\", \"available\", \"coffee\", \"pork\", \"taco\", \"-\", \"work\", \"half\", \"customer\", \"size\", \"&\", \"need\", \",\", \"home\", \"option\", \"door\", \"great\", \"friendly\", \"spot\", \"good\", \"time\", \"pretty\", \"staff\", \"order\", \"like\", \"cheese\", \"lunch\", \"service\", \"s\", \"chicken\", \"food\", \"come\", \"place\", \"go\", \"amazing\", \"delicious\", \"pizza\", \"ve\", \"recommend\", \"love\", \"t\", \"loud\", \"aroma\", \"Fun\", \"chop\", \"Miso\", \"sore\", \"Cristo\", \"Monte\", \"tableside\", \"persian\", \"hundred\", \"GF\", \"rolla\", \"Hummus\", \"soak\", \"relaxing\", \"Margaritas\", \"collection\", \"stocked\", \"looove\", \"napkin\", \"ek\", \"22\", \"Fe\", \"wobbly\", \"realistic\", \"band\", \"Pun\", \"shame\", \"upscale\", \"homemade\", \"birthday\", \"finish\", \"burritos\", \"cake\", \"pack\", \"truck\", \"paper\", \"lower\", \"dog\", \"table\", \"outdoor\", \"efficient\", \"honestly\", \"broccoli\", \"traditional\", \"update\", \"corn\", \"price\", \"choice\", \"delicious\", \",\", \"breakfast\", \"seating\", \"egg\", \"t\", \"tortilla\", \"try\", \"s\", \"restaurant\", \"good\", \"tell\", \"look\", \"big\", \"people\", \"fresh\", \"time\", \"food\", \"place\", \"eat\", \"great\", \"sandwich\", \"-\", \"amazing\", \"location\", \"recommend\", \"service\", \"like\", \"friendly\", \"order\", \"come\", \"wait\", \"menu\", \"chicken\", \"Whataburger\", \"welcoming\", \"overcharge\", \"Az\", \"middle\", \"won\", \"Diana\", \"training\", \"patty\", \"Dennis\", \"dance\", \"frustrate\", \"mega\", \"floor\", \"eastern\", \"city\", \"Tamal\", \"huevos\", \"banter\", \"whichever\", \"evenly\", \"native\", \"attend\", \"Aravind\", \"poisoning\", \"expectation\", \"impeccable\", \"Nico\", \"burger\", \"denver\", \"massage\", \"Glad\", \"overly\", \"disappoint\", \"fun\", \"waitress\", \"food\", \"fry\", \"Campbell\", \"stop\", \"t\", \",\", \"beer\", \"yes\", \"well\", \"5\", \"high\", \"2\", \"price\", \"great\", \"place\", \"dining\", \"good\", \"clean\", \"time\", \"leave\", \"absolutely\", \"service\", \"staff\", \"Tucson\", \"don\", \"wait\", \"restaurant\", \"order\", \"drink\", \"s\", \"love\", \"come\", \"go\", \"-\", \"ve\", \"pizza\", \"get\", \"oily\", \"splendid\", \"Atmosphere\", \"japanese\", \"Sonora\", \"Adrianna\", \"Menudo\", \"Udon\", \"dietary\", \"XOXO\", \"venezuelan\", \"poise\", \"24hrs\", \"puff\", \"assortment\", \"gas\", \"coffe\", \"wendy\", \"connoisseur\", \"Hooters\", \"Environment\", \"Rancheros\", \"famous\", \"Cleanliness\", \"vinaigrette\", \"lick\", \"Masala\", \"udon\", \"favourite\", \"p&p\", \"10\", \"twice\", \"seafood\", \"casual\", \"word\", \"pizza\", \"mexican\", \"beer\", \"bar\", \"get\", \"glaze\", \"pesto\", \"Barrio\", \"delicious\", \"Don\", \"m\", \"great\", \"place\", \"pick\", \",\", \"food\", \"sit\", \"topping\", \"excellent\", \"look\", \"wasn\", \"t\", \"love\", \"come\", \"good\", \"s\", \"try\", \"service\", \"amazing\", \"taco\", \"order\", \"friend\", \"right\", \"chicken\", \"ve\", \"go\", \"time\", \"wait\", \"-\"], \"Freq\": [3.0, 3.0, 4.0, 8.0, 3.0, 4.0, 3.0, 1.0, 3.0, 2.0, 1.0, 1.0, 1.0, 1.0, 2.0, 3.0, 1.0, 1.0, 1.0, 7.0, 0.0, 1.0, 1.0, 0.0, 5.0, 1.0, 1.0, 1.0, 1.0, 0.0, 0.5979205540132396, 0.5826864449989294, 0.5614436850281819, 0.5589862011359515, 0.5348250325939073, 0.6112783549397937, 0.5088784521463163, 0.5071810074375157, 2.559516207348191, 0.49913840388683367, 0.49465464785112884, 0.7309421211293288, 0.6115100702342194, 0.4641304862001603, 0.5096750060151879, 1.2326061240925548, 0.4584865915667461, 0.5665729243714206, 0.4559514895597397, 0.45333160969571373, 0.4489059777493129, 0.4484884020551026, 0.5833773601254265, 0.49456570432589486, 0.44191627938410244, 0.4313160857269128, 1.1867357383725994, 0.6651626401528912, 0.4937372896040398, 0.42233191098264555, 0.7757551430970518, 0.7320306623046031, 0.9152349929824696, 0.9221555347464645, 1.2131964534018391, 0.7730732338297709, 1.799891898437164, 1.5290284351952708, 1.77030563047581, 0.8045523423746068, 0.63322517792734, 3.8325066622994726, 3.3372277174689944, 2.67736686644741, 2.7414733760158065, 2.599158788910492, 3.0006328737008268, 2.021883221479234, 1.7301012044130921, 2.4196367136684542, 1.8854228301635951, 1.7334703187586167, 2.3128006020366256, 2.369610162664717, 4.202077716715591, 3.3048164755726215, 2.9947905240301362, 3.2329907224486854, 2.178217755491494, 2.7339389839872807, 2.4003095752792363, 3.0415704573692786, 1.5479039891146218, 1.9927019345745987, 2.561558165836035, 2.7604857461005743, 2.51292477049575, 2.512475399037122, 2.1397639514958757, 2.0992149465655485, 2.0034932282611235, 2.1522189089255255, 1.9001068106193417, 1.89906213913745, 0.7422395522938593, 1.0360962572980774, 0.8762797186926453, 0.4763256647434632, 0.6346558217249791, 0.8418877907788143, 0.4407795793155806, 0.43915475817970967, 0.4923158379585883, 0.4313389671235027, 0.7510480734302445, 0.4203982522316196, 0.5472526195100725, 0.5020290285388492, 0.4068776678843377, 0.49577144996279826, 0.4045188715844938, 0.3978839378224731, 0.39133560555249064, 0.37063495626584414, 0.36755718582902536, 0.36623120767809514, 0.5429500382579827, 0.358411295179317, 0.354117724783035, 0.3539598300142227, 0.3531630604488398, 0.351590589313329, 0.3484582161621982, 0.34781893178127266, 0.4823822397973491, 0.4839069687564925, 1.2462864493551462, 0.4906194931547437, 1.0706119308851314, 0.4922294156597053, 0.5591506866334798, 1.0823679234354344, 0.5972060394135861, 0.5555128607893856, 1.9136966807430837, 1.5415293926085085, 0.9151494787644172, 2.226832111747884, 2.3423670522003084, 1.5727258969795772, 1.1575386329011614, 1.1036003668088685, 2.249246205985192, 3.1557446487976812, 1.2544959533724966, 2.305226557274906, 1.7043448054643977, 2.2687350487598352, 2.0244403034119394, 2.2456648003859847, 1.5913930111422112, 1.1583089586766315, 1.9355985897445949, 1.1933280114358522, 2.0360897016338804, 2.0141726380112384, 1.754379630258447, 1.5550061514298166, 1.5064830000935987, 1.6898772620885971, 1.481820492540091, 1.4809619013361413, 1.4854460308535384, 1.3152838010277978, 1.4487897670317111, 1.3828811933754162, 1.282056065444713, 0.6465549911264746, 0.44840798986448704, 0.8249363978827233, 0.42783667531962966, 0.36627716413193945, 0.3964751005918793, 0.593916770035067, 0.35682058902471175, 0.3494646326744174, 0.34675315254749234, 0.34639304783294095, 0.34223732249755673, 0.35064060557441196, 0.389891544137501, 0.5060473220358215, 0.33038473914704675, 0.3302285242388665, 0.32766206516316854, 0.3273516317034622, 0.3271384255660387, 0.3241879054959406, 0.3238465047419457, 0.32356276066941214, 0.32328196359955835, 0.35190795932363106, 0.3733852870633227, 0.3780012676720703, 0.3201895120778168, 0.38733112166406647, 0.31297529704996074, 0.36792037955358664, 0.591632700361316, 0.6317042365738262, 0.5107856270219315, 0.7983396986975025, 0.6670177418951923, 0.6658371345958222, 0.7380651757428089, 1.2083150185655587, 0.740473542384426, 1.1142465979616492, 0.8378691765461342, 1.9016127994547967, 1.9169552756642607, 0.9944790781500251, 0.7902898182807172, 1.2621523845538385, 0.7981971017936411, 1.4384223114223096, 1.0031108489991678, 2.834057376130369, 1.0239603225711575, 0.9382447532724374, 0.7074988639478939, 1.956316013843323, 1.454715053399106, 1.0432155627579764, 1.8762830262280834, 1.6585864172374056, 1.0282794877245176, 1.2853464364191178, 1.7171393677717801, 1.4022821718492589, 1.0575908517008497, 1.0002633789582602, 1.558919452058691, 1.4526412190939482, 1.167934522394682, 1.5247278516446057, 1.3280532584795899, 1.4269665514890952, 1.2270725004932987, 1.2885678906065525, 1.2002956538861997, 1.1859624785622669, 1.1318007521500038, 1.105390284521226, 1.159307980098681, 1.1069141701004919, 0.6341889987337458, 0.4080834171575139, 0.3999276908918451, 0.3911936871593739, 0.38633899582516773, 0.35400762316511103, 0.34253301262424624, 0.34228859010803603, 0.3423732971092216, 0.7098563906600099, 0.3271469402313168, 0.4106171160241566, 0.3149625242271681, 0.3614410803795018, 0.3315663964695411, 0.3065464451639455, 0.30221867058376445, 0.3017029793129659, 0.3005447116677659, 0.2993925313710068, 0.3579083135056972, 0.29391150346993467, 0.29258415198363497, 0.28885039943588464, 0.2878073993445513, 0.2867381514321441, 0.2802982320236198, 0.2802530411996012, 0.2798771732272273, 0.27917671545493905, 0.5668109658477368, 0.6502967417606489, 0.4427988430879654, 0.49517797957696313, 0.7798085671684043, 0.6544380783979039, 0.45607598972494745, 0.4115717773403194, 0.36812523658852114, 1.0096678347791455, 1.25628319961344, 0.7788270802489428, 0.6385286797547756, 0.7189004983666143, 0.42499964259768125, 0.47956956420284635, 0.5658345551578227, 0.6280132083423164, 1.2253564980824216, 0.6809742540721017, 1.3669605213242166, 2.2212395219996965, 1.0116532595845213, 0.6868018068625548, 0.6093431662286383, 1.524292354509887, 0.7156865434704751, 1.2944467885919078, 1.4486669343352456, 1.270160785792565, 1.5637702329693561, 0.8498594618969378, 0.9775311747288784, 0.7795569842796213, 0.9441938006749612, 0.9354422158547896, 1.2906209623196045, 1.3746626060030247, 1.322853534219204, 1.050989663939209, 1.3237878906171776, 0.8542666196278037, 1.0971926798755058, 1.1422646458364114, 0.9579409731518955, 1.002389512092139, 1.1272160601680594, 1.0223381862695105, 0.9974091118538592, 1.090327801640571, 1.0304240834262848, 0.9303845578790094, 0.8790674263895283, 0.9049141015186312, 0.44671914859316825, 0.6040526823294307, 0.3839927076456246, 0.36942587593801385, 0.48847310933334254, 0.36339173456053936, 0.3526293843068837, 0.4475390235426238, 0.34805382704479865, 0.34718379513642583, 0.5091291357498726, 0.3435012292438095, 0.342543906122686, 0.44363356983503205, 0.3305277347610666, 0.32757382316333683, 0.32579594618396185, 0.3256967843537808, 0.31913535714486635, 0.31838139806758925, 0.31774089905119357, 0.36546973037366565, 0.3135314999330012, 0.3071682112275046, 0.3009074171771868, 0.5006389492249551, 0.3740122545948448, 0.29539574755059994, 1.5875427177223258, 0.2941418852966486, 0.3995772442112015, 0.4590129936522884, 0.3749870853337036, 1.1131383679163693, 0.7392811514029031, 0.823292041436004, 2.278048263304532, 1.245896390746729, 0.4405855162176117, 1.0188339861586222, 1.8817222104516655, 2.471372027834179, 1.0913243288240648, 0.6151260551035589, 1.0696845018433732, 0.9019906552985585, 0.7414633700026885, 0.9071904383389328, 1.1874635747540503, 1.7444697291008335, 1.68240824845933, 0.6632453412756173, 1.6578055812015933, 0.8675013478418317, 1.4806207542748095, 0.81532543760364, 0.7906214689243657, 1.3930255549675454, 1.0864735460507429, 1.182924431691015, 0.9428570147936431, 1.1141761520162974, 1.1679137993608595, 1.3315757505781047, 0.9777363862130739, 1.1802631915032762, 1.1575130811924574, 1.1296937852059927, 1.0265223608226526, 1.0199861561041534, 0.9317949160201249, 0.9346362110497195, 0.9254346515447188, 0.3939789111309559, 0.42420953432513575, 0.41707300811090886, 0.42669215365167323, 0.35501260479818136, 0.29482862529397813, 0.29288500136887713, 0.291820922052588, 0.2860103696801234, 0.2859283616327199, 0.2833764504863723, 0.2834125074659189, 0.28226402958424535, 0.32016702023841914, 0.3374363213429374, 0.273807837839595, 0.2696744164398087, 0.2684314300937894, 0.26880825209136255, 0.26722323906504897, 0.2666336941688061, 0.2665530639894056, 0.29545348013289857, 0.2574545201422795, 0.28926306781292654, 0.31482876117539355, 0.28193284323896206, 0.2522549111221514, 0.24654447829096013, 0.24353211021934323, 1.3299839356753245, 0.6412675377484157, 0.4938975492889908, 0.4057131006570416, 0.3335842672296777, 1.5744979345545407, 0.8347989596470148, 0.9543095859428494, 0.8072550130503611, 1.2529937183205042, 0.361279347685352, 0.3452758590534077, 0.3604555154261526, 1.1298233418023254, 0.5037894794926973, 0.936885233185953, 1.368107252403413, 1.3295361119735518, 0.6693547959595272, 1.6249209975210515, 1.3192235502101066, 0.6724345135550946, 0.5304388743398807, 0.7706274301423237, 0.8375448679678477, 0.6766495943850789, 1.16870007011409, 1.0930944274932048, 1.074050698014018, 1.2171820324800349, 1.0873122293201258, 0.9793407661250944, 1.0082404020300797, 0.9451390277415459, 0.8540590974067587, 0.9606934642110887, 0.6791923750808047, 0.675719682890473, 0.7295649715566055, 0.760326156936011, 0.7432666237843248, 0.7706379882634065, 0.7286918348640481, 0.7331004148439382], \"Total\": [3.0, 3.0, 4.0, 8.0, 3.0, 4.0, 3.0, 1.0, 3.0, 2.0, 1.0, 1.0, 1.0, 1.0, 2.0, 3.0, 1.0, 1.0, 1.0, 7.0, 0.0, 1.0, 1.0, 0.0, 5.0, 1.0, 1.0, 1.0, 1.0, 0.0, 0.9803990189033825, 0.9656373301306895, 0.9439949487237467, 0.9419635297369894, 0.9175415184858697, 1.055522145684305, 0.8913554350744431, 0.8898182936448311, 4.501911973739416, 0.8814487425964467, 0.8775087043269875, 1.301027242600085, 1.1117936462784483, 0.8465647340061825, 0.9299889470068472, 2.259088023697011, 0.8411162075022927, 1.0402012367677491, 0.8385807963223817, 0.835512449937139, 0.8314834461987594, 0.8314956807260575, 1.083881808902688, 0.9219487064064281, 0.82439350457665, 0.8145097544347436, 2.2426908685373337, 1.2614507067506562, 0.9394038033141372, 0.8049978976874037, 1.4914344935494666, 1.4081883539660711, 1.779956075459583, 1.836244966693557, 2.503124480944685, 1.5248272177216171, 3.99404380194215, 3.3257442306441845, 3.9390513572881543, 1.60510771870463, 1.2291200476937179, 10.968332748134898, 9.265726722601071, 7.467918566991882, 7.866977370455278, 7.462717314074203, 9.011644465858422, 5.586305105067469, 4.58340817817023, 7.295172763624699, 5.2439885669096835, 4.720135296578513, 7.098356711290782, 7.350263458725274, 16.50941228899857, 11.865522148837673, 10.366296591294867, 11.639844246424673, 6.574451740353718, 9.281768797406167, 7.767811663909618, 11.108561460785365, 4.126802814918429, 6.243292905166021, 9.666040329833226, 11.525883066022677, 9.737831196002915, 9.84912307424669, 7.2269593237819505, 7.521245725714925, 6.898055916141628, 8.634153120211426, 6.694918860555832, 7.395645617501933, 1.2561439556917804, 1.7758223588619948, 1.5758852342269576, 0.8702425376674875, 1.1660336556438256, 1.5869665316522445, 0.8344543207755045, 0.8329903653177742, 0.9386173213575956, 0.8247177035137025, 1.4508689619086272, 0.8141409281356242, 1.0642120962652888, 0.9801676561176436, 0.8003312953422559, 0.9755917382425661, 0.7977571748527117, 0.7911383218846276, 0.7850351025811135, 0.7644549539232854, 0.7611900796879956, 0.759776675546915, 1.1334947099000463, 0.7520140162813052, 0.7477707403148134, 0.7477089302034662, 0.7463808817796079, 0.7447203647615102, 0.7416908387689116, 0.7411324540908802, 1.0310164777745792, 1.0414959404972965, 2.8484450235323475, 1.0804408873154088, 2.6356691578560407, 1.104037777318059, 1.286527743832384, 2.856490805742797, 1.3946750570332, 1.2832343663525048, 6.243292905166021, 4.838895409067909, 2.5019767495891068, 8.634153120211426, 9.281768797406167, 5.435988794180821, 3.6268296157401445, 3.408347758272181, 9.84912307424669, 16.50941228899857, 4.250288407930681, 11.108561460785365, 7.121129198351796, 11.525883066022677, 9.737831196002915, 11.865522148837673, 6.694918860555832, 4.0324269354961375, 9.666040329833226, 4.243049366340233, 10.968332748134898, 11.639844246424673, 9.265726722601071, 7.467918566991882, 7.098356711290782, 10.366296591294867, 7.521245725714925, 7.767811663909618, 8.106752568523447, 5.830647640688688, 9.011644465858422, 7.866977370455278, 6.898055916141628, 1.0445687017228256, 0.8452325606142033, 1.5592947967430517, 0.8246328169838076, 0.7632013720999454, 0.8284784021373373, 1.251099403651367, 0.7535999834765836, 0.7463900129231691, 0.7431679462055902, 0.743515082652993, 0.7389991127528992, 0.7578623881374315, 0.8457175229120456, 1.0993486262698575, 0.7266591960393866, 0.7268301829301841, 0.7245555238083153, 0.7240668377013197, 0.7239773113497302, 0.7207682441921627, 0.7202137235689772, 0.7201212244353016, 0.7198422938827223, 0.7840691553697781, 0.8336581150194781, 0.8455288761369795, 0.71697926149293, 0.8693765728435029, 0.7098036708115407, 0.8369131678172232, 1.380011260067315, 1.5095961467104473, 1.20024107007951, 2.1019317538839655, 1.6993953007897127, 1.7025605982793677, 1.98324360841762, 3.7599426862215735, 2.049739763585605, 3.463312736797312, 2.474312033481418, 7.462717314074203, 8.106752568523447, 3.2699811296586163, 2.3754148666653627, 4.720135296578513, 2.4796797264071904, 5.830647640688688, 3.473770740973638, 16.50941228899857, 3.737245935750348, 3.3039920487862906, 2.1661591011893457, 11.639844246424673, 7.121129198351796, 4.100250208098625, 11.865522148837673, 9.737831196002915, 4.044671838303513, 6.168852132688686, 10.968332748134898, 7.521245725714925, 4.281722201364447, 3.842145349592318, 9.84912307424669, 9.666040329833226, 5.994616190366767, 11.525883066022677, 9.011644465858422, 11.108561460785365, 7.350263458725274, 9.265726722601071, 7.395645617501933, 8.634153120211426, 7.295172763624699, 6.574451740353718, 9.281768797406167, 10.366296591294867, 1.20475687630651, 0.8108496674552116, 0.802337718902276, 0.7936336394698309, 0.7886916457040002, 0.7559923535643748, 0.7443475717098668, 0.7442633942935428, 0.7445140420064065, 1.556303307405077, 0.7292655442357188, 0.9309824295000024, 0.7172855832452096, 0.824914302317091, 0.7649870888735137, 0.7084575773663762, 0.704240271481341, 0.7040912879097437, 0.7024932629851235, 0.7013344887267765, 0.8392093550029107, 0.6960044831693445, 0.6944453138376689, 0.6912266171767274, 0.6895769970522799, 0.6886269036813966, 0.6819941899531685, 0.6824846848535732, 0.6816069547117306, 0.6808272453982337, 1.4169831913935484, 1.7167743856605644, 1.127626311769706, 1.2805448224843587, 2.130042007655344, 1.7580882066076826, 1.1806735173526093, 1.057990199176239, 0.9283939597053474, 3.4201807154610853, 4.6410706599694, 2.4695564926821008, 1.9017462148206765, 2.2880721131184103, 1.1177299870509936, 1.329684055431576, 1.6963044533718348, 1.9828629299616174, 5.91611724416616, 2.3483651794900315, 7.395645617501933, 16.50941228899857, 4.735778385060339, 2.465293633846633, 2.0179274106986758, 10.366296591294867, 2.689258606401788, 7.767811663909618, 9.666040329833226, 7.866977370455278, 11.865522148837673, 3.822472633019493, 5.1660861504476845, 3.291955388308669, 4.935571675868594, 4.884503642903314, 9.737831196002915, 11.525883066022677, 11.108561460785365, 6.694918860555832, 11.639844246424673, 4.115391354005308, 8.106752568523447, 9.265726722601071, 5.7145703881713645, 6.574451740353718, 9.84912307424669, 7.521245725714925, 7.121129198351796, 10.968332748134898, 9.011644465858422, 6.898055916141628, 4.741274596280157, 5.994616190366767, 0.8497606292772807, 1.2376428889032913, 0.7869779456455949, 0.7724138749643673, 1.0295161381968472, 0.7659367849240859, 0.7555548729614607, 0.9602605213997878, 0.7504725771945389, 0.749302209211693, 1.101992834263712, 0.7458667234270554, 0.7451860395512118, 0.9762449408393008, 0.7333796540782453, 0.7298040068890083, 0.7284927232662493, 0.7284953258893068, 0.7217528839430375, 0.7216718429548932, 0.7202457692448098, 0.8334451873979619, 0.7158881102852511, 0.7095698119475334, 0.7033505106274064, 1.1802615110686836, 0.8831068937640529, 0.6976078829831953, 3.7551264188442186, 0.6966283729579521, 0.9721325163698696, 1.1620178628534221, 0.9241506822457112, 3.6427571648162487, 2.318305536315647, 2.743786594331694, 11.525883066022677, 4.991399513975482, 1.1506085850042684, 4.000617346839508, 10.366296591294867, 16.50941228899857, 4.699328498136349, 1.926313861984791, 4.607689020880621, 3.5806008103018616, 2.6258490317422063, 3.759364198112398, 5.91611724416616, 11.639844246424673, 11.108561460785365, 2.2765130666347826, 11.865522148837673, 3.678016521887287, 9.737831196002915, 3.3358087092390263, 3.1829603183753763, 9.84912307424669, 6.168852132688686, 7.467918566991882, 4.6606331943405905, 6.898055916141628, 7.866977370455278, 10.968332748134898, 5.650357820038656, 9.666040329833226, 9.281768797406167, 9.011644465858422, 7.350263458725274, 8.106752568523447, 7.295172763624699, 8.634153120211426, 7.2269593237819505, 0.8051227108561052, 0.8823936109393371, 0.9234251647985755, 0.9691841979261842, 0.8430058452894931, 0.7056966084597679, 0.7036939885923481, 0.7033937990242346, 0.6967094807928498, 0.6967836885029168, 0.694025343520369, 0.6944469686445842, 0.69312468477825, 0.7885570291380144, 0.8389477627422584, 0.6843625156658784, 0.6806663763208423, 0.6790639055411545, 0.6806142303433349, 0.6782187248392836, 0.6774537317356394, 0.6774503256243114, 0.7634942497443608, 0.6680900268302961, 0.7562428309121509, 0.8261129182060343, 0.7404948271397304, 0.6627024489664732, 0.6572484409228286, 0.6540085510112597, 3.5990418382217815, 1.7632247596723087, 1.4739587100997482, 1.1740957630010505, 0.9403742557975824, 8.634153120211426, 3.639207821138736, 4.699328498136349, 3.646375166703921, 7.2269593237819505, 1.0711091116987652, 1.0008000824879812, 1.0784927840638918, 7.395645617501933, 1.9166648824425052, 5.586305105067469, 11.639844246424673, 11.108561460785365, 3.287385696954969, 16.50941228899857, 11.525883066022677, 3.3349366804658596, 2.1627842851605656, 4.323080542857516, 5.1660861504476845, 3.4442770433933694, 10.366296591294867, 9.281768797406167, 9.011644465858422, 11.865522148837673, 9.666040329833226, 7.767811663909618, 9.84912307424669, 9.265726722601071, 7.462717314074203, 10.968332748134898, 4.181507063787865, 4.238838215601257, 5.994616190366767, 7.295172763624699, 7.350263458725274, 9.737831196002915, 6.898055916141628, 8.106752568523447], \"Category\": [\"Default\", \"Default\", \"Default\", \"Default\", \"Default\", \"Default\", \"Default\", \"Default\", \"Default\", \"Default\", \"Default\", \"Default\", \"Default\", \"Default\", \"Default\", \"Default\", \"Default\", \"Default\", \"Default\", \"Default\", \"Default\", \"Default\", \"Default\", \"Default\", \"Default\", \"Default\", \"Default\", \"Default\", \"Default\", \"Default\", \"Topic1\", \"Topic1\", \"Topic1\", \"Topic1\", \"Topic1\", \"Topic1\", \"Topic1\", \"Topic1\", \"Topic1\", \"Topic1\", \"Topic1\", \"Topic1\", \"Topic1\", \"Topic1\", \"Topic1\", \"Topic1\", \"Topic1\", \"Topic1\", \"Topic1\", \"Topic1\", \"Topic1\", \"Topic1\", \"Topic1\", \"Topic1\", \"Topic1\", \"Topic1\", \"Topic1\", \"Topic1\", \"Topic1\", \"Topic1\", \"Topic1\", \"Topic1\", \"Topic1\", \"Topic1\", \"Topic1\", \"Topic1\", \"Topic1\", \"Topic1\", \"Topic1\", \"Topic1\", \"Topic1\", \"Topic1\", \"Topic1\", \"Topic1\", \"Topic1\", \"Topic1\", \"Topic1\", \"Topic1\", \"Topic1\", \"Topic1\", \"Topic1\", \"Topic1\", \"Topic1\", \"Topic1\", \"Topic1\", \"Topic1\", \"Topic1\", \"Topic1\", \"Topic1\", \"Topic1\", \"Topic1\", \"Topic1\", \"Topic1\", \"Topic1\", \"Topic1\", \"Topic1\", \"Topic1\", \"Topic1\", \"Topic1\", \"Topic1\", \"Topic1\", \"Topic1\", \"Topic1\", \"Topic1\", \"Topic2\", \"Topic2\", \"Topic2\", \"Topic2\", \"Topic2\", \"Topic2\", \"Topic2\", \"Topic2\", \"Topic2\", \"Topic2\", \"Topic2\", \"Topic2\", \"Topic2\", \"Topic2\", \"Topic2\", \"Topic2\", \"Topic2\", \"Topic2\", \"Topic2\", \"Topic2\", \"Topic2\", \"Topic2\", \"Topic2\", \"Topic2\", \"Topic2\", \"Topic2\", \"Topic2\", \"Topic2\", \"Topic2\", \"Topic2\", \"Topic2\", \"Topic2\", \"Topic2\", \"Topic2\", \"Topic2\", \"Topic2\", \"Topic2\", \"Topic2\", \"Topic2\", \"Topic2\", \"Topic2\", \"Topic2\", \"Topic2\", \"Topic2\", \"Topic2\", \"Topic2\", \"Topic2\", \"Topic2\", \"Topic2\", \"Topic2\", \"Topic2\", \"Topic2\", \"Topic2\", \"Topic2\", \"Topic2\", \"Topic2\", \"Topic2\", \"Topic2\", \"Topic2\", \"Topic2\", \"Topic2\", \"Topic2\", \"Topic2\", \"Topic2\", \"Topic2\", \"Topic2\", \"Topic2\", \"Topic2\", \"Topic2\", \"Topic2\", \"Topic2\", \"Topic2\", \"Topic2\", \"Topic3\", \"Topic3\", \"Topic3\", \"Topic3\", \"Topic3\", \"Topic3\", \"Topic3\", \"Topic3\", \"Topic3\", \"Topic3\", \"Topic3\", \"Topic3\", \"Topic3\", \"Topic3\", \"Topic3\", \"Topic3\", \"Topic3\", \"Topic3\", \"Topic3\", \"Topic3\", \"Topic3\", \"Topic3\", \"Topic3\", \"Topic3\", \"Topic3\", \"Topic3\", \"Topic3\", \"Topic3\", \"Topic3\", \"Topic3\", \"Topic3\", \"Topic3\", \"Topic3\", \"Topic3\", \"Topic3\", \"Topic3\", \"Topic3\", \"Topic3\", \"Topic3\", \"Topic3\", \"Topic3\", \"Topic3\", \"Topic3\", \"Topic3\", \"Topic3\", \"Topic3\", \"Topic3\", \"Topic3\", \"Topic3\", \"Topic3\", \"Topic3\", \"Topic3\", \"Topic3\", \"Topic3\", \"Topic3\", \"Topic3\", \"Topic3\", \"Topic3\", \"Topic3\", \"Topic3\", \"Topic3\", \"Topic3\", \"Topic3\", \"Topic3\", \"Topic3\", \"Topic3\", \"Topic3\", \"Topic3\", \"Topic3\", \"Topic3\", \"Topic3\", \"Topic3\", \"Topic3\", \"Topic3\", \"Topic3\", \"Topic3\", \"Topic3\", \"Topic3\", \"Topic3\", \"Topic4\", \"Topic4\", \"Topic4\", \"Topic4\", \"Topic4\", \"Topic4\", \"Topic4\", \"Topic4\", \"Topic4\", \"Topic4\", \"Topic4\", \"Topic4\", \"Topic4\", \"Topic4\", \"Topic4\", \"Topic4\", \"Topic4\", \"Topic4\", \"Topic4\", \"Topic4\", \"Topic4\", \"Topic4\", \"Topic4\", \"Topic4\", \"Topic4\", \"Topic4\", \"Topic4\", \"Topic4\", \"Topic4\", \"Topic4\", \"Topic4\", \"Topic4\", \"Topic4\", \"Topic4\", \"Topic4\", \"Topic4\", \"Topic4\", \"Topic4\", \"Topic4\", \"Topic4\", \"Topic4\", \"Topic4\", \"Topic4\", \"Topic4\", \"Topic4\", \"Topic4\", \"Topic4\", \"Topic4\", \"Topic4\", \"Topic4\", \"Topic4\", \"Topic4\", \"Topic4\", \"Topic4\", \"Topic4\", \"Topic4\", \"Topic4\", \"Topic4\", \"Topic4\", \"Topic4\", \"Topic4\", \"Topic4\", \"Topic4\", \"Topic4\", \"Topic4\", \"Topic4\", \"Topic4\", \"Topic4\", \"Topic4\", \"Topic4\", \"Topic4\", \"Topic4\", \"Topic4\", \"Topic4\", \"Topic4\", \"Topic4\", \"Topic4\", \"Topic4\", \"Topic4\", \"Topic4\", \"Topic4\", \"Topic4\", \"Topic4\", \"Topic4\", \"Topic5\", \"Topic5\", \"Topic5\", \"Topic5\", \"Topic5\", \"Topic5\", \"Topic5\", \"Topic5\", \"Topic5\", \"Topic5\", \"Topic5\", \"Topic5\", \"Topic5\", \"Topic5\", \"Topic5\", \"Topic5\", \"Topic5\", \"Topic5\", \"Topic5\", \"Topic5\", \"Topic5\", \"Topic5\", \"Topic5\", \"Topic5\", \"Topic5\", \"Topic5\", \"Topic5\", \"Topic5\", \"Topic5\", \"Topic5\", \"Topic5\", \"Topic5\", \"Topic5\", \"Topic5\", \"Topic5\", \"Topic5\", \"Topic5\", \"Topic5\", \"Topic5\", \"Topic5\", \"Topic5\", \"Topic5\", \"Topic5\", \"Topic5\", \"Topic5\", \"Topic5\", \"Topic5\", \"Topic5\", \"Topic5\", \"Topic5\", \"Topic5\", \"Topic5\", \"Topic5\", \"Topic5\", \"Topic5\", \"Topic5\", \"Topic5\", \"Topic5\", \"Topic5\", \"Topic5\", \"Topic5\", \"Topic5\", \"Topic5\", \"Topic5\", \"Topic5\", \"Topic5\", \"Topic5\", \"Topic5\", \"Topic5\", \"Topic5\", \"Topic5\", \"Topic5\", \"Topic5\", \"Topic6\", \"Topic6\", \"Topic6\", \"Topic6\", \"Topic6\", \"Topic6\", \"Topic6\", \"Topic6\", \"Topic6\", \"Topic6\", \"Topic6\", \"Topic6\", \"Topic6\", \"Topic6\", \"Topic6\", \"Topic6\", \"Topic6\", \"Topic6\", \"Topic6\", \"Topic6\", \"Topic6\", \"Topic6\", \"Topic6\", \"Topic6\", \"Topic6\", \"Topic6\", \"Topic6\", \"Topic6\", \"Topic6\", \"Topic6\", \"Topic6\", \"Topic6\", \"Topic6\", \"Topic6\", \"Topic6\", \"Topic6\", \"Topic6\", \"Topic6\", \"Topic6\", \"Topic6\", \"Topic6\", \"Topic6\", \"Topic6\", \"Topic6\", \"Topic6\", \"Topic6\", \"Topic6\", \"Topic6\", \"Topic6\", \"Topic6\", \"Topic6\", \"Topic6\", \"Topic6\", \"Topic6\", \"Topic6\", \"Topic6\", \"Topic6\", \"Topic6\", \"Topic6\", \"Topic6\", \"Topic6\", \"Topic6\", \"Topic6\", \"Topic6\", \"Topic6\", \"Topic6\", \"Topic6\", \"Topic6\", \"Topic6\", \"Topic6\", \"Topic6\", \"Topic6\", \"Topic6\", \"Topic6\"], \"logprob\": [30.0, 29.0, 28.0, 27.0, 26.0, 25.0, 24.0, 23.0, 22.0, 21.0, 20.0, 19.0, 18.0, 17.0, 16.0, 15.0, 14.0, 13.0, 12.0, 11.0, 10.0, 9.0, 8.0, 7.0, 6.0, 5.0, 4.0, 3.0, 2.0, 1.0, -7.5338, -7.5596, -7.5967, -7.6011, -7.6453, -7.5117, -7.695, -7.6984, -6.0797, -7.7144, -7.7234, -7.3329, -7.5113, -7.7871, -7.6935, -6.8104, -7.7993, -7.5876, -7.8049, -7.8106, -7.8204, -7.8214, -7.5584, -7.7236, -7.8361, -7.8604, -6.8483, -7.4272, -7.7252, -7.8815, -7.2734, -7.3314, -7.1081, -7.1005, -6.8262, -7.2769, -6.4318, -6.5949, -6.4483, -7.237, -7.4764, -5.676, -5.8143, -6.0347, -6.011, -6.0643, -5.9207, -6.3155, -6.4713, -6.1359, -6.3853, -6.4694, -6.181, -6.1568, -5.5839, -5.8241, -5.9226, -5.8461, -6.241, -6.0137, -6.1439, -5.9071, -6.5826, -6.33, -6.0789, -6.0041, -6.098, -6.0982, -6.2588, -6.2779, -6.3246, -6.253, -6.3776, -6.3781, -7.0775, -6.744, -6.9115, -7.5211, -7.2341, -6.9515, -7.5986, -7.6023, -7.4881, -7.6203, -7.0657, -7.646, -7.3823, -7.4685, -7.6787, -7.4811, -7.6845, -7.701, -7.7176, -7.772, -7.7803, -7.7839, -7.3902, -7.8055, -7.8176, -7.818, -7.8203, -7.8247, -7.8337, -7.8355, -7.5085, -7.5053, -6.5593, -7.4915, -6.7112, -7.4883, -7.3608, -6.7003, -7.2949, -7.3673, -6.1304, -6.3467, -6.8681, -5.9789, -5.9283, -6.3266, -6.6331, -6.6809, -5.9688, -5.6302, -6.5527, -5.9443, -6.2463, -5.9602, -6.0741, -5.9704, -6.3148, -6.6325, -6.119, -6.6027, -6.0684, -6.0792, -6.2173, -6.338, -6.3697, -6.2548, -6.3862, -6.3867, -6.3837, -6.5054, -6.4087, -6.4553, -6.531, -7.1412, -7.5072, -6.8976, -7.5542, -7.7095, -7.6303, -7.2262, -7.7357, -7.7565, -7.7643, -7.7653, -7.7774, -7.7531, -7.647, -7.3863, -7.8126, -7.8131, -7.8209, -7.8219, -7.8225, -7.8316, -7.8326, -7.8335, -7.8344, -7.7495, -7.6903, -7.678, -7.844, -7.6536, -7.8668, -7.705, -7.23, -7.1645, -7.377, -6.9304, -7.1101, -7.1119, -7.0089, -6.5159, -7.0056, -6.597, -6.882, -6.0624, -6.0544, -6.7107, -6.9405, -6.4723, -6.9305, -6.3416, -6.702, -5.6634, -6.6815, -6.7689, -7.0512, -6.0341, -6.3303, -6.6628, -6.0759, -6.1992, -6.6773, -6.4541, -6.1645, -6.367, -6.6492, -6.7049, -6.2612, -6.3318, -6.5499, -6.2833, -6.4214, -6.3496, -6.5005, -6.4516, -6.5226, -6.5346, -6.5813, -6.6049, -6.5573, -6.6036, -7.0193, -7.4602, -7.4803, -7.5024, -7.5149, -7.6023, -7.6353, -7.636, -7.6357, -6.9066, -7.6812, -7.454, -7.7192, -7.5815, -7.6678, -7.7463, -7.7605, -7.7622, -7.766, -7.7699, -7.5914, -7.7884, -7.7929, -7.8057, -7.8093, -7.8131, -7.8358, -7.8359, -7.8373, -7.8398, -7.1316, -6.9942, -7.3785, -7.2667, -6.8126, -6.9879, -7.349, -7.4516, -7.5632, -6.5543, -6.3357, -6.8138, -7.0125, -6.8939, -7.4195, -7.2987, -7.1333, -7.0291, -6.3606, -6.9481, -6.2513, -5.7658, -6.5523, -6.9396, -7.0593, -6.1423, -6.8984, -6.3058, -6.1932, -6.3247, -6.1168, -6.7266, -6.5866, -6.8129, -6.6213, -6.6306, -6.3088, -6.2457, -6.2841, -6.5141, -6.2834, -6.7214, -6.4711, -6.4309, -6.6068, -6.5615, -6.4441, -6.5418, -6.5665, -6.4774, -6.5339, -6.636, -6.6928, -6.6638, -7.3667, -7.065, -7.518, -7.5567, -7.2773, -7.5731, -7.6032, -7.3649, -7.6163, -7.6188, -7.2359, -7.6294, -7.6322, -7.3736, -7.6679, -7.6769, -7.6823, -7.6827, -7.703, -7.7054, -7.7074, -7.5674, -7.7207, -7.7412, -7.7618, -7.2527, -7.5443, -7.7803, -6.0987, -7.7846, -7.4782, -7.3395, -7.5417, -6.4537, -6.8629, -6.7553, -5.7375, -6.341, -7.3805, -6.5422, -5.9287, -5.6561, -6.4735, -7.0468, -6.4935, -6.664, -6.86, -6.6583, -6.389, -6.0044, -6.0406, -6.9715, -6.0554, -6.703, -6.1684, -6.765, -6.7958, -6.2294, -6.4779, -6.3929, -6.6197, -6.4527, -6.4056, -6.2745, -6.5834, -6.3951, -6.4146, -6.4389, -6.5347, -6.5411, -6.6315, -6.6285, -6.6384, -7.2778, -7.2039, -7.2208, -7.198, -7.3819, -7.5677, -7.5743, -7.578, -7.5981, -7.5984, -7.6073, -7.6072, -7.6112, -7.4853, -7.4327, -7.6417, -7.6569, -7.6615, -7.6601, -7.666, -7.6682, -7.6685, -7.5656, -7.7032, -7.5868, -7.5021, -7.6124, -7.7237, -7.7466, -7.7588, -6.0612, -6.7906, -7.0518, -7.2484, -7.4442, -5.8924, -6.5269, -6.3931, -6.5605, -6.1208, -7.3644, -7.4097, -7.3667, -6.2243, -7.0319, -6.4115, -6.0329, -6.0615, -6.7478, -5.8609, -6.0693, -6.7432, -6.9804, -6.6069, -6.5236, -6.7369, -6.1904, -6.2573, -6.2749, -6.1498, -6.2626, -6.3672, -6.3381, -6.4028, -6.5041, -6.3864, -6.7332, -6.7383, -6.6616, -6.6203, -6.643, -6.6069, -6.6628, -6.6568], \"loglift\": [30.0, 29.0, 28.0, 27.0, 26.0, 25.0, 24.0, 23.0, 22.0, 21.0, 20.0, 19.0, 18.0, 17.0, 16.0, 15.0, 14.0, 13.0, 12.0, 11.0, 10.0, 9.0, 8.0, 7.0, 6.0, 5.0, 4.0, 3.0, 2.0, 1.0, 0.9625, 0.9519, 0.9374, 0.9352, 0.9173, 0.9108, 0.8965, 0.8949, 0.8923, 0.8883, 0.8838, 0.8805, 0.8592, 0.856, 0.8556, 0.8512, 0.8502, 0.8495, 0.8477, 0.8456, 0.8406, 0.8397, 0.8376, 0.8342, 0.8335, 0.8213, 0.8206, 0.817, 0.8138, 0.812, 0.8034, 0.8028, 0.7919, 0.7683, 0.7327, 0.7778, 0.6599, 0.68, 0.6572, 0.7664, 0.7938, 0.4055, 0.4358, 0.4312, 0.4028, 0.4023, 0.3573, 0.4407, 0.4828, 0.3534, 0.4341, 0.4553, 0.3356, 0.325, 0.0887, 0.1788, 0.2153, 0.176, 0.3523, 0.2347, 0.2826, 0.1617, 0.4764, 0.315, 0.129, 0.0278, 0.1025, 0.0909, 0.2399, 0.1809, 0.2207, 0.0678, 0.1976, 0.0975, 1.1709, 1.1583, 1.1102, 1.0944, 1.0888, 1.0631, 1.0588, 1.0569, 1.0518, 1.0489, 1.0386, 1.0361, 1.032, 1.028, 1.0206, 1.0201, 1.018, 1.0098, 1.0009, 0.9731, 0.9691, 0.9673, 0.961, 0.956, 0.9496, 0.9492, 0.9488, 0.9465, 0.9417, 0.9406, 0.9375, 0.9306, 0.8705, 0.9076, 0.7962, 0.8893, 0.8638, 0.7266, 0.8489, 0.8598, 0.5146, 0.5532, 0.6913, 0.3419, 0.3202, 0.4568, 0.555, 0.5694, 0.2203, 0.0424, 0.4768, 0.1245, 0.2672, 0.0717, 0.1263, 0.0324, 0.2603, 0.4497, 0.0889, 0.4285, 0.0131, -0.0572, 0.0329, 0.1279, 0.147, -0.1168, 0.0726, 0.0398, 0.0001, 0.208, -0.1307, -0.0414, 0.0143, 1.2917, 1.1375, 1.1347, 1.1152, 1.0372, 1.0344, 1.0263, 1.0237, 1.0125, 1.0091, 1.0076, 1.0016, 1.0006, 0.997, 0.9955, 0.9832, 0.9825, 0.9778, 0.9775, 0.977, 0.9724, 0.9721, 0.9713, 0.9709, 0.9702, 0.9682, 0.9663, 0.9652, 0.9629, 0.9525, 0.9495, 0.9244, 0.9002, 0.917, 0.8033, 0.8362, 0.8325, 0.7829, 0.6362, 0.7532, 0.6373, 0.6885, 0.4041, 0.3294, 0.581, 0.6708, 0.4523, 0.6378, 0.3718, 0.5292, 0.0091, 0.4767, 0.5125, 0.6524, -0.012, 0.1831, 0.4026, -0.073, 0.0013, 0.4019, 0.2029, -0.083, 0.0917, 0.373, 0.4256, -0.072, -0.1239, 0.1357, -0.2514, -0.1434, -0.2808, -0.0187, -0.2014, -0.047, -0.2138, -0.092, -0.0116, -0.3089, -0.4656, 1.271, 1.226, 1.2164, 1.2052, 1.199, 1.1539, 1.1365, 1.1359, 1.1358, 1.1276, 1.111, 1.0941, 1.0896, 1.0875, 1.0766, 1.0749, 1.0667, 1.0652, 1.0636, 1.0614, 1.0605, 1.0506, 1.0483, 1.0401, 1.0388, 1.0365, 1.0235, 1.0226, 1.0225, 1.0212, 0.9964, 0.9419, 0.9779, 0.9625, 0.9078, 0.9244, 0.9615, 0.9685, 0.9876, 0.6926, 0.6058, 0.7586, 0.8213, 0.7549, 0.9457, 0.8928, 0.8147, 0.7629, 0.3382, 0.6747, 0.2243, -0.0932, 0.3691, 0.6346, 0.7152, -0.0044, 0.5889, 0.1207, 0.0147, 0.0891, -0.1139, 0.4091, 0.2478, 0.4721, 0.2587, 0.2598, -0.1083, -0.2138, -0.2153, 0.061, -0.2613, 0.3404, -0.0873, -0.1807, 0.1266, 0.0318, -0.255, -0.083, -0.053, -0.3959, -0.2559, -0.0908, 0.2274, 0.0219, 1.2726, 1.1983, 1.1981, 1.1781, 1.1701, 1.17, 1.1536, 1.1522, 1.1473, 1.1464, 1.1435, 1.1403, 1.1384, 1.1269, 1.1187, 1.1146, 1.1109, 1.1106, 1.0996, 1.0973, 1.0973, 1.0913, 1.09, 1.0784, 1.0666, 1.058, 1.0565, 1.0563, 1.0547, 1.0535, 1.0266, 0.9868, 1.0137, 0.7301, 0.7727, 0.7119, 0.2944, 0.5278, 0.9557, 0.5479, 0.2093, 0.0165, 0.4556, 0.7741, 0.4553, 0.537, 0.6511, 0.494, 0.3098, 0.0177, 0.0282, 0.6824, -0.0525, 0.4711, 0.0321, 0.5068, 0.5229, -0.0403, 0.1791, 0.073, 0.3177, 0.0925, 0.0082, -0.193, 0.1614, -0.1872, -0.1661, -0.1609, -0.0529, -0.1573, -0.1422, -0.3077, -0.1397, 1.4155, 1.3978, 1.3353, 1.3098, 1.2654, 1.2574, 1.2536, 1.2504, 1.2398, 1.2394, 1.2344, 1.234, 1.2318, 1.2288, 1.2194, 1.2141, 1.2043, 1.2021, 1.2012, 1.1988, 1.1977, 1.1974, 1.1808, 1.1766, 1.1692, 1.1655, 1.1645, 1.1643, 1.1497, 1.1423, 1.1347, 1.1187, 1.0368, 1.0676, 1.0938, 0.4284, 0.6578, 0.536, 0.6223, 0.3779, 1.0434, 1.066, 1.0342, 0.2513, 0.794, 0.3447, -0.0108, 0.0073, 0.5386, -0.1883, -0.0374, 0.5289, 0.7247, 0.4057, 0.3108, 0.5029, -0.0525, -0.0089, 0.0031, -0.1469, -0.0547, 0.0593, -0.149, -0.1526, -0.0375, -0.3049, 0.3127, 0.2939, 0.024, -0.131, -0.1613, -0.4064, -0.1176, -0.273]}, \"token.table\": {\"Topic\": [2, 1, 2, 3, 3, 1, 2, 3, 4, 5, 6, 1, 2, 3, 4, 5, 6, 1, 4, 6, 2, 2, 1, 2, 3, 4, 5, 1, 2, 3, 5, 3, 1, 3, 1, 6, 2, 1, 1, 2, 1, 2, 3, 1, 2, 3, 4, 5, 6, 3, 5, 1, 2, 3, 4, 5, 6, 1, 2, 5, 3, 1, 2, 3, 4, 5, 1, 2, 5, 6, 1, 2, 4, 5, 6, 1, 3, 4, 4, 2, 1, 2, 3, 4, 3, 1, 2, 5, 4, 3, 1, 2, 1, 2, 3, 4, 5, 6, 1, 2, 3, 4, 5, 6, 2, 4, 1, 4, 5, 1, 2, 3, 5, 1, 2, 3, 4, 5, 6, 4, 2, 2, 1, 3, 1, 2, 3, 5, 1, 2, 3, 4, 5, 6, 1, 2, 3, 4, 5, 6, 1, 1, 5, 1, 2, 5, 6, 3, 4, 5, 6, 1, 2, 3, 4, 5, 3, 1, 2, 3, 4, 5, 1, 2, 3, 4, 5, 6, 4, 4, 1, 2, 3, 6, 5, 1, 2, 1, 2, 3, 4, 5, 6, 1, 2, 3, 4, 5, 6, 1, 2, 3, 4, 1, 2, 4, 5, 6, 1, 2, 3, 4, 5, 6, 1, 2, 3, 5, 2, 4, 5, 1, 2, 3, 4, 5, 6, 1, 2, 3, 4, 5, 6, 1, 2, 3, 4, 5, 6, 1, 1, 2, 3, 4, 5, 6, 3, 2, 5, 1, 2, 3, 4, 1, 3, 4, 4, 1, 2, 5, 6, 1, 2, 5, 3, 1, 2, 3, 4, 5, 6, 1, 2, 3, 4, 5, 6, 1, 2, 3, 4, 6, 4, 1, 2, 3, 4, 5, 6, 1, 2, 3, 4, 1, 2, 3, 6, 1, 2, 3, 4, 5, 1, 2, 1, 2, 3, 4, 5, 2, 4, 5, 6, 2, 1, 1, 3, 5, 1, 2, 3, 4, 6, 3, 2, 1, 1, 3, 1, 2, 3, 4, 5, 6, 4, 4, 2, 3, 1, 1, 1, 2, 3, 4, 5, 1, 2, 6, 4, 1, 6, 1, 2, 3, 4, 5, 6, 1, 2, 3, 4, 5, 6, 1, 3, 1, 1, 2, 3, 5, 6, 1, 2, 3, 4, 5, 6, 3, 1, 1, 4, 1, 2, 3, 4, 5, 6, 1, 4, 1, 2, 3, 4, 5, 6, 1, 2, 3, 5, 1, 2, 3, 4, 5, 6, 1, 1, 1, 2, 3, 4, 5, 6, 1, 2, 3, 4, 5, 1, 2, 3, 5, 6, 1, 1, 4, 1, 2, 3, 4, 5, 6, 1, 1, 1, 1, 4, 5, 6, 1, 3, 1, 1, 1, 2, 3, 4, 1, 2, 3, 4, 5, 6, 1, 3, 1, 2, 2, 1, 2, 3, 5, 1, 2, 3, 4, 5, 6, 1, 2, 3, 4, 5, 1, 2, 3, 4, 5, 6, 2, 3, 1, 2, 3, 4, 1, 2, 3, 1, 2, 3, 4, 5, 6, 3, 6, 1, 2, 4, 1, 2, 3, 4, 5, 6, 1, 6, 3, 4, 1, 2, 3, 4, 5, 6, 1, 2, 3, 4, 5, 1, 2, 3, 4, 5, 6, 1, 5, 1, 2, 5, 6, 2, 5, 1, 2, 5, 1, 2, 3, 4, 2, 3, 1, 2, 4, 1, 5], \"Freq\": [0.563119388045566, 0.34301506852226277, 0.17150753426113138, 0.17150753426113138, 0.5873506064985965, 0.2422860323541313, 0.18171452426559848, 0.18171452426559848, 0.12114301617706565, 0.12114301617706565, 0.12114301617706565, 0.2467079120886845, 0.12335395604434225, 0.2467079120886845, 0.12335395604434225, 0.12335395604434225, 0.12335395604434225, 0.27785172969650196, 0.27785172969650196, 0.27785172969650196, 0.630133011663999, 1.0202336240729577, 0.2660024268204998, 0.2660024268204998, 0.2660024268204998, 0.2660024268204998, 0.2660024268204998, 0.27928273856244124, 0.27928273856244124, 0.27928273856244124, 0.27928273856244124, 0.9573329148678132, 0.44265650099082643, 0.7246317685489185, 0.521739616121963, 0.521739616121963, 0.6345639760312526, 1.0616122264088241, 1.1238249507142046, 0.796087100900217, 0.8135901793127275, 0.5042244915126058, 0.5042244915126058, 0.40171836008763767, 0.26781224005842513, 0.13390612002921257, 0.13390612002921257, 0.13390612002921257, 0.13390612002921257, 0.31417293964582405, 0.31417293964582405, 0.32377384848641866, 0.21584923232427913, 0.10792461616213957, 0.10792461616213957, 0.10792461616213957, 0.10792461616213957, 0.2352781515094562, 0.2352781515094562, 0.2352781515094562, 0.4878668101021284, 0.4363565107566815, 0.21817825537834076, 0.21817825537834076, 0.21817825537834076, 0.21817825537834076, 0.2742449567809922, 0.2742449567809922, 0.2742449567809922, 0.2742449567809922, 0.21279636024520912, 0.21279636024520912, 0.21279636024520912, 0.21279636024520912, 0.21279636024520912, 0.3037708237333608, 0.3037708237333608, 0.3037708237333608, 0.5824877213642894, 0.6892421205871644, 0.4223170590729654, 0.2111585295364827, 0.2111585295364827, 0.2111585295364827, 0.9096295534502534, 0.2663026189961902, 0.2663026189961902, 0.5326052379923804, 0.4694743091479007, 0.4757528393356218, 1.0593277022848169, 0.7170128948367613, 0.23355088279228675, 0.23355088279228675, 0.23355088279228675, 0.23355088279228675, 0.23355088279228675, 0.23355088279228675, 0.33363270249294047, 0.16681635124647023, 0.16681635124647023, 0.16681635124647023, 0.16681635124647023, 0.16681635124647023, 0.4258281500397476, 0.4258281500397476, 0.27188567371820116, 0.27188567371820116, 0.27188567371820116, 0.28874088943083637, 0.28874088943083637, 0.28874088943083637, 0.28874088943083637, 0.33290261409732935, 0.11096753803244311, 0.11096753803244311, 0.11096753803244311, 0.11096753803244311, 0.11096753803244311, 0.504321294674341, 0.7772859969744154, 0.35106873811449, 0.6704954219076018, 0.799296999967767, 0.4237166679204601, 0.21185833396023004, 0.21185833396023004, 0.9074469169921076, 0.28175535287185016, 0.28175535287185016, 0.14087767643592508, 0.14087767643592508, 0.14087767643592508, 0.14087767643592508, 0.2704293990597606, 0.1352146995298803, 0.1352146995298803, 0.1352146995298803, 0.1352146995298803, 0.1352146995298803, 1.0752815968603522, 0.43926828914636246, 0.43926828914636246, 0.27451733803684464, 0.27451733803684464, 0.27451733803684464, 0.27451733803684464, 0.292382211115177, 0.292382211115177, 0.292382211115177, 0.292382211115177, 0.21456312013876153, 0.21456312013876153, 0.21456312013876153, 0.21456312013876153, 0.21456312013876153, 0.46164660732950896, 0.1769799421292506, 0.1769799421292506, 0.1769799421292506, 0.1769799421292506, 0.1769799421292506, 0.2987340162975409, 0.2987340162975409, 0.14936700814877046, 0.14936700814877046, 0.14936700814877046, 0.14936700814877046, 0.5258325176129214, 0.49555796442339106, 0.23131653229366142, 0.23131653229366142, 0.23131653229366142, 0.23131653229366142, 0.8472698555547546, 0.37941029017975847, 0.37941029017975847, 0.38138908475512046, 0.19069454237756023, 0.19069454237756023, 0.19069454237756023, 0.19069454237756023, 0.19069454237756023, 0.26028374423160205, 0.17352249615440138, 0.17352249615440138, 0.08676124807720069, 0.17352249615440138, 0.08676124807720069, 0.20472909288396132, 0.20472909288396132, 0.20472909288396132, 0.20472909288396132, 0.2391482268821373, 0.2391482268821373, 0.2391482268821373, 0.2391482268821373, 0.2391482268821373, 0.14042716711718312, 0.28085433423436623, 0.14042716711718312, 0.14042716711718312, 0.14042716711718312, 0.14042716711718312, 0.20034461220747557, 0.20034461220747557, 0.20034461220747557, 0.20034461220747557, 0.43134952849624986, 0.43134952849624986, 0.43134952849624986, 0.2767415603708389, 0.13837078018541946, 0.13837078018541946, 0.13837078018541946, 0.13837078018541946, 0.13837078018541946, 0.27209909022048195, 0.13604954511024098, 0.13604954511024098, 0.13604954511024098, 0.13604954511024098, 0.13604954511024098, 0.25283337407059453, 0.1685555827137297, 0.1685555827137297, 0.1685555827137297, 0.1685555827137297, 0.08427779135686485, 1.089868937647861, 0.2577354074923716, 0.1718236049949144, 0.1718236049949144, 0.0859118024974572, 0.1718236049949144, 0.0859118024974572, 0.42097909465550015, 0.3808292053014628, 0.3808292053014628, 0.48463667630786283, 0.24231833815393142, 0.24231833815393142, 0.24231833815393142, 0.267576717505808, 0.267576717505808, 0.7057246734285807, 0.4370491621599729, 0.5618116164702553, 0.3731089121751252, 0.3731089121751252, 0.3731089121751252, 0.299777381487838, 0.299777381487838, 0.299777381487838, 0.6624288238805421, 0.2659133969206799, 0.13295669846033994, 0.13295669846033994, 0.13295669846033994, 0.13295669846033994, 0.13295669846033994, 0.3499825645930998, 0.1749912822965499, 0.1749912822965499, 0.1749912822965499, 0.1749912822965499, 0.1749912822965499, 0.1935701362458583, 0.1935701362458583, 0.1935701362458583, 0.1935701362458583, 0.1935701362458583, 0.8300429901390192, 0.32321425640750323, 0.2154761709383355, 0.10773808546916774, 0.10773808546916774, 0.10773808546916774, 0.10773808546916774, 0.26027125707415205, 0.26027125707415205, 0.26027125707415205, 0.26027125707415205, 0.3580183972024287, 0.17900919860121434, 0.17900919860121434, 0.17900919860121434, 0.18395917244540522, 0.36791834489081043, 0.18395917244540522, 0.18395917244540522, 0.18395917244540522, 0.5007456350447326, 0.2503728175223663, 0.2109137489704912, 0.2109137489704912, 0.2109137489704912, 0.2109137489704912, 0.2109137489704912, 0.2747850766288726, 0.2747850766288726, 0.2747850766288726, 0.2747850766288726, 0.7792808751237105, 0.9226098194344555, 0.28787161691612306, 0.28787161691612306, 0.28787161691612306, 0.3203437721695065, 0.3203437721695065, 0.16017188608475325, 0.16017188608475325, 0.16017188608475325, 0.8331659571803812, 0.9396623130946993, 1.0355854820408195, 0.30266416663059054, 0.30266416663059054, 0.3646862373572845, 0.18234311867864225, 0.18234311867864225, 0.09117155933932113, 0.09117155933932113, 0.09117155933932113, 0.4049310080426361, 0.5687996746929718, 0.8576081789404697, 0.5884446070524603, 0.7927380710546181, 0.6558120083232715, 0.20261077453079707, 0.20261077453079707, 0.20261077453079707, 0.20261077453079707, 0.20261077453079707, 0.5077364620543823, 0.25386823102719114, 0.25386823102719114, 0.642548271433904, 0.3041930859911806, 0.3041930859911806, 0.23163823621777807, 0.23163823621777807, 0.11581911810888904, 0.11581911810888904, 0.11581911810888904, 0.23163823621777807, 0.27006197072324634, 0.18004131381549757, 0.09002065690774878, 0.09002065690774878, 0.18004131381549757, 0.09002065690774878, 0.40415274487146047, 0.40415274487146047, 1.01999286078289, 0.247238846556075, 0.247238846556075, 0.247238846556075, 0.247238846556075, 0.247238846556075, 0.16902978063629362, 0.16902978063629362, 0.16902978063629362, 0.16902978063629362, 0.16902978063629362, 0.16902978063629362, 0.6413155498810947, 0.947398407592567, 0.6663835315971571, 0.22212784386571904, 0.30420787603079985, 0.15210393801539993, 0.15210393801539993, 0.15210393801539993, 0.15210393801539993, 0.15210393801539993, 0.5609861575757175, 0.5609861575757175, 0.3813408706711945, 0.12711362355706482, 0.12711362355706482, 0.12711362355706482, 0.12711362355706482, 0.12711362355706482, 0.2659615008666305, 0.2659615008666305, 0.2659615008666305, 0.2659615008666305, 0.23591369831465842, 0.23591369831465842, 0.23591369831465842, 0.23591369831465842, 0.23591369831465842, 0.23591369831465842, 0.6230111464463145, 0.445892928904728, 0.31036493720606695, 0.20690995813737798, 0.10345497906868899, 0.10345497906868899, 0.10345497906868899, 0.10345497906868899, 0.24299025632805227, 0.24299025632805227, 0.24299025632805227, 0.24299025632805227, 0.24299025632805227, 0.23567955818117955, 0.23567955818117955, 0.23567955818117955, 0.23567955818117955, 0.23567955818117955, 0.9613524428285937, 0.40563119389542485, 0.40563119389542485, 0.3045956454584618, 0.20306376363897455, 0.20306376363897455, 0.10153188181948727, 0.10153188181948727, 0.10153188181948727, 0.8994474859137217, 0.5445896479709103, 1.1218869158704161, 0.2998557681341972, 0.2998557681341972, 0.2998557681341972, 0.2998557681341972, 0.4032778867974618, 0.4032778867974618, 0.7101322754044691, 0.7686234132972602, 0.24388755545328578, 0.24388755545328578, 0.24388755545328578, 0.24388755545328578, 0.16210471226908, 0.16210471226908, 0.16210471226908, 0.16210471226908, 0.16210471226908, 0.16210471226908, 0.39950070706135943, 0.39950070706135943, 0.6013691556829694, 0.3006845778414847, 0.8822273198682876, 0.2499614217765668, 0.2499614217765668, 0.2499614217765668, 0.2499614217765668, 0.2893993986742826, 0.19293293244952173, 0.09646646622476086, 0.19293293244952173, 0.19293293244952173, 0.09646646622476086, 0.2154675231784972, 0.2154675231784972, 0.2154675231784972, 0.2154675231784972, 0.2154675231784972, 0.40199834373227483, 0.13399944791075827, 0.26799889582151654, 0.13399944791075827, 0.13399944791075827, 0.13399944791075827, 0.3500798945298764, 0.3500798945298764, 0.26161076769045905, 0.26161076769045905, 0.26161076769045905, 0.26161076769045905, 0.24798961419420315, 0.24798961419420315, 0.24798961419420315, 0.30807681295927675, 0.20538454197285114, 0.20538454197285114, 0.10269227098642557, 0.10269227098642557, 0.10269227098642557, 0.4623669622815665, 0.4623669622815665, 0.37184969776409643, 0.37184969776409643, 0.37184969776409643, 0.25747277180937467, 0.12873638590468733, 0.12873638590468733, 0.12873638590468733, 0.12873638590468733, 0.12873638590468733, 0.5671426711282388, 0.5671426711282388, 0.589516815812307, 0.589516815812307, 0.2741538911830067, 0.13707694559150335, 0.13707694559150335, 0.13707694559150335, 0.13707694559150335, 0.13707694559150335, 0.2066587341660738, 0.4133174683321476, 0.2066587341660738, 0.2066587341660738, 0.2066587341660738, 0.289936762518835, 0.1449683812594175, 0.1449683812594175, 0.1449683812594175, 0.1449683812594175, 0.1449683812594175, 0.36445983155755257, 0.36445983155755257, 0.2903366910969451, 0.2903366910969451, 0.2903366910969451, 0.2903366910969451, 0.399683969950651, 0.807987513172016, 0.21702853544766354, 0.21702853544766354, 0.21702853544766354, 0.27572290566396657, 0.27572290566396657, 0.27572290566396657, 0.27572290566396657, 0.3058121623180129, 0.3058121623180129, 0.2933972912749189, 0.2933972912749189, 0.2933972912749189, 0.5191262025024536, 0.5191262025024536], \"Term\": [\"%\", \"&\", \"&\", \"&\", \"*\", \",\", \",\", \",\", \",\", \",\", \",\", \"-\", \"-\", \"-\", \"-\", \"-\", \"-\", \"10\", \"10\", \"10\", \"100\", \"17\", \"2\", \"2\", \"2\", \"2\", \"2\", \"5\", \"5\", \"5\", \"5\", \"Amazing\", \"Arizona\", \"Bell\", \"Don\", \"Don\", \"Fiamme\", \"Macy\", \"Omelette\", \"Postino\", \"Super\", \"Taco\", \"Taco\", \"Tucson\", \"Tucson\", \"Tucson\", \"Tucson\", \"Tucson\", \"Tucson\", \"absolutely\", \"absolutely\", \"amazing\", \"amazing\", \"amazing\", \"amazing\", \"amazing\", \"amazing\", \"atmosphere\", \"atmosphere\", \"atmosphere\", \"available\", \"bad\", \"bad\", \"bad\", \"bad\", \"bad\", \"bar\", \"bar\", \"bar\", \"bar\", \"beer\", \"beer\", \"beer\", \"beer\", \"beer\", \"big\", \"big\", \"big\", \"birthday\", \"boba\", \"breakfast\", \"breakfast\", \"breakfast\", \"breakfast\", \"brew\", \"burger\", \"burger\", \"burger\", \"cake\", \"card\", \"caring\", \"cauliflower\", \"cheese\", \"cheese\", \"cheese\", \"cheese\", \"cheese\", \"cheese\", \"chicken\", \"chicken\", \"chicken\", \"chicken\", \"chicken\", \"chicken\", \"choice\", \"choice\", \"clean\", \"clean\", \"clean\", \"coffee\", \"coffee\", \"coffee\", \"coffee\", \"come\", \"come\", \"come\", \"come\", \"come\", \"come\", \"corn\", \"course\", \"covid\", \"crazy\", \"credit\", \"customer\", \"customer\", \"customer\", \"dance\", \"definitely\", \"definitely\", \"definitely\", \"definitely\", \"definitely\", \"definitely\", \"delicious\", \"delicious\", \"delicious\", \"delicious\", \"delicious\", \"delicious\", \"delighted\", \"dining\", \"dining\", \"disappoint\", \"disappoint\", \"disappoint\", \"disappoint\", \"dog\", \"dog\", \"dog\", \"dog\", \"don\", \"don\", \"don\", \"don\", \"don\", \"door\", \"drink\", \"drink\", \"drink\", \"drink\", \"drink\", \"eat\", \"eat\", \"eat\", \"eat\", \"eat\", \"eat\", \"efficient\", \"egg\", \"excellent\", \"excellent\", \"excellent\", \"excellent\", \"expectation\", \"fantastic\", \"fantastic\", \"favorite\", \"favorite\", \"favorite\", \"favorite\", \"favorite\", \"favorite\", \"food\", \"food\", \"food\", \"food\", \"food\", \"food\", \"fresh\", \"fresh\", \"fresh\", \"fresh\", \"friend\", \"friend\", \"friend\", \"friend\", \"friend\", \"friendly\", \"friendly\", \"friendly\", \"friendly\", \"friendly\", \"friendly\", \"fry\", \"fry\", \"fry\", \"fry\", \"fun\", \"fun\", \"fun\", \"get\", \"get\", \"get\", \"get\", \"get\", \"get\", \"go\", \"go\", \"go\", \"go\", \"go\", \"go\", \"good\", \"good\", \"good\", \"good\", \"good\", \"good\", \"graduation\", \"great\", \"great\", \"great\", \"great\", \"great\", \"great\", \"half\", \"high\", \"high\", \"highly\", \"highly\", \"highly\", \"highly\", \"home\", \"home\", \"homemade\", \"honestly\", \"incredible\", \"kid\", \"kid\", \"kid\", \"leave\", \"leave\", \"leave\", \"life\", \"like\", \"like\", \"like\", \"like\", \"like\", \"like\", \"location\", \"location\", \"location\", \"location\", \"location\", \"location\", \"look\", \"look\", \"look\", \"look\", \"look\", \"loud\", \"love\", \"love\", \"love\", \"love\", \"love\", \"love\", \"lunch\", \"lunch\", \"lunch\", \"lunch\", \"m\", \"m\", \"m\", \"m\", \"meal\", \"meal\", \"meal\", \"meal\", \"meal\", \"meat\", \"meat\", \"menu\", \"menu\", \"menu\", \"menu\", \"menu\", \"mexican\", \"mexican\", \"mexican\", \"mexican\", \"milk\", \"mood\", \"need\", \"need\", \"need\", \"nice\", \"nice\", \"nice\", \"nice\", \"nice\", \"number\", \"numerous\", \"operate\", \"option\", \"option\", \"order\", \"order\", \"order\", \"order\", \"order\", \"order\", \"outdoor\", \"pack\", \"pancake\", \"pandemic\", \"pass\", \"pasta\", \"people\", \"people\", \"people\", \"people\", \"people\", \"perfect\", \"perfect\", \"perfect\", \"persian\", \"pick\", \"pick\", \"pizza\", \"pizza\", \"pizza\", \"pizza\", \"pizza\", \"pizza\", \"place\", \"place\", \"place\", \"place\", \"place\", \"place\", \"pork\", \"pork\", \"pour\", \"pretty\", \"pretty\", \"pretty\", \"pretty\", \"pretty\", \"price\", \"price\", \"price\", \"price\", \"price\", \"price\", \"quesadilla\", \"rainy\", \"raman\", \"raman\", \"recommend\", \"recommend\", \"recommend\", \"recommend\", \"recommend\", \"recommend\", \"remember\", \"remember\", \"restaurant\", \"restaurant\", \"restaurant\", \"restaurant\", \"restaurant\", \"restaurant\", \"return\", \"return\", \"return\", \"return\", \"right\", \"right\", \"right\", \"right\", \"right\", \"right\", \"road\", \"roll\", \"s\", \"s\", \"s\", \"s\", \"s\", \"s\", \"sandwich\", \"sandwich\", \"sandwich\", \"sandwich\", \"sandwich\", \"sauce\", \"sauce\", \"sauce\", \"sauce\", \"sauce\", \"school\", \"seating\", \"seating\", \"service\", \"service\", \"service\", \"service\", \"service\", \"service\", \"sesame\", \"single\", \"sirloin\", \"sit\", \"sit\", \"sit\", \"sit\", \"size\", \"size\", \"spectacular\", \"spinach\", \"spot\", \"spot\", \"spot\", \"spot\", \"staff\", \"staff\", \"staff\", \"staff\", \"staff\", \"staff\", \"stay\", \"stay\", \"steak\", \"steak\", \"step\", \"stop\", \"stop\", \"stop\", \"stop\", \"t\", \"t\", \"t\", \"t\", \"t\", \"t\", \"table\", \"table\", \"table\", \"table\", \"table\", \"taco\", \"taco\", \"taco\", \"taco\", \"taco\", \"taco\", \"tea\", \"tea\", \"tell\", \"tell\", \"tell\", \"tell\", \"thank\", \"thank\", \"thank\", \"time\", \"time\", \"time\", \"time\", \"time\", \"time\", \"topping\", \"topping\", \"tortilla\", \"tortilla\", \"tortilla\", \"try\", \"try\", \"try\", \"try\", \"try\", \"try\", \"twice\", \"twice\", \"update\", \"update\", \"ve\", \"ve\", \"ve\", \"ve\", \"ve\", \"ve\", \"visit\", \"visit\", \"visit\", \"visit\", \"visit\", \"wait\", \"wait\", \"wait\", \"wait\", \"wait\", \"wait\", \"waitress\", \"waitress\", \"wasn\", \"wasn\", \"wasn\", \"wasn\", \"week\", \"welcoming\", \"well\", \"well\", \"well\", \"wine\", \"wine\", \"wine\", \"wine\", \"work\", \"work\", \"worth\", \"worth\", \"worth\", \"yes\", \"yes\"]}, \"R\": 30, \"lambda.step\": 0.01, \"plot.opts\": {\"xlab\": \"PC1\", \"ylab\": \"PC2\"}, \"topic.order\": [2, 1, 6, 4, 5, 3]};\n",
       "\n",
       "function LDAvis_load_lib(url, callback){\n",
       "  var s = document.createElement('script');\n",
       "  s.src = url;\n",
       "  s.async = true;\n",
       "  s.onreadystatechange = s.onload = callback;\n",
       "  s.onerror = function(){console.warn(\"failed to load library \" + url);};\n",
       "  document.getElementsByTagName(\"head\")[0].appendChild(s);\n",
       "}\n",
       "\n",
       "if(typeof(LDAvis) !== \"undefined\"){\n",
       "   // already loaded: just create the visualization\n",
       "   !function(LDAvis){\n",
       "       new LDAvis(\"#\" + \"ldavis_el32411391050729384802576289696\", ldavis_el32411391050729384802576289696_data);\n",
       "   }(LDAvis);\n",
       "}else if(typeof define === \"function\" && define.amd){\n",
       "   // require.js is available: use it to load d3/LDAvis\n",
       "   require.config({paths: {d3: \"https://d3js.org/d3.v5\"}});\n",
       "   require([\"d3\"], function(d3){\n",
       "      window.d3 = d3;\n",
       "      LDAvis_load_lib(\"https://cdn.jsdelivr.net/gh/bmabey/pyLDAvis@3.4.0/pyLDAvis/js/ldavis.v3.0.0.js\", function(){\n",
       "        new LDAvis(\"#\" + \"ldavis_el32411391050729384802576289696\", ldavis_el32411391050729384802576289696_data);\n",
       "      });\n",
       "    });\n",
       "}else{\n",
       "    // require.js not available: dynamically load d3 & LDAvis\n",
       "    LDAvis_load_lib(\"https://d3js.org/d3.v5.js\", function(){\n",
       "         LDAvis_load_lib(\"https://cdn.jsdelivr.net/gh/bmabey/pyLDAvis@3.4.0/pyLDAvis/js/ldavis.v3.0.0.js\", function(){\n",
       "                 new LDAvis(\"#\" + \"ldavis_el32411391050729384802576289696\", ldavis_el32411391050729384802576289696_data);\n",
       "            })\n",
       "         });\n",
       "}\n",
       "</script>"
      ],
      "text/plain": [
       "<IPython.core.display.HTML object>"
      ]
     },
     "execution_count": 31,
     "metadata": {},
     "output_type": "execute_result"
    }
   ],
   "source": [
    "lda_visualization = pyLDAvis.gensim_models.prepare(lda_model, corpus_tfidf, dictionary)\n",
    "pyLDAvis.display(lda_visualization)"
   ]
  },
  {
   "cell_type": "markdown",
   "metadata": {
    "id": "2SBRqyUckUwJ"
   },
   "source": [
    "### Interpretation"
   ]
  },
  {
   "cell_type": "markdown",
   "metadata": {
    "id": "iByUwvCqmncT"
   },
   "source": [
    "- On the line between Quadrant II & III, there is a dense group and the most frequnt works between the group are food, pizza,and delicious. As a result, the topic may be related to \"food\".\n",
    "\n",
    "- In topic 3, the most frequent words are servie, time, and order. Therefore, the topic may related to \"service\".\n",
    "\n",
    "- In topic 5, the most frequent words are food and burger. Accordingly, the topic may be related to \"food\" as well.\n",
    "\n",
    "- In topic 1, the most frequent words are order and place. Consequently, the topic may be related to \"envirinment\"."
   ]
  },
  {
   "cell_type": "markdown",
   "metadata": {
    "id": "eUAODQZOs4Uq"
   },
   "source": [
    "## For 1 star reviews\n",
    "- Select a proper K\n",
    "- Fit an LDA model of K topics\n",
    "- Visualize results\n",
    "- Interpret topics"
   ]
  },
  {
   "cell_type": "code",
   "execution_count": null,
   "metadata": {
    "colab": {
     "base_uri": "https://localhost:8080/",
     "height": 1000
    },
    "executionInfo": {
     "elapsed": 178,
     "status": "ok",
     "timestamp": 1706724558866,
     "user": {
      "displayName": "Homer Liu",
      "userId": "02498362625275100753"
     },
     "user_tz": 420
    },
    "id": "u7go0riimnMb",
    "outputId": "eb29c0a6-e943-4e63-f1b3-5dca1ad2dbcf"
   },
   "outputs": [
    {
     "name": "stderr",
     "output_type": "stream",
     "text": [
      "/usr/local/lib/python3.10/dist-packages/ipykernel/ipkernel.py:283: DeprecationWarning: `should_run_async` will not call `transform_cell` automatically in the future. Please pass the result to `transformed_cell` argument and any exception that happen during thetransform in `preprocessing_exc_tuple` in IPython 7.17 and above.\n",
      "  and should_run_async(code)\n"
     ]
    },
    {
     "data": {
      "text/html": [
       "\n",
       "  <div id=\"df-701496bd-55e3-4ca1-9a1b-67367a1ee0ad\" class=\"colab-df-container\">\n",
       "    <div>\n",
       "<style scoped>\n",
       "    .dataframe tbody tr th:only-of-type {\n",
       "        vertical-align: middle;\n",
       "    }\n",
       "\n",
       "    .dataframe tbody tr th {\n",
       "        vertical-align: top;\n",
       "    }\n",
       "\n",
       "    .dataframe thead th {\n",
       "        text-align: right;\n",
       "    }\n",
       "</style>\n",
       "<table border=\"1\" class=\"dataframe\">\n",
       "  <thead>\n",
       "    <tr style=\"text-align: right;\">\n",
       "      <th></th>\n",
       "      <th>review_id</th>\n",
       "      <th>user_id</th>\n",
       "      <th>business_id</th>\n",
       "      <th>stars</th>\n",
       "      <th>useful</th>\n",
       "      <th>funny</th>\n",
       "      <th>cool</th>\n",
       "      <th>text</th>\n",
       "      <th>date</th>\n",
       "      <th>Sentiment</th>\n",
       "    </tr>\n",
       "  </thead>\n",
       "  <tbody>\n",
       "    <tr>\n",
       "      <th>5</th>\n",
       "      <td>kx6O_lyLzUnA7Xip5wh2NA</td>\n",
       "      <td>YsINprB2G1DM8qG1hbrPUg</td>\n",
       "      <td>rViAhfKLKmwbhTKROM9m0w</td>\n",
       "      <td>1</td>\n",
       "      <td>0</td>\n",
       "      <td>0</td>\n",
       "      <td>0</td>\n",
       "      <td>I stay at the Main Hotel at the Casino from Ju...</td>\n",
       "      <td>7/14/2020 16:43</td>\n",
       "      <td>0</td>\n",
       "    </tr>\n",
       "    <tr>\n",
       "      <th>13</th>\n",
       "      <td>PKlfSydanGs_EAeRFhpxNA</td>\n",
       "      <td>YCDZfgCTE1qSby-NEVqyMg</td>\n",
       "      <td>UCMSWPqzXjd7QHq7v8PJjQ</td>\n",
       "      <td>1</td>\n",
       "      <td>2</td>\n",
       "      <td>0</td>\n",
       "      <td>0</td>\n",
       "      <td>I don't know what happened to this place but e...</td>\n",
       "      <td>1/25/2020 22:59</td>\n",
       "      <td>0</td>\n",
       "    </tr>\n",
       "    <tr>\n",
       "      <th>18</th>\n",
       "      <td>7hytDrs927SL0zvlWmf1bw</td>\n",
       "      <td>MeZJe_a7xhDTE6J5Fud3ig</td>\n",
       "      <td>7L1kXfwU5XM6f6Jxo_L7Yg</td>\n",
       "      <td>1</td>\n",
       "      <td>1</td>\n",
       "      <td>0</td>\n",
       "      <td>0</td>\n",
       "      <td>Very bad service call for takeout they got our...</td>\n",
       "      <td>6/18/2020 3:36</td>\n",
       "      <td>0</td>\n",
       "    </tr>\n",
       "    <tr>\n",
       "      <th>20</th>\n",
       "      <td>JUHZyP20BbmuXpJl7rXx3g</td>\n",
       "      <td>YluRqSnRK2XutBJ01ajX6Q</td>\n",
       "      <td>Y3ZCO17N1_T_Ms1JmswwzA</td>\n",
       "      <td>1</td>\n",
       "      <td>0</td>\n",
       "      <td>0</td>\n",
       "      <td>0</td>\n",
       "      <td>This place is not worth it. Don't go the food ...</td>\n",
       "      <td>3/15/2020 18:06</td>\n",
       "      <td>0</td>\n",
       "    </tr>\n",
       "    <tr>\n",
       "      <th>22</th>\n",
       "      <td>Xu3hjf40iG1Z14ki6LmPhw</td>\n",
       "      <td>pfJGmjk8prV47Ab70EmXkA</td>\n",
       "      <td>rViAhfKLKmwbhTKROM9m0w</td>\n",
       "      <td>1</td>\n",
       "      <td>1</td>\n",
       "      <td>0</td>\n",
       "      <td>1</td>\n",
       "      <td>I was so looking forward to Del Sols re-openin...</td>\n",
       "      <td>6/3/2020 22:13</td>\n",
       "      <td>0</td>\n",
       "    </tr>\n",
       "    <tr>\n",
       "      <th>...</th>\n",
       "      <td>...</td>\n",
       "      <td>...</td>\n",
       "      <td>...</td>\n",
       "      <td>...</td>\n",
       "      <td>...</td>\n",
       "      <td>...</td>\n",
       "      <td>...</td>\n",
       "      <td>...</td>\n",
       "      <td>...</td>\n",
       "      <td>...</td>\n",
       "    </tr>\n",
       "    <tr>\n",
       "      <th>978</th>\n",
       "      <td>RITac05HQmVeDJLpn867SA</td>\n",
       "      <td>W0kWWiVWCDzgJ6spE9TTCQ</td>\n",
       "      <td>RhuYqAT45uIR2NNdDsolXQ</td>\n",
       "      <td>1</td>\n",
       "      <td>0</td>\n",
       "      <td>1</td>\n",
       "      <td>0</td>\n",
       "      <td>Food is bland, service is terrible and you'll ...</td>\n",
       "      <td>12/16/2020 0:51</td>\n",
       "      <td>0</td>\n",
       "    </tr>\n",
       "    <tr>\n",
       "      <th>985</th>\n",
       "      <td>kBpYAZoJmohefp8_b_P6HQ</td>\n",
       "      <td>3l7OG-S-FebrbvX_d8nFfw</td>\n",
       "      <td>wa_bwyY57etHjtJ2Fw0E3g</td>\n",
       "      <td>1</td>\n",
       "      <td>2</td>\n",
       "      <td>0</td>\n",
       "      <td>0</td>\n",
       "      <td>Came on a Saturday night about 7 pm.  Not busy...</td>\n",
       "      <td>1/12/2020 3:33</td>\n",
       "      <td>0</td>\n",
       "    </tr>\n",
       "    <tr>\n",
       "      <th>987</th>\n",
       "      <td>n03u4868mduHeEHW1_k4mA</td>\n",
       "      <td>57MvUHY7nTUFwsGgmfhfuQ</td>\n",
       "      <td>rViAhfKLKmwbhTKROM9m0w</td>\n",
       "      <td>1</td>\n",
       "      <td>3</td>\n",
       "      <td>0</td>\n",
       "      <td>0</td>\n",
       "      <td>I've never staid at this resort and on my time...</td>\n",
       "      <td>6/4/2021 18:35</td>\n",
       "      <td>0</td>\n",
       "    </tr>\n",
       "    <tr>\n",
       "      <th>990</th>\n",
       "      <td>noCpw7NBdP18W6ZOflR5kQ</td>\n",
       "      <td>Mplgu3bKw0470I3U8-KYAQ</td>\n",
       "      <td>U3aNQ5DsABPYyJQolsCbJg</td>\n",
       "      <td>1</td>\n",
       "      <td>0</td>\n",
       "      <td>0</td>\n",
       "      <td>0</td>\n",
       "      <td>My first time at this place ,the food was tast...</td>\n",
       "      <td>2/14/2021 18:22</td>\n",
       "      <td>0</td>\n",
       "    </tr>\n",
       "    <tr>\n",
       "      <th>996</th>\n",
       "      <td>RhN-CYKz4aZm6VZlVtlMWA</td>\n",
       "      <td>XDmE8qlypJQ0CMpqop5jMg</td>\n",
       "      <td>UCMSWPqzXjd7QHq7v8PJjQ</td>\n",
       "      <td>1</td>\n",
       "      <td>1</td>\n",
       "      <td>0</td>\n",
       "      <td>0</td>\n",
       "      <td>We are trying to support local restaurants dur...</td>\n",
       "      <td>4/12/2020 17:44</td>\n",
       "      <td>0</td>\n",
       "    </tr>\n",
       "  </tbody>\n",
       "</table>\n",
       "<p>132 rows × 10 columns</p>\n",
       "</div>\n",
       "    <div class=\"colab-df-buttons\">\n",
       "\n",
       "  <div class=\"colab-df-container\">\n",
       "    <button class=\"colab-df-convert\" onclick=\"convertToInteractive('df-701496bd-55e3-4ca1-9a1b-67367a1ee0ad')\"\n",
       "            title=\"Convert this dataframe to an interactive table.\"\n",
       "            style=\"display:none;\">\n",
       "\n",
       "  <svg xmlns=\"http://www.w3.org/2000/svg\" height=\"24px\" viewBox=\"0 -960 960 960\">\n",
       "    <path d=\"M120-120v-720h720v720H120Zm60-500h600v-160H180v160Zm220 220h160v-160H400v160Zm0 220h160v-160H400v160ZM180-400h160v-160H180v160Zm440 0h160v-160H620v160ZM180-180h160v-160H180v160Zm440 0h160v-160H620v160Z\"/>\n",
       "  </svg>\n",
       "    </button>\n",
       "\n",
       "  <style>\n",
       "    .colab-df-container {\n",
       "      display:flex;\n",
       "      gap: 12px;\n",
       "    }\n",
       "\n",
       "    .colab-df-convert {\n",
       "      background-color: #E8F0FE;\n",
       "      border: none;\n",
       "      border-radius: 50%;\n",
       "      cursor: pointer;\n",
       "      display: none;\n",
       "      fill: #1967D2;\n",
       "      height: 32px;\n",
       "      padding: 0 0 0 0;\n",
       "      width: 32px;\n",
       "    }\n",
       "\n",
       "    .colab-df-convert:hover {\n",
       "      background-color: #E2EBFA;\n",
       "      box-shadow: 0px 1px 2px rgba(60, 64, 67, 0.3), 0px 1px 3px 1px rgba(60, 64, 67, 0.15);\n",
       "      fill: #174EA6;\n",
       "    }\n",
       "\n",
       "    .colab-df-buttons div {\n",
       "      margin-bottom: 4px;\n",
       "    }\n",
       "\n",
       "    [theme=dark] .colab-df-convert {\n",
       "      background-color: #3B4455;\n",
       "      fill: #D2E3FC;\n",
       "    }\n",
       "\n",
       "    [theme=dark] .colab-df-convert:hover {\n",
       "      background-color: #434B5C;\n",
       "      box-shadow: 0px 1px 3px 1px rgba(0, 0, 0, 0.15);\n",
       "      filter: drop-shadow(0px 1px 2px rgba(0, 0, 0, 0.3));\n",
       "      fill: #FFFFFF;\n",
       "    }\n",
       "  </style>\n",
       "\n",
       "    <script>\n",
       "      const buttonEl =\n",
       "        document.querySelector('#df-701496bd-55e3-4ca1-9a1b-67367a1ee0ad button.colab-df-convert');\n",
       "      buttonEl.style.display =\n",
       "        google.colab.kernel.accessAllowed ? 'block' : 'none';\n",
       "\n",
       "      async function convertToInteractive(key) {\n",
       "        const element = document.querySelector('#df-701496bd-55e3-4ca1-9a1b-67367a1ee0ad');\n",
       "        const dataTable =\n",
       "          await google.colab.kernel.invokeFunction('convertToInteractive',\n",
       "                                                    [key], {});\n",
       "        if (!dataTable) return;\n",
       "\n",
       "        const docLinkHtml = 'Like what you see? Visit the ' +\n",
       "          '<a target=\"_blank\" href=https://colab.research.google.com/notebooks/data_table.ipynb>data table notebook</a>'\n",
       "          + ' to learn more about interactive tables.';\n",
       "        element.innerHTML = '';\n",
       "        dataTable['output_type'] = 'display_data';\n",
       "        await google.colab.output.renderOutput(dataTable, element);\n",
       "        const docLink = document.createElement('div');\n",
       "        docLink.innerHTML = docLinkHtml;\n",
       "        element.appendChild(docLink);\n",
       "      }\n",
       "    </script>\n",
       "  </div>\n",
       "\n",
       "\n",
       "<div id=\"df-47e6bda2-9a30-4f79-9539-d63ba231af3a\">\n",
       "  <button class=\"colab-df-quickchart\" onclick=\"quickchart('df-47e6bda2-9a30-4f79-9539-d63ba231af3a')\"\n",
       "            title=\"Suggest charts\"\n",
       "            style=\"display:none;\">\n",
       "\n",
       "<svg xmlns=\"http://www.w3.org/2000/svg\" height=\"24px\"viewBox=\"0 0 24 24\"\n",
       "     width=\"24px\">\n",
       "    <g>\n",
       "        <path d=\"M19 3H5c-1.1 0-2 .9-2 2v14c0 1.1.9 2 2 2h14c1.1 0 2-.9 2-2V5c0-1.1-.9-2-2-2zM9 17H7v-7h2v7zm4 0h-2V7h2v10zm4 0h-2v-4h2v4z\"/>\n",
       "    </g>\n",
       "</svg>\n",
       "  </button>\n",
       "\n",
       "<style>\n",
       "  .colab-df-quickchart {\n",
       "      --bg-color: #E8F0FE;\n",
       "      --fill-color: #1967D2;\n",
       "      --hover-bg-color: #E2EBFA;\n",
       "      --hover-fill-color: #174EA6;\n",
       "      --disabled-fill-color: #AAA;\n",
       "      --disabled-bg-color: #DDD;\n",
       "  }\n",
       "\n",
       "  [theme=dark] .colab-df-quickchart {\n",
       "      --bg-color: #3B4455;\n",
       "      --fill-color: #D2E3FC;\n",
       "      --hover-bg-color: #434B5C;\n",
       "      --hover-fill-color: #FFFFFF;\n",
       "      --disabled-bg-color: #3B4455;\n",
       "      --disabled-fill-color: #666;\n",
       "  }\n",
       "\n",
       "  .colab-df-quickchart {\n",
       "    background-color: var(--bg-color);\n",
       "    border: none;\n",
       "    border-radius: 50%;\n",
       "    cursor: pointer;\n",
       "    display: none;\n",
       "    fill: var(--fill-color);\n",
       "    height: 32px;\n",
       "    padding: 0;\n",
       "    width: 32px;\n",
       "  }\n",
       "\n",
       "  .colab-df-quickchart:hover {\n",
       "    background-color: var(--hover-bg-color);\n",
       "    box-shadow: 0 1px 2px rgba(60, 64, 67, 0.3), 0 1px 3px 1px rgba(60, 64, 67, 0.15);\n",
       "    fill: var(--button-hover-fill-color);\n",
       "  }\n",
       "\n",
       "  .colab-df-quickchart-complete:disabled,\n",
       "  .colab-df-quickchart-complete:disabled:hover {\n",
       "    background-color: var(--disabled-bg-color);\n",
       "    fill: var(--disabled-fill-color);\n",
       "    box-shadow: none;\n",
       "  }\n",
       "\n",
       "  .colab-df-spinner {\n",
       "    border: 2px solid var(--fill-color);\n",
       "    border-color: transparent;\n",
       "    border-bottom-color: var(--fill-color);\n",
       "    animation:\n",
       "      spin 1s steps(1) infinite;\n",
       "  }\n",
       "\n",
       "  @keyframes spin {\n",
       "    0% {\n",
       "      border-color: transparent;\n",
       "      border-bottom-color: var(--fill-color);\n",
       "      border-left-color: var(--fill-color);\n",
       "    }\n",
       "    20% {\n",
       "      border-color: transparent;\n",
       "      border-left-color: var(--fill-color);\n",
       "      border-top-color: var(--fill-color);\n",
       "    }\n",
       "    30% {\n",
       "      border-color: transparent;\n",
       "      border-left-color: var(--fill-color);\n",
       "      border-top-color: var(--fill-color);\n",
       "      border-right-color: var(--fill-color);\n",
       "    }\n",
       "    40% {\n",
       "      border-color: transparent;\n",
       "      border-right-color: var(--fill-color);\n",
       "      border-top-color: var(--fill-color);\n",
       "    }\n",
       "    60% {\n",
       "      border-color: transparent;\n",
       "      border-right-color: var(--fill-color);\n",
       "    }\n",
       "    80% {\n",
       "      border-color: transparent;\n",
       "      border-right-color: var(--fill-color);\n",
       "      border-bottom-color: var(--fill-color);\n",
       "    }\n",
       "    90% {\n",
       "      border-color: transparent;\n",
       "      border-bottom-color: var(--fill-color);\n",
       "    }\n",
       "  }\n",
       "</style>\n",
       "\n",
       "  <script>\n",
       "    async function quickchart(key) {\n",
       "      const quickchartButtonEl =\n",
       "        document.querySelector('#' + key + ' button');\n",
       "      quickchartButtonEl.disabled = true;  // To prevent multiple clicks.\n",
       "      quickchartButtonEl.classList.add('colab-df-spinner');\n",
       "      try {\n",
       "        const charts = await google.colab.kernel.invokeFunction(\n",
       "            'suggestCharts', [key], {});\n",
       "      } catch (error) {\n",
       "        console.error('Error during call to suggestCharts:', error);\n",
       "      }\n",
       "      quickchartButtonEl.classList.remove('colab-df-spinner');\n",
       "      quickchartButtonEl.classList.add('colab-df-quickchart-complete');\n",
       "    }\n",
       "    (() => {\n",
       "      let quickchartButtonEl =\n",
       "        document.querySelector('#df-47e6bda2-9a30-4f79-9539-d63ba231af3a button');\n",
       "      quickchartButtonEl.style.display =\n",
       "        google.colab.kernel.accessAllowed ? 'block' : 'none';\n",
       "    })();\n",
       "  </script>\n",
       "</div>\n",
       "\n",
       "  <div id=\"id_7880df91-4776-4047-be63-e2afb547ec3c\">\n",
       "    <style>\n",
       "      .colab-df-generate {\n",
       "        background-color: #E8F0FE;\n",
       "        border: none;\n",
       "        border-radius: 50%;\n",
       "        cursor: pointer;\n",
       "        display: none;\n",
       "        fill: #1967D2;\n",
       "        height: 32px;\n",
       "        padding: 0 0 0 0;\n",
       "        width: 32px;\n",
       "      }\n",
       "\n",
       "      .colab-df-generate:hover {\n",
       "        background-color: #E2EBFA;\n",
       "        box-shadow: 0px 1px 2px rgba(60, 64, 67, 0.3), 0px 1px 3px 1px rgba(60, 64, 67, 0.15);\n",
       "        fill: #174EA6;\n",
       "      }\n",
       "\n",
       "      [theme=dark] .colab-df-generate {\n",
       "        background-color: #3B4455;\n",
       "        fill: #D2E3FC;\n",
       "      }\n",
       "\n",
       "      [theme=dark] .colab-df-generate:hover {\n",
       "        background-color: #434B5C;\n",
       "        box-shadow: 0px 1px 3px 1px rgba(0, 0, 0, 0.15);\n",
       "        filter: drop-shadow(0px 1px 2px rgba(0, 0, 0, 0.3));\n",
       "        fill: #FFFFFF;\n",
       "      }\n",
       "    </style>\n",
       "    <button class=\"colab-df-generate\" onclick=\"generateWithVariable('star_1_data')\"\n",
       "            title=\"Generate code using this dataframe.\"\n",
       "            style=\"display:none;\">\n",
       "\n",
       "  <svg xmlns=\"http://www.w3.org/2000/svg\" height=\"24px\"viewBox=\"0 0 24 24\"\n",
       "       width=\"24px\">\n",
       "    <path d=\"M7,19H8.4L18.45,9,17,7.55,7,17.6ZM5,21V16.75L18.45,3.32a2,2,0,0,1,2.83,0l1.4,1.43a1.91,1.91,0,0,1,.58,1.4,1.91,1.91,0,0,1-.58,1.4L9.25,21ZM18.45,9,17,7.55Zm-12,3A5.31,5.31,0,0,0,4.9,8.1,5.31,5.31,0,0,0,1,6.5,5.31,5.31,0,0,0,4.9,4.9,5.31,5.31,0,0,0,6.5,1,5.31,5.31,0,0,0,8.1,4.9,5.31,5.31,0,0,0,12,6.5,5.46,5.46,0,0,0,6.5,12Z\"/>\n",
       "  </svg>\n",
       "    </button>\n",
       "    <script>\n",
       "      (() => {\n",
       "      const buttonEl =\n",
       "        document.querySelector('#id_7880df91-4776-4047-be63-e2afb547ec3c button.colab-df-generate');\n",
       "      buttonEl.style.display =\n",
       "        google.colab.kernel.accessAllowed ? 'block' : 'none';\n",
       "\n",
       "      buttonEl.onclick = () => {\n",
       "        google.colab.notebook.generateWithVariable('star_1_data');\n",
       "      }\n",
       "      })();\n",
       "    </script>\n",
       "  </div>\n",
       "\n",
       "    </div>\n",
       "  </div>\n"
      ],
      "text/plain": [
       "                  review_id                 user_id             business_id  \\\n",
       "5    kx6O_lyLzUnA7Xip5wh2NA  YsINprB2G1DM8qG1hbrPUg  rViAhfKLKmwbhTKROM9m0w   \n",
       "13   PKlfSydanGs_EAeRFhpxNA  YCDZfgCTE1qSby-NEVqyMg  UCMSWPqzXjd7QHq7v8PJjQ   \n",
       "18   7hytDrs927SL0zvlWmf1bw  MeZJe_a7xhDTE6J5Fud3ig  7L1kXfwU5XM6f6Jxo_L7Yg   \n",
       "20   JUHZyP20BbmuXpJl7rXx3g  YluRqSnRK2XutBJ01ajX6Q  Y3ZCO17N1_T_Ms1JmswwzA   \n",
       "22   Xu3hjf40iG1Z14ki6LmPhw  pfJGmjk8prV47Ab70EmXkA  rViAhfKLKmwbhTKROM9m0w   \n",
       "..                      ...                     ...                     ...   \n",
       "978  RITac05HQmVeDJLpn867SA  W0kWWiVWCDzgJ6spE9TTCQ  RhuYqAT45uIR2NNdDsolXQ   \n",
       "985  kBpYAZoJmohefp8_b_P6HQ  3l7OG-S-FebrbvX_d8nFfw  wa_bwyY57etHjtJ2Fw0E3g   \n",
       "987  n03u4868mduHeEHW1_k4mA  57MvUHY7nTUFwsGgmfhfuQ  rViAhfKLKmwbhTKROM9m0w   \n",
       "990  noCpw7NBdP18W6ZOflR5kQ  Mplgu3bKw0470I3U8-KYAQ  U3aNQ5DsABPYyJQolsCbJg   \n",
       "996  RhN-CYKz4aZm6VZlVtlMWA  XDmE8qlypJQ0CMpqop5jMg  UCMSWPqzXjd7QHq7v8PJjQ   \n",
       "\n",
       "     stars  useful  funny  cool  \\\n",
       "5        1       0      0     0   \n",
       "13       1       2      0     0   \n",
       "18       1       1      0     0   \n",
       "20       1       0      0     0   \n",
       "22       1       1      0     1   \n",
       "..     ...     ...    ...   ...   \n",
       "978      1       0      1     0   \n",
       "985      1       2      0     0   \n",
       "987      1       3      0     0   \n",
       "990      1       0      0     0   \n",
       "996      1       1      0     0   \n",
       "\n",
       "                                                  text             date  \\\n",
       "5    I stay at the Main Hotel at the Casino from Ju...  7/14/2020 16:43   \n",
       "13   I don't know what happened to this place but e...  1/25/2020 22:59   \n",
       "18   Very bad service call for takeout they got our...   6/18/2020 3:36   \n",
       "20   This place is not worth it. Don't go the food ...  3/15/2020 18:06   \n",
       "22   I was so looking forward to Del Sols re-openin...   6/3/2020 22:13   \n",
       "..                                                 ...              ...   \n",
       "978  Food is bland, service is terrible and you'll ...  12/16/2020 0:51   \n",
       "985  Came on a Saturday night about 7 pm.  Not busy...   1/12/2020 3:33   \n",
       "987  I've never staid at this resort and on my time...   6/4/2021 18:35   \n",
       "990  My first time at this place ,the food was tast...  2/14/2021 18:22   \n",
       "996  We are trying to support local restaurants dur...  4/12/2020 17:44   \n",
       "\n",
       "     Sentiment  \n",
       "5            0  \n",
       "13           0  \n",
       "18           0  \n",
       "20           0  \n",
       "22           0  \n",
       "..         ...  \n",
       "978          0  \n",
       "985          0  \n",
       "987          0  \n",
       "990          0  \n",
       "996          0  \n",
       "\n",
       "[132 rows x 10 columns]"
      ]
     },
     "execution_count": 35,
     "metadata": {},
     "output_type": "execute_result"
    }
   ],
   "source": [
    "# Select the Data\n",
    "star_1_data = data[data[\"stars\"]==1]\n",
    "star_1_data"
   ]
  },
  {
   "cell_type": "markdown",
   "metadata": {
    "id": "StaiyFOttrSu"
   },
   "source": [
    "### Coherence Measure\n",
    "Based on all the review data provided, calculate coherence measure and plot it (K = 2 - 30)."
   ]
  },
  {
   "cell_type": "code",
   "execution_count": null,
   "metadata": {
    "colab": {
     "base_uri": "https://localhost:8080/"
    },
    "executionInfo": {
     "elapsed": 14734,
     "status": "ok",
     "timestamp": 1706724650575,
     "user": {
      "displayName": "Homer Liu",
      "userId": "02498362625275100753"
     },
     "user_tz": 420
    },
    "id": "Xx0nTkoxj3dU",
    "outputId": "1b820f18-b642-4ad5-edfc-3daba4589c49"
   },
   "outputs": [
    {
     "name": "stderr",
     "output_type": "stream",
     "text": [
      "/usr/local/lib/python3.10/dist-packages/ipykernel/ipkernel.py:283: DeprecationWarning: `should_run_async` will not call `transform_cell` automatically in the future. Please pass the result to `transformed_cell` argument and any exception that happen during thetransform in `preprocessing_exc_tuple` in IPython 7.17 and above.\n",
      "  and should_run_async(code)\n"
     ]
    }
   ],
   "source": [
    "# TF-IDF with Data Processing\n",
    "nlp = spacy.load(\"en_core_web_lg\")\n",
    "\n",
    "documents = []\n",
    "for index, row in star_1_data.iterrows():\n",
    "    text = row[\"text\"]\n",
    "    doc = nlp(text)\n",
    "    if len(doc) <= 5: # exclude comments with five or less than five words\n",
    "        pass\n",
    "    else:\n",
    "        documents.append(text.replace(\"!\",\"\").replace(\".\",\"\").replace(\"?\",\"\").replace(\"[\",\"\").replace(\"]\",\"\").replace(\")\",\"\").replace(\"(\",\"\").replace(\"  \",\" \").replace('\\\"',\" \").replace(\"\\'\",\" \").replace(\"/\",\" \").replace(\"\\\\\",\" \"))\n",
    "\n",
    "processed_documents = [] # list for storing tokenized documents\n",
    "for document in documents:\n",
    "    temp_list = [] # list for storing tokens in a document\n",
    "    for token in nlp(document):\n",
    "        if token.is_stop is True: # check whether the provided token is a stop word and decide whether to disregard it\n",
    "            pass\n",
    "        elif not nlp.vocab.has_vector(str(token)): # check whether the provided token is in a vocabulary\n",
    "            pass\n",
    "        else:\n",
    "            temp_list.append(str(token.lemma_)) # lemmatize\n",
    "    processed_documents.append(temp_list)\n",
    "dictionary = corpora.Dictionary(processed_documents) # index words with integers\n",
    "corpus = [dictionary.doc2bow(sentence) for sentence in processed_documents] # TF representation\n",
    "tfidf = models.TfidfModel(corpus) # Fit TF-IDF\n",
    "corpus_tfidf = tfidf[corpus] # Transform \"corpus\" into TF-IDF"
   ]
  },
  {
   "cell_type": "code",
   "execution_count": null,
   "metadata": {
    "colab": {
     "base_uri": "https://localhost:8080/"
    },
    "executionInfo": {
     "elapsed": 739,
     "status": "ok",
     "timestamp": 1706724657219,
     "user": {
      "displayName": "Homer Liu",
      "userId": "02498362625275100753"
     },
     "user_tz": 420
    },
    "id": "Vdmf2KDstzQa",
    "outputId": "bade9e1e-deac-4480-9c2c-aee797c81fa9"
   },
   "outputs": [
    {
     "name": "stderr",
     "output_type": "stream",
     "text": [
      "/usr/local/lib/python3.10/dist-packages/ipykernel/ipkernel.py:283: DeprecationWarning: `should_run_async` will not call `transform_cell` automatically in the future. Please pass the result to `transformed_cell` argument and any exception that happen during thetransform in `preprocessing_exc_tuple` in IPython 7.17 and above.\n",
      "  and should_run_async(code)\n",
      "WARNING:gensim.models.ldamodel:too few updates, training might not converge; consider increasing the number of passes or iterations to improve accuracy\n"
     ]
    }
   ],
   "source": [
    "lda_model = models.ldamodel.LdaModel(corpus_tfidf, id2word=dictionary, num_topics=8) # train LDA model"
   ]
  },
  {
   "cell_type": "code",
   "execution_count": null,
   "metadata": {
    "colab": {
     "base_uri": "https://localhost:8080/"
    },
    "executionInfo": {
     "elapsed": 777,
     "status": "ok",
     "timestamp": 1706724668232,
     "user": {
      "displayName": "Homer Liu",
      "userId": "02498362625275100753"
     },
     "user_tz": 420
    },
    "id": "Us7BGodlt4So",
    "outputId": "2bcb7e0b-320a-4e76-b1a5-afd0862c2233"
   },
   "outputs": [
    {
     "name": "stderr",
     "output_type": "stream",
     "text": [
      "/usr/local/lib/python3.10/dist-packages/ipykernel/ipkernel.py:283: DeprecationWarning: `should_run_async` will not call `transform_cell` automatically in the future. Please pass the result to `transformed_cell` argument and any exception that happen during thetransform in `preprocessing_exc_tuple` in IPython 7.17 and above.\n",
      "  and should_run_async(code)\n"
     ]
    },
    {
     "name": "stdout",
     "output_type": "stream",
     "text": [
      "0.41952968430985293\n"
     ]
    }
   ],
   "source": [
    "# Coherence Measures\n",
    "from gensim.models import CoherenceModel\n",
    "coherence_model_lda = CoherenceModel(model=lda_model, texts=processed_documents, dictionary=dictionary, coherence='c_v') # by changing the values for the \"coherence\" parameter, you can use different coherence methods (e.g., 'u_mass', 'c_v', 'c_uci', 'c_npmi')\n",
    "coherence_lda = coherence_model_lda.get_coherence()\n",
    "print(coherence_lda)"
   ]
  },
  {
   "cell_type": "code",
   "execution_count": null,
   "metadata": {
    "colab": {
     "base_uri": "https://localhost:8080/"
    },
    "executionInfo": {
     "elapsed": 42060,
     "status": "ok",
     "timestamp": 1706724719485,
     "user": {
      "displayName": "Homer Liu",
      "userId": "02498362625275100753"
     },
     "user_tz": 420
    },
    "id": "1X03fRvst69_",
    "outputId": "22d5152d-fd30-481f-e937-4e6d6476f2dc"
   },
   "outputs": [
    {
     "name": "stderr",
     "output_type": "stream",
     "text": [
      "/usr/local/lib/python3.10/dist-packages/ipykernel/ipkernel.py:283: DeprecationWarning: `should_run_async` will not call `transform_cell` automatically in the future. Please pass the result to `transformed_cell` argument and any exception that happen during thetransform in `preprocessing_exc_tuple` in IPython 7.17 and above.\n",
      "  and should_run_async(code)\n",
      "WARNING:gensim.models.ldamodel:too few updates, training might not converge; consider increasing the number of passes or iterations to improve accuracy\n",
      "WARNING:gensim.models.ldamodel:too few updates, training might not converge; consider increasing the number of passes or iterations to improve accuracy\n",
      "WARNING:gensim.models.ldamodel:too few updates, training might not converge; consider increasing the number of passes or iterations to improve accuracy\n",
      "WARNING:gensim.models.ldamodel:too few updates, training might not converge; consider increasing the number of passes or iterations to improve accuracy\n",
      "WARNING:gensim.models.ldamodel:too few updates, training might not converge; consider increasing the number of passes or iterations to improve accuracy\n",
      "WARNING:gensim.models.ldamodel:too few updates, training might not converge; consider increasing the number of passes or iterations to improve accuracy\n",
      "WARNING:gensim.models.ldamodel:too few updates, training might not converge; consider increasing the number of passes or iterations to improve accuracy\n",
      "WARNING:gensim.models.ldamodel:too few updates, training might not converge; consider increasing the number of passes or iterations to improve accuracy\n",
      "WARNING:gensim.models.ldamodel:too few updates, training might not converge; consider increasing the number of passes or iterations to improve accuracy\n",
      "WARNING:gensim.models.ldamodel:too few updates, training might not converge; consider increasing the number of passes or iterations to improve accuracy\n",
      "WARNING:gensim.models.ldamodel:too few updates, training might not converge; consider increasing the number of passes or iterations to improve accuracy\n",
      "WARNING:gensim.models.ldamodel:too few updates, training might not converge; consider increasing the number of passes or iterations to improve accuracy\n",
      "WARNING:gensim.models.ldamodel:too few updates, training might not converge; consider increasing the number of passes or iterations to improve accuracy\n",
      "WARNING:gensim.models.ldamodel:too few updates, training might not converge; consider increasing the number of passes or iterations to improve accuracy\n",
      "WARNING:gensim.models.ldamodel:too few updates, training might not converge; consider increasing the number of passes or iterations to improve accuracy\n",
      "WARNING:gensim.models.ldamodel:too few updates, training might not converge; consider increasing the number of passes or iterations to improve accuracy\n",
      "WARNING:gensim.models.ldamodel:too few updates, training might not converge; consider increasing the number of passes or iterations to improve accuracy\n",
      "WARNING:gensim.models.ldamodel:too few updates, training might not converge; consider increasing the number of passes or iterations to improve accuracy\n",
      "WARNING:gensim.models.ldamodel:too few updates, training might not converge; consider increasing the number of passes or iterations to improve accuracy\n",
      "WARNING:gensim.models.ldamodel:too few updates, training might not converge; consider increasing the number of passes or iterations to improve accuracy\n",
      "WARNING:gensim.models.ldamodel:too few updates, training might not converge; consider increasing the number of passes or iterations to improve accuracy\n",
      "WARNING:gensim.models.ldamodel:too few updates, training might not converge; consider increasing the number of passes or iterations to improve accuracy\n",
      "WARNING:gensim.models.ldamodel:too few updates, training might not converge; consider increasing the number of passes or iterations to improve accuracy\n",
      "WARNING:gensim.models.ldamodel:too few updates, training might not converge; consider increasing the number of passes or iterations to improve accuracy\n",
      "WARNING:gensim.models.ldamodel:too few updates, training might not converge; consider increasing the number of passes or iterations to improve accuracy\n",
      "WARNING:gensim.models.ldamodel:too few updates, training might not converge; consider increasing the number of passes or iterations to improve accuracy\n",
      "WARNING:gensim.models.ldamodel:too few updates, training might not converge; consider increasing the number of passes or iterations to improve accuracy\n",
      "WARNING:gensim.models.ldamodel:too few updates, training might not converge; consider increasing the number of passes or iterations to improve accuracy\n",
      "WARNING:gensim.models.ldamodel:too few updates, training might not converge; consider increasing the number of passes or iterations to improve accuracy\n"
     ]
    }
   ],
   "source": [
    "# Coherence measures over different K\n",
    "num_of_topics = []\n",
    "coherence = []\n",
    "for k in range(29):\n",
    "    lda_model = models.ldamodel.LdaModel(corpus_tfidf, id2word=dictionary, num_topics=k+2) # train LDA model; k+2 because we are only intereseted when K >= 2\n",
    "    coherence_model_lda = CoherenceModel(model=lda_model, texts=processed_documents, dictionary=dictionary, coherence='c_v') # calculate coherence measures\n",
    "    coherence_lda = coherence_model_lda.get_coherence()\n",
    "    num_of_topics.append(k+2)\n",
    "    coherence.append(coherence_lda)"
   ]
  },
  {
   "cell_type": "code",
   "execution_count": null,
   "metadata": {
    "colab": {
     "base_uri": "https://localhost:8080/",
     "height": 516
    },
    "executionInfo": {
     "elapsed": 709,
     "status": "ok",
     "timestamp": 1706724729394,
     "user": {
      "displayName": "Homer Liu",
      "userId": "02498362625275100753"
     },
     "user_tz": 420
    },
    "id": "FZ3NJ5jGt9Zm",
    "outputId": "539d93f8-bbd3-4ee2-ed84-22cae13377b3"
   },
   "outputs": [
    {
     "name": "stderr",
     "output_type": "stream",
     "text": [
      "/usr/local/lib/python3.10/dist-packages/ipykernel/ipkernel.py:283: DeprecationWarning: `should_run_async` will not call `transform_cell` automatically in the future. Please pass the result to `transformed_cell` argument and any exception that happen during thetransform in `preprocessing_exc_tuple` in IPython 7.17 and above.\n",
      "  and should_run_async(code)\n",
      "<ipython-input-40-8985d06e50f9>:3: MatplotlibDeprecationWarning: The seaborn styles shipped by Matplotlib are deprecated since 3.6, as they no longer correspond to the styles shipped by seaborn. However, they will remain available as 'seaborn-v0_8-<style>'. Alternatively, directly use the seaborn API instead.\n",
      "  plt.style.use('seaborn-whitegrid')\n"
     ]
    },
    {
     "data": {
      "image/png": "[encoded data removed]",
      "text/plain": [
       "<Figure size 640x480 with 1 Axes>"
      ]
     },
     "metadata": {},
     "output_type": "display_data"
    }
   ],
   "source": [
    "# Visualizaing coherence measures over different K\n",
    "import matplotlib.pyplot as plt\n",
    "plt.style.use('seaborn-whitegrid')\n",
    "plt.plot(num_of_topics, coherence) # x-axis = K, y-axis = coherece measures\n",
    "plt.xticks(num_of_topics) # To label x-axis with K values\n",
    "plt.show()"
   ]
  },
  {
   "cell_type": "markdown",
   "metadata": {
    "id": "UY72EMUguRRv"
   },
   "source": [
    "### Selection\n",
    "Pick a K and explain reasoning behind your *choice*"
   ]
  },
  {
   "cell_type": "markdown",
   "metadata": {
    "id": "yf3-AHGzuRRv"
   },
   "source": [
    "I would like to choose **K when it equals 13** because it is a suitable number of topics and demonstrates optimal coherence performance."
   ]
  },
  {
   "cell_type": "markdown",
   "metadata": {
    "id": "PHCJXbLCud9I"
   },
   "source": [
    "### LDA Model\n",
    "Fit an LDA model of K topics with the data and visualize it using pyLDAvis."
   ]
  },
  {
   "cell_type": "code",
   "execution_count": null,
   "metadata": {
    "colab": {
     "base_uri": "https://localhost:8080/"
    },
    "executionInfo": {
     "elapsed": 511,
     "status": "ok",
     "timestamp": 1706724827878,
     "user": {
      "displayName": "Homer Liu",
      "userId": "02498362625275100753"
     },
     "user_tz": 420
    },
    "id": "IDmlZguyud9J",
    "outputId": "608ed0d4-e467-4e8a-c26b-1f52cb2bcbf2"
   },
   "outputs": [
    {
     "name": "stderr",
     "output_type": "stream",
     "text": [
      "/usr/local/lib/python3.10/dist-packages/ipykernel/ipkernel.py:283: DeprecationWarning: `should_run_async` will not call `transform_cell` automatically in the future. Please pass the result to `transformed_cell` argument and any exception that happen during thetransform in `preprocessing_exc_tuple` in IPython 7.17 and above.\n",
      "  and should_run_async(code)\n",
      "WARNING:gensim.models.ldamodel:too few updates, training might not converge; consider increasing the number of passes or iterations to improve accuracy\n"
     ]
    },
    {
     "name": "stdout",
     "output_type": "stream",
     "text": [
      "(5, '0.004*\"phone\" + 0.004*\"de\" + 0.004*\"item\" + 0.004*\"good\" + 0.003*\"order\"')\n",
      "(3, '0.004*\"chili\" + 0.003*\"wine\" + 0.003*\"July\" + 0.003*\";\" + 0.003*\"onion\"')\n",
      "(4, '0.005*\"Don\" + 0.005*\"worth\" + 0.004*\"dining\" + 0.004*\"party\" + 0.004*\"place\"')\n",
      "[(0, 0.058390332582598986), (1, 0.1764780679896287), (2, 0.2632482812792954), (3, 0.4517567689528151), (4, 0.22587838447640754), (5, 0.2632482812792954), (6, 0.4517567689528151), (7, 0.2632482812792954), (8, 0.07811047641889014), (9, 0.22587838447640754), (10, 0.22587838447640754), (11, 0.13910817118674085), (12, 0.22587838447640754), (13, 0.1764780679896287), (14, 0.20401839619089873), (15, 0.10741861429961425), (16, 0.18850848767351971)]\n",
      "(0, 0.01629622)\n",
      "(1, 0.016297113)\n",
      "(2, 0.016296053)\n",
      "(3, 0.8044413)\n",
      "(4, 0.016296208)\n",
      "(5, 0.016296124)\n",
      "(6, 0.016296433)\n",
      "(7, 0.016296472)\n",
      "(8, 0.016297596)\n",
      "(9, 0.016296094)\n",
      "(10, 0.016296044)\n",
      "(11, 0.016298374)\n",
      "(12, 0.016296035)\n",
      "I stay at the Main Hotel at the Casino from July 11 to July 13; it was the WORST experience I ve ever had For years I have supported this hotel and the casino; however, this timeit was a disaster Will I go back, hopefullly, NO :  [(0, 0.01629622), (1, 0.016297113), (2, 0.016296053), (3, 0.80444103), (4, 0.016296208), (5, 0.016296124), (6, 0.016296433), (7, 0.016296472), (8, 0.016297596), (9, 0.016296094), (10, 0.016296044), (11, 0.016298562), (12, 0.016296035)]\n"
     ]
    }
   ],
   "source": [
    "lda_model = models.ldamodel.LdaModel(corpus_tfidf, id2word=dictionary, num_topics=13) # train LDA model\n",
    "\n",
    "for topic in lda_model.show_topics(num_topics=3, num_words=5):# show 5 most important words for each topic\n",
    "    print(topic)\n",
    "\n",
    "print(corpus_tfidf[0])\n",
    "for topic_proportion in lda_model[corpus_tfidf[0]]: # show topic distribution for the first document in the corpus\n",
    "    print(topic_proportion)\n",
    "for doc, topic_dist in zip(documents, lda_model[corpus_tfidf]): # print out topic distribution for each document in the corpus\n",
    "    print(doc, \": \", topic_dist)\n",
    "    break"
   ]
  },
  {
   "cell_type": "code",
   "execution_count": null,
   "metadata": {
    "colab": {
     "base_uri": "https://localhost:8080/",
     "height": 917
    },
    "executionInfo": {
     "elapsed": 3382,
     "status": "ok",
     "timestamp": 1706724833717,
     "user": {
      "displayName": "Homer Liu",
      "userId": "02498362625275100753"
     },
     "user_tz": 420
    },
    "id": "xpVSeAVrud9K",
    "outputId": "102b7f5a-9b68-4b40-9b49-aedb51ed0687"
   },
   "outputs": [
    {
     "name": "stderr",
     "output_type": "stream",
     "text": [
      "/usr/local/lib/python3.10/dist-packages/ipykernel/ipkernel.py:283: DeprecationWarning: `should_run_async` will not call `transform_cell` automatically in the future. Please pass the result to `transformed_cell` argument and any exception that happen during thetransform in `preprocessing_exc_tuple` in IPython 7.17 and above.\n",
      "  and should_run_async(code)\n"
     ]
    },
    {
     "data": {
      "text/html": [
       "\n",
       "<link rel=\"stylesheet\" type=\"text/css\" href=\"https://cdn.jsdelivr.net/gh/bmabey/pyLDAvis@3.4.0/pyLDAvis/js/ldavis.v1.0.0.css\">\n",
       "\n",
       "\n",
       "<div id=\"ldavis_el32411391050949183048947678909\" style=\"background-color:white;\"></div>\n",
       "<script type=\"text/javascript\">\n",
       "\n",
       "var ldavis_el32411391050949183048947678909_data = {\"mdsDat\": {\"x\": [0.0502470200449754, 0.0020185533280589014, 0.004811494556177787, -0.017629068615086726, -0.01074268452572021, -0.007488956768721584, -0.017895053302000218, 0.01091112042428899, -0.0057422702939298655, -0.0005043835167873651, -0.0007614168384266818, -0.0035936789161859274, -0.0036306755766425266], \"y\": [0.01935494896737978, -0.033963330309901056, -0.02385807967224791, 0.01901420243749176, -0.008040590426390905, 0.0006406983537168943, 0.018257678877585417, -0.013519960969720711, 0.005709025914481674, 0.011991217238513116, -0.00235677313944691, 0.00822517383763851, -0.0014542111090996043], \"topics\": [1, 2, 3, 4, 5, 6, 7, 8, 9, 10, 11, 12, 13], \"cluster\": [1, 1, 1, 1, 1, 1, 1, 1, 1, 1, 1, 1, 1], \"Freq\": [10.624095708931613, 10.228319215084307, 9.160551352214776, 8.328618705077643, 8.1885536235461, 7.654998912620059, 7.452867916522762, 7.2055676609765165, 7.1942183374330755, 6.742924076842187, 6.572806898311756, 6.3537771522394895, 4.292700440199724]}, \"tinfo\": {\"Term\": [\"taco\", \"beef\", \"wing\", \"chili\", \"Don\", \"min\", \"Bell\", \"Taco\", \"seat\", \"chicken\", \"burger\", \"mexican\", \"line\", \"worth\", \"ve\", \"location\", \"cold\", \"broccoli\", \"rude\", \"dining\", \"hundred\", \"overcharge\", \"hard\", \"party\", \"ridiculous\", \"towel\", \"Paid\", \"group\", \"mask\", \"n\", \"McDonald\", \"EL\", \"absolute\", \"real\", \"pie\", \"listen\", \"Meal\", \"Happy\", \"toast\", \"scone\", \"DoorDash\", \"app\", \"chorizo\", \"favorite\", \"kid\", \"pot\", \"eye\", \"oven\", \"snap\", \"Panera\", \"consistently\", \"encounter\", \"feb\", \"cardboard\", \"exchange\", \"politely\", \"personally\", \"right\", \"humility\", \"chaotic\", \"french\", \"tasteless\", \"will\", \"breakfast\", \"rude\", \"burrito\", \"thing\", \"bad\", \"location\", \"-\", \"go\", \",\", \"like\", \"s\", \"minute\", \"t\", \"taste\", \"service\", \"don\", \"drive\", \"Pizza\", \"generally\", \"uncooked\", \"House\", \"Waffle\", \"McDonalds\", \"mezcal\", \"purse\", \"rib\", \"rice\", \"mimosa\", \"total\", \"disappoint\", \"treat\", \"dirt\", \"operate\", \"champ\", \"japanese\", \"family\", \"slop\", \"imaginable\", \"becase\", \"dine\", \"friendly\", \"acknowledge\", \"Papa\", \"Murphys\", \"overall\", \"idea\", \"department\", \"different\", \"nice\", \"owner\", \"wasn\", \"pizza\", \"win\", \"t\", \"bad\", \"eat\", \",\", \"taste\", \"great\", \"like\", \"don\", \"customer\", \"wish\", \"thick\", \"oily\", \"Potstickers\", \"kindly\", \"honestly\", \"Cristo\", \"Monte\", \"wife\", \"reservation\", \"kind\", \"ridiculous\", \"Service\", \"nonexistent\", \"subpar\", \"Wait\", \"corn\", \"excellent\", \"crowded\", \"grease\", \"packet\", \"menu\", \"stand\", \"truly\", \"french\", \"line\", \"away\", \"mom\", \"lobby\", \"mobile\", \"sit\", \"nasty\", \"pretty\", \"later\", \"dog\", \"seat\", \"say\", \",\", \"order\", \"table\", \"minute\", \"10\", \"walk\", \"t\", \"outrageous\", \"poise\", \"disappointment\", \"3000\", \"unorganized\", \"tomato\", \"bready\", \"healthy\", \"spicy\", \"salt\", \"epic\", \"panda\", \"cover\", \"NM\", \"Hatch\", \"email\", \"wedding\", \"garbage\", \"TIME\", \"wind\", \"damn\", \"pure\", \"forever\", \"delivery\", \"salad\", \"try\", \"care\", \"cheese\", \"clear\", \"30\", \"location\", \"wing\", \"refund\", \"Panda\", \"car\", \"sorry\", \"way\", \"line\", \"burger\", \"pizza\", \"wait\", \"single\", \"min\", \"chicken\", \"customer\", \"come\", \"friend\", \"time\", \"de\", \"proof\", \"ambiance\", \"invite\", \"overprice\", \"delete\", \"Yelp\", \"Place\", \"feed\", \"idiot\", \"wild\", \"Wendy\", \"annoying\", \"joint\", \"apparently\", \"crappy\", \"cheesy\", \"item\", \"strap\", \"chin\", \"mask\", \"y\", \"se\", \"week\", \"joke\", \"mother\", \"spit\", \"eventually\", \"host\", \"opportunity\", \"inform\", \"refund\", \"phone\", \"avoid\", \"wear\", \"beef\", \"employee\", \"good\", \"order\", \"food\", \"husband\", \"t\", \"pizza\", \"rude\", \"place\", \"s\", \"entree\", \"grab\", \"group\", \"bakery\", \"compromise\", \"cater\", \"certainly\", \"competitor\", \"hate\", \"speaker\", \"folks\", \"BOTHER\", \"---\", \"November\", \"dont\", \"2019\", \"MEXICAN\", \"watch\", \"pull\", \"serve\", \"sausage\", \"unapologetic\", \"microwaveable\", \"soul\", \"Couldn\", \"penny\", \"showcase\", \"Friday\", \"see\", \"night\", \"husband\", \"drive\", \"-\", \"number\", \"lady\", \":\", \",\", \"good\", \"try\", \"food\", \"bland\", \"staff\", \"sad\", \"50\", \"credit\", \"overcharge\", \"pool\", \"hungry\", \"Grubhub\", \"towel\", \"ass\", \"sick\", \"daughter\", \"paper\", \"300\", \"Maite\", \"Whataburger\", \"show\", \"tea\", \"dust\", \"spoiled\", \"San\", \"Diego\", \"heat\", \"bomb\", \"cool\", \"interrupt\", \"lazy\", \"pair\", \"lord\", \"favour\", \"bastard\", \"Wing\", \"reheated\", \"lacking\", \"wing\", \"4\", \"20\", \"machine\", \"find\", \"light\", \"min\", \"ve\", \"leave\", \"food\", \"time\", \"take\", \",\", \"chicken\", \"$\", \"waitress\", \"order\", \"Don\", \"worth\", \"dining\", \"surprise\", \"hard\", \"remain\", \"party\", \"greet\", \"quit\", \"hire\", \"overly\", \"plant\", \"gee\", \"late\", \"catch\", \"Chicken\", \"fake\", \"mailbox\", \"general\", \"attempt\", \"old\", \"catering\", \"plus\", \"orange\", \"bother\", \"hispanic\", \"BS\", \"needless\", \"end\", \"Mexican\", \"burger\", \"3rd\", \"guy\", \"breakfast\", \"place\", \"burrito\", \"ridiculous\", \"rude\", \"chicken\", \"t\", \"extremely\", \"good\", \"people\", \"table\", \"come\", \"wait\", \"takeout\", \"coupon\", \"cut\", \"poisoning\", \"play\", \"cram\", \"manage\", \"address\", \"steadily\", \"Management\", \"Poor\", \"concern\", \"cold\", \"expire\", \"honor\", \"favor\", \"send\", \"tiny\", \"ve\", \"mexican\", \"suck\", \"anymore\", \"dead\", \"hill\", \"machine\", \"peeve\", \"em\", \"eh\", \"pet\", \"2nd\", \"meal\", \"5\", \"stop\", \"avoid\", \"forget\", \",\", \"pay\", \"want\", \"food\", \"service\", \"bring\", \"bad\", \"time\", \"wait\", \"pizza\", \"place\", \"restaurant\", \"broccoli\", \"beef\", \"soup\", \"Grease\", \"sock\", \"pit\", \"chip\", \"lock\", \"3:30\", \"23\", \"humus\", \"dishwasher\", \"platter\", \"Fr\", \"you\", \"Tio\", \"Wills\", \"shredded\", \"spot\", \"pineapple\", \"jalape\\u00f1o\", \"sauced\", \"overcook\", \"boneless\", \"closed\", \"valley\", \"34\", \"e\", \"Chimichanga\", \"advantage\", \"deliver\", \"poor\", \"wing\", \"door\", \"girl\", \"d\", \"chicken\", \"-\", \"home\", \"answer\", \"terrible\", \"Bell\", \"Taco\", \"seat\", \"order\", \"say\", \"taco\", \"bbq\", \"PP\", \"shrimp\", \"Taco\", \"Bell\", \"impress\", \"rely\", \"impressed\", \"yelp\", \"b\", \"condiment\", \"pork\", \"89\", \"pickup\", \"blonde\", \"8\", \"team\", \"style\", \"Tuesday\", \"confusion\", \"communicate\", \"shocked\", \"season\", \"burritos\", \"cabbage\", \"Def\", \"btw\", \"rectify\", \"wonder\", \"meat\", \"server\", \"sandwich\", \"sauce\", \"usually\", \"not\", \"come\", \"5\", \"restaurant\", \"price\", \"burger\", \"burrito\", \"$\", \"20\", \"taste\", \"charge\", \"minute\", \"wine\", \"chili\", \";\", \"July\", \"ketchup\", \"con\", \"onion\", \"Main\", \"13\", \"Hotel\", \"appetizer\", \"growler\", \"Grant\", \"Brewing\", \"amazing\", \"credit\", \"repeat\", \"learn\", \"Casino\", \"Saturday\", \"carne\", \"month\", \"house\", \"casino\", \"today\", \"lunch\", \"Wen\", \"11:45\", \"xtra\", \"speechless\", \"hotel\", \"disaster\", \"cheese\", \"small\", \"card\", \"fry\", \"location\", \"come\", \"order\", \"charge\", \"teriyaki\", \",\", \"hundred\", \"Paid\", \"n\", \"squeeze\", \"Fresh\", \"simple\", \"mistake\", \"Blake\", \"MEAL\", \"compliment\", \"Incompetence\", \"2:30pm\", \"12:10\", \"choose\", \"40min\", \"till\", \"box\", \"bland\", \"mexican\", \"chili\", \"Doordash\", \"midnight\", \"unremarkable\", \"Didn\", \"occurence\", \"fairly\", \"gastrointestinal\", \"state\", \"certain\", \"common\", \"min\", \"Won\", \"orange\", \"hour\", \"turn\", \"well\", \"seat\", \"wait\", \"ll\", \"Tucson\", \"tell\", \"horrible\", \"fry\", \"order\", \",\"], \"Freq\": [0.0, 0.0, 0.0, 0.0, 0.0, 0.0, 0.0, 0.0, 0.0, 0.0, 0.0, 0.0, 0.0, 0.0, 0.0, 1.0, 0.0, 0.0, 0.0, 0.0, 0.0, 0.0, 0.0, 0.0, 0.0, 0.0, 0.0, 0.0, 0.0, 0.0, 0.2668747617534786, 0.23291000629541275, 0.21636354624587584, 0.21049253510180238, 0.1862331593585509, 0.18268327609360785, 0.17974395561548734, 0.17973627730875094, 0.22057397403328136, 0.16522450388493587, 0.16319731775253127, 0.15729717753742833, 0.1533719463094973, 0.16846676993473414, 0.20706337098361188, 0.1636962945364035, 0.16266416846246798, 0.13648807721467837, 0.1364821123827084, 0.13447797733536931, 0.15810137913771483, 0.13020728696372524, 0.1302003037458092, 0.12959652211619913, 0.12958384078644183, 0.1295833315934688, 0.12957924996725628, 0.24643679036622568, 0.12580286473601748, 0.125799179148784, 0.20187023308794072, 0.1608516839512695, 0.17277632062089254, 0.19790905121962704, 0.2540521511522472, 0.19628188062090463, 0.18440109920638867, 0.24507792405215764, 0.23496179533908643, 0.20559063942185707, 0.21279473393422052, 0.25506357004527885, 0.20649792431068684, 0.21503359885970558, 0.21907864400243707, 0.23045071738959594, 0.194840007769802, 0.19930365803094596, 0.18138206982191615, 0.17306449151392386, 0.21636111261060892, 0.19850570180101382, 0.19848971893751205, 0.18694112739051416, 0.18693202322776, 0.2499103881145577, 0.18324609788869878, 0.1832354530214785, 0.16244876637045108, 0.20607779737171408, 0.1536356411336495, 0.15113685192971912, 0.15113087586391125, 0.13690550484047095, 0.13689654074175914, 0.1368938017115972, 0.13688331247109067, 0.13028012547617002, 0.1302726943005886, 0.13026514640497192, 0.1296469970979702, 0.12963530953176783, 0.1260624781255863, 0.12492960902553892, 0.12492896317467686, 0.12492434106127859, 0.12492065270816279, 0.15986357321504854, 0.1215396934773595, 0.12153746023401724, 0.1654734182401314, 0.16227395088289948, 0.1906498364804679, 0.19457232998709542, 0.19136783588700948, 0.15490087075373843, 0.21437106713391635, 0.1946520731152192, 0.1544171984900852, 0.16680552065911725, 0.1466083635624335, 0.14071983778104455, 0.14248223250086853, 0.1397678536103849, 0.13873092837936232, 0.2164280056119961, 0.1627360126247729, 0.1627335734690056, 0.16273082767651326, 0.16117771266421604, 0.17358348190531214, 0.15633559820117116, 0.15633339599196408, 0.18010354040380902, 0.15037552805275115, 0.1472345365739642, 0.22013975954033496, 0.14595537359941896, 0.14594984020033538, 0.14593806256248748, 0.14592797142662728, 0.18702893083870198, 0.13811560638850756, 0.1381112159081264, 0.1329647226813864, 0.1260188712141139, 0.15804707714391547, 0.15882166938741726, 0.1153789253062579, 0.1865960712872176, 0.23769288616621437, 0.16732425975555557, 0.12204851102230771, 0.11032985196086449, 0.1097680586355198, 0.18939303029854934, 0.14318262495133194, 0.14225276302069928, 0.16299815914861107, 0.1602246717847774, 0.15966715046653376, 0.1833279370718052, 0.18629381110453183, 0.1752626803637302, 0.15784938008446628, 0.15863745040583663, 0.14953209586447921, 0.14794172449009035, 0.14798769212277954, 0.18564398106294663, 0.18045701153264965, 0.20109573111320667, 0.16613787955117446, 0.16489277014675216, 0.14587418177830633, 0.12338998081985676, 0.12338802929730544, 0.12337607938973462, 0.12336955319418959, 0.12137327234642148, 0.1213731076075048, 0.1185551470600558, 0.11355447190006476, 0.11354963111035951, 0.11343986430295933, 0.11343222295167067, 0.108954543163212, 0.10895213544058374, 0.10894686379525027, 0.10894577398395537, 0.10894197231664758, 0.12979317975526125, 0.1777485390036649, 0.12392474868781893, 0.29054001627505666, 0.16376651353459565, 0.15777243736263094, 0.12015488866317292, 0.1492319537390125, 0.25756067910224084, 0.18406135963493891, 0.1552293627059837, 0.13306726434629865, 0.1324382911624495, 0.12761730814387323, 0.14938347552567655, 0.16091011813066491, 0.14427798839800982, 0.17291947110594744, 0.17242785216192866, 0.13172960968738043, 0.13380002304765037, 0.14081189426348042, 0.13862196915527797, 0.13923934725383835, 0.1286818763678487, 0.1367439961941282, 0.20026799421781566, 0.17013269281855625, 0.14333435261707445, 0.14332316433498968, 0.14330867438836992, 0.1367358452231439, 0.13671907525912821, 0.13196963705504125, 0.13196627309494896, 0.13196024288500574, 0.13195027559584338, 0.14266432652135777, 0.12656663124146697, 0.12656622009078902, 0.12604241412708414, 0.12491614782907194, 0.12490766317417248, 0.19576381362268, 0.12303666594817171, 0.12303347641563976, 0.166227508924744, 0.11169247054270154, 0.11169188496446325, 0.1412186958194721, 0.12059936472930007, 0.10512782701370012, 0.10511704988229331, 0.09787114213904465, 0.0978704008219132, 0.09786805227940432, 0.1118779493349016, 0.17805785885910821, 0.21354859718441457, 0.1453385751218416, 0.1304394089863901, 0.15020490470958012, 0.15176674154398742, 0.19357028737849674, 0.1865541630277748, 0.16818899667722753, 0.1284028177100682, 0.14427143976678508, 0.13508674477212015, 0.13399862827337686, 0.13415050484198832, 0.13153562390757778, 0.19998889215659232, 0.17736635464843442, 0.20793572380795464, 0.1707565973101669, 0.13048213277087267, 0.15448790281492555, 0.13492826563681853, 0.11374401741933145, 0.14968521136341761, 0.1081716378938125, 0.0993582476312125, 0.09935527757145624, 0.0993528199925991, 0.09935234245357946, 0.09935015276246505, 0.09934910450608049, 0.09934806789698908, 0.10852215153422361, 0.13338265818695494, 0.14480472764088204, 0.09790707643430475, 0.09790319788568187, 0.09790268540478275, 0.09789820119691546, 0.0965490136989324, 0.09654790138243545, 0.09654347541103397, 0.0954830417814716, 0.1399533505039578, 0.14475759104545627, 0.1273253086687651, 0.19055820700371023, 0.1403974035557513, 0.10615553803667813, 0.11009247454017654, 0.10274721393332785, 0.13103543743252383, 0.12049580185041393, 0.11799327608896344, 0.12175509553977425, 0.10189215120044087, 0.10216161132773904, 0.10185603294434614, 0.0997736716364143, 0.09978752026798368, 0.20594403904878153, 0.16962861829911033, 0.16629641147937554, 0.16629548162026547, 0.1863187955430638, 0.14915069398943978, 0.13191965625628063, 0.12135372388705093, 0.13224577598978168, 0.1137329161336178, 0.11373136258851924, 0.11372175782429672, 0.14327501633048648, 0.11042790202298056, 0.11041215111683525, 0.1057213747782776, 0.10571655538654846, 0.10571587500183377, 0.10571541007227872, 0.10571241637953405, 0.10299347432239431, 0.10082299038377442, 0.09829076857183891, 0.09828977067425736, 0.09828737798801065, 0.09828717387259625, 0.09828473582736857, 0.09828399874392765, 0.0982829781668556, 0.09828080093576856, 0.19149706752970416, 0.12495500018195914, 0.14918326173778343, 0.11336361465022378, 0.12993480394732143, 0.10634591124764617, 0.11691090241802052, 0.12982658875844838, 0.12046894026430953, 0.13473800252023804, 0.12365082742107653, 0.11424518912506083, 0.12143244439854174, 0.11437252312441698, 0.11180354919814242, 0.1087616285169345, 0.10911591617762414, 0.24180490146147662, 0.2135604126648238, 0.20089902885658947, 0.1709177069766455, 0.18953609277835454, 0.16246605485415777, 0.1995714621474888, 0.13534346901323197, 0.13421938432676658, 0.1342070175314254, 0.12961168960547906, 0.12767609975557392, 0.12766898446286432, 0.12766619974121832, 0.1276656844580791, 0.1478187369369697, 0.11198866637667068, 0.11198752617568178, 0.11197904044909127, 0.10879496340674862, 0.17988528908314153, 0.09831889539193164, 0.09831372063359738, 0.11426099923978937, 0.09912446931753491, 0.08941017067975227, 0.08940965539661305, 0.0894002268115125, 0.10883175681558288, 0.09912431582894024, 0.1512286505194128, 0.10882468537675746, 0.11595930668582083, 0.13204605160720376, 0.19236754073793633, 0.13856535906721626, 0.12450515695154575, 0.1374683541542374, 0.1357469576381806, 0.1587198806512272, 0.12971817779976014, 0.13530871481001244, 0.12906166322651408, 0.12522200350596435, 0.12568464005721242, 0.12473639848287246, 0.17349474101760257, 0.1696175631696876, 0.1608480566320646, 0.15171997438519577, 0.1315415143902741, 0.12463501871981367, 0.11794841036992622, 0.10243957857003627, 0.10243729081366432, 0.10243685296555485, 0.10243283570915052, 0.10243216799078358, 0.18455032915815806, 0.11674907872088697, 0.09548244576571628, 0.1294669462628211, 0.12237315011733454, 0.1099792792302013, 0.24475591100067184, 0.12945736833542656, 0.13608777888046425, 0.09092136559012212, 0.09090831224335871, 0.09092823433233935, 0.1067403197328443, 0.07840917172450751, 0.07840403248232267, 0.07840362199972004, 0.0784016078984165, 0.07839007607383348, 0.14524007412778644, 0.12146872011622227, 0.12164093672387732, 0.11487110439458345, 0.12336564231946284, 0.21553659904848937, 0.11430690426693044, 0.1383036405928414, 0.16585916256766758, 0.14603286380718808, 0.1203853087541637, 0.14032087251036005, 0.13034050797221614, 0.1272088212616779, 0.12328500164390226, 0.12224098566549274, 0.11501944733406998, 0.1897182524887423, 0.24512889085831138, 0.14605126500785287, 0.13203521701560278, 0.1320287432420754, 0.13202582953101077, 0.12537021581028784, 0.11432481936297108, 0.11432304446151269, 0.11129025084644413, 0.11128748076902353, 0.11128454653886691, 0.11127097315950601, 0.10500618658419042, 0.1050060737291844, 0.10080039855559979, 0.10079559708807076, 0.100792016506516, 0.12316139711329295, 0.08668372493616022, 0.08668070862963559, 0.08668065733190557, 0.08667397836745815, 0.0866728087792139, 0.1009787402437558, 0.08363910206455114, 0.08363485974227923, 0.08363398768086905, 0.0836313817561845, 0.08363070462614836, 0.10239588107349193, 0.10689320436128072, 0.1537824279741691, 0.1334045381014227, 0.09712231027563165, 0.11442272621046995, 0.1550535857238401, 0.14487664958606247, 0.110107581681042, 0.10926059460128543, 0.12249812772379755, 0.1068996986539001, 0.1068884234128437, 0.10562017937423732, 0.11015231330161153, 0.10662664083705188, 0.29091703537327857, 0.1492119534098538, 0.12202064841059869, 0.14390870796838362, 0.17497692743248908, 0.1749750072965537, 0.08657581910587754, 0.08657397897560613, 0.08656842858266794, 0.08656533836389695, 0.08656434829380527, 0.08462232080862526, 0.084613930214616, 0.08461324016576423, 0.08094172524210505, 0.0780266588709657, 0.07802648385857576, 0.07802285860192694, 0.078022648587059, 0.0780220585452872, 0.07802105847448752, 0.07801548307977933, 0.07710773881633075, 0.07496954744379458, 0.0749676473092752, 0.0749670022636094, 0.07496339700837658, 0.07330703974712362, 0.0733034044897668, 0.07330260443312706, 0.1397537138169758, 0.11318449285795025, 0.08940285924522953, 0.11415241138141526, 0.09778913294864437, 0.10426911169655159, 0.1176602297162297, 0.09274545588322974, 0.10606436879117136, 0.0961773188408089, 0.09368542242784385, 0.09368524241509991, 0.09595036277353076, 0.09251489956107278, 0.09484827475158142, 0.08828822033474427, 0.09310270117428948, 0.137134473000307, 0.17078428851508243, 0.1360665583389627, 0.13607914535647114, 0.10406917073637306, 0.10406365062347189, 0.12915971767092468, 0.08755505210253488, 0.08755336029910633, 0.0875458100220909, 0.11074457269538486, 0.08442270222318692, 0.08442021768900898, 0.08441860322516573, 0.08441371149639516, 0.11992981821162194, 0.08305330819087421, 0.08305998839755496, 0.07794059605647358, 0.09407868479283311, 0.08511926119823947, 0.07545379002822113, 0.07524953134970565, 0.07793619253383526, 0.10424241140745703, 0.07637108101345921, 0.06194422244273792, 0.061943096185026914, 0.06194228411938121, 0.06194137054552979, 0.07793969215007032, 0.0779356318218418, 0.10183077945612137, 0.09317811365919322, 0.12014988800160828, 0.1067000507446012, 0.09174746667531869, 0.08808166700632712, 0.08872000860854108, 0.08001916508369178, 0.07907501309373233, 0.08123568292447624, 0.10499089327604035, 0.10211742847744815, 0.10021962052608605, 0.07469060140992291, 0.07468530439360789, 0.08467432109480523, 0.07729551205336803, 0.058408761983807206, 0.05840779532731569, 0.058406469440371235, 0.05840502598709674, 0.05746004088908401, 0.057455893410218374, 0.05745509657175915, 0.057453855593830844, 0.05745215088204513, 0.06617293386075848, 0.0793543924083608, 0.0846796311740458, 0.0824452112253635, 0.05120643633243133, 0.051205548053493186, 0.05120552519337345, 0.05120541089277479, 0.051205247606205276, 0.051204943893185986, 0.051202873419484554, 0.051202589300853606, 0.051202354168193506, 0.05120207984675672, 0.10222505392114573, 0.06119231466576262, 0.06617403114650562, 0.09548451901701033, 0.06118861785782884, 0.07921921072319216, 0.0759369220747782, 0.10230968208439306, 0.06900124665714888, 0.0665342021300752, 0.07330717227837871, 0.06379673544949921, 0.06277626623613188, 0.06483228581042677, 0.05966275711742962], \"Total\": [0.0, 0.0, 0.0, 0.0, 0.0, 0.0, 0.0, 0.0, 0.0, 0.0, 0.0, 0.0, 0.0, 0.0, 0.0, 1.0, 0.0, 0.0, 0.0, 0.0, 0.0, 0.0, 0.0, 0.0, 0.0, 0.0, 0.0, 0.0, 0.0, 0.0, 0.559246291515601, 0.4925501845982794, 0.47600382311409767, 0.47013244755866496, 0.44587302929883255, 0.442323091946795, 0.43938384557810983, 0.4393762374967103, 0.5553592456829615, 0.4248641455274944, 0.4228370004833576, 0.41693688178639066, 0.4130116258138346, 0.46429459950675234, 0.5758460156331043, 0.4641749218533501, 0.47023051604794824, 0.39612764927369404, 0.39612170946661335, 0.39411757294072913, 0.46438531540819067, 0.3898469955834443, 0.3898401041855559, 0.38923610464533637, 0.3892234920815009, 0.3892229862350771, 0.3892189778228644, 0.750315674177479, 0.38544248921589175, 0.3854388429522383, 0.6231480966966604, 0.5019210526329976, 0.5420564834566035, 0.6320069925042681, 0.8793034387628978, 0.7153177225814124, 0.6945058417665201, 1.15780218953838, 1.0841824574623564, 0.901987041582437, 1.0007012563830453, 1.6068186840697596, 0.9420338359105237, 1.109426041966796, 1.1744070390266879, 1.4501161310778086, 0.8786537891889827, 1.1897987035526563, 0.7851381361342177, 0.8942095936854527, 0.4767606126945942, 0.4589056956437518, 0.4588898506494976, 0.44734040494391514, 0.44733131550880556, 0.6014771774412201, 0.4436455378238045, 0.4436349261577571, 0.42284803174614144, 0.5403251359842542, 0.41403495957675623, 0.41153612410238627, 0.4115301874039286, 0.397304828466133, 0.3972959861451996, 0.3972932526407115, 0.39728288295916037, 0.3906793593784122, 0.39067197099109635, 0.39066446900127455, 0.3900462606434562, 0.39003472018551144, 0.3864616703485964, 0.3853288960865192, 0.38532825583434, 0.3853236702203469, 0.3853199929494568, 0.5016703186689935, 0.3819389484883622, 0.38193676170191526, 0.5232825432769069, 0.5268903195975442, 0.7014878862829069, 0.757258858594512, 0.9627580787504723, 0.6229998875667173, 1.4501161310778086, 1.15780218953838, 0.7340425834464093, 1.6068186840697596, 0.8786537891889827, 0.6695233793790274, 0.9420338359105237, 0.7851381361342177, 0.9328470592783205, 0.47859365372134255, 0.42490155348487374, 0.42489913966223725, 0.4248963424399385, 0.4233431447902372, 0.46421130788795123, 0.4185007785653057, 0.4184985645554177, 0.4866962565426929, 0.41254061482828575, 0.40939977565467095, 0.6137588205842247, 0.4081205730215346, 0.40811511235810055, 0.4081034486682245, 0.4080934704853847, 0.5350145059819269, 0.4002807741750443, 0.4002764076243445, 0.3951297328992223, 0.3881839587521639, 0.5102179383440439, 0.51862392641466, 0.3775440334566089, 0.6231480966966604, 0.7965249046394105, 0.5609117724031448, 0.4117060312003305, 0.3724948891961059, 0.3719330612597349, 0.6449220361042841, 0.4987158352933251, 0.5232064116003832, 0.6526023532490245, 0.6359033507773274, 0.6500799726230085, 1.023888058632653, 1.6068186840697596, 1.3891991013127383, 0.8449353181051369, 1.1744070390266879, 0.677686467239283, 0.6046112911839621, 1.4501161310778086, 0.4493994129301486, 0.4442124456648552, 0.5040094945064706, 0.4298929378214153, 0.4286482397798037, 0.44125320422904135, 0.3871448564796542, 0.3871429405468346, 0.3871311287943504, 0.38712473117944546, 0.38512825359729613, 0.38512806884108247, 0.38230995291931125, 0.37730926160072176, 0.37730446553388014, 0.37719455868248314, 0.3771869611136784, 0.37270935255472654, 0.3727069885807082, 0.372701743204942, 0.37270066012092684, 0.3726968937033249, 0.44759826786439594, 0.6146787596783045, 0.4451025847108213, 1.0488068725823456, 0.5942576217909012, 0.5963872529716251, 0.4545925966988851, 0.5647295270072691, 1.0841824574623564, 0.7512765738378376, 0.6781289749167243, 0.5237661533628248, 0.528161170838896, 0.5044662857902668, 0.6843042883661825, 0.7965249046394105, 0.6408089965984334, 0.9627580787504723, 1.115653548637383, 0.5694447872770897, 0.6478600137174195, 0.8732796285069632, 0.9328470592783205, 1.1185582965977756, 0.5834028140574493, 1.1749557991741908, 0.4642636636809109, 0.43412847756555417, 0.4073300044777746, 0.40731893094600663, 0.4073045933405085, 0.4007315230394272, 0.40071492937213343, 0.3959652839243443, 0.3959619406052277, 0.395956000971365, 0.3959460960662691, 0.43828753613783633, 0.39056219705606293, 0.39056177925578717, 0.3900379867435678, 0.38891173749408103, 0.38890339554214903, 0.6143432868491696, 0.3870321953610405, 0.38702903388015464, 0.536463651302993, 0.3756879409425244, 0.37568736351970594, 0.4824947909898215, 0.41208498882214895, 0.3691231824765657, 0.3691125038530733, 0.36186654724458006, 0.3618658161204404, 0.36186346796981045, 0.4152664456684492, 0.6781289749167243, 0.8357961349723115, 0.5773712170141535, 0.5070327141700947, 0.6390094768300258, 0.6690774448583104, 1.086986791106538, 1.3891991013127383, 1.384056227337123, 0.5244312639416037, 1.4501161310778086, 0.9627580787504723, 0.8793034387628978, 1.1814558461088551, 1.109426041966796, 0.4647713770590869, 0.44214883730505505, 0.5265200137189938, 0.43553934037375325, 0.3952648513420399, 0.4965452239051359, 0.43377902868229135, 0.3785262681378899, 0.5119459083827821, 0.372953857759187, 0.36414053489379755, 0.36413758908464483, 0.36413514435769134, 0.3641346754689723, 0.36413251795776624, 0.3641314656985463, 0.36413044760725666, 0.3983348619551274, 0.4896684145391752, 0.5334819769083483, 0.3626892902310207, 0.3626854487011576, 0.36268494109298705, 0.3626805091539053, 0.3613313919185637, 0.3613302677761441, 0.3613258942510347, 0.3602651898150213, 0.5300101270914956, 0.5491433149889877, 0.5244312639416037, 0.8942095936854527, 0.901987041582437, 0.46002538458240333, 0.5917130283085911, 0.44922132488961214, 1.6068186840697596, 1.086986791106538, 1.0488068725823456, 1.384056227337123, 0.47676804666209954, 0.6895505795069466, 0.676868322702748, 0.4606171347659345, 0.5591070143003533, 0.471569812956317, 0.4352538864512638, 0.4319220632987865, 0.4319211028966988, 0.5143172637524651, 0.414775691618317, 0.39754464331613704, 0.38697864497286455, 0.4323957739113116, 0.3793579360479134, 0.3793564483450614, 0.37934699905194735, 0.4845315825340743, 0.3760527205415085, 0.37603705611184207, 0.3713463801036984, 0.37134162403374926, 0.37134094280405155, 0.3713404792382601, 0.3713375442219875, 0.3686182677981365, 0.3664479859559593, 0.3639156549696201, 0.36391466369175296, 0.36391229202285247, 0.36391208674954495, 0.3639096827384106, 0.36390896781897103, 0.36390794108051644, 0.3639057978604076, 0.7512765738378376, 0.521338489032428, 0.7410948835614484, 0.46437455139537137, 0.6645315215206881, 0.44481957821962503, 0.6478600137174195, 0.9690943637074861, 0.7491654953817577, 1.384056227337123, 1.1749557991741908, 0.74606431073131, 1.6068186840697596, 0.8732796285069632, 0.857160179294054, 0.6211196074119488, 1.3891991013127383, 0.5386916112628666, 0.5042926528121788, 0.5025906779252528, 0.4366186589561462, 0.4978171676530242, 0.4281669014299054, 0.5848974865887272, 0.401043876244468, 0.3999200156253618, 0.39990787249126003, 0.3953123056360204, 0.3933767793091847, 0.39336979938619776, 0.3933669882380418, 0.39336653773727676, 0.47793939950478703, 0.37768911975145714, 0.3776879763639883, 0.37767957761592724, 0.37449552534427083, 0.6312236704883747, 0.3640192936173007, 0.36401416584846663, 0.43144156549347745, 0.3925452173839734, 0.3551105669905505, 0.3551100542223943, 0.35510074861207125, 0.43446703367777045, 0.4119745346652302, 0.6408089965984334, 0.464570982643097, 0.5180912333194794, 0.6320069925042681, 1.1814558461088551, 0.7153177225814124, 0.6137588205842247, 0.8793034387628978, 0.8732796285069632, 1.4501161310778086, 0.7578129077964226, 1.086986791106538, 0.9346950672213282, 0.8449353181051369, 1.1185582965977756, 1.115653548637383, 0.43926484428543483, 0.4353869543461769, 0.426617993153499, 0.41748960286225995, 0.39731070037251376, 0.39040436935313416, 0.3837176830320932, 0.3682087996868764, 0.36820653075419385, 0.3682060986584321, 0.36820214812332697, 0.36820146416284516, 0.6821510643286639, 0.4369715237144779, 0.36125164072091204, 0.49677097791998653, 0.47681584350566747, 0.431236866212874, 0.9690943637074861, 0.5142761614275668, 0.5542918242042071, 0.3783615830136301, 0.3929953004375899, 0.39531449978604677, 0.46437455139537137, 0.3441782878143655, 0.3441731836672299, 0.34417280545741047, 0.3441707753902881, 0.3441593520178184, 0.6693891831432349, 0.5983549005320852, 0.6212958273380065, 0.5773712170141535, 0.6399445176292424, 1.6068186840697596, 0.5837520255540406, 0.845413543527593, 1.384056227337123, 1.1897987035526563, 0.6790787789588415, 1.15780218953838, 1.1749557991741908, 1.115653548637383, 0.9627580787504723, 1.1814558461088551, 0.909814860436292, 0.4565214523959272, 0.6390094768300258, 0.41285404727442504, 0.3988379561318598, 0.39883159260860607, 0.398828643235199, 0.3921728164474078, 0.3811274544158603, 0.3811256978879367, 0.3780927627447861, 0.3780900355470968, 0.37808716471559173, 0.37807370486865916, 0.3718090656766118, 0.371808973293367, 0.36760279288525466, 0.36759804112826944, 0.3675944751009189, 0.4761044874388996, 0.353486127964108, 0.3534831386072988, 0.3534831212747267, 0.3534764915281113, 0.3534753404045025, 0.4145421956215602, 0.3504413941410495, 0.35043720988125604, 0.35043633655507606, 0.3504337429048477, 0.350433077716558, 0.44072478939055515, 0.47209806089098, 0.7512765738378376, 0.6303037296094335, 0.42659590733703484, 0.5451992747634236, 0.8732796285069632, 0.901987041582437, 0.552965915313744, 0.5506928006638456, 0.7244422697356504, 0.6517166659716598, 0.6517102635908836, 0.6500799726230085, 1.3891991013127383, 1.023888058632653, 0.6203908196254534, 0.41631600537177244, 0.3891246635437194, 0.47261209250505426, 0.6517102635908836, 0.6517166659716598, 0.3536795489976596, 0.3536777440623621, 0.3536722489421575, 0.35366918929774993, 0.3536682278860219, 0.35172604250808354, 0.35171773070805185, 0.3517170575059552, 0.34804547304095285, 0.3451303794930183, 0.3451302133603059, 0.34512660945597545, 0.34512640029678, 0.3451258333056289, 0.3451248229954215, 0.34511932099168385, 0.3442114824485641, 0.3420733187615084, 0.34207143299334497, 0.3420707891688423, 0.3420672200631209, 0.340410740160688, 0.3404071312088271, 0.3404063467209614, 0.6846445201543216, 0.5978017971447462, 0.44507910196792216, 0.7042638712631002, 0.5394716856476252, 0.6663144784208063, 1.1185582965977756, 0.5983549005320852, 0.909814860436292, 0.6742490014229788, 0.6408089965984334, 0.7153177225814124, 0.857160179294054, 0.7410948835614484, 0.8786537891889827, 0.7114142697119429, 1.1744070390266879, 0.4044528709773705, 0.5058544708470408, 0.4250570352121646, 0.4420389624951111, 0.37138753905500466, 0.3713821038032719, 0.4837349600751314, 0.3548734432923917, 0.3548718021800327, 0.35486435014361417, 0.4557165449308065, 0.3517408694956074, 0.3517384195150254, 0.3517368115832801, 0.35173196046243593, 0.5591070143003533, 0.38719587067144845, 0.39182891923060625, 0.3770351709761037, 0.45902174675963087, 0.41716686190552804, 0.3776486921522603, 0.38720422190464343, 0.4082880991136244, 0.5513673733399193, 0.40577758875133796, 0.32926236683935306, 0.3292612399923136, 0.3292604559153609, 0.32925955102201815, 0.4185081183031648, 0.42295785384831147, 0.5963872529716251, 0.5467103662168817, 0.7625885698757391, 0.7181552377246511, 1.0841824574623564, 1.1185582965977756, 1.3891991013127383, 0.7114142697119429, 0.559279843965706, 1.6068186840697596, 0.37742089510825333, 0.37454729021340266, 0.3726494083644214, 0.34712025585849965, 0.3471150062852963, 0.46225930160304113, 0.4375119012435437, 0.33083833731787693, 0.3308373738133571, 0.33083606681829414, 0.3308346553468839, 0.3298895613304536, 0.3298854809106374, 0.32988470740873277, 0.32988349298271513, 0.32988180686590846, 0.3819473988858133, 0.47676804666209954, 0.5142761614275668, 0.5058544708470408, 0.3236358945272805, 0.3236350212799253, 0.3236350100853718, 0.323634884137652, 0.32363471888512196, 0.32363441824104344, 0.32363236507356063, 0.3236321006074891, 0.3236318743422031, 0.3236315976610005, 0.6478600137174195, 0.3917160268785701, 0.43144156549347745, 0.7151110149921462, 0.4283326978090304, 0.6483414570780264, 0.6500799726230085, 1.115653548637383, 0.576659910658413, 0.553488097452206, 0.9075257238121964, 0.7312588284282819, 0.7181552377246511, 1.3891991013127383, 1.6068186840697596], \"Category\": [\"Default\", \"Default\", \"Default\", \"Default\", \"Default\", \"Default\", \"Default\", \"Default\", \"Default\", \"Default\", \"Default\", \"Default\", \"Default\", \"Default\", \"Default\", \"Default\", \"Default\", \"Default\", \"Default\", \"Default\", \"Default\", \"Default\", \"Default\", \"Default\", \"Default\", \"Default\", \"Default\", \"Default\", \"Default\", \"Default\", \"Topic1\", \"Topic1\", \"Topic1\", \"Topic1\", \"Topic1\", \"Topic1\", \"Topic1\", \"Topic1\", \"Topic1\", \"Topic1\", \"Topic1\", \"Topic1\", \"Topic1\", \"Topic1\", \"Topic1\", \"Topic1\", \"Topic1\", \"Topic1\", \"Topic1\", \"Topic1\", \"Topic1\", \"Topic1\", \"Topic1\", \"Topic1\", \"Topic1\", \"Topic1\", \"Topic1\", \"Topic1\", \"Topic1\", \"Topic1\", \"Topic1\", \"Topic1\", \"Topic1\", \"Topic1\", \"Topic1\", \"Topic1\", \"Topic1\", \"Topic1\", \"Topic1\", \"Topic1\", \"Topic1\", \"Topic1\", \"Topic1\", \"Topic1\", \"Topic1\", \"Topic1\", \"Topic1\", \"Topic1\", \"Topic1\", \"Topic1\", \"Topic2\", \"Topic2\", \"Topic2\", \"Topic2\", \"Topic2\", \"Topic2\", \"Topic2\", \"Topic2\", \"Topic2\", \"Topic2\", \"Topic2\", \"Topic2\", \"Topic2\", \"Topic2\", \"Topic2\", \"Topic2\", \"Topic2\", \"Topic2\", \"Topic2\", \"Topic2\", \"Topic2\", \"Topic2\", \"Topic2\", \"Topic2\", \"Topic2\", \"Topic2\", \"Topic2\", \"Topic2\", \"Topic2\", \"Topic2\", \"Topic2\", \"Topic2\", \"Topic2\", \"Topic2\", \"Topic2\", \"Topic2\", \"Topic2\", \"Topic2\", \"Topic2\", \"Topic2\", \"Topic2\", \"Topic2\", \"Topic2\", \"Topic2\", \"Topic2\", \"Topic3\", \"Topic3\", \"Topic3\", \"Topic3\", \"Topic3\", \"Topic3\", \"Topic3\", \"Topic3\", \"Topic3\", \"Topic3\", \"Topic3\", \"Topic3\", \"Topic3\", \"Topic3\", \"Topic3\", \"Topic3\", \"Topic3\", \"Topic3\", \"Topic3\", \"Topic3\", \"Topic3\", \"Topic3\", \"Topic3\", \"Topic3\", \"Topic3\", \"Topic3\", \"Topic3\", \"Topic3\", \"Topic3\", \"Topic3\", \"Topic3\", \"Topic3\", \"Topic3\", \"Topic3\", \"Topic3\", \"Topic3\", \"Topic3\", \"Topic3\", \"Topic3\", \"Topic3\", \"Topic3\", \"Topic3\", \"Topic3\", \"Topic3\", \"Topic4\", \"Topic4\", \"Topic4\", \"Topic4\", \"Topic4\", \"Topic4\", \"Topic4\", \"Topic4\", \"Topic4\", \"Topic4\", \"Topic4\", \"Topic4\", \"Topic4\", \"Topic4\", \"Topic4\", \"Topic4\", \"Topic4\", \"Topic4\", \"Topic4\", \"Topic4\", \"Topic4\", \"Topic4\", \"Topic4\", \"Topic4\", \"Topic4\", \"Topic4\", \"Topic4\", \"Topic4\", \"Topic4\", \"Topic4\", \"Topic4\", \"Topic4\", \"Topic4\", \"Topic4\", \"Topic4\", \"Topic4\", \"Topic4\", \"Topic4\", \"Topic4\", \"Topic4\", \"Topic4\", \"Topic4\", \"Topic4\", \"Topic4\", \"Topic4\", \"Topic4\", \"Topic4\", \"Topic4\", \"Topic5\", \"Topic5\", \"Topic5\", \"Topic5\", \"Topic5\", \"Topic5\", \"Topic5\", \"Topic5\", \"Topic5\", \"Topic5\", \"Topic5\", \"Topic5\", \"Topic5\", \"Topic5\", \"Topic5\", \"Topic5\", \"Topic5\", \"Topic5\", \"Topic5\", \"Topic5\", \"Topic5\", \"Topic5\", \"Topic5\", \"Topic5\", \"Topic5\", \"Topic5\", \"Topic5\", \"Topic5\", \"Topic5\", \"Topic5\", \"Topic5\", \"Topic5\", \"Topic5\", \"Topic5\", \"Topic5\", \"Topic5\", \"Topic5\", \"Topic5\", \"Topic5\", \"Topic5\", \"Topic5\", \"Topic5\", \"Topic5\", \"Topic5\", \"Topic5\", \"Topic5\", \"Topic6\", \"Topic6\", \"Topic6\", \"Topic6\", \"Topic6\", \"Topic6\", \"Topic6\", \"Topic6\", \"Topic6\", \"Topic6\", \"Topic6\", \"Topic6\", \"Topic6\", \"Topic6\", \"Topic6\", \"Topic6\", \"Topic6\", \"Topic6\", \"Topic6\", \"Topic6\", \"Topic6\", \"Topic6\", \"Topic6\", \"Topic6\", \"Topic6\", \"Topic6\", \"Topic6\", \"Topic6\", \"Topic6\", \"Topic6\", \"Topic6\", \"Topic6\", \"Topic6\", \"Topic6\", \"Topic6\", \"Topic6\", \"Topic6\", \"Topic6\", \"Topic6\", \"Topic6\", \"Topic6\", \"Topic6\", \"Topic6\", \"Topic6\", \"Topic6\", \"Topic7\", \"Topic7\", \"Topic7\", \"Topic7\", \"Topic7\", \"Topic7\", \"Topic7\", \"Topic7\", \"Topic7\", \"Topic7\", \"Topic7\", \"Topic7\", \"Topic7\", \"Topic7\", \"Topic7\", \"Topic7\", \"Topic7\", \"Topic7\", \"Topic7\", \"Topic7\", \"Topic7\", \"Topic7\", \"Topic7\", \"Topic7\", \"Topic7\", \"Topic7\", \"Topic7\", \"Topic7\", \"Topic7\", \"Topic7\", \"Topic7\", \"Topic7\", \"Topic7\", \"Topic7\", \"Topic7\", \"Topic7\", \"Topic7\", \"Topic7\", \"Topic7\", \"Topic7\", \"Topic7\", \"Topic7\", \"Topic7\", \"Topic7\", \"Topic7\", \"Topic7\", \"Topic7\", \"Topic8\", \"Topic8\", \"Topic8\", \"Topic8\", \"Topic8\", \"Topic8\", \"Topic8\", \"Topic8\", \"Topic8\", \"Topic8\", \"Topic8\", \"Topic8\", \"Topic8\", \"Topic8\", \"Topic8\", \"Topic8\", \"Topic8\", \"Topic8\", \"Topic8\", \"Topic8\", \"Topic8\", \"Topic8\", \"Topic8\", \"Topic8\", \"Topic8\", \"Topic8\", \"Topic8\", \"Topic8\", \"Topic8\", \"Topic8\", \"Topic8\", \"Topic8\", \"Topic8\", \"Topic8\", \"Topic8\", \"Topic8\", \"Topic8\", \"Topic8\", \"Topic8\", \"Topic8\", \"Topic8\", \"Topic8\", \"Topic8\", \"Topic8\", \"Topic8\", \"Topic8\", \"Topic9\", \"Topic9\", \"Topic9\", \"Topic9\", \"Topic9\", \"Topic9\", \"Topic9\", \"Topic9\", \"Topic9\", \"Topic9\", \"Topic9\", \"Topic9\", \"Topic9\", \"Topic9\", \"Topic9\", \"Topic9\", \"Topic9\", \"Topic9\", \"Topic9\", \"Topic9\", \"Topic9\", \"Topic9\", \"Topic9\", \"Topic9\", \"Topic9\", \"Topic9\", \"Topic9\", \"Topic9\", \"Topic9\", \"Topic9\", \"Topic9\", \"Topic9\", \"Topic9\", \"Topic9\", \"Topic9\", \"Topic9\", \"Topic9\", \"Topic9\", \"Topic9\", \"Topic9\", \"Topic9\", \"Topic9\", \"Topic9\", \"Topic9\", \"Topic9\", \"Topic9\", \"Topic9\", \"Topic10\", \"Topic10\", \"Topic10\", \"Topic10\", \"Topic10\", \"Topic10\", \"Topic10\", \"Topic10\", \"Topic10\", \"Topic10\", \"Topic10\", \"Topic10\", \"Topic10\", \"Topic10\", \"Topic10\", \"Topic10\", \"Topic10\", \"Topic10\", \"Topic10\", \"Topic10\", \"Topic10\", \"Topic10\", \"Topic10\", \"Topic10\", \"Topic10\", \"Topic10\", \"Topic10\", \"Topic10\", \"Topic10\", \"Topic10\", \"Topic10\", \"Topic10\", \"Topic10\", \"Topic10\", \"Topic10\", \"Topic10\", \"Topic10\", \"Topic10\", \"Topic10\", \"Topic10\", \"Topic10\", \"Topic10\", \"Topic10\", \"Topic10\", \"Topic10\", \"Topic10\", \"Topic11\", \"Topic11\", \"Topic11\", \"Topic11\", \"Topic11\", \"Topic11\", \"Topic11\", \"Topic11\", \"Topic11\", \"Topic11\", \"Topic11\", \"Topic11\", \"Topic11\", \"Topic11\", \"Topic11\", \"Topic11\", \"Topic11\", \"Topic11\", \"Topic11\", \"Topic11\", \"Topic11\", \"Topic11\", \"Topic11\", \"Topic11\", \"Topic11\", \"Topic11\", \"Topic11\", \"Topic11\", \"Topic11\", \"Topic11\", \"Topic11\", \"Topic11\", \"Topic11\", \"Topic11\", \"Topic11\", \"Topic11\", \"Topic11\", \"Topic11\", \"Topic11\", \"Topic11\", \"Topic11\", \"Topic11\", \"Topic11\", \"Topic11\", \"Topic11\", \"Topic11\", \"Topic11\", \"Topic12\", \"Topic12\", \"Topic12\", \"Topic12\", \"Topic12\", \"Topic12\", \"Topic12\", \"Topic12\", \"Topic12\", \"Topic12\", \"Topic12\", \"Topic12\", \"Topic12\", \"Topic12\", \"Topic12\", \"Topic12\", \"Topic12\", \"Topic12\", \"Topic12\", \"Topic12\", \"Topic12\", \"Topic12\", \"Topic12\", \"Topic12\", \"Topic12\", \"Topic12\", \"Topic12\", \"Topic12\", \"Topic12\", \"Topic12\", \"Topic12\", \"Topic12\", \"Topic12\", \"Topic12\", \"Topic12\", \"Topic12\", \"Topic12\", \"Topic12\", \"Topic12\", \"Topic12\", \"Topic12\", \"Topic12\", \"Topic13\", \"Topic13\", \"Topic13\", \"Topic13\", \"Topic13\", \"Topic13\", \"Topic13\", \"Topic13\", \"Topic13\", \"Topic13\", \"Topic13\", \"Topic13\", \"Topic13\", \"Topic13\", \"Topic13\", \"Topic13\", \"Topic13\", \"Topic13\", \"Topic13\", \"Topic13\", \"Topic13\", \"Topic13\", \"Topic13\", \"Topic13\", \"Topic13\", \"Topic13\", \"Topic13\", \"Topic13\", \"Topic13\", \"Topic13\", \"Topic13\", \"Topic13\", \"Topic13\", \"Topic13\", \"Topic13\", \"Topic13\", \"Topic13\", \"Topic13\", \"Topic13\", \"Topic13\", \"Topic13\", \"Topic13\", \"Topic13\", \"Topic13\", \"Topic13\"], \"logprob\": [30.0, 29.0, 28.0, 27.0, 26.0, 25.0, 24.0, 23.0, 22.0, 21.0, 20.0, 19.0, 18.0, 17.0, 16.0, 15.0, 14.0, 13.0, 12.0, 11.0, 10.0, 9.0, 8.0, 7.0, 6.0, 5.0, 4.0, 3.0, 2.0, 1.0, -5.5613, -5.6974, -5.7711, -5.7986, -5.921, -5.9403, -5.9565, -5.9565, -5.7518, -6.0407, -6.0531, -6.0899, -6.1152, -6.0213, -5.815, -6.05, -6.0564, -6.2318, -6.2318, -6.2466, -6.0848, -6.2789, -6.279, -6.2836, -6.2837, -6.2837, -6.2837, -5.6409, -6.3133, -6.3134, -5.8404, -6.0676, -5.996, -5.8602, -5.6105, -5.8685, -5.9309, -5.6465, -5.6886, -5.8222, -5.7877, -5.6065, -5.8177, -5.7772, -5.7586, -5.708, -5.8759, -5.8532, -5.9474, -5.9944, -5.7331, -5.8193, -5.8193, -5.8793, -5.8793, -5.589, -5.8992, -5.8993, -6.0197, -5.7818, -6.0755, -6.0919, -6.0919, -6.1908, -6.1908, -6.1909, -6.1909, -6.2404, -6.2404, -6.2405, -6.2453, -6.2453, -6.2733, -6.2823, -6.2823, -6.2824, -6.2824, -6.0358, -6.3098, -6.3099, -6.0013, -6.0208, -5.8596, -5.8393, -5.8559, -6.0673, -5.7424, -5.8389, -6.0704, -5.9932, -6.1223, -6.1633, -6.1509, -6.1701, -6.1775, -5.6226, -5.9077, -5.9077, -5.9077, -5.9173, -5.8432, -5.9478, -5.9478, -5.8063, -5.9867, -6.0078, -5.6056, -6.0165, -6.0166, -6.0166, -6.0167, -5.7686, -6.0717, -6.0718, -6.1097, -6.1634, -5.9369, -5.932, -6.2516, -5.7709, -5.5288, -5.8799, -6.1954, -6.2963, -6.3015, -5.756, -6.0357, -6.0422, -5.9061, -5.9232, -5.9267, -5.7885, -5.7725, -5.8335, -5.9382, -5.9332, -5.9923, -6.003, -6.0027, -5.6808, -5.7091, -5.6008, -5.7918, -5.7993, -5.9219, -6.0893, -6.0893, -6.0894, -6.0894, -6.1057, -6.1057, -6.1292, -6.1723, -6.1724, -6.1733, -6.1734, -6.2137, -6.2137, -6.2138, -6.2138, -6.2138, -6.0387, -5.7242, -6.0849, -5.2329, -5.8062, -5.8435, -6.1158, -5.8991, -5.3534, -5.6893, -5.8597, -6.0138, -6.0185, -6.0556, -5.8981, -5.8238, -5.9329, -5.7518, -5.7546, -6.0239, -6.0083, -5.9572, -5.9729, -5.9684, -6.0473, -5.9865, -5.588, -5.7511, -5.9225, -5.9225, -5.9227, -5.9696, -5.9697, -6.0051, -6.0051, -6.0052, -6.0052, -5.9272, -6.0469, -6.0469, -6.051, -6.06, -6.0601, -5.6107, -6.0752, -6.0752, -5.7743, -6.1719, -6.1719, -5.9373, -6.0952, -6.2325, -6.2326, -6.304, -6.304, -6.304, -6.1702, -5.7055, -5.5238, -5.9086, -6.0167, -5.8757, -5.8653, -5.622, -5.6589, -5.7626, -6.0325, -5.916, -5.9817, -5.9898, -5.9887, -6.0084, -5.522, -5.6421, -5.483, -5.68, -5.949, -5.7802, -5.9155, -6.0863, -5.8117, -6.1366, -6.2215, -6.2216, -6.2216, -6.2216, -6.2216, -6.2216, -6.2216, -6.1333, -5.9271, -5.8449, -6.2363, -6.2363, -6.2363, -6.2363, -6.2502, -6.2502, -6.2503, -6.2613, -5.879, -5.8452, -5.9735, -5.5703, -5.8758, -6.1554, -6.119, -6.188, -5.9448, -6.0287, -6.0496, -6.0183, -6.1964, -6.1937, -6.1967, -6.2174, -6.2172, -5.4659, -5.6599, -5.6797, -5.6797, -5.5661, -5.7886, -5.9113, -5.9948, -5.9089, -6.0597, -6.0597, -6.0598, -5.8287, -6.0892, -6.0893, -6.1327, -6.1328, -6.1328, -6.1328, -6.1328, -6.1588, -6.1801, -6.2056, -6.2056, -6.2056, -6.2056, -6.2056, -6.2057, -6.2057, -6.2057, -5.5386, -5.9656, -5.7883, -6.0629, -5.9265, -6.1268, -6.0321, -5.9273, -6.0021, -5.8902, -5.9761, -6.0552, -5.9942, -6.0541, -6.0768, -6.1044, -6.1011, -5.2716, -5.3958, -5.457, -5.6186, -5.5152, -5.6693, -5.4636, -5.852, -5.8603, -5.8604, -5.8952, -5.9103, -5.9103, -5.9103, -5.9104, -5.7638, -6.0414, -6.0414, -6.0415, -6.0703, -5.5674, -6.1716, -6.1716, -6.0213, -6.1634, -6.2665, -6.2665, -6.2666, -6.07, -6.1634, -5.741, -6.07, -6.0065, -5.8766, -5.5004, -5.8284, -5.9354, -5.8364, -5.849, -5.6926, -5.8944, -5.8522, -5.8995, -5.9297, -5.926, -5.9336, -5.602, -5.6246, -5.6777, -5.7362, -5.8789, -5.9328, -5.9879, -6.1289, -6.1289, -6.1289, -6.129, -6.129, -5.5403, -5.9982, -6.1992, -5.8948, -5.9511, -6.0579, -5.2579, -5.8948, -5.8449, -6.2482, -6.2483, -6.2481, -6.0878, -6.3963, -6.3963, -6.3963, -6.3963, -6.3965, -5.7798, -5.9585, -5.9571, -6.0144, -5.943, -5.3851, -6.0193, -5.8287, -5.6471, -5.7744, -5.9675, -5.8143, -5.888, -5.9124, -5.9437, -5.9522, -6.0131, -5.4479, -5.1916, -5.7095, -5.8103, -5.8104, -5.8104, -5.8621, -5.9544, -5.9544, -5.9813, -5.9813, -5.9813, -5.9814, -6.0394, -6.0394, -6.0803, -6.0803, -6.0803, -5.8799, -6.2311, -6.2312, -6.2312, -6.2313, -6.2313, -6.0785, -6.2669, -6.2669, -6.267, -6.267, -6.267, -6.0646, -6.0216, -5.6579, -5.8, -6.1174, -5.9535, -5.6496, -5.7175, -5.9919, -5.9997, -5.8853, -6.0215, -6.0216, -6.0336, -5.9915, -6.0241, -4.9948, -5.6625, -5.8637, -5.6987, -5.5032, -5.5032, -6.2068, -6.2069, -6.2069, -6.207, -6.207, -6.2297, -6.2298, -6.2298, -6.2741, -6.3108, -6.3108, -6.3109, -6.3109, -6.3109, -6.3109, -6.3109, -6.3227, -6.3508, -6.3508, -6.3508, -6.3509, -6.3732, -6.3732, -6.3733, -5.728, -5.9388, -6.1747, -5.9303, -6.085, -6.0209, -5.9001, -6.138, -6.0038, -6.1017, -6.1279, -6.1279, -6.104, -6.1405, -6.1156, -6.1872, -6.1342, -5.713, -5.4936, -5.7208, -5.7207, -5.9889, -5.989, -5.7729, -6.1617, -6.1617, -6.1618, -5.9267, -6.1981, -6.1982, -6.1982, -6.1982, -5.8471, -6.2145, -6.2144, -6.278, -6.0898, -6.1899, -6.3104, -6.3132, -6.2781, -5.9872, -6.2984, -6.5077, -6.5077, -6.5078, -6.5078, -6.278, -6.2781, -6.0107, -6.0995, -5.8452, -5.9639, -6.1149, -6.1557, -6.1485, -6.2517, -6.2636, -6.2366, -5.588, -5.6157, -5.6345, -5.9285, -5.9285, -5.803, -5.8942, -6.1744, -6.1744, -6.1744, -6.1744, -6.1907, -6.1908, -6.1908, -6.1908, -6.1909, -6.0496, -5.8679, -5.803, -5.8297, -6.306, -6.306, -6.306, -6.306, -6.306, -6.306, -6.306, -6.306, -6.306, -6.306, -5.6147, -6.1278, -6.0495, -5.6829, -6.1279, -5.8696, -5.9119, -5.6138, -6.0077, -6.0441, -5.9472, -6.0861, -6.1023, -6.07, -6.1531], \"loglift\": [30.0, 29.0, 28.0, 27.0, 26.0, 25.0, 24.0, 23.0, 22.0, 21.0, 20.0, 19.0, 18.0, 17.0, 16.0, 15.0, 14.0, 13.0, 12.0, 11.0, 10.0, 9.0, 8.0, 7.0, 6.0, 5.0, 4.0, 3.0, 2.0, 1.0, 1.5022, 1.4931, 1.4536, 1.4385, 1.369, 1.3578, 1.3482, 1.3482, 1.3187, 1.2976, 1.29, 1.2672, 1.2514, 1.2283, 1.2192, 1.1998, 1.1805, 1.1765, 1.1765, 1.1668, 1.1646, 1.1454, 1.1454, 1.1423, 1.1422, 1.1422, 1.1422, 1.1287, 1.1224, 1.1223, 1.1149, 1.1041, 1.0987, 1.081, 1.0005, 0.9489, 0.916, 0.6893, 0.7129, 0.7633, 0.6939, 0.4015, 0.7243, 0.6012, 0.563, 0.4027, 0.7358, 0.4553, 0.7768, 0.5998, 1.4899, 1.442, 1.4419, 1.4075, 1.4075, 1.4017, 1.3958, 1.3958, 1.3234, 1.3161, 1.2886, 1.2783, 1.2783, 1.2146, 1.2146, 1.2145, 1.2145, 1.1818, 1.1818, 1.1817, 1.1786, 1.1785, 1.1598, 1.1537, 1.1537, 1.1536, 1.1536, 1.1364, 1.135, 1.135, 1.1287, 1.1023, 0.9772, 0.9211, 0.6644, 0.8882, 0.3683, 0.4969, 0.7211, 0.0148, 0.4894, 0.7202, 0.3912, 0.5541, 0.3743, 1.5967, 1.4305, 1.4305, 1.4305, 1.4246, 1.4066, 1.4056, 1.4056, 1.3962, 1.3811, 1.3676, 1.3649, 1.362, 1.362, 1.3619, 1.3619, 1.3392, 1.3262, 1.3262, 1.3011, 1.2652, 1.2183, 1.2069, 1.2048, 1.1844, 1.181, 1.1806, 1.1744, 1.1735, 1.1699, 1.165, 1.1423, 1.0879, 1.003, 1.0118, 0.9863, 0.6702, 0.2356, 0.3201, 0.7126, 0.3884, 0.8791, 0.9825, 0.108, 1.6014, 1.5847, 1.5667, 1.5348, 1.5301, 1.3786, 1.342, 1.342, 1.3419, 1.3419, 1.3308, 1.3308, 1.3146, 1.2847, 1.2847, 1.284, 1.2839, 1.2556, 1.2556, 1.2556, 1.2555, 1.2555, 1.2475, 1.2447, 1.2068, 1.2018, 1.1966, 1.1557, 1.1549, 1.1546, 1.0481, 1.079, 1.011, 1.1153, 1.1022, 1.111, 0.9636, 0.8861, 0.9945, 0.7685, 0.6183, 1.0216, 0.9081, 0.6606, 0.579, 0.4019, 0.9739, 0.3346, 1.6616, 1.5657, 1.458, 1.4579, 1.4579, 1.4272, 1.4271, 1.4037, 1.4037, 1.4036, 1.4036, 1.3801, 1.3756, 1.3756, 1.3728, 1.3667, 1.3667, 1.3588, 1.3564, 1.3564, 1.3308, 1.2894, 1.2894, 1.2738, 1.2737, 1.2465, 1.2464, 1.1948, 1.1948, 1.1948, 1.1909, 1.1652, 1.1379, 1.123, 1.1448, 1.0545, 1.0189, 0.7769, 0.4947, 0.3947, 1.0953, 0.1947, 0.5385, 0.6211, 0.3269, 0.3701, 1.7265, 1.6564, 1.6408, 1.6335, 1.4615, 1.4023, 1.402, 1.3675, 1.3401, 1.3321, 1.271, 1.271, 1.271, 1.271, 1.2709, 1.2709, 1.2709, 1.2695, 1.2693, 1.2658, 1.2603, 1.2603, 1.2603, 1.2602, 1.2501, 1.2501, 1.25, 1.2419, 1.2382, 1.2365, 1.1542, 1.0238, 0.7097, 1.1034, 0.8881, 1.0946, 0.0633, 0.3703, 0.385, 0.139, 1.0267, 0.6603, 0.6759, 1.0401, 0.8465, 1.7681, 1.6543, 1.6421, 1.6421, 1.5812, 1.5738, 1.4935, 1.4369, 1.4119, 1.3919, 1.3919, 1.3919, 1.3782, 1.3712, 1.3711, 1.3402, 1.3402, 1.3402, 1.3402, 1.3402, 1.3215, 1.3061, 1.2876, 1.2876, 1.2876, 1.2876, 1.2875, 1.2875, 1.2875, 1.2875, 1.2297, 1.1681, 0.9936, 1.1865, 0.9645, 1.1656, 0.8843, 0.5864, 0.769, 0.2671, 0.345, 0.7201, 0.0139, 0.5638, 0.5597, 0.8542, 0.0525, 1.8293, 1.7711, 1.7133, 1.6924, 1.6647, 1.6613, 1.5551, 1.5441, 1.5385, 1.5385, 1.5152, 1.505, 1.505, 1.505, 1.505, 1.4568, 1.4146, 1.4146, 1.4146, 1.3942, 1.375, 1.3213, 1.3213, 1.3017, 1.254, 1.2511, 1.2511, 1.251, 1.246, 1.2057, 1.1864, 1.1789, 1.1334, 1.0646, 0.8152, 0.9889, 1.0351, 0.7746, 0.7689, 0.4181, 0.8652, 0.5467, 0.6504, 0.7211, 0.4443, 0.4393, 1.7029, 1.6892, 1.6565, 1.6197, 1.5265, 1.4901, 1.4522, 1.3525, 1.3525, 1.3525, 1.3525, 1.3525, 1.3246, 1.3121, 1.3013, 1.2872, 1.2718, 1.2655, 1.2558, 1.2525, 1.2275, 1.206, 1.1679, 1.1623, 1.1616, 1.1527, 1.1526, 1.1526, 1.1526, 1.1525, 1.1039, 1.0374, 1.0012, 1.0172, 0.9857, 0.623, 1.0013, 0.8215, 0.5103, 0.5342, 0.9019, 0.5215, 0.4331, 0.4605, 0.5766, 0.3634, 0.5638, 1.8186, 1.7385, 1.6575, 1.5912, 1.5912, 1.5911, 1.5562, 1.4926, 1.4926, 1.4737, 1.4737, 1.4736, 1.4736, 1.4323, 1.4323, 1.4028, 1.4028, 1.4028, 1.3445, 1.2911, 1.2911, 1.2911, 1.291, 1.291, 1.2844, 1.264, 1.264, 1.2639, 1.2639, 1.2639, 1.2371, 1.2113, 1.1104, 1.1439, 1.2168, 1.1354, 0.9682, 0.868, 1.0828, 1.0792, 0.9194, 0.889, 0.8889, 0.8794, 0.1621, 0.4346, 1.9649, 1.6962, 1.5625, 1.5331, 1.4073, 1.4073, 1.3149, 1.3148, 1.3148, 1.3148, 1.3148, 1.2976, 1.2975, 1.2975, 1.2636, 1.2354, 1.2354, 1.2353, 1.2353, 1.2353, 1.2353, 1.2352, 1.2262, 1.2043, 1.2043, 1.2043, 1.2042, 1.1867, 1.1867, 1.1867, 1.1332, 1.058, 1.1171, 0.9026, 1.0145, 0.8674, 0.4702, 0.8579, 0.573, 0.7748, 0.7994, 0.6894, 0.5324, 0.6415, 0.4961, 0.6356, 0.1874, 1.6745, 1.6703, 1.617, 1.578, 1.4839, 1.4839, 1.4356, 1.3566, 1.3566, 1.3565, 1.3415, 1.3291, 1.329, 1.329, 1.329, 1.2167, 1.2167, 1.2049, 1.1797, 1.1712, 1.1667, 1.1457, 1.118, 1.1, 1.0904, 1.0859, 1.0855, 1.0855, 1.0855, 1.0855, 1.0754, 1.0647, 0.9885, 0.9867, 0.9081, 0.8495, 0.2866, 0.2146, 0.0051, 0.5711, 0.7999, -0.2285, 1.8688, 1.8487, 1.835, 1.6119, 1.6119, 1.4509, 1.4148, 1.4141, 1.4141, 1.4141, 1.414, 1.4006, 1.4005, 1.4005, 1.4005, 1.4005, 1.3952, 1.3551, 1.3444, 1.3341, 1.3045, 1.3045, 1.3045, 1.3045, 1.3045, 1.3045, 1.3044, 1.3044, 1.3044, 1.3044, 1.3018, 1.2917, 1.2734, 1.1348, 1.2023, 1.0461, 1.0011, 0.7591, 1.0251, 1.0297, 0.6322, 0.7092, 0.7111, 0.0836, -0.145]}, \"token.table\": {\"Topic\": [], \"Freq\": [], \"Term\": []}, \"R\": 30, \"lambda.step\": 0.01, \"plot.opts\": {\"xlab\": \"PC1\", \"ylab\": \"PC2\"}, \"topic.order\": [9, 2, 8, 10, 6, 3, 7, 5, 12, 1, 13, 4, 11]};\n",
       "\n",
       "function LDAvis_load_lib(url, callback){\n",
       "  var s = document.createElement('script');\n",
       "  s.src = url;\n",
       "  s.async = true;\n",
       "  s.onreadystatechange = s.onload = callback;\n",
       "  s.onerror = function(){console.warn(\"failed to load library \" + url);};\n",
       "  document.getElementsByTagName(\"head\")[0].appendChild(s);\n",
       "}\n",
       "\n",
       "if(typeof(LDAvis) !== \"undefined\"){\n",
       "   // already loaded: just create the visualization\n",
       "   !function(LDAvis){\n",
       "       new LDAvis(\"#\" + \"ldavis_el32411391050949183048947678909\", ldavis_el32411391050949183048947678909_data);\n",
       "   }(LDAvis);\n",
       "}else if(typeof define === \"function\" && define.amd){\n",
       "   // require.js is available: use it to load d3/LDAvis\n",
       "   require.config({paths: {d3: \"https://d3js.org/d3.v5\"}});\n",
       "   require([\"d3\"], function(d3){\n",
       "      window.d3 = d3;\n",
       "      LDAvis_load_lib(\"https://cdn.jsdelivr.net/gh/bmabey/pyLDAvis@3.4.0/pyLDAvis/js/ldavis.v3.0.0.js\", function(){\n",
       "        new LDAvis(\"#\" + \"ldavis_el32411391050949183048947678909\", ldavis_el32411391050949183048947678909_data);\n",
       "      });\n",
       "    });\n",
       "}else{\n",
       "    // require.js not available: dynamically load d3 & LDAvis\n",
       "    LDAvis_load_lib(\"https://d3js.org/d3.v5.js\", function(){\n",
       "         LDAvis_load_lib(\"https://cdn.jsdelivr.net/gh/bmabey/pyLDAvis@3.4.0/pyLDAvis/js/ldavis.v3.0.0.js\", function(){\n",
       "                 new LDAvis(\"#\" + \"ldavis_el32411391050949183048947678909\", ldavis_el32411391050949183048947678909_data);\n",
       "            })\n",
       "         });\n",
       "}\n",
       "</script>"
      ],
      "text/plain": [
       "<IPython.core.display.HTML object>"
      ]
     },
     "execution_count": 42,
     "metadata": {},
     "output_type": "execute_result"
    }
   ],
   "source": [
    "lda_visualization = pyLDAvis.gensim_models.prepare(lda_model, corpus_tfidf, dictionary)\n",
    "pyLDAvis.display(lda_visualization)"
   ]
  },
  {
   "cell_type": "markdown",
   "metadata": {
    "id": "plXRFtBoud9L"
   },
   "source": [
    "### Interpretation"
   ]
  },
  {
   "cell_type": "markdown",
   "metadata": {
    "id": "b3VnyqSAud9L"
   },
   "source": [
    "- In Quadrant II, there is a dense group and the most frequnt works between the group are order and food. As a result, the topic may be related to \"food\".\n",
    "\n",
    "- In topic 4 & 7, the most frequent words are wait and time. Therefore, the topic may related to \"waiting time\".\n",
    "\n",
    "- In topic 2, 3 & 8, the most frequent words are wait, minute, and order. Consequently, the topic may related to \"waiting time\" as well.\n",
    "\n",
    "- In topic 1, the most frequent word is McDonald's. Accordingly, the topic may be related to this \"specific brand\"."
   ]
  },
  {
   "cell_type": "markdown",
   "metadata": {
    "id": "svHDcO58zbcS"
   },
   "source": [
    "## For 5 star reviews\n",
    "- Select a proper K\n",
    "- Fit an LDA model of K topics\n",
    "- Visualize results\n",
    "- Interpret topics"
   ]
  },
  {
   "cell_type": "code",
   "execution_count": null,
   "metadata": {
    "colab": {
     "base_uri": "https://localhost:8080/",
     "height": 1000
    },
    "executionInfo": {
     "elapsed": 281,
     "status": "ok",
     "timestamp": 1706726126121,
     "user": {
      "displayName": "Homer Liu",
      "userId": "02498362625275100753"
     },
     "user_tz": 420
    },
    "id": "oq7gEWAZzbcT",
    "outputId": "60d30088-bb95-447e-95d2-39d0a15b8233"
   },
   "outputs": [
    {
     "name": "stderr",
     "output_type": "stream",
     "text": [
      "/usr/local/lib/python3.10/dist-packages/ipykernel/ipkernel.py:283: DeprecationWarning: `should_run_async` will not call `transform_cell` automatically in the future. Please pass the result to `transformed_cell` argument and any exception that happen during thetransform in `preprocessing_exc_tuple` in IPython 7.17 and above.\n",
      "  and should_run_async(code)\n"
     ]
    },
    {
     "data": {
      "text/html": [
       "\n",
       "  <div id=\"df-07393222-fd8a-4107-a2d7-230b4c4c5bf7\" class=\"colab-df-container\">\n",
       "    <div>\n",
       "<style scoped>\n",
       "    .dataframe tbody tr th:only-of-type {\n",
       "        vertical-align: middle;\n",
       "    }\n",
       "\n",
       "    .dataframe tbody tr th {\n",
       "        vertical-align: top;\n",
       "    }\n",
       "\n",
       "    .dataframe thead th {\n",
       "        text-align: right;\n",
       "    }\n",
       "</style>\n",
       "<table border=\"1\" class=\"dataframe\">\n",
       "  <thead>\n",
       "    <tr style=\"text-align: right;\">\n",
       "      <th></th>\n",
       "      <th>review_id</th>\n",
       "      <th>user_id</th>\n",
       "      <th>business_id</th>\n",
       "      <th>stars</th>\n",
       "      <th>useful</th>\n",
       "      <th>funny</th>\n",
       "      <th>cool</th>\n",
       "      <th>text</th>\n",
       "      <th>date</th>\n",
       "      <th>Sentiment</th>\n",
       "    </tr>\n",
       "  </thead>\n",
       "  <tbody>\n",
       "    <tr>\n",
       "      <th>1</th>\n",
       "      <td>QP2pSzSqpJTMWOCuUuyXkQ</td>\n",
       "      <td>JBLWSXBTKFvJYYiM-FnCOQ</td>\n",
       "      <td>3w7NRntdQ9h0KwDsksIt5Q</td>\n",
       "      <td>5</td>\n",
       "      <td>1</td>\n",
       "      <td>1</td>\n",
       "      <td>1</td>\n",
       "      <td>Pandemic pit stop to have an ice cream.... onl...</td>\n",
       "      <td>4/19/2020 5:33</td>\n",
       "      <td>1</td>\n",
       "    </tr>\n",
       "    <tr>\n",
       "      <th>2</th>\n",
       "      <td>oK0cGYStgDOusZKz9B1qug</td>\n",
       "      <td>2_9fKnXChUjC5xArfF8BLg</td>\n",
       "      <td>OMnPtRGmbY8qH_wIILfYKA</td>\n",
       "      <td>5</td>\n",
       "      <td>1</td>\n",
       "      <td>0</td>\n",
       "      <td>0</td>\n",
       "      <td>I was lucky enough to go to the soft opening a...</td>\n",
       "      <td>2/29/2020 19:43</td>\n",
       "      <td>1</td>\n",
       "    </tr>\n",
       "    <tr>\n",
       "      <th>3</th>\n",
       "      <td>E_ABvFCNVLbfOgRg3Pv1KQ</td>\n",
       "      <td>9MExTQ76GSKhxSWnTS901g</td>\n",
       "      <td>V9XlikTxq0My4gE8LULsjw</td>\n",
       "      <td>5</td>\n",
       "      <td>0</td>\n",
       "      <td>0</td>\n",
       "      <td>0</td>\n",
       "      <td>I've gone to claim Jumpers all over the US and...</td>\n",
       "      <td>3/14/2020 21:47</td>\n",
       "      <td>1</td>\n",
       "    </tr>\n",
       "    <tr>\n",
       "      <th>6</th>\n",
       "      <td>DblKoOM1O6Bug_0b6YcpIQ</td>\n",
       "      <td>8o2iLbpduMiPefS2Gy_28g</td>\n",
       "      <td>wJmyu7W1K9A_gE8Ed4Bc9w</td>\n",
       "      <td>5</td>\n",
       "      <td>0</td>\n",
       "      <td>0</td>\n",
       "      <td>0</td>\n",
       "      <td>In town after a long weekend of hiking and cam...</td>\n",
       "      <td>1/20/2020 4:55</td>\n",
       "      <td>1</td>\n",
       "    </tr>\n",
       "    <tr>\n",
       "      <th>7</th>\n",
       "      <td>vW2w4F27XNIkD2toYu0PKg</td>\n",
       "      <td>t9LqNtCGuNUqBeFKWoFOPg</td>\n",
       "      <td>u4P6hqDz6-QG9PR2Pj5KIw</td>\n",
       "      <td>5</td>\n",
       "      <td>0</td>\n",
       "      <td>0</td>\n",
       "      <td>0</td>\n",
       "      <td>This is the definition of a great family-run b...</td>\n",
       "      <td>1/16/2020 4:58</td>\n",
       "      <td>1</td>\n",
       "    </tr>\n",
       "    <tr>\n",
       "      <th>...</th>\n",
       "      <td>...</td>\n",
       "      <td>...</td>\n",
       "      <td>...</td>\n",
       "      <td>...</td>\n",
       "      <td>...</td>\n",
       "      <td>...</td>\n",
       "      <td>...</td>\n",
       "      <td>...</td>\n",
       "      <td>...</td>\n",
       "      <td>...</td>\n",
       "    </tr>\n",
       "    <tr>\n",
       "      <th>991</th>\n",
       "      <td>ltlMPBwoRfgHOojiMjmWcw</td>\n",
       "      <td>ZTkuKoOt2vp584A-8hDvBA</td>\n",
       "      <td>qqArBRPcKDljT6OEmReEdw</td>\n",
       "      <td>5</td>\n",
       "      <td>3</td>\n",
       "      <td>0</td>\n",
       "      <td>3</td>\n",
       "      <td>So glad to have Seis here in Oro Valley! The s...</td>\n",
       "      <td>8/8/2021 4:27</td>\n",
       "      <td>1</td>\n",
       "    </tr>\n",
       "    <tr>\n",
       "      <th>992</th>\n",
       "      <td>zf32j1PBIrJua_lPO0XWyQ</td>\n",
       "      <td>qqxxzPmS9Q6W9yoZ9gzOrg</td>\n",
       "      <td>UCMSWPqzXjd7QHq7v8PJjQ</td>\n",
       "      <td>5</td>\n",
       "      <td>2</td>\n",
       "      <td>1</td>\n",
       "      <td>2</td>\n",
       "      <td>A destination brunch spot with quaint outdoor ...</td>\n",
       "      <td>12/31/2020 9:01</td>\n",
       "      <td>1</td>\n",
       "    </tr>\n",
       "    <tr>\n",
       "      <th>995</th>\n",
       "      <td>idzmt7q9wute-U12OXJiqQ</td>\n",
       "      <td>Ms9Y6kURlD7dGo3DMnXY5Q</td>\n",
       "      <td>3StNEgKAwpCFR1q0urmJrw</td>\n",
       "      <td>5</td>\n",
       "      <td>0</td>\n",
       "      <td>0</td>\n",
       "      <td>0</td>\n",
       "      <td>Best ramen I've ever had! Literally nothing Co...</td>\n",
       "      <td>8/29/2021 3:35</td>\n",
       "      <td>1</td>\n",
       "    </tr>\n",
       "    <tr>\n",
       "      <th>998</th>\n",
       "      <td>YhltcyrGQSWsrQoFeGqKQg</td>\n",
       "      <td>sBHS_gL9aTaTbTAcdrfE7w</td>\n",
       "      <td>OMnPtRGmbY8qH_wIILfYKA</td>\n",
       "      <td>5</td>\n",
       "      <td>1</td>\n",
       "      <td>0</td>\n",
       "      <td>1</td>\n",
       "      <td>Love this place. Awesome Tucson vibes, great f...</td>\n",
       "      <td>2/12/2021 0:50</td>\n",
       "      <td>1</td>\n",
       "    </tr>\n",
       "    <tr>\n",
       "      <th>999</th>\n",
       "      <td>hVQOizWPIomErxq3OljhqA</td>\n",
       "      <td>fCES-6w1t5a9MW1IT6l1_w</td>\n",
       "      <td>UCMSWPqzXjd7QHq7v8PJjQ</td>\n",
       "      <td>5</td>\n",
       "      <td>0</td>\n",
       "      <td>0</td>\n",
       "      <td>0</td>\n",
       "      <td>I've heard good things about Prep &amp; Pastry fro...</td>\n",
       "      <td>1/27/2021 18:41</td>\n",
       "      <td>1</td>\n",
       "    </tr>\n",
       "  </tbody>\n",
       "</table>\n",
       "<p>562 rows × 10 columns</p>\n",
       "</div>\n",
       "    <div class=\"colab-df-buttons\">\n",
       "\n",
       "  <div class=\"colab-df-container\">\n",
       "    <button class=\"colab-df-convert\" onclick=\"convertToInteractive('df-07393222-fd8a-4107-a2d7-230b4c4c5bf7')\"\n",
       "            title=\"Convert this dataframe to an interactive table.\"\n",
       "            style=\"display:none;\">\n",
       "\n",
       "  <svg xmlns=\"http://www.w3.org/2000/svg\" height=\"24px\" viewBox=\"0 -960 960 960\">\n",
       "    <path d=\"M120-120v-720h720v720H120Zm60-500h600v-160H180v160Zm220 220h160v-160H400v160Zm0 220h160v-160H400v160ZM180-400h160v-160H180v160Zm440 0h160v-160H620v160ZM180-180h160v-160H180v160Zm440 0h160v-160H620v160Z\"/>\n",
       "  </svg>\n",
       "    </button>\n",
       "\n",
       "  <style>\n",
       "    .colab-df-container {\n",
       "      display:flex;\n",
       "      gap: 12px;\n",
       "    }\n",
       "\n",
       "    .colab-df-convert {\n",
       "      background-color: #E8F0FE;\n",
       "      border: none;\n",
       "      border-radius: 50%;\n",
       "      cursor: pointer;\n",
       "      display: none;\n",
       "      fill: #1967D2;\n",
       "      height: 32px;\n",
       "      padding: 0 0 0 0;\n",
       "      width: 32px;\n",
       "    }\n",
       "\n",
       "    .colab-df-convert:hover {\n",
       "      background-color: #E2EBFA;\n",
       "      box-shadow: 0px 1px 2px rgba(60, 64, 67, 0.3), 0px 1px 3px 1px rgba(60, 64, 67, 0.15);\n",
       "      fill: #174EA6;\n",
       "    }\n",
       "\n",
       "    .colab-df-buttons div {\n",
       "      margin-bottom: 4px;\n",
       "    }\n",
       "\n",
       "    [theme=dark] .colab-df-convert {\n",
       "      background-color: #3B4455;\n",
       "      fill: #D2E3FC;\n",
       "    }\n",
       "\n",
       "    [theme=dark] .colab-df-convert:hover {\n",
       "      background-color: #434B5C;\n",
       "      box-shadow: 0px 1px 3px 1px rgba(0, 0, 0, 0.15);\n",
       "      filter: drop-shadow(0px 1px 2px rgba(0, 0, 0, 0.3));\n",
       "      fill: #FFFFFF;\n",
       "    }\n",
       "  </style>\n",
       "\n",
       "    <script>\n",
       "      const buttonEl =\n",
       "        document.querySelector('#df-07393222-fd8a-4107-a2d7-230b4c4c5bf7 button.colab-df-convert');\n",
       "      buttonEl.style.display =\n",
       "        google.colab.kernel.accessAllowed ? 'block' : 'none';\n",
       "\n",
       "      async function convertToInteractive(key) {\n",
       "        const element = document.querySelector('#df-07393222-fd8a-4107-a2d7-230b4c4c5bf7');\n",
       "        const dataTable =\n",
       "          await google.colab.kernel.invokeFunction('convertToInteractive',\n",
       "                                                    [key], {});\n",
       "        if (!dataTable) return;\n",
       "\n",
       "        const docLinkHtml = 'Like what you see? Visit the ' +\n",
       "          '<a target=\"_blank\" href=https://colab.research.google.com/notebooks/data_table.ipynb>data table notebook</a>'\n",
       "          + ' to learn more about interactive tables.';\n",
       "        element.innerHTML = '';\n",
       "        dataTable['output_type'] = 'display_data';\n",
       "        await google.colab.output.renderOutput(dataTable, element);\n",
       "        const docLink = document.createElement('div');\n",
       "        docLink.innerHTML = docLinkHtml;\n",
       "        element.appendChild(docLink);\n",
       "      }\n",
       "    </script>\n",
       "  </div>\n",
       "\n",
       "\n",
       "<div id=\"df-570e80ff-b1f5-416a-b220-f070e3263b40\">\n",
       "  <button class=\"colab-df-quickchart\" onclick=\"quickchart('df-570e80ff-b1f5-416a-b220-f070e3263b40')\"\n",
       "            title=\"Suggest charts\"\n",
       "            style=\"display:none;\">\n",
       "\n",
       "<svg xmlns=\"http://www.w3.org/2000/svg\" height=\"24px\"viewBox=\"0 0 24 24\"\n",
       "     width=\"24px\">\n",
       "    <g>\n",
       "        <path d=\"M19 3H5c-1.1 0-2 .9-2 2v14c0 1.1.9 2 2 2h14c1.1 0 2-.9 2-2V5c0-1.1-.9-2-2-2zM9 17H7v-7h2v7zm4 0h-2V7h2v10zm4 0h-2v-4h2v4z\"/>\n",
       "    </g>\n",
       "</svg>\n",
       "  </button>\n",
       "\n",
       "<style>\n",
       "  .colab-df-quickchart {\n",
       "      --bg-color: #E8F0FE;\n",
       "      --fill-color: #1967D2;\n",
       "      --hover-bg-color: #E2EBFA;\n",
       "      --hover-fill-color: #174EA6;\n",
       "      --disabled-fill-color: #AAA;\n",
       "      --disabled-bg-color: #DDD;\n",
       "  }\n",
       "\n",
       "  [theme=dark] .colab-df-quickchart {\n",
       "      --bg-color: #3B4455;\n",
       "      --fill-color: #D2E3FC;\n",
       "      --hover-bg-color: #434B5C;\n",
       "      --hover-fill-color: #FFFFFF;\n",
       "      --disabled-bg-color: #3B4455;\n",
       "      --disabled-fill-color: #666;\n",
       "  }\n",
       "\n",
       "  .colab-df-quickchart {\n",
       "    background-color: var(--bg-color);\n",
       "    border: none;\n",
       "    border-radius: 50%;\n",
       "    cursor: pointer;\n",
       "    display: none;\n",
       "    fill: var(--fill-color);\n",
       "    height: 32px;\n",
       "    padding: 0;\n",
       "    width: 32px;\n",
       "  }\n",
       "\n",
       "  .colab-df-quickchart:hover {\n",
       "    background-color: var(--hover-bg-color);\n",
       "    box-shadow: 0 1px 2px rgba(60, 64, 67, 0.3), 0 1px 3px 1px rgba(60, 64, 67, 0.15);\n",
       "    fill: var(--button-hover-fill-color);\n",
       "  }\n",
       "\n",
       "  .colab-df-quickchart-complete:disabled,\n",
       "  .colab-df-quickchart-complete:disabled:hover {\n",
       "    background-color: var(--disabled-bg-color);\n",
       "    fill: var(--disabled-fill-color);\n",
       "    box-shadow: none;\n",
       "  }\n",
       "\n",
       "  .colab-df-spinner {\n",
       "    border: 2px solid var(--fill-color);\n",
       "    border-color: transparent;\n",
       "    border-bottom-color: var(--fill-color);\n",
       "    animation:\n",
       "      spin 1s steps(1) infinite;\n",
       "  }\n",
       "\n",
       "  @keyframes spin {\n",
       "    0% {\n",
       "      border-color: transparent;\n",
       "      border-bottom-color: var(--fill-color);\n",
       "      border-left-color: var(--fill-color);\n",
       "    }\n",
       "    20% {\n",
       "      border-color: transparent;\n",
       "      border-left-color: var(--fill-color);\n",
       "      border-top-color: var(--fill-color);\n",
       "    }\n",
       "    30% {\n",
       "      border-color: transparent;\n",
       "      border-left-color: var(--fill-color);\n",
       "      border-top-color: var(--fill-color);\n",
       "      border-right-color: var(--fill-color);\n",
       "    }\n",
       "    40% {\n",
       "      border-color: transparent;\n",
       "      border-right-color: var(--fill-color);\n",
       "      border-top-color: var(--fill-color);\n",
       "    }\n",
       "    60% {\n",
       "      border-color: transparent;\n",
       "      border-right-color: var(--fill-color);\n",
       "    }\n",
       "    80% {\n",
       "      border-color: transparent;\n",
       "      border-right-color: var(--fill-color);\n",
       "      border-bottom-color: var(--fill-color);\n",
       "    }\n",
       "    90% {\n",
       "      border-color: transparent;\n",
       "      border-bottom-color: var(--fill-color);\n",
       "    }\n",
       "  }\n",
       "</style>\n",
       "\n",
       "  <script>\n",
       "    async function quickchart(key) {\n",
       "      const quickchartButtonEl =\n",
       "        document.querySelector('#' + key + ' button');\n",
       "      quickchartButtonEl.disabled = true;  // To prevent multiple clicks.\n",
       "      quickchartButtonEl.classList.add('colab-df-spinner');\n",
       "      try {\n",
       "        const charts = await google.colab.kernel.invokeFunction(\n",
       "            'suggestCharts', [key], {});\n",
       "      } catch (error) {\n",
       "        console.error('Error during call to suggestCharts:', error);\n",
       "      }\n",
       "      quickchartButtonEl.classList.remove('colab-df-spinner');\n",
       "      quickchartButtonEl.classList.add('colab-df-quickchart-complete');\n",
       "    }\n",
       "    (() => {\n",
       "      let quickchartButtonEl =\n",
       "        document.querySelector('#df-570e80ff-b1f5-416a-b220-f070e3263b40 button');\n",
       "      quickchartButtonEl.style.display =\n",
       "        google.colab.kernel.accessAllowed ? 'block' : 'none';\n",
       "    })();\n",
       "  </script>\n",
       "</div>\n",
       "\n",
       "  <div id=\"id_2b942f77-fb49-42a2-a863-3ea3c178be50\">\n",
       "    <style>\n",
       "      .colab-df-generate {\n",
       "        background-color: #E8F0FE;\n",
       "        border: none;\n",
       "        border-radius: 50%;\n",
       "        cursor: pointer;\n",
       "        display: none;\n",
       "        fill: #1967D2;\n",
       "        height: 32px;\n",
       "        padding: 0 0 0 0;\n",
       "        width: 32px;\n",
       "      }\n",
       "\n",
       "      .colab-df-generate:hover {\n",
       "        background-color: #E2EBFA;\n",
       "        box-shadow: 0px 1px 2px rgba(60, 64, 67, 0.3), 0px 1px 3px 1px rgba(60, 64, 67, 0.15);\n",
       "        fill: #174EA6;\n",
       "      }\n",
       "\n",
       "      [theme=dark] .colab-df-generate {\n",
       "        background-color: #3B4455;\n",
       "        fill: #D2E3FC;\n",
       "      }\n",
       "\n",
       "      [theme=dark] .colab-df-generate:hover {\n",
       "        background-color: #434B5C;\n",
       "        box-shadow: 0px 1px 3px 1px rgba(0, 0, 0, 0.15);\n",
       "        filter: drop-shadow(0px 1px 2px rgba(0, 0, 0, 0.3));\n",
       "        fill: #FFFFFF;\n",
       "      }\n",
       "    </style>\n",
       "    <button class=\"colab-df-generate\" onclick=\"generateWithVariable('star_5_data')\"\n",
       "            title=\"Generate code using this dataframe.\"\n",
       "            style=\"display:none;\">\n",
       "\n",
       "  <svg xmlns=\"http://www.w3.org/2000/svg\" height=\"24px\"viewBox=\"0 0 24 24\"\n",
       "       width=\"24px\">\n",
       "    <path d=\"M7,19H8.4L18.45,9,17,7.55,7,17.6ZM5,21V16.75L18.45,3.32a2,2,0,0,1,2.83,0l1.4,1.43a1.91,1.91,0,0,1,.58,1.4,1.91,1.91,0,0,1-.58,1.4L9.25,21ZM18.45,9,17,7.55Zm-12,3A5.31,5.31,0,0,0,4.9,8.1,5.31,5.31,0,0,0,1,6.5,5.31,5.31,0,0,0,4.9,4.9,5.31,5.31,0,0,0,6.5,1,5.31,5.31,0,0,0,8.1,4.9,5.31,5.31,0,0,0,12,6.5,5.46,5.46,0,0,0,6.5,12Z\"/>\n",
       "  </svg>\n",
       "    </button>\n",
       "    <script>\n",
       "      (() => {\n",
       "      const buttonEl =\n",
       "        document.querySelector('#id_2b942f77-fb49-42a2-a863-3ea3c178be50 button.colab-df-generate');\n",
       "      buttonEl.style.display =\n",
       "        google.colab.kernel.accessAllowed ? 'block' : 'none';\n",
       "\n",
       "      buttonEl.onclick = () => {\n",
       "        google.colab.notebook.generateWithVariable('star_5_data');\n",
       "      }\n",
       "      })();\n",
       "    </script>\n",
       "  </div>\n",
       "\n",
       "    </div>\n",
       "  </div>\n"
      ],
      "text/plain": [
       "                  review_id                 user_id             business_id  \\\n",
       "1    QP2pSzSqpJTMWOCuUuyXkQ  JBLWSXBTKFvJYYiM-FnCOQ  3w7NRntdQ9h0KwDsksIt5Q   \n",
       "2    oK0cGYStgDOusZKz9B1qug  2_9fKnXChUjC5xArfF8BLg  OMnPtRGmbY8qH_wIILfYKA   \n",
       "3    E_ABvFCNVLbfOgRg3Pv1KQ  9MExTQ76GSKhxSWnTS901g  V9XlikTxq0My4gE8LULsjw   \n",
       "6    DblKoOM1O6Bug_0b6YcpIQ  8o2iLbpduMiPefS2Gy_28g  wJmyu7W1K9A_gE8Ed4Bc9w   \n",
       "7    vW2w4F27XNIkD2toYu0PKg  t9LqNtCGuNUqBeFKWoFOPg  u4P6hqDz6-QG9PR2Pj5KIw   \n",
       "..                      ...                     ...                     ...   \n",
       "991  ltlMPBwoRfgHOojiMjmWcw  ZTkuKoOt2vp584A-8hDvBA  qqArBRPcKDljT6OEmReEdw   \n",
       "992  zf32j1PBIrJua_lPO0XWyQ  qqxxzPmS9Q6W9yoZ9gzOrg  UCMSWPqzXjd7QHq7v8PJjQ   \n",
       "995  idzmt7q9wute-U12OXJiqQ  Ms9Y6kURlD7dGo3DMnXY5Q  3StNEgKAwpCFR1q0urmJrw   \n",
       "998  YhltcyrGQSWsrQoFeGqKQg  sBHS_gL9aTaTbTAcdrfE7w  OMnPtRGmbY8qH_wIILfYKA   \n",
       "999  hVQOizWPIomErxq3OljhqA  fCES-6w1t5a9MW1IT6l1_w  UCMSWPqzXjd7QHq7v8PJjQ   \n",
       "\n",
       "     stars  useful  funny  cool  \\\n",
       "1        5       1      1     1   \n",
       "2        5       1      0     0   \n",
       "3        5       0      0     0   \n",
       "6        5       0      0     0   \n",
       "7        5       0      0     0   \n",
       "..     ...     ...    ...   ...   \n",
       "991      5       3      0     3   \n",
       "992      5       2      1     2   \n",
       "995      5       0      0     0   \n",
       "998      5       1      0     1   \n",
       "999      5       0      0     0   \n",
       "\n",
       "                                                  text             date  \\\n",
       "1    Pandemic pit stop to have an ice cream.... onl...   4/19/2020 5:33   \n",
       "2    I was lucky enough to go to the soft opening a...  2/29/2020 19:43   \n",
       "3    I've gone to claim Jumpers all over the US and...  3/14/2020 21:47   \n",
       "6    In town after a long weekend of hiking and cam...   1/20/2020 4:55   \n",
       "7    This is the definition of a great family-run b...   1/16/2020 4:58   \n",
       "..                                                 ...              ...   \n",
       "991  So glad to have Seis here in Oro Valley! The s...    8/8/2021 4:27   \n",
       "992  A destination brunch spot with quaint outdoor ...  12/31/2020 9:01   \n",
       "995  Best ramen I've ever had! Literally nothing Co...   8/29/2021 3:35   \n",
       "998  Love this place. Awesome Tucson vibes, great f...   2/12/2021 0:50   \n",
       "999  I've heard good things about Prep & Pastry fro...  1/27/2021 18:41   \n",
       "\n",
       "     Sentiment  \n",
       "1            1  \n",
       "2            1  \n",
       "3            1  \n",
       "6            1  \n",
       "7            1  \n",
       "..         ...  \n",
       "991          1  \n",
       "992          1  \n",
       "995          1  \n",
       "998          1  \n",
       "999          1  \n",
       "\n",
       "[562 rows x 10 columns]"
      ]
     },
     "execution_count": 43,
     "metadata": {},
     "output_type": "execute_result"
    }
   ],
   "source": [
    "# Select the Data\n",
    "star_5_data = data[data[\"stars\"]==5]\n",
    "star_5_data"
   ]
  },
  {
   "cell_type": "markdown",
   "metadata": {
    "id": "iQdHXjsKzbcT"
   },
   "source": [
    "### Coherence Measure\n",
    "Based on all the review data provided, calculate coherence measure and plot it (K = 2 - 30)."
   ]
  },
  {
   "cell_type": "code",
   "execution_count": null,
   "metadata": {
    "colab": {
     "base_uri": "https://localhost:8080/"
    },
    "executionInfo": {
     "elapsed": 30159,
     "status": "ok",
     "timestamp": 1706726172684,
     "user": {
      "displayName": "Homer Liu",
      "userId": "02498362625275100753"
     },
     "user_tz": 420
    },
    "id": "NPlX3n8_zbcU",
    "outputId": "6da5d789-f1b6-4d4b-d4b9-98ed1a126839"
   },
   "outputs": [
    {
     "name": "stderr",
     "output_type": "stream",
     "text": [
      "/usr/local/lib/python3.10/dist-packages/ipykernel/ipkernel.py:283: DeprecationWarning: `should_run_async` will not call `transform_cell` automatically in the future. Please pass the result to `transformed_cell` argument and any exception that happen during thetransform in `preprocessing_exc_tuple` in IPython 7.17 and above.\n",
      "  and should_run_async(code)\n"
     ]
    }
   ],
   "source": [
    "# TF-IDF with Data Processing\n",
    "nlp = spacy.load(\"en_core_web_lg\")\n",
    "\n",
    "documents = []\n",
    "for index, row in star_5_data.iterrows():\n",
    "    text = row[\"text\"]\n",
    "    doc = nlp(text)\n",
    "    if len(doc) <= 5: # exclude comments with five or less than five words\n",
    "        pass\n",
    "    else:\n",
    "        documents.append(text.replace(\"!\",\"\").replace(\".\",\"\").replace(\"?\",\"\").replace(\"[\",\"\").replace(\"]\",\"\").replace(\")\",\"\").replace(\"(\",\"\").replace(\"  \",\" \").replace('\\\"',\" \").replace(\"\\'\",\" \").replace(\"/\",\" \").replace(\"\\\\\",\" \"))\n",
    "\n",
    "processed_documents = [] # list for storing tokenized documents\n",
    "for document in documents:\n",
    "    temp_list = [] # list for storing tokens in a document\n",
    "    for token in nlp(document):\n",
    "        if token.is_stop is True: # check whether the provided token is a stop word and decide whether to disregard it\n",
    "            pass\n",
    "        elif not nlp.vocab.has_vector(str(token)): # check whether the provided token is in a vocabulary\n",
    "            pass\n",
    "        else:\n",
    "            temp_list.append(str(token.lemma_)) # lemmatize\n",
    "    processed_documents.append(temp_list)\n",
    "dictionary = corpora.Dictionary(processed_documents) # index words with integers\n",
    "corpus = [dictionary.doc2bow(sentence) for sentence in processed_documents] # TF representation\n",
    "tfidf = models.TfidfModel(corpus) # Fit TF-IDF\n",
    "corpus_tfidf = tfidf[corpus] # Transform \"corpus\" into TF-IDF"
   ]
  },
  {
   "cell_type": "code",
   "execution_count": null,
   "metadata": {
    "colab": {
     "base_uri": "https://localhost:8080/"
    },
    "executionInfo": {
     "elapsed": 831,
     "status": "ok",
     "timestamp": 1706726176416,
     "user": {
      "displayName": "Homer Liu",
      "userId": "02498362625275100753"
     },
     "user_tz": 420
    },
    "id": "2uczuyzmzbcU",
    "outputId": "00d57c49-ea0b-4a42-a236-b2e3d870c69b"
   },
   "outputs": [
    {
     "name": "stderr",
     "output_type": "stream",
     "text": [
      "/usr/local/lib/python3.10/dist-packages/ipykernel/ipkernel.py:283: DeprecationWarning: `should_run_async` will not call `transform_cell` automatically in the future. Please pass the result to `transformed_cell` argument and any exception that happen during thetransform in `preprocessing_exc_tuple` in IPython 7.17 and above.\n",
      "  and should_run_async(code)\n",
      "WARNING:gensim.models.ldamodel:too few updates, training might not converge; consider increasing the number of passes or iterations to improve accuracy\n"
     ]
    }
   ],
   "source": [
    "lda_model = models.ldamodel.LdaModel(corpus_tfidf, id2word=dictionary, num_topics=8) # train LDA model"
   ]
  },
  {
   "cell_type": "code",
   "execution_count": null,
   "metadata": {
    "colab": {
     "base_uri": "https://localhost:8080/"
    },
    "executionInfo": {
     "elapsed": 507,
     "status": "ok",
     "timestamp": 1706726178483,
     "user": {
      "displayName": "Homer Liu",
      "userId": "02498362625275100753"
     },
     "user_tz": 420
    },
    "id": "FTbMfsu3zbcU",
    "outputId": "67f2fafc-b1a7-4a12-b34f-6ab56703587b"
   },
   "outputs": [
    {
     "name": "stderr",
     "output_type": "stream",
     "text": [
      "/usr/local/lib/python3.10/dist-packages/ipykernel/ipkernel.py:283: DeprecationWarning: `should_run_async` will not call `transform_cell` automatically in the future. Please pass the result to `transformed_cell` argument and any exception that happen during thetransform in `preprocessing_exc_tuple` in IPython 7.17 and above.\n",
      "  and should_run_async(code)\n"
     ]
    },
    {
     "name": "stdout",
     "output_type": "stream",
     "text": [
      "0.27449017483634364\n"
     ]
    }
   ],
   "source": [
    "# Coherence Measures\n",
    "from gensim.models import CoherenceModel\n",
    "coherence_model_lda = CoherenceModel(model=lda_model, texts=processed_documents, dictionary=dictionary, coherence='c_v') # by changing the values for the \"coherence\" parameter, you can use different coherence methods (e.g., 'u_mass', 'c_v', 'c_uci', 'c_npmi')\n",
    "coherence_lda = coherence_model_lda.get_coherence()\n",
    "print(coherence_lda)"
   ]
  },
  {
   "cell_type": "code",
   "execution_count": null,
   "metadata": {
    "colab": {
     "base_uri": "https://localhost:8080/"
    },
    "executionInfo": {
     "elapsed": 40835,
     "status": "ok",
     "timestamp": 1706726222656,
     "user": {
      "displayName": "Homer Liu",
      "userId": "02498362625275100753"
     },
     "user_tz": 420
    },
    "id": "V3fSzHoszbcU",
    "outputId": "2f3fe825-24b8-49e4-8d2f-9f077b08d9bd"
   },
   "outputs": [
    {
     "name": "stderr",
     "output_type": "stream",
     "text": [
      "/usr/local/lib/python3.10/dist-packages/ipykernel/ipkernel.py:283: DeprecationWarning: `should_run_async` will not call `transform_cell` automatically in the future. Please pass the result to `transformed_cell` argument and any exception that happen during thetransform in `preprocessing_exc_tuple` in IPython 7.17 and above.\n",
      "  and should_run_async(code)\n",
      "WARNING:gensim.models.ldamodel:too few updates, training might not converge; consider increasing the number of passes or iterations to improve accuracy\n",
      "WARNING:gensim.models.ldamodel:too few updates, training might not converge; consider increasing the number of passes or iterations to improve accuracy\n",
      "WARNING:gensim.models.ldamodel:too few updates, training might not converge; consider increasing the number of passes or iterations to improve accuracy\n",
      "WARNING:gensim.models.ldamodel:too few updates, training might not converge; consider increasing the number of passes or iterations to improve accuracy\n",
      "WARNING:gensim.models.ldamodel:too few updates, training might not converge; consider increasing the number of passes or iterations to improve accuracy\n",
      "WARNING:gensim.models.ldamodel:too few updates, training might not converge; consider increasing the number of passes or iterations to improve accuracy\n",
      "WARNING:gensim.models.ldamodel:too few updates, training might not converge; consider increasing the number of passes or iterations to improve accuracy\n",
      "WARNING:gensim.models.ldamodel:too few updates, training might not converge; consider increasing the number of passes or iterations to improve accuracy\n",
      "WARNING:gensim.models.ldamodel:too few updates, training might not converge; consider increasing the number of passes or iterations to improve accuracy\n",
      "WARNING:gensim.models.ldamodel:too few updates, training might not converge; consider increasing the number of passes or iterations to improve accuracy\n",
      "WARNING:gensim.models.ldamodel:too few updates, training might not converge; consider increasing the number of passes or iterations to improve accuracy\n",
      "WARNING:gensim.models.ldamodel:too few updates, training might not converge; consider increasing the number of passes or iterations to improve accuracy\n",
      "WARNING:gensim.models.ldamodel:too few updates, training might not converge; consider increasing the number of passes or iterations to improve accuracy\n",
      "WARNING:gensim.models.ldamodel:too few updates, training might not converge; consider increasing the number of passes or iterations to improve accuracy\n",
      "WARNING:gensim.models.ldamodel:too few updates, training might not converge; consider increasing the number of passes or iterations to improve accuracy\n",
      "WARNING:gensim.models.ldamodel:too few updates, training might not converge; consider increasing the number of passes or iterations to improve accuracy\n",
      "WARNING:gensim.models.ldamodel:too few updates, training might not converge; consider increasing the number of passes or iterations to improve accuracy\n",
      "WARNING:gensim.models.ldamodel:too few updates, training might not converge; consider increasing the number of passes or iterations to improve accuracy\n",
      "WARNING:gensim.models.ldamodel:too few updates, training might not converge; consider increasing the number of passes or iterations to improve accuracy\n",
      "WARNING:gensim.models.ldamodel:too few updates, training might not converge; consider increasing the number of passes or iterations to improve accuracy\n",
      "WARNING:gensim.models.ldamodel:too few updates, training might not converge; consider increasing the number of passes or iterations to improve accuracy\n",
      "WARNING:gensim.models.ldamodel:too few updates, training might not converge; consider increasing the number of passes or iterations to improve accuracy\n",
      "WARNING:gensim.models.ldamodel:too few updates, training might not converge; consider increasing the number of passes or iterations to improve accuracy\n",
      "WARNING:gensim.models.ldamodel:too few updates, training might not converge; consider increasing the number of passes or iterations to improve accuracy\n",
      "WARNING:gensim.models.ldamodel:too few updates, training might not converge; consider increasing the number of passes or iterations to improve accuracy\n",
      "WARNING:gensim.models.ldamodel:too few updates, training might not converge; consider increasing the number of passes or iterations to improve accuracy\n",
      "WARNING:gensim.models.ldamodel:too few updates, training might not converge; consider increasing the number of passes or iterations to improve accuracy\n",
      "WARNING:gensim.models.ldamodel:too few updates, training might not converge; consider increasing the number of passes or iterations to improve accuracy\n",
      "WARNING:gensim.models.ldamodel:too few updates, training might not converge; consider increasing the number of passes or iterations to improve accuracy\n"
     ]
    }
   ],
   "source": [
    "# Coherence measures over different K\n",
    "num_of_topics = []\n",
    "coherence = []\n",
    "for k in range(29):\n",
    "    lda_model = models.ldamodel.LdaModel(corpus_tfidf, id2word=dictionary, num_topics=k+2) # train LDA model; k+2 because we are only intereseted when K >= 2\n",
    "    coherence_model_lda = CoherenceModel(model=lda_model, texts=processed_documents, dictionary=dictionary, coherence='c_v') # calculate coherence measures\n",
    "    coherence_lda = coherence_model_lda.get_coherence()\n",
    "    num_of_topics.append(k+2)\n",
    "    coherence.append(coherence_lda)"
   ]
  },
  {
   "cell_type": "code",
   "execution_count": null,
   "metadata": {
    "colab": {
     "base_uri": "https://localhost:8080/",
     "height": 516
    },
    "executionInfo": {
     "elapsed": 535,
     "status": "ok",
     "timestamp": 1706726234441,
     "user": {
      "displayName": "Homer Liu",
      "userId": "02498362625275100753"
     },
     "user_tz": 420
    },
    "id": "RjafOHtZzbcU",
    "outputId": "e6718585-a594-4f84-d005-6b77471c67c0"
   },
   "outputs": [
    {
     "name": "stderr",
     "output_type": "stream",
     "text": [
      "/usr/local/lib/python3.10/dist-packages/ipykernel/ipkernel.py:283: DeprecationWarning: `should_run_async` will not call `transform_cell` automatically in the future. Please pass the result to `transformed_cell` argument and any exception that happen during thetransform in `preprocessing_exc_tuple` in IPython 7.17 and above.\n",
      "  and should_run_async(code)\n",
      "<ipython-input-48-8985d06e50f9>:3: MatplotlibDeprecationWarning: The seaborn styles shipped by Matplotlib are deprecated since 3.6, as they no longer correspond to the styles shipped by seaborn. However, they will remain available as 'seaborn-v0_8-<style>'. Alternatively, directly use the seaborn API instead.\n",
      "  plt.style.use('seaborn-whitegrid')\n"
     ]
    },
    {
     "data": {
      "image/png": "[encoded data removed]",
      "text/plain": [
       "<Figure size 640x480 with 1 Axes>"
      ]
     },
     "metadata": {},
     "output_type": "display_data"
    }
   ],
   "source": [
    "# Visualizaing coherence measures over different K\n",
    "import matplotlib.pyplot as plt\n",
    "plt.style.use('seaborn-whitegrid')\n",
    "plt.plot(num_of_topics, coherence) # x-axis = K, y-axis = coherece measures\n",
    "plt.xticks(num_of_topics) # To label x-axis with K values\n",
    "plt.show()"
   ]
  },
  {
   "cell_type": "markdown",
   "metadata": {
    "id": "MYs_d9eqzbcU"
   },
   "source": [
    "### Selection\n",
    "Pick a K and explain reasoning behind your *choice*"
   ]
  },
  {
   "cell_type": "markdown",
   "metadata": {
    "id": "XHcAasZTzbcV"
   },
   "source": [
    "I would like to choose **K when it equals 14** because it is a suitable number of topics and demonstrates optimal coherence performance . Although there are several points with higher scores, I am considering concerns about overfitting\n"
   ]
  },
  {
   "cell_type": "markdown",
   "metadata": {
    "id": "6Q-6XaYjzbcV"
   },
   "source": [
    "### LDA Model\n",
    "Fit an LDA model of K topics with the data and visualize it using pyLDAvis."
   ]
  },
  {
   "cell_type": "code",
   "execution_count": null,
   "metadata": {
    "colab": {
     "base_uri": "https://localhost:8080/"
    },
    "executionInfo": {
     "elapsed": 1099,
     "status": "ok",
     "timestamp": 1706726273585,
     "user": {
      "displayName": "Homer Liu",
      "userId": "02498362625275100753"
     },
     "user_tz": 420
    },
    "id": "2CI75__dzbcV",
    "outputId": "1101c8ca-e68a-4d6a-ba52-856ad479cc62"
   },
   "outputs": [
    {
     "name": "stderr",
     "output_type": "stream",
     "text": [
      "/usr/local/lib/python3.10/dist-packages/ipykernel/ipkernel.py:283: DeprecationWarning: `should_run_async` will not call `transform_cell` automatically in the future. Please pass the result to `transformed_cell` argument and any exception that happen during thetransform in `preprocessing_exc_tuple` in IPython 7.17 and above.\n",
      "  and should_run_async(code)\n",
      "WARNING:gensim.models.ldamodel:too few updates, training might not converge; consider increasing the number of passes or iterations to improve accuracy\n"
     ]
    },
    {
     "name": "stdout",
     "output_type": "stream",
     "text": [
      "(9, '0.004*\"great\" + 0.004*\"friendly\" + 0.004*\"staff\" + 0.004*\",\" + 0.003*\"definitely\"')\n",
      "(6, '0.003*\"time\" + 0.003*\",\" + 0.003*\"come\" + 0.003*\"visit\" + 0.003*\"-\"')\n",
      "(5, '0.004*\"great\" + 0.003*\",\" + 0.003*\"come\" + 0.003*\"beer\" + 0.003*\"nice\"')\n",
      "[(0, 0.015005904163518092), (1, 0.20682021462419586), (2, 0.18417837512888385), (3, 0.20682021462419586), (4, 0.20682021462419586), (5, 0.20682021462419586), (6, 0.17093374807677908), (7, 0.16153653563357181), (8, 0.13504728152936227), (9, 0.10039361296865555), (10, 0.1284923191700027), (11, 0.18417837512888385), (12, 0.0269870760051172), (13, 0.030934231972597866), (14, 0.3683567502577677), (15, 0.1388946961382598), (16, 0.11240544203405024), (17, 0.20682021462419586), (18, 0.1542474913801006), (19, 0.08395959898916229), (20, 0.11836102483268379), (21, 0.14829190858146707), (22, 0.11836102483268379), (23, 0.1542474913801006), (24, 0.18417837512888385), (25, 0.18417837512888385), (26, 0.16153653563357181), (27, 0.16153653563357181), (28, 0.20682021462419586), (29, 0.09068381182849809), (30, 0.1388946961382598), (31, 0.1542474913801006), (32, 0.20682021462419586), (33, 0.20682021462419586), (34, 0.1542474913801006), (35, 0.1432565350725934)]\n",
      "(0, 0.010921105)\n",
      "(1, 0.010921229)\n",
      "(2, 0.010921045)\n",
      "(3, 0.010921041)\n",
      "(4, 0.010921036)\n",
      "(5, 0.010921104)\n",
      "(6, 0.010921217)\n",
      "(7, 0.010921039)\n",
      "(8, 0.010921214)\n",
      "(9, 0.01092117)\n",
      "(10, 0.85802543)\n",
      "(11, 0.010921096)\n",
      "(12, 0.010921078)\n",
      "(13, 0.010921174)\n",
      "Pandemic pit stop to have an ice cream only plain Sundae Limited menu was written on the screens outside So no unpleasant surprise\n",
      "Cashier was wearing gloves and mask, and him holding the item was good since he did not hold it with the lid \n",
      "There were only three customers at 8:15 pm\n",
      "Location is a bomb Parking and access easy Great visibility \n",
      "No pictures tonight soo :  [(0, 0.010921138), (1, 0.010921261), (2, 0.010921079), (3, 0.010921074), (4, 0.010921069), (5, 0.010921137), (6, 0.010921251), (7, 0.010921072), (8, 0.010921514), (9, 0.0109212035), (10, 0.8580247), (11, 0.01092113), (12, 0.010921111), (13, 0.010921207)]\n"
     ]
    }
   ],
   "source": [
    "lda_model = models.ldamodel.LdaModel(corpus_tfidf, id2word=dictionary, num_topics=14) # train LDA model\n",
    "\n",
    "for topic in lda_model.show_topics(num_topics=3, num_words=5):# show 5 most important words for each topic\n",
    "    print(topic)\n",
    "\n",
    "print(corpus_tfidf[0])\n",
    "for topic_proportion in lda_model[corpus_tfidf[0]]: # show topic distribution for the first document in the corpus\n",
    "    print(topic_proportion)\n",
    "for doc, topic_dist in zip(documents, lda_model[corpus_tfidf]): # print out topic distribution for each document in the corpus\n",
    "    print(doc, \": \", topic_dist)\n",
    "    break"
   ]
  },
  {
   "cell_type": "code",
   "execution_count": null,
   "metadata": {
    "colab": {
     "base_uri": "https://localhost:8080/",
     "height": 917
    },
    "executionInfo": {
     "elapsed": 3470,
     "status": "ok",
     "timestamp": 1706726280051,
     "user": {
      "displayName": "Homer Liu",
      "userId": "02498362625275100753"
     },
     "user_tz": 420
    },
    "id": "GT3h3McRzbcV",
    "outputId": "5cb586df-27f0-4899-9149-01b847e55eb1"
   },
   "outputs": [
    {
     "name": "stderr",
     "output_type": "stream",
     "text": [
      "/usr/local/lib/python3.10/dist-packages/ipykernel/ipkernel.py:283: DeprecationWarning: `should_run_async` will not call `transform_cell` automatically in the future. Please pass the result to `transformed_cell` argument and any exception that happen during thetransform in `preprocessing_exc_tuple` in IPython 7.17 and above.\n",
      "  and should_run_async(code)\n"
     ]
    },
    {
     "data": {
      "text/html": [
       "\n",
       "<link rel=\"stylesheet\" type=\"text/css\" href=\"https://cdn.jsdelivr.net/gh/bmabey/pyLDAvis@3.4.0/pyLDAvis/js/ldavis.v1.0.0.css\">\n",
       "\n",
       "\n",
       "<div id=\"ldavis_el32411391040102887361002958589\" style=\"background-color:white;\"></div>\n",
       "<script type=\"text/javascript\">\n",
       "\n",
       "var ldavis_el32411391040102887361002958589_data = {\"mdsDat\": {\"x\": [0.038226754125091335, -0.00018254206127357305, 0.0022141098741398366, 0.04462330362550493, -4.252885599409431e-05, -0.01720655173276125, -0.027807064356423546, -0.00646603989423984, -0.01642045858881915, -0.011910626806965372, -0.01591487256986212, 0.001957788593155181, 0.015739968946899423, -0.006811240298451873], \"y\": [-0.0030577572231875487, 0.05657817070148453, 0.0032999067931141733, 0.005124644308599865, -0.03757113730572704, -0.01595313207897595, 0.010798186967356715, 0.0004919101334766779, 0.005139108500853568, 0.002432387496794974, -0.0008417191486888138, -0.012866256528707615, -0.00216064311265175, -0.011413669503741945], \"topics\": [1, 2, 3, 4, 5, 6, 7, 8, 9, 10, 11, 12, 13, 14], \"cluster\": [1, 1, 1, 1, 1, 1, 1, 1, 1, 1, 1, 1, 1, 1], \"Freq\": [9.698484772526546, 9.444709795349809, 8.471398694353255, 8.117892159147958, 7.953089111712246, 7.21250437203893, 7.176827159835495, 6.869505791326601, 6.802461667563044, 6.773922088888379, 6.318076869965979, 5.881675487365314, 5.360835682645734, 3.91861634728069]}, \"tinfo\": {\"Term\": [\"10\", \"taco\", \"way\", \"fish\", \"nice\", \"super\", \"ambiance\", \"tea\", \"incredible\", \"dog\", \"Delicious\", \"long\", \"raman\", \"kid\", \"wine\", \":\", \"well\", \"reasonable\", \"&\", \"burger\", \"bruschetta\", \"Chile\", \"bomb\", \"Food\", \"waitress\", \"plate\", \"remember\", \"sourdough\", \"breakfast\", \"environment\", \"Macy\", \"delight\", \"+\", \"latte\", \"soda\", \"sunny\", \"pregnant\", \"Campbell\", \"omelet\", \"fail\", \"closing\", \"instantaneously\", \"kurdish\", \"pesto\", \"Sierra\", \"skillet\", \"queso\", \"midterm\", \"HONEY\", \"consider\", \"noisy\", \"doubt\", \"TK\", \"interaction\", \"personalize\", \"carpaccio\", \"Almond\", \"Matcha\", \"Hong\", \"Kong\", \"caring\", \"bad\", \"Covid\", \"table\", \"expect\", \"trip\", \"fun\", \"Charro\", \"decent\", \"option\", \"Tacos\", \"10\", \",\", \"hard\", \"good\", \"business\", \"ask\", \"hour\", \"wait\", \"delicious\", \"love\", \"order\", \"food\", \"raman\", \"great\", \"amazing\", \"day\", \"pizza\", \"time\", \"place\", \"menu\", \"s\", \"t\", \"service\", \"look\", \"Tucson\", \"go\", \"small\", \"aroma\", \"game\", \"macaroon\", \"Adrianna\", \"goody\", \"manger\", \"Tamal\", \"huevos\", \"patisserie\", \"certificate\", \"tough\", \"keto\", \"mongolian\", \"stocked\", \"advance\", \"disappointing\", \"primarily\", \"krystal\", \"toe\", \"cafe\", \"obsessed\", \"tuesday\", \"mode\", \"BOY\", \"diabetic\", \"aka\", \"@\", \"con\", \"sprout\", \"brussel\", \"%\", \"gluten\", \":\", \"wait\", \"solid\", \"new\", \"delicious\", \"free\", \"Delicious\", \"amazing\", \"area\", \"bar\", \"steak\", \"big\", \"order\", \",\", \"time\", \"food\", \"s\", \"get\", \"great\", \"perfect\", \"good\", \"service\", \"come\", \"love\", \"-\", \"definitely\", \"restaurant\", \"pizza\", \"favorite\", \"price\", \"place\", \"town\", \"Gyoza\", \"buck\", \"Amazing\", \"wingstop\", \"venezuelan\", \"raisin\", \"depend\", \"valley\", \"oro\", \"tue\", \"4x\", \"hate\", \"appearance\", \"almond\", \"p&p\", \"sundae\", \"testing\", \"Texas\", \"Freddy\", \"sorry\", \"way\", \"bang\", \"purchase\", \"marinate\", \"mail\", \"el\", \"Bloody\", \"d\\u00e9cor\", \"differently\", \"charro\", \"waitress\", \"14\", \"incredible\", \"machine\", \"pastry\", \"churro\", \"let\", \"&\", \"find\", \"don\", \"take\", \"ve\", \"place\", \"go\", \"t\", \"time\", \"delicious\", \"definitely\", \"love\", \",\", \"-\", \"friend\", \"sauce\", \"order\", \"s\", \"staff\", \"good\", \"food\", \"perfect\", \"come\", \"friendly\", \"Zoe\", \"alright\", \"matter\", \"stock\", \"native\", \"evenly\", \"delightful\", \"sangria\", \"denver\", \"famous\", \"outta\", \"Mod\", \"Aravind\", \"encourage\", \"Jeremy\", \"puff\", \"sakura\", \"Miso\", \"Brewing\", \"responder\", \"careful\", \"SPICY\", \"Mellissa\", \"Chile\", \"finger\", \"Wellington\", \"tonkotsu\", \"Charlie\", \"Support\", \"avacado\", \"delighted\", \"oh\", \"fast\", \"make\", \"tea\", \"staff\", \"friendly\", \"breakfast\", \"recommend\", \"definitely\", \"customer\", \"great\", \"try\", \"pizza\", \"amazing\", \"food\", \"Service\", \"good\", \",\", \"place\", \"service\", \"favorite\", \"taco\", \"eat\", \"go\", \"like\", \"clean\", \"drink\", \"atmosphere\", \"point\", \"excellent\", \"t\", \"Tucson\", \"come\", \"pay\", \"Az\", \"obviously\", \"buffet\", \"enjoyable\", \"welcoming\", \"Udon\", \"eastern\", \"dietary\", \"thinker\", \"guideline\", \"Pork\", \"decision\", \"tacos\", \"reliably\", \"liquid\", \"Peroni\", \"university\", \"thoughtful\", \"upgrade\", \"aft\", \"allway\", \"moreI\", \"batter\", \"middle\", \"regularly\", \"modern\", \"japanese\", \"future\", \"York\", \"afternoon\", \"beer\", \"high\", \"fire\", \"gravy\", \"helpful\", \"run\", \"nice\", \"soup\", \"quality\", \"return\", \"super\", \"come\", \"great\", \"visit\", \"lunch\", \"food\", \",\", \"experience\", \"service\", \"friendly\", \"recommend\", \"Tucson\", \"order\", \"feel\", \"t\", \"flavor\", \"delicious\", \"place\", \"definitely\", \"look\", \"restaurant\", \"like\", \"-\", \"Diana\", \"beni\", \"operate\", \"Gumbo\", \"diner\", \"throw\", \"Grubhub\", \"spelling\", \"500\", \"til\", \"bounty\", \"background\", \"locally\", \"custom\", \"whopper\", \"impossible\", \"jumper\", \"claim\", \"knowledgeable\", \"agua\", \"folk\", \"Yay\", \"deceptively\", \"marinade\", \"warn\", \"trio\", \"Rajin\", \"Grill\", \"falafel\", \"Opas\", \"date\", \"wine\", \"5\", \"love\", \"year\", \"nice\", \"raman\", \"hand\", \"dinner\", \"persian\", \"board\", \"restaurant\", \",\", \"$\", \"server\", \"place\", \"great\", \"order\", \"service\", \"amazing\", \"good\", \"try\", \"ve\", \"food\", \"s\", \"come\", \"awesome\", \"location\", \"staff\", \"favorite\", \"friendly\", \"t\", \"Fun\", \"fox\", \"relaxed\", \"ham\", \"accommodating\", \"remember\", \"syrup\", \"McDonald\", \"chimichangas\", \"chop\", \"herbal\", \"Dip\", \"16\", \"waitstaff\", \"Marana\", \"wayback\", \"28\", \"Teriyaki\", \"imo\", \"Greece\", \"decoration\", \"iffy\", \"hooky\", \"sooooo\", \"YOUNG\", \"lead\", \"seat\", \"patience\", \"Selena\", \"Bruschetta\", \"long\", \"penny\", \"sandwich\", \"cake\", \"haven\", \"flavor\", \"right\", \"come\", \"outside\", \",\", \"people\", \"t\", \"drink\", \"beautiful\", \"amazing\", \"fresh\", \"s\", \"hour\", \"great\", \"ve\", \"favorite\", \"go\", \"place\", \"love\", \"time\", \"good\", \"service\", \"chicken\", \"get\", \"eat\", \"cozy\", \"insist\", \"tower\", \"wood\", \"overlook\", \"baking\", \"strike\", \"skill\", \"break\", \"sieve\", \"mapo\", \"split\", \"Sunshine\", \"30\", \"worker\", \"stretchy\", \"desk\", \"Hands\", \"DEFINITELY\", \"TIME\", \"trust\", \"weren\", \"average\", \"Prep\", \"Starbucks\", \"Xtra\", \"xtra\", \"BF\", \"patronize\", \"curry\", \"seafood\", \"Pastry\", \"baked\", \"wish\", \"forward\", \"share\", \"Christine\", \"Service\", \"visit\", \"d\", \"small\", \"bit\", \"bruschetta\", \"time\", \"2\", \"portion\", \"eat\", \"item\", \"-\", \"come\", \"wonderful\", \"crispy\", \"look\", \",\", \"amazing\", \"friend\", \"service\", \"restaurant\", \"nice\", \"raman\", \"good\", \"absolutely\", \"love\", \"place\", \"t\", \"enjoy\", \"hospitable\", \"#\", \"Hummus\", \"mega\", \"Dennis\", \"Troy\", \"l\", \"Winter\", \"warning\", \"hefty\", \"apparently\", \"Amilia\", \"Kia\", \"ridiculous\", \"lavend\", \"tucson\", \"Street\", \"reviewer\", \"antipasto\", \"clam\", \"mussel\", \"\\u00a7\", \"amazinggreat\", \"inconsistent\", \"asia\", \"mixed\", \"Buffalo\", \"reasonable\", \"Cilantro\", \"tge\", \"cool\", \"complaint\", \"garlic\", \"extra\", \"plus\", \"pretty\", \"wine\", \"wing\", \"suggest\", \"bread\", \"bruschetta\", \"eat\", \"spectacular\", \"choice\", \",\", \"vegetarian\", \"amazing\", \"ve\", \"try\", \"good\", \"price\", \"drink\", \"open\", \"brunch\", \"-\", \"love\", \"hour\", \"taco\", \"food\", \"definitely\", \"come\", \"s\", \"order\", \"gather\", \"17\", \"adult\", \"Menudo\", \"24hrs\", \"encounter\", \"fajita\", \"training\", \"sanitary\", \"Poblano\", \"Verde\", \"bloody\", \"mary\", \"Southwest\", \"container\", \"bomb\", \"yesterday\", \"oaxacan\", \"vinaigrette\", \"kid\", \"steam\", \"H\", \"graduate\", \"S\", \"bite\", \"superb\", \"packaging\", \"eggplant\", \"barrier\", \"Alonso\", \"yum\", \"physically\", \"die\", \"Sonora\", \"cauliflower\", \"avocado\", \"ton\", \"meal\", \"mimosa\", \"cheese\", \"town\", \"toast\", \":\", \"well\", \"rice\", \"highly\", \"s\", \"support\", \"m\", \",\", \"time\", \"Tucson\", \"house\", \"food\", \"good\", \"go\", \"stop\", \"order\", \"dish\", \"wonderful\", \"fry\", \"great\", \"try\", \"get\", \"recommend\", \"t\", \"&\", \"glaze\", \"Matt\", \"salsas\", \"prob\", \"Boise\", \"resource\", \"Erica\", \"setting\", \"tap\", \"empanadas\", \"Venezuelan\", \"arepas\", \"Santa\", \"Fe\", \"shoyu\", \"umami\", \"takoyaki\", \"parmesan\", \"dozen\", \"freeze\", \"grub\", \"plant\", \"Brennen\", \"farmer\", \"school\", \"Potstickers\", \"darn\", \"Flavor\", \"Ramen\", \"suite\", \"thoroughly\", \"tamale\", \"chili\", \"graduation\", \"John\", \"Food\", \"green\", \"beef\", \"taco\", \",\", \"happy\", \"&\", \"experience\", \"week\", \"-\", \"great\", \"place\", \"drive\", \"meal\", \"burger\", \"love\", \"different\", \"s\", \"good\", \"food\", \"come\", \"go\", \"amazing\", \"eat\", \"try\", \"price\", \"Tucson\", \"Girls\", \"Japan\", \"Christen\", \"virus\", \"Corona\", \"cabeza\", \"Ambience\", \"gas\", \"shell\", \"flan\", \"improvement\", \"Hooters\", \"tow\", \"Pun\", \"al\", \"Little\", \"Birria\", \"downfall\", \"mixture\", \"mark\", \"confit\", \"spacey\", \"anytime\", \"expert\", \"gyoza\", \"frappe\", \"dulce\", \"intend\", \"th\", \"brave\", \"got\", \"Parmesan\", \"dog\", \"10\", \"super\", \"torta\", \"&\", \"authentic\", \"accommodate\", \"recommend\", \"building\", \"good\", \"hot\", \"pizza\", \",\", \"nice\", \"great\", \"busy\", \"get\", \"order\", \"time\", \"salsa\", \"tasty\", \"friendly\", \"food\", \"place\", \"breakfast\", \"home\", \"chicken\", \"amazing\", \"restaurant\", \"mexican\", \"think\", \"raman\", \"service\", \"Tucson\", \"shock\", \"loud\", \"draw\", \"whichever\", \"banter\", \"Nancy\", \"poach\", \"poblano\", \"AZ\", \"yay\", \"jalape\\u00f1os\", \"describe\", \"secret\", \"exciting\", \"indoors\", \"campus\", \"wall\", \"Quinn\", \"glow\", \"ipa\", \"glamorous\", \"bollywood\", \"product\", \"renovation\", \"modest\", \"recipe\", \"mom\", \"member\", \"honor\", \"memorabilia\", \"fish\", \"occasion\", \"taco\", \"constantly\", \"Delicious\", \"stunning\", \"burrito\", \"bowl\", \"french\", \"place\", \",\", \"ve\", \"atmosphere\", \"love\", \"service\", \"Tucson\", \"live\", \"glad\", \"night\", \"definitely\", \"good\", \"great\", \"food\", \"s\", \"menu\", \"asada\", \"customer\", \"pizza\", \"Omelette\", \"Ismael\", \"XOXO\", \"brisket\", \"coffe\", \"connoisseur\", \"sesame\", \"sourdough\", \"donburi\", \"Tea\", \"earn\", \"IPA\", \"Hazy\", \"Virus\", \"fight\", \"Fresh\", \"Spencer\", \"Grandma\", \"addicted\", \"fitting\", \"timing\", \"balance\", \"wonder\", \"worry\", \"Fu\", \"shutdown\", \"burst\", \"bout\", \"Latin\", \"hashbrown\", \"fair\", \"incredible\", \"hidden\", \"ambiance\", \"gyoza\", \"plate\", \"ball\", \"well\", \"flavor\", \"Tucson\", \"tea\", \",\", \"restaurant\", \"service\", \"thank\", \"favorite\", \"amazing\", \"quality\", \"try\", \"t\", \"-\", \"love\"], \"Freq\": [2.0, 3.0, 2.0, 1.0, 3.0, 2.0, 1.0, 1.0, 1.0, 1.0, 2.0, 2.0, 2.0, 1.0, 2.0, 2.0, 2.0, 1.0, 3.0, 1.0, 1.0, 1.0, 1.0, 1.0, 1.0, 1.0, 1.0, 0.0, 2.0, 2.0, 0.4467215378225357, 0.39909686511416226, 0.3362109618088797, 0.32008036537530943, 0.31916553280497023, 0.3519194710347288, 0.3064243751907832, 0.38240111979902025, 0.3454023980044731, 0.28491555577397876, 0.2744926779681539, 0.2744007554611657, 0.2600287296723627, 0.3457436457669663, 0.254514310113901, 0.2520422346427393, 0.2520392384344419, 0.2468721463232711, 0.24679337222551032, 0.34750242003754017, 0.24570542863014366, 0.3575842246172775, 0.2411460141047271, 0.24058487956048585, 0.24051763941020002, 0.2399703514208089, 0.23729194482873978, 0.23722793360195893, 0.27451871298200026, 0.2743522634297893, 0.2941226420672809, 0.45296479232169023, 0.313074619498568, 0.6279003045764594, 0.36758219354348953, 0.4097328518713148, 0.5174548888209216, 0.41534515726395854, 0.4060064705207783, 0.5566281887831594, 0.35293829821344863, 0.5521239277619359, 1.1345003670769145, 0.37323723126612235, 0.8793732887320936, 0.4041166194095434, 0.4455574381754934, 0.4737559762171659, 0.5790598985343651, 0.6628971810661309, 0.701385541993703, 0.650024888432481, 0.6866143514451241, 0.5192850193920151, 0.6653033981335518, 0.647609711829569, 0.4730549507437771, 0.5776625018917387, 0.5673927797818927, 0.5537249502111816, 0.4462278615990874, 0.5237823571358137, 0.49872794699534984, 0.5051841649988273, 0.4564688142913983, 0.4755220810167781, 0.453871828932576, 0.4177557959203231, 0.39885460006684176, 0.43538533140594504, 0.3478925029596231, 0.31048065021745, 0.3044345268192186, 0.30440211931905425, 0.3034890436675707, 0.30344975240644484, 0.29908624114742816, 0.29531286366762804, 0.2916340458342864, 0.28098860695381456, 0.2756947114920902, 0.2726410128074607, 0.2725602206829251, 0.3386594531903348, 0.2620148087981528, 0.25617975907450574, 0.25614808810843603, 0.24538791987860611, 0.29824942510297464, 0.24299885822968986, 0.24007654589625116, 0.24006209849670235, 0.24003702800925003, 0.2393047148215328, 0.2392181720654121, 0.2741808789734866, 0.22569515113363392, 0.2256733242290215, 0.4039770247256861, 0.41459855457631645, 0.7130891379388182, 0.8553586302249903, 0.3241011202755965, 0.5320505305434503, 0.8445129957119472, 0.3927221038818961, 0.5020781254089347, 0.9044545765622557, 0.44451050725860236, 0.5013524693563037, 0.49637055274013, 0.483960689779469, 0.7535756805873182, 0.9380275002902052, 0.6911773619360894, 0.7336708466795573, 0.6564523855711786, 0.5680622886281735, 0.64638164158217, 0.4857714871793863, 0.6315177036746232, 0.5985731001858741, 0.5656058341095973, 0.5741763148042842, 0.5289363510783568, 0.5263401250512046, 0.5122323810329822, 0.5107365935996974, 0.47727624627529064, 0.45721549376534043, 0.48589233542737675, 0.4393126728397602, 0.3232607488905162, 0.32128340221398066, 0.39833817895095813, 0.28746592348456973, 0.2620728192209036, 0.26063472581168806, 0.3250462074892682, 0.25906173650668957, 0.25904468712901574, 0.25898561141650955, 0.2531878320599707, 0.2822958458062043, 0.28865899878810897, 0.22630291995429844, 0.22605973129004173, 0.22343839582491704, 0.22317645538610995, 0.22313902806373506, 0.22312573920453474, 0.3041464654410953, 0.7346872599350851, 0.25763479760835156, 0.2393817999339082, 0.2006484850656317, 0.1985886610717649, 0.19856194360436694, 0.24768680334702753, 0.1975766750598522, 0.197565660297972, 0.35996091911896094, 0.5198282583273108, 0.24282516441021598, 0.3868868412031214, 0.2928645797047441, 0.38583023714769865, 0.3622024168093522, 0.35394447069496904, 0.6376080526424621, 0.4334342085524549, 0.4261773988460102, 0.4330956094363871, 0.5649176879098085, 0.684795597444094, 0.5470856142153125, 0.5951879305445351, 0.5950730314598242, 0.5655802506105877, 0.5419628225158607, 0.5757972235784024, 0.642617164884816, 0.4930689678657808, 0.40191626146068865, 0.3866930220482838, 0.4938235616335267, 0.49135854177413885, 0.4387128076794715, 0.46855038741847527, 0.448726356924996, 0.3962426554405016, 0.4075158513301099, 0.36625935561064915, 0.30820964362367376, 0.30436295287789866, 0.34118194643503896, 0.28156866108045214, 0.27396439550019386, 0.27259052520111066, 0.30186310547450346, 0.2615309727750819, 0.25247618747258554, 0.2778222622577949, 0.25032247990386947, 0.24807807376423469, 0.24806938131059228, 0.24298261587572004, 0.23926935551078635, 0.2327789901244573, 0.23270526253445953, 0.2735719202613649, 0.23117339410740556, 0.2311487533144473, 0.22469293860520106, 0.22463450194205883, 0.2164903059429761, 0.4065325190283192, 0.21376803399049585, 0.21161001671787302, 0.2735488134308141, 0.20851194832416903, 0.20776559039279469, 0.20776503037477292, 0.2530586549124556, 0.32998808707822175, 0.43082858437130145, 0.5244261494512189, 0.4494398824265894, 0.7871651784937179, 0.7896728904980277, 0.584668554181751, 0.721569342355508, 0.7238260688916218, 0.47473881830353065, 0.84793964904216, 0.604646101421304, 0.6294392192815301, 0.6954632013716955, 0.6777267975580851, 0.42410710198224494, 0.6834129283679193, 0.7703682414345573, 0.6324725203735848, 0.6049083359471548, 0.5011675296678881, 0.4997050060810963, 0.49936242114342505, 0.49356584504025197, 0.4654226506765211, 0.4055314502914737, 0.42623049553195597, 0.3946543906947162, 0.354146534079504, 0.3938216925935492, 0.4242070286762181, 0.4033978546743224, 0.3973277219418148, 0.5048011896259182, 0.3253559282983869, 0.392490883326111, 0.36204253488425875, 0.41862689851457596, 0.3299105020024272, 0.27626751710260916, 0.2739758580328127, 0.2680483498987051, 0.2506872594738994, 0.24812282644514508, 0.2864944294576813, 0.226745434671689, 0.343184777757841, 0.22672088859352832, 0.222404023022502, 0.22015632743380387, 0.2678324207446617, 0.21743249994997682, 0.21742438948683335, 0.20943968623068587, 0.20899578149940062, 0.208982470798124, 0.23835458463514003, 0.24750163653126472, 0.19580348105749434, 0.2938338022449449, 0.2495829244997014, 0.3082686137132803, 0.27884480760087627, 0.2934824760650121, 0.6600811113287264, 0.34798311858794956, 0.31492196059012245, 0.3453770120912198, 0.37832431349909446, 0.37873844805978246, 0.658438933376599, 0.4246570278617519, 0.4615094934189079, 0.4113574426904698, 0.5030004282650326, 0.6994911398752681, 0.763017296618695, 0.5001595715689058, 0.4249246731454867, 0.6462620271388011, 0.7118385566735059, 0.45870460901225285, 0.5705944593609809, 0.5276247008321598, 0.5123725455133887, 0.5201824444344909, 0.5260838559607192, 0.40301325508263935, 0.4851413315489139, 0.4213605062627819, 0.45225755415089536, 0.4568766060369263, 0.4253483255732166, 0.3952612505557996, 0.3968529050934038, 0.39119409183237897, 0.39274963095469134, 0.2788278837400051, 0.27444501400041255, 0.2666463133961553, 0.2520247773312137, 0.24381487644655223, 0.2416022736751158, 0.24157542710798716, 0.22457811046673282, 0.22454685076528164, 0.2651099801936223, 0.2192272499997114, 0.2140708054060061, 0.24074521703006874, 0.27250907581157763, 0.19986300068380078, 0.1998358945205355, 0.19932944409100356, 0.19929015854232857, 0.38774624538696145, 0.19827875036105022, 0.19645898144335225, 0.18972016859888688, 0.185952152308876, 0.1859507245301246, 0.18594241745375278, 0.185522866830954, 0.1854622511330535, 0.17921220373131294, 0.17919796920982167, 0.17916939200178222, 0.43482586520176486, 0.5361816721967415, 0.45722650236264895, 0.9021780014052767, 0.4038284856466344, 0.6019507428033263, 0.5295585959631853, 0.370227573171331, 0.4704717462432831, 0.2847297153739886, 0.32174840568498136, 0.5107939920898529, 0.7244220130188328, 0.34716072579183743, 0.3524219823257026, 0.5548005128393626, 0.5612480588185416, 0.5086956332515401, 0.5063721612967561, 0.517284198367483, 0.51247691057753, 0.4204304373718183, 0.3986255300784516, 0.4508781221076583, 0.42548027448541875, 0.4254601990508536, 0.3611739199436242, 0.3449419576121563, 0.3644893736354629, 0.35559985006513334, 0.3643867466294529, 0.3461758180495056, 0.33108988714294163, 0.3102159077275655, 0.287661673172791, 0.2657286790362114, 0.26210365724463647, 0.46977688105048615, 0.24509122733099212, 0.23954968100188614, 0.23157980791130597, 0.2315631037337412, 0.20629474168872003, 0.203717519571298, 0.20249548843682386, 0.22126422485499073, 0.19707031167461886, 0.19701313861326314, 0.19374486725310688, 0.19370177219706994, 0.1936686221539646, 0.19022007052692053, 0.19019395948647455, 0.19014670991204843, 0.18893875678289307, 0.18891744604089677, 0.18717814507796726, 0.18716475590471304, 0.38270893861437133, 0.18314656168630752, 0.18314477502814014, 0.18309298346728856, 0.627014596027775, 0.22779060730235148, 0.5069838436518592, 0.34891666723887044, 0.27552709989408136, 0.4751137796784217, 0.41021899698338404, 0.5412742051880188, 0.2809370147208567, 0.6532741228356438, 0.3559204103069481, 0.4848177874914475, 0.4040397428445406, 0.2631194477537909, 0.48101087098283346, 0.3656071757923587, 0.42765884719306707, 0.3110189567587914, 0.4209807064314903, 0.35955313840724495, 0.3527240142675248, 0.35587641115882646, 0.3935849511331849, 0.37448023687554527, 0.34388842995384883, 0.3413785411707343, 0.33259175630362964, 0.3056138207044637, 0.316465831731029, 0.3131209708556982, 0.3180353104972937, 0.26094830442381695, 0.2403679343942954, 0.2552804929103636, 0.20918833650832963, 0.2021297188840372, 0.20209914220712152, 0.20207927972966416, 0.22979069125097049, 0.19286609840699195, 0.18689078936908468, 0.25798632277510386, 0.18198135773921312, 0.27123216394005134, 0.2029445749613022, 0.1759581232629596, 0.17471877884484768, 0.1747128036182267, 0.17469100434317494, 0.17467658138236566, 0.17261457188392204, 0.22081662201428642, 0.22611576204522482, 0.35970707666203944, 0.2153941656684287, 0.1658025971915832, 0.1657584320251622, 0.18955757421849126, 0.16488184567563346, 0.1648765194822489, 0.31477324884682867, 0.309693214194813, 0.22070451440033886, 0.35242846767694597, 0.32120030562151236, 0.2411274475105122, 0.29557915199760615, 0.3948221648428854, 0.4781528401330267, 0.358185083420525, 0.3708901871805029, 0.33671376589335467, 0.31199717916294717, 0.5557896189548797, 0.33318368442259366, 0.32278132998119613, 0.45498420797359035, 0.31180768206214293, 0.45781011928918275, 0.48783905336178396, 0.349603050862867, 0.2736117052228262, 0.37797190214631987, 0.5197027940916231, 0.43803801198341336, 0.3235683909525587, 0.3978548602080234, 0.3723940074913975, 0.3526178205481421, 0.33628925694827805, 0.3778692106653578, 0.32325106521052477, 0.33804174970775447, 0.33268495904203843, 0.32464197434251246, 0.3182277127944896, 0.3140610942594658, 0.34128243210152653, 0.30712066041272273, 0.2621690558132997, 0.2614996288160729, 0.25253008237252406, 0.23710930815088516, 0.2517684127829638, 0.20491384819642258, 0.20489703600971992, 0.22813374278127163, 0.19721543772831487, 0.19719552426445347, 0.1971933003222804, 0.19717308081133095, 0.21431643086640062, 0.19041317394024965, 0.22294634665478832, 0.18567897234172737, 0.18567811540988088, 0.1856424915288337, 0.18081355815499522, 0.17790341760429584, 0.17690790763633826, 0.17690221516050084, 0.23223399844163992, 0.22266674203516032, 0.4225928388221939, 0.1684208444270753, 0.16841217309291434, 0.32983145586819657, 0.2660377358437221, 0.33044210142138153, 0.3309236563128337, 0.2950507141454133, 0.39875213792083714, 0.43931623106306306, 0.39179368810217846, 0.24881008001746863, 0.3558731862172775, 0.33207653569345846, 0.4803817925606026, 0.2592252092766381, 0.32101117879105157, 0.6812321719566385, 0.27442801676217904, 0.5061425104734506, 0.4207832844063438, 0.4129306466090061, 0.4679892114530875, 0.34902491335031116, 0.35987742470455986, 0.31858504150850864, 0.3102268547280168, 0.3756053885900283, 0.3716844357169696, 0.30583620118738253, 0.3327842389798287, 0.35714475065864193, 0.33507895964276974, 0.33013844150063404, 0.3298535524679526, 0.32669296338354525, 0.2675220830370736, 0.2674795381119165, 0.32059594256379387, 0.25300503939612395, 0.24050776223553114, 0.21342239100262556, 0.21337917559870523, 0.21102329608259202, 0.20781046343692952, 0.20591329298255068, 0.2058652013694433, 0.20465671419258358, 0.20460425430874613, 0.1939943342315432, 0.1939717411289765, 0.34502329216883304, 0.25787395458694173, 0.18628185765329136, 0.2111046271883245, 0.5201900138380655, 0.2086949265133091, 0.17844136026634091, 0.178421733524363, 0.17840734870726116, 0.39195960941456875, 0.17605589841449285, 0.20484186791892392, 0.23768821617834335, 0.17034318570016177, 0.170323061178496, 0.241735165040529, 0.1932868775486539, 0.24291325718012272, 0.21746696271283253, 0.27021338479264173, 0.24593197606506365, 0.20580634146104784, 0.4796900082737131, 0.28477707750148096, 0.3891341306362034, 0.4400164795314909, 0.34952395197833636, 0.4040305027168297, 0.3862023098624835, 0.31728099397073906, 0.41011349240753403, 0.5157288106879008, 0.2731741377408715, 0.3803769871922387, 0.578709806642739, 0.46287314120476314, 0.43168628883692994, 0.31294836020280653, 0.47008928064038713, 0.4496068452202944, 0.3699508798838497, 0.31951695937592717, 0.39229635229401183, 0.33550446453231136, 0.3222535692418584, 0.3117723404521173, 0.36727550707829265, 0.3372329384663562, 0.3335876876534929, 0.3297191267774005, 0.32687095330877697, 0.3186414563339288, 0.3467995024275445, 0.304535681381323, 0.2929012852428772, 0.2688998559148123, 0.26799973622588347, 0.24044493855593674, 0.24037000912057968, 0.23855375675008753, 0.21042474642946957, 0.21002749156012465, 0.21001119431318305, 0.21001032259997454, 0.1998015376128883, 0.19979630733363726, 0.19690629379313973, 0.19688846157293968, 0.19686162796634749, 0.19328114176356628, 0.19296944744066472, 0.18986654637442082, 0.18903561418384518, 0.18660666112949764, 0.1831047996680661, 0.1793557317108751, 0.2202466234039901, 0.17850234343003693, 0.17848943828449365, 0.17848780855979948, 0.277119163956647, 0.17433259804859425, 0.2231501295489323, 0.292497700977627, 0.29468949118840004, 0.22025873263747345, 0.21666932084944868, 0.38969707792663544, 0.27826503096922534, 0.26494400242433447, 0.4588118071772239, 0.6036655659521191, 0.3499256933966851, 0.4001851143450372, 0.3542153940957328, 0.2833555897531553, 0.3878233872358177, 0.43607601067647095, 0.41312584852757467, 0.2971084953419984, 0.32516403539936917, 0.2863231668189225, 0.3693028168056468, 0.27722467915545024, 0.35451818178367794, 0.3680375061332163, 0.34952201437999925, 0.319202654070431, 0.3059441046222453, 0.31682791778759495, 0.3017365723682427, 0.3001193359133094, 0.28509598412422044, 0.2793682219351613, 0.24218569552338678, 0.2366255107772304, 0.23211415753226297, 0.21641866129529735, 0.21641024636878284, 0.21505344972678928, 0.2149823903473334, 0.21375915640689405, 0.21122926255644067, 0.2069685753300155, 0.20165023592471323, 0.2016409565717853, 0.19981800475532757, 0.19222726472264481, 0.1905819437134714, 0.18991222493931975, 0.21862483627459509, 0.17345285801455904, 0.17295625386071534, 0.17292658110097234, 0.1729157140260605, 0.17290966304116645, 0.2359528635380863, 0.16491560634187002, 0.21367544817563336, 0.16038027849494615, 0.16037535655679616, 0.17413210312061386, 0.15186793641604854, 0.15185904517293888, 0.2286069325939609, 0.21975783468228452, 0.40741690571293937, 0.4854286727571878, 0.4892025820647139, 0.2048662726511736, 0.5126938814492568, 0.35163074137040357, 0.24344488254608312, 0.4696514088380529, 0.22896448758472834, 0.5200533256716005, 0.30690348403804946, 0.4063557781870531, 0.5097402246013085, 0.3649961144651974, 0.44235663323437324, 0.29589134426097047, 0.3671947213030387, 0.3847620182694991, 0.3773763942757769, 0.25718901554080675, 0.27527144008425597, 0.33218968548400163, 0.35122664848415336, 0.3344824618768418, 0.28982705778493545, 0.2687050277101445, 0.2811552731361465, 0.3169728874251727, 0.2876547189252495, 0.2633237615902148, 0.2573541915511953, 0.26265511893874116, 0.26568825009265973, 0.2597435014406547, 0.2642130637607305, 0.23934379518895466, 0.2176408510898532, 0.21598743095931805, 0.21594128376711116, 0.20701443905748718, 0.20379772249408923, 0.20376709169229337, 0.19324956773854235, 0.18286596711715766, 0.1828506115183571, 0.24922337842813808, 0.21076982359514415, 0.1716701598337704, 0.17166345482361353, 0.1699370674602439, 0.22681055544794168, 0.16758907580993118, 0.1623937863212915, 0.16234276714328713, 0.16051475948209604, 0.1589360431337885, 0.15893316496396098, 0.15893043150658287, 0.15847701524419874, 0.1963770288789645, 0.25101232980714433, 0.1951657695980801, 0.15461410935661576, 0.1545912287104449, 0.43740762453678933, 0.23754019569423396, 0.6114422571609464, 0.17418248050999063, 0.3618893684854577, 0.18721042779895825, 0.23858180374690408, 0.23758581227412628, 0.2512800317594275, 0.4286891175168604, 0.48766950621412164, 0.3358154009305049, 0.28868133413513775, 0.37791688326787404, 0.3694878654634479, 0.333118475406296, 0.24527296974613352, 0.2517419217396838, 0.254613225765455, 0.29666762831927646, 0.31986085338092307, 0.2961039250912661, 0.2933323279431517, 0.27305036362247986, 0.2479033114644439, 0.23962744766899716, 0.23348052911291028, 0.23632136312849608, 0.2063937095483925, 0.19305492503719374, 0.18284429703749877, 0.18079621951417316, 0.1718452625037377, 0.17180721673754004, 0.17109472543482102, 0.2203898031342294, 0.1570679789734069, 0.14803416047032597, 0.16307100615719328, 0.13831047596570933, 0.13823129328826925, 0.13766589582674998, 0.13764317649834096, 0.17193706833622757, 0.13021962124893394, 0.1302164713368731, 0.1546864103873405, 0.12430753014579979, 0.12426766260210427, 0.1722885773660926, 0.1528985532111313, 0.14052538129422784, 0.12034936005285891, 0.12034638644184624, 0.14221016112426668, 0.11739218029788187, 0.11389376807838968, 0.11386953256096627, 0.15468570518314775, 0.22074104183582052, 0.1457045419264571, 0.2083532604387244, 0.1421888522042431, 0.1865174471025456, 0.13827412268957423, 0.2113184325078857, 0.2105492427880714, 0.21724108992050756, 0.16635529487696699, 0.21511960064071903, 0.18934998201645808, 0.18800693238481178, 0.16913048493660748, 0.17552210313739314, 0.1826868131878595, 0.15974929460159218, 0.16183696934033945, 0.1585877292689443, 0.1562601088036215, 0.1560534252081363], \"Total\": [2.0, 3.0, 2.0, 1.0, 3.0, 2.0, 1.0, 1.0, 1.0, 1.0, 2.0, 2.0, 2.0, 1.0, 2.0, 2.0, 2.0, 1.0, 3.0, 1.0, 1.0, 1.0, 1.0, 1.0, 1.0, 1.0, 1.0, 0.0, 2.0, 2.0, 0.8359901730265396, 0.8588199549622642, 0.725479044011447, 0.709348309651666, 0.7084334801261102, 0.7884156533195976, 0.6956923350138956, 0.8777070265266943, 0.8144738240123889, 0.6741836118123706, 0.6637606302843463, 0.6636686956698746, 0.649296571131979, 0.8637911755743443, 0.6437821715280367, 0.6413101215615441, 0.6413071245885946, 0.6361400920417598, 0.6360615061975714, 0.8966994865774636, 0.6349734179881655, 0.9292344972091289, 0.6304137143544957, 0.6298528121552966, 0.6297856568308203, 0.6292380955935029, 0.6265599389348475, 0.6264960577767921, 0.7361657057382552, 0.7361379544656442, 0.7926074335259055, 1.2760299946928482, 0.8525793108675745, 2.1921701257689064, 1.12268683937205, 1.3146716447225812, 1.8415895334555779, 1.3683464316492688, 1.3634373214297313, 2.285980751021211, 1.1205540852235603, 2.49597411301169, 9.170887636313745, 1.272232591850268, 6.455425336014332, 1.4951760467881023, 1.918155620167425, 2.232028888498454, 3.5167871291808788, 4.916422332722611, 5.753193409496267, 5.281738235008699, 6.158312379534203, 2.994789485818799, 6.4941945206703995, 6.064065257525604, 2.4010945857976056, 4.810410276698356, 5.3074033013722275, 5.920295537542192, 2.535884503807773, 5.262261916103098, 4.90538646496572, 5.531546688472237, 3.1637580510444794, 4.607359613210317, 3.859253362228827, 2.0447063730618127, 0.7884028603499327, 0.8715329450472767, 0.7374400194032695, 0.7000284905371217, 0.6939823273495178, 0.6939500294495066, 0.6930368197629339, 0.6929976427652921, 0.688633999391762, 0.6848605958408556, 0.6811816765031029, 0.6705363896323092, 0.6652423737551562, 0.6621888075812967, 0.6621079285205309, 0.8282795434732911, 0.6515625373631326, 0.6457275128054648, 0.6456958839948741, 0.6349354132357871, 0.775100212837278, 0.6325466800805224, 0.6296242019265403, 0.6296097546566426, 0.6295847310789625, 0.6288522494092545, 0.628765841425615, 0.7451315358673475, 0.6152427296250174, 0.6152209467521096, 1.1798164206785027, 1.276097850566372, 2.601258363769917, 3.5167871291808788, 0.993523798618271, 2.167343135420905, 4.916422332722611, 1.4058475482512862, 2.1603837107903803, 6.064065257525604, 1.7689734966627968, 2.240007048696228, 2.2058031376806695, 2.1405066660730525, 5.281738235008699, 9.170887636313745, 5.3074033013722275, 6.158312379534203, 5.262261916103098, 4.051359826133235, 6.4941945206703995, 2.8826777464868405, 6.455425336014332, 5.531546688472237, 5.267371929427422, 5.753193409496267, 4.378645047941621, 4.449810075396008, 4.279786166715034, 4.810410276698356, 3.5722110416828894, 2.8907660833269664, 5.920295537542192, 2.731180695492785, 0.7149983548052599, 0.7130208953720046, 0.8941847971095396, 0.6792032801256802, 0.6538104259623565, 0.6523719561974789, 0.8161134795525552, 0.650798941093419, 0.6507818894083918, 0.6507229660042685, 0.6449252150713927, 0.760800375929249, 0.7795156426857168, 0.6180402022644784, 0.6177969129339452, 0.615175617075579, 0.6149136112054334, 0.614876277651448, 0.6148630024717507, 0.8435693700430342, 2.052429528892003, 0.7232557245227962, 0.6914633604149942, 0.5923855836803822, 0.590325691763913, 0.5902990483166427, 0.7366074632627834, 0.589313772658399, 0.5893027869233461, 1.0807717021501553, 1.6505792590605788, 0.7381200028713234, 1.3335922396599702, 0.9488397718627187, 1.3341259537996608, 1.3483832995525318, 1.3093378749009328, 3.646963671943867, 2.1517919619397157, 2.1060808930696204, 2.226160057010669, 3.790522282573868, 5.920295537542192, 3.859253362228827, 4.90538646496572, 5.3074033013722275, 4.916422332722611, 4.449810075396008, 5.753193409496267, 9.170887636313745, 4.378645047941621, 2.396195167400366, 2.193632291248626, 5.281738235008699, 5.262261916103098, 3.6662199643743913, 6.455425336014332, 6.158312379534203, 2.8826777464868405, 5.267371929427422, 4.482341932221405, 0.7012701589219064, 0.6974231737216657, 0.7927056336286415, 0.6746290223304628, 0.6670248298475677, 0.6656507560893784, 0.7512161026481717, 0.6545914360986927, 0.6455365659163665, 0.7123706312576016, 0.643382736791115, 0.6411383567468295, 0.6411296268101793, 0.636042828641522, 0.6323296497662756, 0.6258390233958813, 0.6257655891919722, 0.7366548460605615, 0.6242336756862095, 0.6242090695139182, 0.6177530805722098, 0.6176947709856904, 0.6095505494725625, 1.1463980817113453, 0.6068281571646293, 0.6046700303188669, 0.7819317290961463, 0.601572142045372, 0.6008257449961621, 0.6008251455632514, 0.7473511052393491, 1.0242662303577086, 1.4778504417054328, 1.9557510393812327, 1.6195003723172285, 3.6662199643743913, 4.482341932221405, 2.865999481506279, 4.301676702638883, 4.449810075396008, 2.186718802888323, 6.4941945206703995, 4.206547186442861, 4.810410276698356, 6.064065257525604, 6.158312379534203, 2.140581545231613, 6.455425336014332, 9.170887636313745, 5.920295537542192, 5.531546688472237, 3.5722110416828894, 3.788212832227202, 3.933064275699248, 3.859253362228827, 3.3855962297604982, 2.346363601391259, 3.215680388161921, 2.5039898511326175, 1.5157562455488203, 2.7796533643667862, 4.90538646496572, 4.607359613210317, 5.267371929427422, 1.0785174362385006, 0.7185376753650694, 0.885952936744509, 0.8384325679434771, 0.9820182967198787, 0.7885337844029999, 0.6694490937011026, 0.6671571961163723, 0.6612296450807694, 0.6438687430578972, 0.6413040510223832, 0.7446534348981262, 0.6199267001416903, 0.9383063708180062, 0.619902248160533, 0.6155851372223818, 0.613337404089628, 0.7471842682657898, 0.6106138031544481, 0.6106057050091709, 0.6026208494014464, 0.6021769932392399, 0.6021637218144587, 0.6938702436438048, 0.7355997368073348, 0.5889844767906453, 0.8841375992336905, 0.7580789747779281, 0.9382138850815527, 0.8505441274652689, 0.909256220689606, 2.6277153629260432, 1.2266166041099813, 1.0814287989711666, 1.2505220783755386, 1.466620082267883, 1.4694472926904973, 3.654023701586102, 1.8207937984536458, 2.1457241705947623, 1.7650754357760219, 2.760085723331689, 5.267371929427422, 6.4941945206703995, 2.9422631361267126, 2.120741935097574, 6.158312379534203, 9.170887636313745, 2.923426136728802, 5.531546688472237, 4.482341932221405, 4.301676702638883, 4.607359613210317, 5.281738235008699, 2.304337273306323, 4.90538646496572, 3.015525833500662, 4.916422332722611, 5.920295537542192, 4.449810075396008, 3.1637580510444794, 4.279786166715034, 3.3855962297604982, 4.378645047941621, 0.6737592478207112, 0.6693761852555665, 0.6615775735440209, 0.6469561559638822, 0.6387460598215156, 0.6365335646335852, 0.6365067633204886, 0.6195091852462336, 0.6194780293854961, 0.7367789775132524, 0.6141584757138696, 0.6090018912019467, 0.7061988271192765, 0.8030072755865698, 0.5947939784275196, 0.5947669535386216, 0.5942604668257178, 0.5942212489909272, 1.159605684993665, 0.5932097243752475, 0.5913899781458941, 0.5846512546234404, 0.580883202060979, 0.5808817933767926, 0.5808734815673651, 0.580453908003698, 0.580393398680241, 0.5741431666701919, 0.5741289729229011, 0.5741004357842326, 1.429224815274858, 2.3292414138176705, 2.0702012193807646, 5.753193409496267, 1.8275474020864952, 3.654023701586102, 2.994789485818799, 1.747184726494663, 2.77188766420572, 1.204806083626247, 1.607904091387564, 4.279786166715034, 9.170887636313745, 1.983177984956858, 2.1017469221467286, 5.920295537542192, 6.4941945206703995, 5.281738235008699, 5.531546688472237, 6.064065257525604, 6.455425336014332, 4.206547186442861, 3.790522282573868, 6.158312379534203, 5.262261916103098, 5.267371929427422, 2.866314760523808, 2.3461498740486846, 3.6662199643743913, 3.5722110416828894, 4.482341932221405, 4.90538646496572, 0.7262134581308879, 0.7053390800329884, 0.6827846586636956, 0.6608516907309042, 0.6572266647715312, 1.1945064837051822, 0.6402143817006495, 0.6346725771343672, 0.6267031477686621, 0.6266864632127197, 0.6014177643375211, 0.5988403291008428, 0.5976183246835888, 0.6619657703105447, 0.592193220652741, 0.5921362066194219, 0.5888677428576563, 0.5888247478803853, 0.5887916991580268, 0.5853429336758429, 0.5853168655315725, 0.5852697114350895, 0.584061707444481, 0.5840404854409426, 0.5823010300589672, 0.582287683138248, 1.1941930254739472, 0.5782695195840177, 0.5782677252785673, 0.5782160727360103, 2.1981331029693973, 0.78015071903071, 2.4967460982821876, 1.5251504765410304, 1.066207072308463, 3.015525833500662, 2.4659141323201954, 5.267371929427422, 1.3764709387129488, 9.170887636313745, 2.3846048346772064, 4.90538646496572, 3.215680388161921, 1.2235286848801137, 6.064065257525604, 3.1296599857368244, 5.262261916103098, 2.232028888498454, 6.4941945206703995, 3.790522282573868, 3.5722110416828894, 3.859253362228827, 5.920295537542192, 5.753193409496267, 5.3074033013722275, 6.455425336014332, 5.531546688472237, 2.8057423646644737, 4.051359826133235, 3.933064275699248, 0.7862194728245475, 0.6568477761043513, 0.6362671512444498, 0.7342032004619513, 0.6050876934571315, 0.5980289844111094, 0.5979984508265284, 0.5979787010075076, 0.6939289096513942, 0.5887654363574448, 0.5827898649976525, 0.8130181611125888, 0.5778805545020301, 0.8655015725608692, 0.6591185679713413, 0.5718572865364245, 0.5706179379471649, 0.5706119666882015, 0.5705902345894244, 0.5705758334413495, 0.5685136716228273, 0.7306537471890856, 0.7513125289947126, 1.1962016267762445, 0.7183455728940129, 0.5617016442075707, 0.5616575399111305, 0.6437345006246222, 0.560780920691685, 0.5607755978295998, 1.1236706079352443, 1.1462570468440634, 0.7820970440560795, 1.3622181229043373, 1.3854854239817178, 0.9348637025757291, 1.2825189362933955, 2.140581545231613, 2.9422631361267126, 1.8603926476008803, 2.0447063730618127, 1.7694599723463635, 1.6021523420642438, 5.3074033013722275, 1.8788401063509357, 1.7674468463580495, 3.933064275699248, 1.6678726614342507, 4.378645047941621, 5.267371929427422, 2.3798918067949093, 1.2966667323748782, 3.1637580510444794, 9.170887636313745, 6.064065257525604, 2.396195167400366, 5.531546688472237, 4.279786166715034, 3.654023701586102, 2.994789485818799, 6.455425336014332, 2.4575652798100984, 5.753193409496267, 5.920295537542192, 4.90538646496572, 2.7084283451988296, 0.7099209901472334, 0.7792490711985337, 0.7029802442762919, 0.6580285941097176, 0.6573590332878988, 0.6483896474487397, 0.6329686703133058, 0.6944118982814699, 0.6007731673721864, 0.600756409767375, 0.6707843706010604, 0.5930747374416907, 0.5930548622788652, 0.5930526479038022, 0.5930324759348677, 0.6594832502841822, 0.586272484332512, 0.6963696344222999, 0.5815382139820634, 0.5815373379774755, 0.5815017835899005, 0.5766726419111992, 0.5737626929140325, 0.5727671215037807, 0.5727614613995645, 0.7529626132456838, 0.7296703681438572, 1.409121495924401, 0.5642802113194342, 0.5642715868627198, 1.1487557040720833, 0.982226658863144, 1.3515287105910831, 1.3734594490963574, 1.1813371835552038, 1.8829631172114056, 2.3292414138176705, 1.9470142355234896, 0.9549066547863334, 1.7877317531849413, 1.6021523420642438, 3.933064275699248, 1.0633406250868773, 1.7038991388363036, 9.170887636313745, 1.2299967389155746, 6.064065257525604, 3.790522282573868, 4.206547186442861, 6.455425336014332, 2.8907660833269664, 3.215680388161921, 2.176336575283333, 1.9925031291581754, 4.378645047941621, 5.753193409496267, 2.232028888498454, 3.788212832227202, 6.158312379534203, 4.449810075396008, 5.267371929427422, 5.262261916103098, 5.281738235008699, 0.6633100346101612, 0.6632676003020596, 0.8142397174618141, 0.6487927758841038, 0.6362956186638862, 0.6092102620952696, 0.6091671660746718, 0.6068110540902958, 0.6035982440385996, 0.6017009775687672, 0.60165297198946, 0.6004444045982522, 0.6003920889177083, 0.5897819808624726, 0.5897594581257598, 1.0591667894481462, 0.7918388460565625, 0.5820694383865549, 0.6735345360362284, 1.6645120545062029, 0.6686411800287044, 0.5742289420643959, 0.5742093983387925, 0.5741950508653739, 1.2630994713160681, 0.5718434852013518, 0.66885190407129, 0.7893613359417504, 0.5661307498797857, 0.5661106731174801, 0.8040269483228922, 0.6442943800557108, 0.8332968228895743, 0.7358409401618475, 1.0598847141796979, 0.9221380766795042, 0.7117287386335344, 2.855372678382277, 1.2155435821728655, 2.1666931458503496, 2.731180695492785, 1.7788758382107526, 2.601258363769917, 2.427500436508697, 1.6074466672502434, 2.8845581430969927, 5.262261916103098, 1.2168816331281551, 2.8078997511308312, 9.170887636313745, 5.3074033013722275, 4.607359613210317, 1.8366434184942777, 6.158312379534203, 6.455425336014332, 3.859253362228827, 2.279984511055697, 5.281738235008699, 2.8225057565531886, 2.3798918067949093, 2.2985848949401646, 6.4941945206703995, 4.206547186442861, 4.051359826133235, 4.301676702638883, 4.90538646496572, 3.646963671943867, 0.7438441403787104, 0.7015799739326462, 0.6899458439980127, 0.6659439664635524, 0.6650443051649076, 0.6374892770626166, 0.6374145628124747, 0.6355979777797947, 0.6074688310141128, 0.6070718251511382, 0.6070555340551893, 0.6070546938549729, 0.5968458144495226, 0.5968405913381316, 0.5939505620866729, 0.5939327793435883, 0.593905999664051, 0.5903251685561104, 0.5900136588657051, 0.5869105890778078, 0.586079696899397, 0.5836507921741456, 0.5801488311179938, 0.5763997218783157, 0.7097533146355608, 0.5755464752057422, 0.575533570073098, 0.5755319516701847, 0.8962655993996568, 0.5713767502806587, 0.7432935578076308, 1.004521013718279, 1.0495748614089528, 0.7404131283107058, 0.7476001936058909, 1.7069589652812795, 1.2061605753093223, 1.1405722294924656, 3.788212832227202, 9.170887636313745, 2.4424488690227015, 3.646963671943867, 2.923426136728802, 1.6845043153472383, 4.378645047941621, 6.4941945206703995, 5.920295537542192, 2.0708146097794695, 2.855372678382277, 1.9051583810860222, 5.753193409496267, 1.8809483805908231, 5.262261916103098, 6.455425336014332, 6.158312379534203, 5.267371929427422, 3.859253362228827, 6.064065257525604, 3.933064275699248, 4.206547186442861, 2.8907660833269664, 4.607359613210317, 0.6404433338848298, 0.6348831661118461, 0.6303717573604571, 0.6146760738040868, 0.6146676583047921, 0.6133109968061103, 0.6132401199407648, 0.6120164674483514, 0.609486583398911, 0.6052259840888421, 0.5999078055341812, 0.5998985500637278, 0.5980755085616184, 0.5904849615222443, 0.5888392999071633, 0.5881695380065468, 0.6946287365820824, 0.5717101422828023, 0.5712136166589533, 0.5711840450830717, 0.5711731652943498, 0.5711671491257876, 0.7881505605013515, 0.5631730165143436, 0.7327386624770107, 0.5586375991261041, 0.5586326894194767, 0.6191685922126652, 0.5501252294071595, 0.5501163390347608, 0.8447956052936789, 0.8107193479111563, 1.6638596813739652, 2.49597411301169, 2.760085723331689, 0.8015403123363012, 3.646963671943867, 2.1051103831639595, 1.0732854669899399, 4.301676702638883, 1.0289186001795223, 6.455425336014332, 2.23791299928261, 4.810410276698356, 9.170887636313745, 3.654023701586102, 6.4941945206703995, 2.032974388274211, 4.051359826133235, 5.281738235008699, 5.3074033013722275, 1.4837866340996817, 1.9771086110207943, 4.482341932221405, 6.158312379534203, 5.920295537542192, 2.865999481506279, 2.1014025952873823, 2.8057423646644737, 6.064065257525604, 4.279786166715034, 2.415586333148473, 1.8734439470495434, 2.994789485818799, 5.531546688472237, 4.607359613210317, 0.663777680199166, 0.63890849358283, 0.617205310501847, 0.6155522143744545, 0.6155062561641104, 0.6065790802892477, 0.6033623657990699, 0.6033318557056657, 0.5928141708996821, 0.5824305983878535, 0.5824152358968747, 0.8118648701213941, 0.6938180785803496, 0.5712345899263881, 0.5712279200701483, 0.5695015208681147, 0.7634039245963747, 0.5671534121438755, 0.5619582088169329, 0.5619073434480558, 0.5600792307196687, 0.5585004865696345, 0.558497621658454, 0.5584949000588489, 0.5580414427389319, 0.6952934082572725, 0.8936940454529326, 0.6956241237967692, 0.5541785144158603, 0.5541557010419752, 1.8117562004581331, 0.9232509089713328, 3.788212832227202, 0.6420951280061603, 2.1603837107903803, 0.7449282449199245, 1.34217896513669, 1.3350659375063654, 1.5903726631358452, 5.920295537542192, 9.170887636313745, 3.790522282573868, 2.5039898511326175, 5.753193409496267, 5.531546688472237, 4.607359613210317, 1.685281743136177, 1.8773389839718801, 2.1548611597729646, 4.449810075396008, 6.455425336014332, 6.4941945206703995, 6.158312379534203, 5.262261916103098, 2.535884503807773, 1.8974079981371628, 2.186718802888323, 4.810410276698356, 0.610666550156167, 0.5973278839482765, 0.5871170871366487, 0.5850692340886787, 0.5761180573405122, 0.5760801745601826, 0.5753675136247107, 0.78306443429348, 0.5613406848651654, 0.55230679392104, 0.6381086906399605, 0.5425830172011664, 0.5425040795697269, 0.5419384573748132, 0.5419158385272611, 0.6830233699195093, 0.5344922657033919, 0.5344891063142243, 0.6515151946580846, 0.5285800326362713, 0.5285402651923111, 0.7355425350705724, 0.6648832946041957, 0.6122835215757407, 0.5246218305094212, 0.5246188579091726, 0.6219315918060936, 0.5216646796193251, 0.5181663045648699, 0.5181421407852909, 0.7149085600741045, 1.3335922396599702, 0.7375161934657686, 1.5312796892763927, 0.7327386624770107, 1.3947726766490798, 0.6973003179304345, 2.427500436508697, 3.015525833500662, 4.607359613210317, 1.6195003723172285, 9.170887636313745, 4.279786166715034, 5.531546688472237, 2.5580995092934256, 3.5722110416828894, 6.064065257525604, 2.1457241705947623, 4.206547186442861, 4.90538646496572, 4.378645047941621, 5.753193409496267], \"Category\": [\"Default\", \"Default\", \"Default\", \"Default\", \"Default\", \"Default\", \"Default\", \"Default\", \"Default\", \"Default\", \"Default\", \"Default\", \"Default\", \"Default\", \"Default\", \"Default\", \"Default\", \"Default\", \"Default\", \"Default\", \"Default\", \"Default\", \"Default\", \"Default\", \"Default\", \"Default\", \"Default\", \"Default\", \"Default\", \"Default\", \"Topic1\", \"Topic1\", \"Topic1\", \"Topic1\", \"Topic1\", \"Topic1\", \"Topic1\", \"Topic1\", \"Topic1\", \"Topic1\", \"Topic1\", \"Topic1\", \"Topic1\", \"Topic1\", \"Topic1\", \"Topic1\", \"Topic1\", \"Topic1\", \"Topic1\", \"Topic1\", \"Topic1\", \"Topic1\", \"Topic1\", \"Topic1\", \"Topic1\", \"Topic1\", \"Topic1\", \"Topic1\", \"Topic1\", \"Topic1\", \"Topic1\", \"Topic1\", \"Topic1\", \"Topic1\", \"Topic1\", \"Topic1\", \"Topic1\", \"Topic1\", \"Topic1\", \"Topic1\", \"Topic1\", \"Topic1\", \"Topic1\", \"Topic1\", \"Topic1\", \"Topic1\", \"Topic1\", \"Topic1\", \"Topic1\", \"Topic1\", \"Topic1\", \"Topic1\", \"Topic1\", \"Topic1\", \"Topic1\", \"Topic1\", \"Topic1\", \"Topic1\", \"Topic1\", \"Topic1\", \"Topic1\", \"Topic1\", \"Topic1\", \"Topic1\", \"Topic1\", \"Topic1\", \"Topic1\", \"Topic1\", \"Topic2\", \"Topic2\", \"Topic2\", \"Topic2\", \"Topic2\", \"Topic2\", \"Topic2\", \"Topic2\", \"Topic2\", \"Topic2\", \"Topic2\", \"Topic2\", \"Topic2\", \"Topic2\", \"Topic2\", \"Topic2\", \"Topic2\", \"Topic2\", \"Topic2\", \"Topic2\", \"Topic2\", \"Topic2\", \"Topic2\", \"Topic2\", \"Topic2\", \"Topic2\", \"Topic2\", \"Topic2\", \"Topic2\", \"Topic2\", \"Topic2\", \"Topic2\", \"Topic2\", \"Topic2\", \"Topic2\", \"Topic2\", \"Topic2\", \"Topic2\", \"Topic2\", \"Topic2\", \"Topic2\", \"Topic2\", \"Topic2\", \"Topic2\", \"Topic2\", \"Topic2\", \"Topic2\", \"Topic2\", \"Topic2\", \"Topic2\", \"Topic2\", \"Topic2\", \"Topic2\", \"Topic2\", \"Topic2\", \"Topic2\", \"Topic2\", \"Topic2\", \"Topic2\", \"Topic2\", \"Topic2\", \"Topic2\", \"Topic2\", \"Topic2\", \"Topic3\", \"Topic3\", \"Topic3\", \"Topic3\", \"Topic3\", \"Topic3\", \"Topic3\", \"Topic3\", \"Topic3\", \"Topic3\", \"Topic3\", \"Topic3\", \"Topic3\", \"Topic3\", \"Topic3\", \"Topic3\", \"Topic3\", \"Topic3\", \"Topic3\", \"Topic3\", \"Topic3\", \"Topic3\", \"Topic3\", \"Topic3\", \"Topic3\", \"Topic3\", \"Topic3\", \"Topic3\", \"Topic3\", \"Topic3\", \"Topic3\", \"Topic3\", \"Topic3\", \"Topic3\", \"Topic3\", \"Topic3\", \"Topic3\", \"Topic3\", \"Topic3\", \"Topic3\", \"Topic3\", \"Topic3\", \"Topic3\", \"Topic3\", \"Topic3\", \"Topic3\", \"Topic3\", \"Topic3\", \"Topic3\", \"Topic3\", \"Topic3\", \"Topic3\", \"Topic3\", \"Topic3\", \"Topic3\", \"Topic3\", \"Topic3\", \"Topic3\", \"Topic3\", \"Topic3\", \"Topic3\", \"Topic4\", \"Topic4\", \"Topic4\", \"Topic4\", \"Topic4\", \"Topic4\", \"Topic4\", \"Topic4\", \"Topic4\", \"Topic4\", \"Topic4\", \"Topic4\", \"Topic4\", \"Topic4\", \"Topic4\", \"Topic4\", \"Topic4\", \"Topic4\", \"Topic4\", \"Topic4\", \"Topic4\", \"Topic4\", \"Topic4\", \"Topic4\", \"Topic4\", \"Topic4\", \"Topic4\", \"Topic4\", \"Topic4\", \"Topic4\", \"Topic4\", \"Topic4\", \"Topic4\", \"Topic4\", \"Topic4\", \"Topic4\", \"Topic4\", \"Topic4\", \"Topic4\", \"Topic4\", \"Topic4\", \"Topic4\", \"Topic4\", \"Topic4\", \"Topic4\", \"Topic4\", \"Topic4\", \"Topic4\", \"Topic4\", \"Topic4\", \"Topic4\", \"Topic4\", \"Topic4\", \"Topic4\", \"Topic4\", \"Topic4\", \"Topic4\", \"Topic4\", \"Topic4\", \"Topic4\", \"Topic4\", \"Topic4\", \"Topic4\", \"Topic4\", \"Topic5\", \"Topic5\", \"Topic5\", \"Topic5\", \"Topic5\", \"Topic5\", \"Topic5\", \"Topic5\", \"Topic5\", \"Topic5\", \"Topic5\", \"Topic5\", \"Topic5\", \"Topic5\", \"Topic5\", \"Topic5\", \"Topic5\", \"Topic5\", \"Topic5\", \"Topic5\", \"Topic5\", \"Topic5\", \"Topic5\", \"Topic5\", \"Topic5\", \"Topic5\", \"Topic5\", \"Topic5\", \"Topic5\", \"Topic5\", \"Topic5\", \"Topic5\", \"Topic5\", \"Topic5\", \"Topic5\", \"Topic5\", \"Topic5\", \"Topic5\", \"Topic5\", \"Topic5\", \"Topic5\", \"Topic5\", \"Topic5\", \"Topic5\", \"Topic5\", \"Topic5\", \"Topic5\", \"Topic5\", \"Topic5\", \"Topic5\", \"Topic5\", \"Topic5\", \"Topic5\", \"Topic5\", \"Topic5\", \"Topic5\", \"Topic5\", \"Topic5\", \"Topic5\", \"Topic5\", \"Topic5\", \"Topic5\", \"Topic5\", \"Topic5\", \"Topic6\", \"Topic6\", \"Topic6\", \"Topic6\", \"Topic6\", \"Topic6\", \"Topic6\", \"Topic6\", \"Topic6\", \"Topic6\", \"Topic6\", \"Topic6\", \"Topic6\", \"Topic6\", \"Topic6\", \"Topic6\", \"Topic6\", \"Topic6\", \"Topic6\", \"Topic6\", \"Topic6\", \"Topic6\", \"Topic6\", \"Topic6\", \"Topic6\", \"Topic6\", \"Topic6\", \"Topic6\", \"Topic6\", \"Topic6\", \"Topic6\", \"Topic6\", \"Topic6\", \"Topic6\", \"Topic6\", \"Topic6\", \"Topic6\", \"Topic6\", \"Topic6\", \"Topic6\", \"Topic6\", \"Topic6\", \"Topic6\", \"Topic6\", \"Topic6\", \"Topic6\", \"Topic6\", \"Topic6\", \"Topic6\", \"Topic6\", \"Topic6\", \"Topic6\", \"Topic6\", \"Topic6\", \"Topic6\", \"Topic6\", \"Topic6\", \"Topic6\", \"Topic6\", \"Topic6\", \"Topic6\", \"Topic6\", \"Topic7\", \"Topic7\", \"Topic7\", \"Topic7\", \"Topic7\", \"Topic7\", \"Topic7\", \"Topic7\", \"Topic7\", \"Topic7\", \"Topic7\", \"Topic7\", \"Topic7\", \"Topic7\", \"Topic7\", \"Topic7\", \"Topic7\", \"Topic7\", \"Topic7\", \"Topic7\", \"Topic7\", \"Topic7\", \"Topic7\", \"Topic7\", \"Topic7\", \"Topic7\", \"Topic7\", \"Topic7\", \"Topic7\", \"Topic7\", \"Topic7\", \"Topic7\", \"Topic7\", \"Topic7\", \"Topic7\", \"Topic7\", \"Topic7\", \"Topic7\", \"Topic7\", \"Topic7\", \"Topic7\", \"Topic7\", \"Topic7\", \"Topic7\", \"Topic7\", \"Topic7\", \"Topic7\", \"Topic7\", \"Topic7\", \"Topic7\", \"Topic7\", \"Topic7\", \"Topic7\", \"Topic7\", \"Topic7\", \"Topic7\", \"Topic7\", \"Topic7\", \"Topic7\", \"Topic7\", \"Topic8\", \"Topic8\", \"Topic8\", \"Topic8\", \"Topic8\", \"Topic8\", \"Topic8\", \"Topic8\", \"Topic8\", \"Topic8\", \"Topic8\", \"Topic8\", \"Topic8\", \"Topic8\", \"Topic8\", \"Topic8\", \"Topic8\", \"Topic8\", \"Topic8\", \"Topic8\", \"Topic8\", \"Topic8\", \"Topic8\", \"Topic8\", \"Topic8\", \"Topic8\", \"Topic8\", \"Topic8\", \"Topic8\", \"Topic8\", \"Topic8\", \"Topic8\", \"Topic8\", \"Topic8\", \"Topic8\", \"Topic8\", \"Topic8\", \"Topic8\", \"Topic8\", \"Topic8\", \"Topic8\", \"Topic8\", \"Topic8\", \"Topic8\", \"Topic8\", \"Topic8\", \"Topic8\", \"Topic8\", \"Topic8\", \"Topic8\", \"Topic8\", \"Topic8\", \"Topic8\", \"Topic8\", \"Topic8\", \"Topic8\", \"Topic8\", \"Topic8\", \"Topic8\", \"Topic8\", \"Topic8\", \"Topic8\", \"Topic8\", \"Topic8\", \"Topic8\", \"Topic8\", \"Topic9\", \"Topic9\", \"Topic9\", \"Topic9\", \"Topic9\", \"Topic9\", \"Topic9\", \"Topic9\", \"Topic9\", \"Topic9\", \"Topic9\", \"Topic9\", \"Topic9\", \"Topic9\", \"Topic9\", \"Topic9\", \"Topic9\", \"Topic9\", \"Topic9\", \"Topic9\", \"Topic9\", \"Topic9\", \"Topic9\", \"Topic9\", \"Topic9\", \"Topic9\", \"Topic9\", \"Topic9\", \"Topic9\", \"Topic9\", \"Topic9\", \"Topic9\", \"Topic9\", \"Topic9\", \"Topic9\", \"Topic9\", \"Topic9\", \"Topic9\", \"Topic9\", \"Topic9\", \"Topic9\", \"Topic9\", \"Topic9\", \"Topic9\", \"Topic9\", \"Topic9\", \"Topic9\", \"Topic9\", \"Topic9\", \"Topic9\", \"Topic9\", \"Topic9\", \"Topic9\", \"Topic9\", \"Topic9\", \"Topic9\", \"Topic9\", \"Topic9\", \"Topic9\", \"Topic9\", \"Topic9\", \"Topic9\", \"Topic9\", \"Topic10\", \"Topic10\", \"Topic10\", \"Topic10\", \"Topic10\", \"Topic10\", \"Topic10\", \"Topic10\", \"Topic10\", \"Topic10\", \"Topic10\", \"Topic10\", \"Topic10\", \"Topic10\", \"Topic10\", \"Topic10\", \"Topic10\", \"Topic10\", \"Topic10\", \"Topic10\", \"Topic10\", \"Topic10\", \"Topic10\", \"Topic10\", \"Topic10\", \"Topic10\", \"Topic10\", \"Topic10\", \"Topic10\", \"Topic10\", \"Topic10\", \"Topic10\", \"Topic10\", \"Topic10\", \"Topic10\", \"Topic10\", \"Topic10\", \"Topic10\", \"Topic10\", \"Topic10\", \"Topic10\", \"Topic10\", \"Topic10\", \"Topic10\", \"Topic10\", \"Topic10\", \"Topic10\", \"Topic10\", \"Topic10\", \"Topic10\", \"Topic10\", \"Topic10\", \"Topic10\", \"Topic10\", \"Topic10\", \"Topic10\", \"Topic10\", \"Topic10\", \"Topic10\", \"Topic10\", \"Topic10\", \"Topic10\", \"Topic10\", \"Topic10\", \"Topic10\", \"Topic10\", \"Topic10\", \"Topic11\", \"Topic11\", \"Topic11\", \"Topic11\", \"Topic11\", \"Topic11\", \"Topic11\", \"Topic11\", \"Topic11\", \"Topic11\", \"Topic11\", \"Topic11\", \"Topic11\", \"Topic11\", \"Topic11\", \"Topic11\", \"Topic11\", \"Topic11\", \"Topic11\", \"Topic11\", \"Topic11\", \"Topic11\", \"Topic11\", \"Topic11\", \"Topic11\", \"Topic11\", \"Topic11\", \"Topic11\", \"Topic11\", \"Topic11\", \"Topic11\", \"Topic11\", \"Topic11\", \"Topic11\", \"Topic11\", \"Topic11\", \"Topic11\", \"Topic11\", \"Topic11\", \"Topic11\", \"Topic11\", \"Topic11\", \"Topic11\", \"Topic11\", \"Topic11\", \"Topic11\", \"Topic11\", \"Topic11\", \"Topic11\", \"Topic11\", \"Topic11\", \"Topic11\", \"Topic11\", \"Topic11\", \"Topic11\", \"Topic11\", \"Topic11\", \"Topic11\", \"Topic11\", \"Topic11\", \"Topic11\", \"Topic11\", \"Topic12\", \"Topic12\", \"Topic12\", \"Topic12\", \"Topic12\", \"Topic12\", \"Topic12\", \"Topic12\", \"Topic12\", \"Topic12\", \"Topic12\", \"Topic12\", \"Topic12\", \"Topic12\", \"Topic12\", \"Topic12\", \"Topic12\", \"Topic12\", \"Topic12\", \"Topic12\", \"Topic12\", \"Topic12\", \"Topic12\", \"Topic12\", \"Topic12\", \"Topic12\", \"Topic12\", \"Topic12\", \"Topic12\", \"Topic12\", \"Topic12\", \"Topic12\", \"Topic12\", \"Topic12\", \"Topic12\", \"Topic12\", \"Topic12\", \"Topic12\", \"Topic12\", \"Topic12\", \"Topic12\", \"Topic12\", \"Topic12\", \"Topic12\", \"Topic12\", \"Topic12\", \"Topic12\", \"Topic12\", \"Topic12\", \"Topic12\", \"Topic12\", \"Topic12\", \"Topic12\", \"Topic12\", \"Topic12\", \"Topic12\", \"Topic12\", \"Topic12\", \"Topic12\", \"Topic12\", \"Topic12\", \"Topic12\", \"Topic12\", \"Topic12\", \"Topic12\", \"Topic12\", \"Topic13\", \"Topic13\", \"Topic13\", \"Topic13\", \"Topic13\", \"Topic13\", \"Topic13\", \"Topic13\", \"Topic13\", \"Topic13\", \"Topic13\", \"Topic13\", \"Topic13\", \"Topic13\", \"Topic13\", \"Topic13\", \"Topic13\", \"Topic13\", \"Topic13\", \"Topic13\", \"Topic13\", \"Topic13\", \"Topic13\", \"Topic13\", \"Topic13\", \"Topic13\", \"Topic13\", \"Topic13\", \"Topic13\", \"Topic13\", \"Topic13\", \"Topic13\", \"Topic13\", \"Topic13\", \"Topic13\", \"Topic13\", \"Topic13\", \"Topic13\", \"Topic13\", \"Topic13\", \"Topic13\", \"Topic13\", \"Topic13\", \"Topic13\", \"Topic13\", \"Topic13\", \"Topic13\", \"Topic13\", \"Topic13\", \"Topic13\", \"Topic13\", \"Topic13\", \"Topic13\", \"Topic13\", \"Topic13\", \"Topic13\", \"Topic13\", \"Topic13\", \"Topic14\", \"Topic14\", \"Topic14\", \"Topic14\", \"Topic14\", \"Topic14\", \"Topic14\", \"Topic14\", \"Topic14\", \"Topic14\", \"Topic14\", \"Topic14\", \"Topic14\", \"Topic14\", \"Topic14\", \"Topic14\", \"Topic14\", \"Topic14\", \"Topic14\", \"Topic14\", \"Topic14\", \"Topic14\", \"Topic14\", \"Topic14\", \"Topic14\", \"Topic14\", \"Topic14\", \"Topic14\", \"Topic14\", \"Topic14\", \"Topic14\", \"Topic14\", \"Topic14\", \"Topic14\", \"Topic14\", \"Topic14\", \"Topic14\", \"Topic14\", \"Topic14\", \"Topic14\", \"Topic14\", \"Topic14\", \"Topic14\", \"Topic14\", \"Topic14\", \"Topic14\", \"Topic14\", \"Topic14\", \"Topic14\", \"Topic14\", \"Topic14\", \"Topic14\"], \"logprob\": [30.0, 29.0, 28.0, 27.0, 26.0, 25.0, 24.0, 23.0, 22.0, 21.0, 20.0, 19.0, 18.0, 17.0, 16.0, 15.0, 14.0, 13.0, 12.0, 11.0, 10.0, 9.0, 8.0, 7.0, 6.0, 5.0, 4.0, 3.0, 2.0, 1.0, -6.3268, -6.4395, -6.611, -6.6601, -6.663, -6.5653, -6.7037, -6.4823, -6.584, -6.7765, -6.8138, -6.8141, -6.8679, -6.583, -6.8894, -6.8991, -6.8991, -6.9198, -6.9202, -6.5779, -6.9246, -6.5493, -6.9433, -6.9456, -6.9459, -6.9482, -6.9594, -6.9597, -6.8137, -6.8143, -6.7447, -6.3129, -6.6823, -5.9863, -6.5218, -6.4132, -6.1798, -6.3996, -6.4224, -6.1068, -6.5624, -6.1149, -5.3948, -6.5065, -5.6495, -6.427, -6.3294, -6.268, -6.0673, -5.9321, -5.8757, -5.9517, -5.8969, -6.1763, -5.9285, -5.9554, -6.2695, -6.0697, -6.0877, -6.1121, -6.3279, -6.1676, -6.2167, -6.2038, -6.3052, -6.2643, -6.3109, -6.3938, -6.4136, -6.326, -6.5503, -6.6641, -6.6837, -6.6839, -6.6869, -6.687, -6.7015, -6.7142, -6.7267, -6.7639, -6.7829, -6.794, -6.7943, -6.5772, -6.8338, -6.8563, -6.8564, -6.8994, -6.7043, -6.9091, -6.9212, -6.9213, -6.9214, -6.9245, -6.9248, -6.7884, -6.983, -6.9831, -6.4008, -6.3749, -5.8326, -5.6507, -6.6211, -6.1255, -5.6634, -6.4291, -6.1834, -5.5949, -6.3052, -6.1849, -6.1949, -6.2202, -5.7774, -5.5584, -5.8638, -5.8041, -5.9154, -6.06, -5.9308, -6.2165, -5.9541, -6.0077, -6.0643, -6.0493, -6.1313, -6.1363, -6.1634, -6.1664, -6.2341, -6.2771, -6.2162, -6.317, -6.515, -6.5211, -6.3061, -6.6323, -6.7248, -6.7303, -6.5095, -6.7364, -6.7364, -6.7367, -6.7593, -6.6505, -6.6282, -6.8716, -6.8726, -6.8843, -6.8855, -6.8857, -6.8857, -6.5759, -5.694, -6.7419, -6.8154, -6.9919, -7.0022, -7.0023, -6.7813, -7.0073, -7.0074, -6.4075, -6.0399, -6.8011, -6.3353, -6.6137, -6.338, -6.4012, -6.4243, -5.8357, -6.2217, -6.2386, -6.2225, -5.9568, -5.7643, -5.9888, -5.9046, -5.9048, -5.9556, -5.9982, -5.9377, -5.8279, -6.0928, -6.2972, -6.3358, -6.0913, -6.0963, -6.2096, -6.1438, -6.187, -6.3114, -6.2834, -6.3901, -6.52, -6.5326, -6.4184, -6.6104, -6.6378, -6.6429, -6.5408, -6.6843, -6.7195, -6.6238, -6.7281, -6.7371, -6.7371, -6.7578, -6.7732, -6.8007, -6.801, -6.6393, -6.8077, -6.8078, -6.8361, -6.8363, -6.8733, -6.2432, -6.8859, -6.8961, -6.6393, -6.9108, -6.9144, -6.9144, -6.7172, -6.4518, -6.1851, -5.9885, -6.1428, -5.5824, -5.5792, -5.8798, -5.6694, -5.6663, -6.0881, -5.508, -5.8462, -5.806, -5.7062, -5.7321, -6.2008, -5.7237, -5.604, -5.8012, -5.8457, -6.0339, -6.0368, -6.0375, -6.0492, -6.1079, -6.2456, -6.1958, -6.2728, -6.3811, -6.2749, -6.2006, -6.2509, -6.2661, -6.0061, -6.4454, -6.2578, -6.3385, -6.1933, -6.4315, -6.6089, -6.6173, -6.6391, -6.7061, -6.7164, -6.5726, -6.8065, -6.392, -6.8066, -6.8258, -6.836, -6.6399, -6.8484, -6.8485, -6.8859, -6.888, -6.8881, -6.7566, -6.7189, -6.9532, -6.5473, -6.7105, -6.4993, -6.5997, -6.5485, -5.7379, -6.3782, -6.478, -6.3857, -6.2946, -6.2935, -5.7404, -6.179, -6.0958, -6.2108, -6.0097, -5.68, -5.593, -6.0154, -6.1784, -5.7591, -5.6625, -6.1019, -5.8836, -5.9619, -5.9913, -5.9761, -5.9649, -6.2313, -6.0459, -6.1868, -6.1161, -6.1059, -6.1774, -6.2508, -6.2467, -6.2611, -6.2571, -6.502, -6.5178, -6.5466, -6.603, -6.6362, -6.6453, -6.6454, -6.7183, -6.7185, -6.5524, -6.7425, -6.7663, -6.6488, -6.5249, -6.8349, -6.8351, -6.8376, -6.8378, -6.1722, -6.8429, -6.8521, -6.887, -6.9071, -6.9071, -6.9071, -6.9094, -6.9097, -6.944, -6.9441, -6.9442, -6.0576, -5.8481, -6.0074, -5.3278, -6.1316, -5.7324, -5.8605, -6.2184, -5.9788, -6.481, -6.3588, -5.8966, -5.5472, -6.2828, -6.2677, -5.814, -5.8024, -5.9007, -5.9053, -5.884, -5.8933, -6.0913, -6.1445, -6.0214, -6.0793, -6.0794, -6.2432, -6.2892, -6.2341, -6.2588, -6.2344, -6.2856, -6.3252, -6.3903, -6.4658, -6.5451, -6.5589, -5.9754, -6.626, -6.6488, -6.6827, -6.6828, -6.7983, -6.8109, -6.8169, -6.7283, -6.844, -6.8443, -6.8611, -6.8613, -6.8615, -6.8794, -6.8796, -6.8798, -6.8862, -6.8863, -6.8955, -6.8956, -6.1803, -6.9173, -6.9173, -6.9176, -5.6866, -6.6992, -5.8991, -6.2728, -6.5089, -5.9641, -6.1109, -5.8337, -6.4895, -5.6456, -6.2529, -5.9438, -6.1261, -6.555, -5.9517, -6.226, -6.0693, -6.3878, -6.085, -6.2427, -6.2619, -6.253, -6.1523, -6.2021, -6.2873, -6.2946, -6.3207, -6.4053, -6.3704, -6.381, -6.3217, -6.5195, -6.6017, -6.5415, -6.7406, -6.7749, -6.7751, -6.7752, -6.6467, -6.8218, -6.8533, -6.5309, -6.8799, -6.4809, -6.7709, -6.9136, -6.9207, -6.9207, -6.9208, -6.9209, -6.9328, -6.6865, -6.6628, -6.1986, -6.7114, -6.973, -6.9733, -6.8391, -6.9786, -6.9786, -6.332, -6.3483, -6.687, -6.219, -6.3118, -6.5985, -6.3949, -6.1054, -5.9139, -6.2028, -6.1679, -6.2646, -6.3408, -5.7635, -6.2751, -6.3069, -5.9636, -6.3415, -5.9574, -5.8939, -6.227, -6.4721, -6.149, -5.8306, -6.0015, -6.3044, -6.0978, -6.1639, -6.2185, -6.2659, -6.1493, -6.3054, -6.2607, -6.2766, -6.3011, -6.3211, -6.3244, -6.2413, -6.3468, -6.505, -6.5076, -6.5425, -6.6055, -6.5455, -6.7514, -6.7515, -6.6441, -6.7897, -6.7898, -6.7899, -6.79, -6.7066, -6.8248, -6.6671, -6.85, -6.85, -6.8502, -6.8766, -6.8928, -6.8984, -6.8984, -6.6263, -6.6684, -6.0276, -6.9476, -6.9476, -6.2755, -6.4904, -6.2736, -6.2721, -6.3869, -6.0857, -5.9888, -6.1033, -6.5573, -6.1995, -6.2687, -5.8995, -6.5163, -6.3026, -5.5501, -6.4593, -5.8472, -6.0319, -6.0508, -5.9256, -6.2189, -6.1883, -6.3101, -6.3367, -6.1455, -6.156, -6.351, -6.2665, -6.1959, -6.2597, -6.2745, -6.2754, -6.285, -6.4806, -6.4808, -6.2996, -6.5364, -6.5871, -6.7066, -6.7068, -6.7179, -6.7332, -6.7424, -6.7426, -6.7485, -6.7488, -6.802, -6.8021, -6.2262, -6.5174, -6.8426, -6.7175, -5.8156, -6.729, -6.8856, -6.8857, -6.8858, -6.0987, -6.899, -6.7476, -6.5989, -6.932, -6.9321, -6.582, -6.8057, -6.5771, -6.6878, -6.4706, -6.5648, -6.7429, -5.8967, -6.4181, -6.1059, -5.983, -6.2133, -6.0683, -6.1135, -6.31, -6.0534, -5.8242, -6.4597, -6.1287, -5.709, -5.9324, -6.0021, -6.3238, -5.9169, -5.9615, -6.1565, -6.303, -6.0978, -6.2542, -6.2945, -6.3276, -6.1637, -6.2491, -6.2599, -6.2716, -6.2803, -6.3058, -6.1514, -6.2814, -6.3203, -6.4058, -6.4092, -6.5177, -6.518, -6.5256, -6.651, -6.6529, -6.653, -6.653, -6.7028, -6.7029, -6.7174, -6.7175, -6.7177, -6.736, -6.7376, -6.7538, -6.7582, -6.7712, -6.7901, -6.8108, -6.6054, -6.8156, -6.8156, -6.8156, -6.3757, -6.8392, -6.5923, -6.3217, -6.3142, -6.6054, -6.6218, -6.0348, -6.3716, -6.4206, -5.8715, -5.5971, -6.1424, -6.0082, -6.1303, -6.3535, -6.0396, -5.9223, -5.9764, -6.3061, -6.2158, -6.343, -6.0885, -6.3753, -6.1294, -6.092, -6.1436, -6.2343, -6.2768, -6.2418, -6.2906, -6.296, -6.3473, -6.3676, -6.4389, -6.4621, -6.4814, -6.5514, -6.5514, -6.5577, -6.558, -6.5637, -6.5756, -6.596, -6.6221, -6.6221, -6.6312, -6.6699, -6.6785, -6.682, -6.5412, -6.7727, -6.7756, -6.7757, -6.7758, -6.7758, -6.465, -6.8232, -6.5641, -6.851, -6.8511, -6.7688, -6.9056, -6.9056, -6.4966, -6.5361, -5.9188, -5.7436, -5.7358, -6.6062, -5.6889, -6.066, -6.4337, -5.7766, -6.495, -5.6747, -6.2021, -5.9214, -5.6947, -6.0287, -5.8365, -6.2386, -6.0227, -5.976, -5.9953, -6.3788, -6.3108, -6.1229, -6.0672, -6.116, -6.2593, -6.335, -6.2897, -6.1698, -6.2668, -6.3552, -6.3781, -6.3578, -6.3463, -6.3689, -6.2591, -6.358, -6.453, -6.4607, -6.4609, -6.5031, -6.5187, -6.5189, -6.5719, -6.6271, -6.6272, -6.3175, -6.4851, -6.6903, -6.6903, -6.7004, -6.4118, -6.7144, -6.7458, -6.7462, -6.7575, -6.7674, -6.7674, -6.7674, -6.7703, -6.5558, -6.3104, -6.562, -6.7949, -6.7951, -5.755, -6.3655, -5.42, -6.6758, -5.9445, -6.6036, -6.3612, -6.3653, -6.3093, -5.7751, -5.6462, -6.0193, -6.1705, -5.9012, -5.9238, -6.0274, -6.3335, -6.3075, -6.2961, -6.1433, -6.068, -6.1452, -6.1546, -6.2262, -6.3228, -6.3568, -6.3828, -6.3707, -6.1927, -6.2595, -6.3139, -6.3251, -6.3759, -6.3761, -6.3803, -6.1271, -6.4658, -6.525, -6.4283, -6.593, -6.5936, -6.5977, -6.5978, -6.3754, -6.6533, -6.6533, -6.4811, -6.6997, -6.7001, -6.3733, -6.4927, -6.5771, -6.7321, -6.7321, -6.5652, -6.757, -6.7872, -6.7874, -6.4811, -6.1255, -6.5409, -6.1833, -6.5653, -6.294, -6.5933, -6.1691, -6.1728, -6.1415, -6.4084, -6.1513, -6.2789, -6.286, -6.3918, -6.3547, -6.3147, -6.4489, -6.4359, -6.4562, -6.471, -6.4723], \"loglift\": [30.0, 29.0, 28.0, 27.0, 26.0, 25.0, 24.0, 23.0, 22.0, 21.0, 20.0, 19.0, 18.0, 17.0, 16.0, 15.0, 14.0, 13.0, 12.0, 11.0, 10.0, 9.0, 8.0, 7.0, 6.0, 5.0, 4.0, 3.0, 2.0, 1.0, 1.7065, 1.5668, 1.5641, 1.5374, 1.5359, 1.5266, 1.5133, 1.5024, 1.4754, 1.4719, 1.4502, 1.45, 1.4181, 1.4176, 1.4052, 1.3993, 1.3993, 1.3867, 1.3865, 1.3853, 1.3838, 1.3782, 1.3722, 1.3708, 1.3706, 1.3692, 1.3622, 1.3621, 1.3468, 1.3462, 1.3419, 1.2975, 1.3314, 1.0829, 1.2167, 1.1674, 1.0637, 1.141, 1.1218, 0.9205, 1.1779, 0.8245, 0.2434, 1.1069, 0.3397, 1.0249, 0.8734, 0.7832, 0.5293, 0.3295, 0.2287, 0.2382, 0.1394, 0.581, 0.0548, 0.0964, 0.7087, 0.2137, 0.0974, -0.0363, 0.5957, 0.026, 0.0472, -0.0601, 0.3972, 0.0622, 0.1928, 0.7451, 1.6783, 1.6657, 1.6084, 1.5467, 1.5357, 1.5357, 1.534, 1.5339, 1.5257, 1.5185, 1.5114, 1.49, 1.4789, 1.4723, 1.4721, 1.4654, 1.4487, 1.4352, 1.4351, 1.409, 1.4047, 1.403, 1.3956, 1.3955, 1.3954, 1.3936, 1.3933, 1.3599, 1.3569, 1.3568, 1.288, 1.2355, 1.0656, 0.9459, 1.2395, 0.9552, 0.5981, 1.0844, 0.9004, 0.4569, 0.9785, 0.8628, 0.8682, 0.8729, 0.4125, 0.0797, 0.3213, 0.2322, 0.2782, 0.3951, 0.0524, 0.579, 0.0352, 0.136, 0.1283, 0.0551, 0.2461, 0.225, 0.2368, 0.117, 0.3469, 0.5156, -0.1404, 0.5324, 1.6747, 1.6713, 1.6599, 1.6087, 1.5543, 1.551, 1.5479, 1.5473, 1.5473, 1.5472, 1.5335, 1.4771, 1.475, 1.4638, 1.4631, 1.4557, 1.455, 1.4548, 1.4548, 1.4483, 1.4411, 1.4363, 1.4077, 1.3859, 1.379, 1.3789, 1.3786, 1.3756, 1.3756, 1.369, 1.3131, 1.3567, 1.231, 1.2929, 1.2278, 1.154, 1.1603, 0.7245, 0.8662, 0.8707, 0.8314, 0.5649, 0.3115, 0.5149, 0.3593, 0.2803, 0.306, 0.3631, 0.1667, -0.1898, 0.2846, 0.6831, 0.7328, 0.0986, 0.0973, 0.3454, -0.1546, -0.1507, 0.484, -0.0907, -0.0361, 1.689, 1.6819, 1.6681, 1.6373, 1.6213, 1.6183, 1.5994, 1.5936, 1.5723, 1.5695, 1.5671, 1.5616, 1.5616, 1.5488, 1.5393, 1.5221, 1.5219, 1.5205, 1.5177, 1.5177, 1.4997, 1.4996, 1.4759, 1.4744, 1.4677, 1.4612, 1.4608, 1.4515, 1.4492, 1.4492, 1.4282, 1.3784, 1.2785, 1.1949, 1.2292, 0.9726, 0.7748, 0.9215, 0.7258, 0.695, 0.9837, 0.4752, 0.5713, 0.4774, 0.3455, 0.3043, 0.8923, 0.2655, 0.0342, 0.2746, 0.298, 0.5471, 0.4855, 0.4473, 0.4545, 0.5268, 0.7557, 0.4903, 0.6635, 1.0571, 0.5569, 0.0632, 0.0756, -0.0734, 1.7724, 1.7393, 1.7175, 1.6918, 1.679, 1.6603, 1.6465, 1.6416, 1.6287, 1.5883, 1.582, 1.5764, 1.5258, 1.5258, 1.5258, 1.5135, 1.507, 1.5057, 1.499, 1.499, 1.4748, 1.4734, 1.4733, 1.4631, 1.4423, 1.4303, 1.43, 1.4206, 1.4186, 1.4164, 1.4008, 1.1501, 1.2717, 1.2979, 1.2449, 1.1766, 1.1758, 0.8179, 1.0759, 0.9949, 1.0751, 0.8292, 0.5127, 0.3902, 0.7596, 0.924, 0.2773, -0.0243, 0.6795, 0.2601, 0.3921, 0.4039, 0.3504, 0.2251, 0.788, 0.218, 0.5636, 0.1455, -0.0301, 0.1839, 0.4516, 0.1535, 0.3735, 0.1203, 1.7471, 1.7378, 1.7206, 1.6866, 1.6663, 1.6606, 1.6605, 1.6147, 1.6146, 1.6072, 1.5992, 1.5838, 1.5532, 1.5487, 1.5388, 1.5387, 1.537, 1.5369, 1.5339, 1.5335, 1.5273, 1.5039, 1.4903, 1.4903, 1.4903, 1.4887, 1.4885, 1.465, 1.465, 1.4649, 1.4394, 1.1605, 1.1191, 0.7767, 1.1196, 0.8259, 0.8968, 1.0777, 0.8558, 1.1868, 1.0204, 0.5037, 0.0909, 0.8867, 0.8437, 0.2618, 0.1809, 0.2892, 0.2384, 0.1678, 0.0959, 0.3262, 0.3771, 0.015, 0.1143, 0.1132, 0.5579, 0.7122, 0.3209, 0.3222, 0.1197, -0.0218, 1.8489, 1.8129, 1.7699, 1.7233, 1.715, 1.7011, 1.6741, 1.66, 1.6388, 1.6387, 1.5643, 1.5561, 1.5521, 1.5385, 1.534, 1.5338, 1.5227, 1.5225, 1.5224, 1.5103, 1.5102, 1.51, 1.5057, 1.5057, 1.4994, 1.4993, 1.4964, 1.4846, 1.4846, 1.4844, 1.3799, 1.4033, 1.04, 1.1593, 1.2811, 0.7863, 0.8407, 0.359, 1.0452, -0.0075, 0.7322, 0.32, 0.56, 1.0974, 0.1001, 0.4872, 0.1243, 0.6635, -0.1018, 0.2789, 0.3191, 0.2507, -0.0765, -0.0977, -0.1022, -0.3054, -0.177, 0.4172, 0.0847, 0.1037, 1.773, 1.7549, 1.7046, 1.6217, 1.6159, 1.5933, 1.5932, 1.5932, 1.5729, 1.562, 1.5408, 1.5302, 1.5226, 1.5177, 1.5001, 1.4994, 1.4945, 1.4945, 1.4944, 1.4944, 1.4861, 1.4815, 1.4773, 1.4765, 1.4736, 1.4579, 1.4577, 1.4555, 1.454, 1.454, 1.4056, 1.3694, 1.4129, 1.3261, 1.2163, 1.323, 1.2104, 0.9877, 0.8611, 1.0306, 0.971, 1.0189, 1.042, 0.4216, 0.9484, 0.9778, 0.5212, 1.0012, 0.42, 0.2988, 0.7601, 1.1222, 0.5534, -0.1925, 0.0502, 0.6759, 0.0459, 0.2364, 0.3399, 0.4914, -0.1601, 0.6496, -0.1563, -0.2009, -0.0373, 0.5367, 1.8723, 1.8623, 1.8598, 1.7676, 1.7661, 1.7449, 1.706, 1.6733, 1.6123, 1.6122, 1.6094, 1.5869, 1.5868, 1.5868, 1.5867, 1.5639, 1.5633, 1.5489, 1.5462, 1.5462, 1.5461, 1.5281, 1.5169, 1.513, 1.513, 1.5116, 1.501, 1.4836, 1.4788, 1.4788, 1.44, 1.3817, 1.2793, 1.2647, 1.3006, 1.1356, 1.0198, 1.0846, 1.343, 1.0738, 1.1141, 0.5853, 1.2764, 1.0187, 0.088, 1.1878, 0.2046, 0.4897, 0.3668, 0.0637, 0.5738, 0.4979, 0.7664, 0.828, 0.2319, -0.0516, 0.7003, 0.2557, -0.1595, 0.1016, -0.0819, -0.0818, -0.0951, 1.784, 1.784, 1.76, 1.7504, 1.7192, 1.6432, 1.6431, 1.6358, 1.6258, 1.6198, 1.6196, 1.6158, 1.6156, 1.5802, 1.5801, 1.5705, 1.5702, 1.5528, 1.5319, 1.529, 1.5277, 1.5233, 1.5232, 1.5232, 1.5219, 1.514, 1.5088, 1.4918, 1.4911, 1.491, 1.4903, 1.4881, 1.4594, 1.4731, 1.3254, 1.3704, 1.4513, 0.9083, 1.2408, 0.9751, 0.8664, 1.0649, 0.8298, 0.8538, 1.0695, 0.7414, 0.3694, 1.1982, 0.6931, -0.0709, 0.2527, 0.3244, 0.9224, 0.1195, 0.0278, 0.3472, 0.727, 0.0921, 0.5623, 0.6926, 0.6943, -0.1805, 0.1685, 0.1952, 0.1236, -0.0164, 0.2545, 1.9987, 1.9272, 1.905, 1.8549, 1.8529, 1.7867, 1.7865, 1.7818, 1.7016, 1.7003, 1.7003, 1.7003, 1.6674, 1.6674, 1.6577, 1.6576, 1.6575, 1.6452, 1.6441, 1.6332, 1.6302, 1.6215, 1.6085, 1.5943, 1.5916, 1.591, 1.591, 1.591, 1.588, 1.5747, 1.5585, 1.5279, 1.4915, 1.5493, 1.5233, 1.2847, 1.2951, 1.302, 0.6507, 0.041, 0.8187, 0.552, 0.6511, 0.9792, 0.3378, 0.0609, 0.0994, 0.8202, 0.5891, 0.8666, 0.0159, 0.8471, 0.0642, -0.1027, -0.1072, -0.0417, 0.2269, -0.19, 0.1941, 0.1215, 0.4453, -0.0411, 1.8609, 1.8464, 1.8342, 1.7894, 1.7894, 1.7853, 1.7851, 1.7814, 1.7737, 1.7603, 1.7431, 1.7431, 1.737, 1.7111, 1.7053, 1.7029, 1.6773, 1.6406, 1.6386, 1.6385, 1.6384, 1.6384, 1.6273, 1.6052, 1.601, 1.5854, 1.5854, 1.5648, 1.5462, 1.5462, 1.5262, 1.5279, 1.4263, 1.1959, 1.1031, 1.4692, 0.8714, 1.0438, 1.3497, 0.6186, 1.3306, 0.3146, 0.8466, 0.362, -0.0566, 0.5296, 0.1468, 0.9061, 0.4324, 0.2139, 0.1897, 1.0808, 0.8617, 0.2311, -0.0308, -0.0402, 0.5419, 0.7766, 0.5328, -0.118, 0.1334, 0.617, 0.8482, 0.3995, -0.2026, -0.0424, 2.0049, 1.9442, 1.8837, 1.8788, 1.8786, 1.851, 1.8407, 1.8406, 1.8052, 1.7676, 1.7675, 1.7451, 1.7346, 1.7238, 1.7238, 1.7167, 1.7124, 1.7069, 1.6846, 1.6844, 1.6764, 1.6693, 1.6693, 1.6693, 1.6672, 1.6618, 1.6562, 1.6551, 1.6495, 1.6494, 1.5049, 1.5685, 1.1022, 1.6214, 1.1393, 1.545, 1.1987, 1.1998, 1.0809, 0.3006, -0.0081, 0.5024, 0.7657, 0.2032, 0.2199, 0.2991, 0.9987, 0.9168, 0.7903, 0.218, -0.0787, -0.1619, -0.1182, -0.0326, 0.6008, 0.8569, 0.689, -0.0873, 2.1547, 2.1099, 2.0728, 2.0651, 2.0297, 2.0296, 2.0266, 1.9716, 1.9658, 1.9228, 1.8751, 1.8726, 1.8722, 1.8691, 1.869, 1.86, 1.8273, 1.8273, 1.8015, 1.792, 1.7918, 1.788, 1.7696, 1.7676, 1.7672, 1.7671, 1.7639, 1.7479, 1.7244, 1.7242, 1.7087, 1.4408, 1.6177, 1.2448, 1.5998, 1.2275, 1.6215, 0.7982, 0.5776, 0.185, 0.9637, -0.5132, 0.1214, -0.1423, 0.5231, 0.2263, -0.2629, 0.6418, -0.0184, -0.1923, -0.0935, -0.3679]}, \"token.table\": {\"Topic\": [3, 12, 1, 2, 3, 4, 5, 6, 7, 8, 9, 10, 11, 12, 2, 1, 2, 2, 5, 1, 2, 4, 6, 9, 2, 5, 4, 2, 5, 7, 2, 3, 4, 1, 2, 3, 4, 1, 2, 4, 5, 4, 5, 1, 2, 3, 1, 2, 4, 6, 12, 1, 2, 4, 5, 6, 10, 7, 1, 2, 3, 6, 4, 2, 5, 6, 1, 1, 2, 5, 6, 5, 1, 2, 4, 1, 3, 4, 6, 1, 6, 4, 5, 2, 6, 1, 2, 10, 7, 1, 2, 4, 5, 6, 4, 5, 3, 1, 13, 1, 2, 3, 8, 4, 3, 5, 1, 2, 3, 3, 6], \"Freq\": [0.2742007022699489, 0.2742007022699489, 0.10904069918383077, 0.10904069918383077, 0.10904069918383077, 0.10904069918383077, 0.10904069918383077, 0.10904069918383077, 0.10904069918383077, 0.10904069918383077, 0.10904069918383077, 0.10904069918383077, 0.10904069918383077, 0.10904069918383077, 0.22838115194336087, 0.40064518088826684, 0.38442932617840136, 0.4628807350311617, 0.21704405211452982, 0.1649058770861649, 0.1649058770861649, 0.1649058770861649, 0.1649058770861649, 0.1649058770861649, 0.44642716663862253, 0.3805587218877728, 0.34891841622889325, 0.18984799505295286, 0.18984799505295286, 0.18984799505295286, 0.22472869247369073, 0.22472869247369073, 0.22472869247369073, 0.20339993847644514, 0.20339993847644514, 0.20339993847644514, 0.2799386677694424, 0.16238214925947572, 0.16238214925947572, 0.16238214925947572, 0.16238214925947572, 0.22309766080349203, 0.22309766080349203, 0.5430091678049395, 0.24683070448334782, 0.25911747847062105, 0.15490846039548709, 0.15490846039548709, 0.15490846039548709, 0.15490846039548709, 0.15490846039548709, 0.1539836844765114, 0.1539836844765114, 0.1539836844765114, 0.1539836844765114, 0.1539836844765114, 0.6007766644241347, 0.4549315046705441, 0.17381651003586843, 0.17381651003586843, 0.17381651003586843, 0.17381651003586843, 0.5113125238662194, 0.4613944066617752, 0.2736709123057768, 0.2736709123057768, 0.43744900282002475, 0.18933160931220458, 0.18933160931220458, 0.18933160931220458, 0.18933160931220458, 0.9271987326302832, 0.2078824762295232, 0.2078824762295232, 0.2078824762295232, 0.16891048658951738, 0.16891048658951738, 0.16891048658951738, 0.16891048658951738, 0.33391328663844033, 0.33391328663844033, 0.2324674932884997, 0.2324674932884997, 0.23365653353834584, 0.23365653353834584, 0.19003235033586802, 0.19003235033586802, 0.19003235033586802, 0.4005213027820572, 0.18078126359920338, 0.18078126359920338, 0.18078126359920338, 0.18078126359920338, 0.18078126359920338, 0.27276050256592865, 0.36230758760380233, 0.20385753643306231, 0.45616897532040257, 0.26397672049805887, 0.18841605644354373, 0.18841605644354373, 0.18841605644354373, 0.18841605644354373, 0.23772466007819104, 0.2638158874826539, 0.3398744278584244, 0.28435044922179226, 0.28435044922179226, 0.6058479133980796, 0.4872274472390029, 0.42932432596627296], \"Term\": [\"&\", \"&\", \",\", \",\", \",\", \",\", \",\", \",\", \",\", \",\", \",\", \",\", \",\", \",\", \"-\", \"10\", \":\", \"Delicious\", \"Tucson\", \"amazing\", \"amazing\", \"amazing\", \"amazing\", \"amazing\", \"bar\", \"beer\", \"breakfast\", \"come\", \"come\", \"come\", \"definitely\", \"definitely\", \"definitely\", \"delicious\", \"delicious\", \"delicious\", \"favorite\", \"food\", \"food\", \"food\", \"food\", \"friendly\", \"friendly\", \"fun\", \"get\", \"go\", \"good\", \"good\", \"good\", \"good\", \"good\", \"great\", \"great\", \"great\", \"great\", \"great\", \"kid\", \"long\", \"love\", \"love\", \"love\", \"love\", \"make\", \"new\", \"nice\", \"nice\", \"option\", \"order\", \"order\", \"order\", \"order\", \"pay\", \"pizza\", \"pizza\", \"pizza\", \"place\", \"place\", \"place\", \"place\", \"raman\", \"raman\", \"recommend\", \"recommend\", \"restaurant\", \"restaurant\", \"s\", \"s\", \"s\", \"sandwich\", \"service\", \"service\", \"service\", \"service\", \"service\", \"staff\", \"super\", \"t\", \"table\", \"taco\", \"time\", \"time\", \"time\", \"time\", \"try\", \"ve\", \"visit\", \"wait\", \"wait\", \"waitress\", \"way\", \"wine\"]}, \"R\": 30, \"lambda.step\": 0.01, \"plot.opts\": {\"xlab\": \"PC1\", \"ylab\": \"PC2\"}, \"topic.order\": [2, 4, 1, 10, 6, 5, 11, 7, 13, 9, 8, 3, 14, 12]};\n",
       "\n",
       "function LDAvis_load_lib(url, callback){\n",
       "  var s = document.createElement('script');\n",
       "  s.src = url;\n",
       "  s.async = true;\n",
       "  s.onreadystatechange = s.onload = callback;\n",
       "  s.onerror = function(){console.warn(\"failed to load library \" + url);};\n",
       "  document.getElementsByTagName(\"head\")[0].appendChild(s);\n",
       "}\n",
       "\n",
       "if(typeof(LDAvis) !== \"undefined\"){\n",
       "   // already loaded: just create the visualization\n",
       "   !function(LDAvis){\n",
       "       new LDAvis(\"#\" + \"ldavis_el32411391040102887361002958589\", ldavis_el32411391040102887361002958589_data);\n",
       "   }(LDAvis);\n",
       "}else if(typeof define === \"function\" && define.amd){\n",
       "   // require.js is available: use it to load d3/LDAvis\n",
       "   require.config({paths: {d3: \"https://d3js.org/d3.v5\"}});\n",
       "   require([\"d3\"], function(d3){\n",
       "      window.d3 = d3;\n",
       "      LDAvis_load_lib(\"https://cdn.jsdelivr.net/gh/bmabey/pyLDAvis@3.4.0/pyLDAvis/js/ldavis.v3.0.0.js\", function(){\n",
       "        new LDAvis(\"#\" + \"ldavis_el32411391040102887361002958589\", ldavis_el32411391040102887361002958589_data);\n",
       "      });\n",
       "    });\n",
       "}else{\n",
       "    // require.js not available: dynamically load d3 & LDAvis\n",
       "    LDAvis_load_lib(\"https://d3js.org/d3.v5.js\", function(){\n",
       "         LDAvis_load_lib(\"https://cdn.jsdelivr.net/gh/bmabey/pyLDAvis@3.4.0/pyLDAvis/js/ldavis.v3.0.0.js\", function(){\n",
       "                 new LDAvis(\"#\" + \"ldavis_el32411391040102887361002958589\", ldavis_el32411391040102887361002958589_data);\n",
       "            })\n",
       "         });\n",
       "}\n",
       "</script>"
      ],
      "text/plain": [
       "<IPython.core.display.HTML object>"
      ]
     },
     "execution_count": 50,
     "metadata": {},
     "output_type": "execute_result"
    }
   ],
   "source": [
    "lda_visualization = pyLDAvis.gensim_models.prepare(lda_model, corpus_tfidf, dictionary)\n",
    "pyLDAvis.display(lda_visualization)"
   ]
  },
  {
   "cell_type": "markdown",
   "metadata": {
    "id": "ZweAR-5vzbcV"
   },
   "source": [
    "### Interpretation"
   ]
  },
  {
   "cell_type": "markdown",
   "metadata": {
    "id": "05PU6iYBzbcV"
   },
   "source": [
    "- In Quadrant III, there is a dense group and the most frequnt works between the group are food, taco, meal. As a result, the topic may be related to \"food\".\n",
    "\n",
    "- In topic 1 & 4, the most frequent words are staff, service, and friendly. Therefore, the topic may related to \"service\".\n",
    "\n",
    "- In topic 2, the most frequent words are wait, time, and order. Therefore, the topic may related to \"waiting time\"."
   ]
  },
  {
   "cell_type": "markdown",
   "metadata": {
    "id": "WCZX-nxaAeaF"
   },
   "source": [
    "## Example Document\n",
    "Based on the results for 1 star and 5 star reviews, pick 2 – 3 the most interpretable topics\\\n",
    "and provide some example documents related to those topics, respectively."
   ]
  },
  {
   "cell_type": "code",
   "execution_count": null,
   "metadata": {
    "colab": {
     "base_uri": "https://localhost:8080/"
    },
    "executionInfo": {
     "elapsed": 206,
     "status": "ok",
     "timestamp": 1706732772326,
     "user": {
      "displayName": "Homer Liu",
      "userId": "02498362625275100753"
     },
     "user_tz": 420
    },
    "id": "9ysJ0254AYMP",
    "outputId": "9fad491e-5801-440d-bc39-fd65dceb46fa"
   },
   "outputs": [
    {
     "name": "stdout",
     "output_type": "stream",
     "text": [
      "Numbers of document metion 'wait': 42\n",
      "Numbers of document metion 'food': 36\n",
      "Numbers of document metion 'service': 13\n",
      " \n",
      "Document about 'waiting time' in star 1 reviews: [\"They have the worst customer service skills imaginable. Do not go there if you want a quick pizza and don't call in because they won't even keep your order. I waited for over 30 minutes after I called in an order and they told me it wasn't ready yet then it wasn't in the system. Please save your time and money go to a different one becase the people who work here don't deserve it.\", 'The staff was extremely rude here. The wait staff at the snack bar did not greet us or say anything to us at all. She rolled her eyes and sighed when I requested napkins and silverware. The manager was also rude almost refusing to put up the guards for an 11 year old because it\\'s only for \"under 10\". He was condescending and rude as well. When talking to him about the experience and how it was ruined but the terrible customer service he responded insincerely and sarcastically. I have been to many bowling alleys in Tucson and this is my first time ever having an experience this bad. The place was great but won\\'t be returning due to the staff.', 'My lord... where do I begin? The name of the company says it all. Wing. STOP. Terrible and more so lacking flavours paired with reheated and rubbery wings. Do yourself a favour and cook your own you lazy bastard.  Same wait time, 1/3 the price.', \"After picking up from here for delivery several times i decided to come here for myself. Placed our order of 20 traditional wings with Pineapple Jalapeno and Mango Habanero sauce. After waiting for quite awhile and noticing customers who came after us receive their order, my gf hypothesized that the staff was afraid to try to pronounce my name. I didn't believe it until the staff looked at me several times then pointed to me and performed non-verbal hand/arm motions for me to pick up my food, whereas everyone else's names were called out loud and clear. I found this humorous and mildly disrespectful, it is actually not why im reviewing this place poorly. I requested blue cheese and whatever i got was labeled blue cheese but was far departed from it. My girlfriend was convinced it was spoiled ranch. My wings were somewhat crispy but my girlfriend's wings were slimy and the skin just slid off each wing which was unacceptable. I dont know why they didnt drop our order at the same time, i dont know what i received instead of blue cheese, and we definitely wont be coming back.\", 'The bathrooms were closed for over half an hour which means that none of the customers were able to wash their hands. This is a problem during the corona outbreak. We ordered ribs, and when the ribs came in they were completely raw. Even the waitress said \"disgusting. \" They never cleared our tables. We were never offered a refill on our drinks. Their  complementary Onions, peppers, Guacamole, And cucumbers are never stocked. For almost $70 that it cost us to eat I\\'m disappointed at the terrible service. We did complain, and the only response was \"we hope you give us a second chance.\"', \"If I could give 0 Stars I would we were told 40 min wait and we waited 1 hour n 40min we even called after n hour were told 10 more min people that got there after me and my lady were being seated before us and we called again and were told we were next and they didn't seat us so we chose to leave will not be going back to this place they close at 3 pm and we waited till 2:30pm we got there at around 12:10.\", \"Nope, not again. I always give a place 2-3, this is my 2nd stop.... And my last.  Both times I've been here for breakfast, and I'll give it to' em, they're cooks know what they're doing, but man! The service just sucks, sucked first time, sucks this time. They seat you fast but then you wait, this time was 11 min before someone stopped by and asked what we want to drink. THEN, waited on people that were seated AFTER we were. Eh, that's just my pet peeve. Waitress never made it by to check on our meal and brought my drink after I was done with my meal. Oh well.... On to the next place\", 'Went to get lunch for myself and my kids at about 11:05 am. Decided to go in and order so I wouldn\\'t hold up the drive thru.  Standing there for about 5 minutes with no other customer in front of me, no acknowledgement from any employee, even had 1 employee walk past me without saying a word. Got frustrated so decided to go to the drive thru. Again, no car in front of me, or next to me (it\\'s a double lane drive thru). I was told \"I\\'ll be right with you.\". Okay.  About a minute or two after waiting, a vehicle pulled up to the other terminal. Their order taken right away, and they pulled forward. I was shocked. I continued to wait another minute before finally being asked if I had been helped. I said nope and reversed my car and left. They didn\\'t want my money, So i went to a competitor where I wasn\\'t ignored. I live near this McDonald\\'s, but I will gladly go to the competitor from now on.', \"Let me start by saying we have been to the Firetruck Brewing on the other side of town.  It was amazing!   Then we noticed this Firetruck Brewing closer to home and were excited.  We loved Growlers and this is the same location.   Sadly, this place was WAY understaffed for a Saturday afternoon, so service was super slow.   I don't blame the servers for this, it's not there fault.  They were hustling.  I blame the management for understaffing.   Every time I have been to this location, whether it was Growlers, or Firetruck, Saturday's are busy.  Staff accordingly!      The food at this location was terrible.  The food at the Grant location was amazing.   I ordered a sandwich and asked the waitress to use sourdough rather that rye and she didn't even bother to write this down.  When the food arrived 1 hours later...it was wrong.  The loaded Mac and cheese was a flavorless pile of mushy pasta.    This is bar food. This should be easy to get right.  The Grant locations food is so flavorful, but the people in this kitchen obviously could care less.  I am guessing by the way the front of the house is staffed, the back of the house is no better.   Please fix this and you will have a successful restaurant!\", \"3rd time trying this place, took half an hour to get drinks. Told waitress my kids wanted to order food, she said she'd be right back. 20 mins later, I asked her again, she started taking my daughters order,  another waitress interrupted and they both left. We waited another 20 mins and walked out. Always understaffed for busy nights.\", 'If I could leave zero stars I would. The customer service at this establishment is ridiculous. The employees were so rude except for the little white old lady. There were no customers in there and I placed an online order. The people in the back were complaining because they had a catering and they told us to come back later. When we came back they said \"why did they come back?\".  I had to wait 40 minutes plus 20 minutes without being greeted. This is ridiculous! I will never be visiting this place again!', 'Worst McDonalds in Tucson. Too bad, it\\'s the closest one to my house. Usually, I pass it and go to another one, but today I thought against my better judgement, \"Maybe this time it\\'ll be different\". It wasn\\'t. Still had to pull forward in the drive thru...standard. Even after waiting 5 additional minutes for my food, the fries were old, stale, and cold...standard. Not a single napkin...at the drive thru...standard. Why do I torture myself like this?! Should\\'ve just gone to the other one down the street...standard. I know, I know, \"It\\'s McDonalds, what do you expect?\" I\\'ve been to a hundred different McDonalds, and even with the \"McDonalds factor\" taken into account, this is hands down THE WORST restaurant/fast food chain I have ever been to. If you need your McDonalds fix, go to another one...the one down the street on Swan and Camp Lowell is much better.', \"Went here hoping for a good meal but was left disappointed. The food served to my husband and I was nothing but the cheapest products you can find used to make their dishes. The food was bland, no flavor, and the waitress was unfriendly and slow. Will never come back or recommend to a single soul. They will definitely serve you microwaveable sausage and be unapologetic when you're unhappy by their terrible food.\", \"Cold food, even when they send you to wait, when they brought out our food 5 minutes later all was cold.  Also, I've gotten food poisoning a few times here.  Just...don't.\", \"Placed an order on 4/27 for a medium Howies Special pizza, a small gluten free Works pizza minus black olives, Asian Howie wings and Buffalo Howie wings.\\n\\nNot a complicated order, was made online; estimated time was 40 minutes. As we approached the two hour mark I tried calling the store. Sat waiting for 15 minutes waiting for someone to pick up before I gave up. Tried calling again five minutes later, same thing. My son tried and got the same thing. No one was answering at the store.\\n\\nAt two hours and twenty five minutes a delivery driver shows up with the food. I am not mean, I do not yell and I do not curse. I simply ask him why it took so long to get the food to us. He gives a sad excuse that really does not answer my question and says I need to call the store. I told him I would but no one is answering the phones at the store. He says something about this is why he isn't a manager anymore and beats a hasty retreat before I can ask or say anything else.\\n\\nThe food was cold. Nothing is sadder than a pizza that has sat closed in a box and allowed to cool off except for chicken wings that have sat wrapped in foil in a box and allow to cool off.\\n\\nThe pizza just sucked, the sauce was light on top of the fact that it was cold and the cheese was skimped on as well.\\n\\nThe wings were inedible. When you get chicken wings and they are fried or baked you expect them to be crispy. That is part of the experience of the wing that makes them so good.\\n\\nThe skin on these wings was like limp rubbery flesh. It was disgusting and there was no saving them at that point since the sauce was on them.\\n\\nAll and all the experience left a bad taste in our mouths. While I understand that places are slammed with the pandemic this is the time for them to shine, not slack. You either put out your best work or you go down in flames.\\n\\nMy business will go with someone else who can deliver a quality tasty (and edible) product next time.\", \"Smelled like sewage when you walk in and the scent follows you throughout the establishment. The waiters barely check in on you and the food took forever for it being extremely slow... when you finally do get your food (I ordered a Caesar) it was served on a plate that was literally hot to the touch... making the salad itself lukewarm and wilted upon arrival. Friend ordered the tri-tip with asparagus which was extremely limp and not fresh at all. The prices for the quality and treatment is ridiculous. Moved to the bar to watch the baseball game and the tables were sticky and uncleaned. I'd be more lenient if it were a Friday or Saturday night but this was a dead Sunday evening where the most action was a metaphorical tumbleweed blowing through the restaurant. Sad because this place used to be so busy. For an old, mining themed restaurant, it really feels like a ghost town in here. \\n\\n  Our server was nice, I feel bad for him.....\", \"Had the worst customer service experience I've had in my whole life at this Taco Bell. I accidentally ordered an online pickup at a different Taco Bell. Upon getting to this Taco Bell they told me I'd just have to go to the other Taco Bell then told me to leave the drive thru. I called the other Taco Bell asked them if they could cancel my order they told me they could just call the Taco Bell and request they make my order there I said perfect. They called me back and said this Broadway Taco Bell was refusing to do that but they told me to go in and talk to Jeffrey. I go in the restaurant wait behind several people ask for Jeffrey then wait a long time for him to come talk to me. He explains it would mess up their profits by 5 dollars to just make the food for me even though Taco Bell has already been paid. I said are you serious what's more important 5 dollars in profit loss even though Taco Bell has already been paid or losing a customer for life. He goes and talks to his GM in ear shot of me his GM says absolutely not we can't just make it for him he comes back and says oh no we can't do that. I wasted 40 minutes of my time paid for food and never even got it. Completely unacceptable. I recommend never going to this Taco Bell terrible customer service and staff. Worst experience ever.\", \"We received probably the worst service we have had in a very long time.  The line didn't look too bad until we were told they were spacing out taking orders, and it would be a bit of a wait because they were short handed.  Yes, they are new, but one would think a manager could better manage a restaurant.  Each worker gave a different amount of wait time.  While they did take a drink order they could not move the line at a reasonable rate.  We were there 1 1/ 2 to get a simple burrito.  We counted over 7 employees out front, some just standing and chatting.  Did they consider cross training in a situation such as this?  No one was stepping up and trying to help.  While the food was good, sad it was such an unpleasant visit.  Unless the manager learns how to manage her staff, stay away if you don't want to wait for over an hour for your food.\", 'Last chance and an epic fail 20 min wait for the teriyaki chicken waited in line soooo long for over priced mediocre food , sorry panda you lost four customers forever! Get your act together', 'Every time I come to this location they are always out of something and the wait time is outrageous for the few people they have in line. They are extremely unorganized. The worst customer service Panda location.', \"I don't understand the appeal to this place at all. The service was horrendous, the beer was expired, the mimosas were absolutely horrible nothing but juice! The coffee tasted like toilet water. The waitress acted like she was too busy when it wasn't even that busy. The food was very very Bland. People's taste buds must be shit to enjoy this place. We had to go eat somewhere else to get this taste out of our mouths right afterwards. So if you want over priced juice with the name of mimosa and bland food and dog shit in your mouth I guess you can enjoy this place\", 'Restaurant was half full.  Line to the door, but hopeful it would move along.  Were told kitchen was \"backed up,\" so they were waiting 10 minutes between taking each order.  Based on line of 10 people that would be 1.5-2 hours! Kind staff person was taking drink orders  and bringing liquor to people while they stood in line, but they were still just standing in line. One couple said they hadn\\'t moved in line for 25 minutes. There was no reported  illness or a failure of people to show up for work, just seems like they don\\'t have their management down yet. So I would avoid this location until they have a chance to figure it out.  Had been really looking forward to trying this OV spot', \"I wish I could rate the food, but never even got to order. Stood in lobby for 10 minutes before someone said sit wherever you want, then sat at a dirty table because that's all that was available. 20 minutes later a waitress came over cleaned the table and gave us menus.  That was the last we saw of her, after another 20 minutes we walked out. Ridiculous that one of only two restaurants at a very expensive hotel has this kind of service.\", \"I go to Sachiko on Wilmot and Speedway and love it, so I stopped by this one one my way to the airport. What a mistake.\\nI ordered a selection of sushi and my mother ordered a lunch combo with teriyaki beef and a California roll. \\nThe roll was poorly done with an unappetizing look.\\nThe beef was awful.. just awful. My mother took a bite and spitted it out.. I thought she was exaggerating so I took a bite of her dish too. I also had to spit it. It was dried and tasted weird. Like it wasn't beef or it was rotten.\\nWhen our waitress came and asked if everything was ok, I said the beef tasted off. \\nTHE WAITRESS TOOK A PIECE OUT OF MY MOM'S PLATE AND ATE IT. And with her mouth full and chewing she says: what are you talking about?\\nI just asked for the check and left.\\nHorrible food. Horrible service.\", 'So I made to a call to order the stuffed cheesy crust pizza over the phone and waited for it to be ready and come to find out the order was never placed by the person who answered the phone when I ordered the pizza such a crappy phone service they have', 'Went in today for some breakfast I put my name in with Karey who was the hostess and went out side to wait. After about 15 minutes I went inside to get an update she was very rude, she does not work well under pressure, I understand how chaotic it gets but humility and kindness should not be thrown out the window. I usually have great experiences when going but not this time. Very sad.', \"Very unhappy. I called in to place a to-go order. The girl took my order and asked me to hold for which I said ok. 15 minutes passed by and still waiting. My son-in-law calls on his phone and they answer and start to take his order. Assuming that the girl put my order in we proceeded to go to the restaurant. I went inside and no one could find my order. No apology no acknowledgement that they made a mistake, nothing. I've been going to this restaurant since 1996. Hadn't been there so thought I'd go back to the delicious birria. Well now they've lost a customer. I'm sure it doesn't matter to them but I'd figure I'd voice my opinion!!!!\", \"So went to Blake's Lotaburger, usually pretty good. Not this trip. Ordered a MEAL, burger, drink and fries also ordered an order of chili. Paid and waited, than was told they FORGOT to charge me for the fries, mistakes happen. Paid got my order and at home, NO CHILI. I can understand one mistake but come on! Incompetence would be a compliment.\", 'Came through the drive thru today and after waiting 20 minutes in line our honey walnut shrimp came half burned and zero flavoring. Whoever was cooking obviously never added the sauce to the shrimp! I tried calling the restaurant to rectify our situation, but nobody answers. Id love for a manager to help change our opinion of this place. Btw incase anyone is wondering, the shrimp without the sauce and flavors is GROSS!', \"Wayyyyy over priced! No toppings on any of the tacos or burritos literally just meat and tortilla. Cabbage and meat in burrito nothing else. Meat was not seasoned at all and the bread on the burgers was hard! We waited 20 mins in the drive through after ordering. Spent $50 on two tacos a caramelo and a burrito and a burger. Def wouldn't recommend this place at all there's so much better priced portioned and TASTING Mexican in Tucson\", \"The food was decent. Nothing special. The establishment is very dirty. Both restrooms haven't been cleaned or dusted in a long time. We noticed a lot of dust on interior signs, bottles and kitchen equipment. The waiters, possibly the owners, kept couching and never once used hand sanitizer or washed their hands. I hope we don't get sick. I wouldn't be surprised for a pending health violation. Lastly, their ice tea is the same tea I buy at Wal-Mart, container is kept in cooler next to soda machine.\", 'If I could give less I would. Every single time I come here I only get two pizzas and wind up waiting almost 30 mins for my order EVRRY SINGLE TIME. WTF is wrong with your employees!? Hot and ready after 4pm is a damn lie. No one ever responds either. This location is pure garbage.', 'Drive through or inside dining remains extremely slow.  Get with it guys, people have other things to do besides waiting.', 'The worst McDonalds in this plant. Never open late and always have to wait out front got your order. Like gee did we catch you by surprise ordering a burger.', \"Waiting time is HORRIBLE! All the reviews complaining about how long they had to wait aren't exaggerating at all. Came with a group of friends and tried to call in advance but were told they don't take reservations, they do in person only. When we showed up they told us it would be an hour wait.. ALMOST TWO HOURS LATER later we're still not seated while all these other people walking in are getting seated right away. Another big party came in and got seated straight away and when we asked the hostess about it she said they had a reservation.. uhh I thought they didn't take any???\", \"Horrible. Extremely long wait. Manager walking around to tables with no mask. Food took over 45 min to arrive. Won't be back or recommend it to anyone.\\n\\nFresh squeezed orange juice tasted out of box. So turned off!\", \"Upper management needs a serious lesson in scheduling! I grabbed food for the fam on a Friday night, 11 PM and waited in their drive-thru for 35 minutes. WTF. \\n\\nTheir drive-thru speaker kept repeating the other person's order and I realized after about 15 seconds I wasn't talking to anyone but myself. Odd, never seen a drive-thru speaker echo another person's order. \\n\\nThe food was OK and customer service was actually decent but you can tell that these workers are so short-staffed that their hands are tied. \\n\\nI saw maybe 4 people working in there: To man 2 drive-thru windows, cook, clean, and cashier people. Really? \\n\\nAgain, customer service was solid. Employees were super nice but darn are they overworked and it shows. Badly! \\n\\nWon't be back.\", \"This place was a Major Disappointment and like a Goon I keep going back since close to home.  My favorite and Best Location on Silverbell and will now make the drive, Especially after the Last Visit!  \\n\\nMaking us wait outside when they reopened, no organization, order wrong AGAIN, Spent $96 and kept saying make sure I get Sauce packets and extra.  When order brought to the door, No Sauces!  With Attitude the Employee responded it will be a minute and didn't return until bringing next order to door 8min later and gave 6 sauce packets.  Six Soy Sauce and no Hot Sauce and WAIT I was given 15 Mustard that we never eat and they forgot the Fried Rice?  You Guys have LOST Me & Our Family Forever...\", \"Food is bland, service is terrible and you'll wait an hour for a simple order. There's hundreds of better Mexican restaurants in Tucson.\", \"Came on a Saturday night about 7 pm.  Not busy at all and waitress stopped by initially,  but then disappeared for 15 minutes before coming back to take our order.  Ordered wine, several appetizers and 2 meals.  Appetizers came out 15 minutes later which seemed like a long time given there were very few people here but NO wine.  Had to remind waiter to bring pita for hummus and to bring the wine.  Meals came out and rice was cold and clumped together.... basically inedible.  Appetizers were ok but rather tasteless. Waitress left check and we paid immediately but she didn't take our payment for another 15 minutes.  An overall unpleasant experience.  Will not be coming back... overpriced and underwhelmed!\", 'My first time at this place ,the food was tasteless and the service by our waiter was the worst I have encountered ,he never checked in with us about if we needed anything?I had to get up and asked for my own water and other items ,the place should not be called EL CHARRO for the food and atmosphere did not taste anything like an EL CHARRO food should taste ,I will never go back and let others know about it feb 12,2021', 'We are trying to support local restaurants during this challenging time and many are excelling such as Parish, Sauce just to name a few.  Unfortunately Prep and Pastry failed miserably on  a holiday leaving many patrons to wait 45 minutes to an hour.  Worst part was total lack of communication and the fact that is was faster to walk in then for those who preordered.  Finally we got the Green Chile quiche home only to be disappointed again by the total lack of taste or green chilies.  Disappointing all around']\n",
      "Document about 'food' in star 1 reviews: [\"This place is not worth it. Don't go the food wasn't good and the service was horrible\", \"I used to love this restaurant but it has steadily gone down hill. Poor service, foods not good anymore, and it's dead. I've enjoyed many great meals here but I'm sad to say I will not be returning to over pay for mediocre food. Management reach out to me to address these concerns.\", 'Tried to use Priority Pass to pickup a quick cup of coffee and pastry for an early morning flight.  Server would not let me leave the restaurant with the food and actually chased after me after I ignored her .  Some restaurants that participate in PP do specify all food must be eaten in the restaurant but Noble Hops does not include any mention of any restriction in the PP fine print..', 'Placed an order through DoorDash. The restaurant did not put all of our food in the bag. Had to go there myself to have them remedy the issue. Over the phone they were nice and said they would remake the order. When I arrived, they tried to talk their way out of it. Finally gave me another pot pie. I would have been better off going to the grocery store and getting pot pies from the freezer section. Poor quality food. Used to be my favorite.', \"Really bad...do they leave the food under heat lights all day or what? Maybe I'm spoiled cause I'm from San Diego where we have bomb ass food but this shit was awful....DONT GO HERE! Run the other way....terrible food, makes you sick!\", \"I've been to both locations, do yourself a favor, avoid this place.   Grossest food I've ever had.   I'm Mexican and this place did not make the cut...\", 'Just had the absolute worst experience ever. Supposed manager Xavier Castro was the rudest little punk I have ever experienced. First of all the hours posted say they are open until 9pm. Just took my 3 little foster kids to get dinner at 847pm and was ridley interrupted at 9pm and told to get my food, clean up my mess and get out. Have never in my 40 years of life een told to get out of a resteraunt while I was still eating my food. Unbelievable that they would allow someone as rude as that \"manager\" talk to customers that way. When I told him I was letting my kids finish eating he continued to yell at me to get out, clean up my mess, and get out. my kids couldn\\'t even finish eating their food that was cold, they didn\\'t give me all of the chicken nuggets. This is the most disgusting display of management, or even a employee that I have ever witnessed. If this kid doesn\\'t lose his job, I will contact every McDonald\\'s ceo and upper management until he does. There was another young kid there that also came over and started yelling at us and telling me they would get security in which I told him to go ahead. It literally took 11 minutes to eat our food, it\\'s not like we still had a full meal in front of us, we were finishing up, but the utter display of disrespect and unprofessionalism was beyond belief. All of this happened in front of my 3 young kids as well. I will be contacting everyone I can until I reach the owners of this mcdonald\\'s.', 'The rudest Waffle House employee I have ever met. So I recently moved out here from Georgia and figured I\\'d stop by Waffle House after leaving the Tucson mountain park around 10pm. I figured I\\'d stop in for a drink and talk with a friend that was with me. I walk in and the only people inside were one worker (older woman with white hair) and two customers with whom she was talking with. I asked her if they had dine in and she said \"no, and no other Waffle House is\".(due to coronavirus). I said alright that\\'s fine, and the man sitting at the bar asked \"where you going?\" And I said I\\'m going home cuz if Waffle House ain\\'t serving food no where is. I said that because I know Waffle House is one of the most resistant restaurants out there so if they\\'re closing, everywhere else probably is too. As I turn to walk out the door he says \"tell you mom I said hi.\" I whipped around and said excuse me?? And the old hag working the back insisted he was joking, I said I hope so and left. I can\\'t believe one of the workers defended behavior like that. Completely unprovoked, I didn\\'t know that guy Adam and didn\\'t say a thing to offend him. They were probably pals from the NA/AA meetings or something. Won\\'t make the mistake of stopping in the slums west of oracle again. No class!', \"Panda Express used to be a good place to get great food. Today we got Very small portions and a big price food wasn't good just below average teriyaki chicken had no teriyaki. I won't go back.\", \"I ordered a regular size Buffalo Fries from Doordash yesterday afternoon. I had added cheese, which wasn't even melted, and the food was somewhat cold and unremarkable. Didn't think anything of it. The second that I drank this morning, my stomach flipped and I have had horrible gastrointestinal distress most of the day. Only now, at half midnight, is it seeming to slow down. I'm fairly certain it was this that caused it, as I had not eaten anything else after. I'm now reading reviews stating that this is a common occurence, and that the place is dirty. This is the last time I order from a place that I've never been before. Please do better.\", \"So thought I would give Lonchos/Tio Wills another try. Bad decision. Ordered two shredded beef tacos. Go home with them and they are 90% potato's and 10% beef. Far cry from a shredded beef taco. Don't know which I am more upset about, the terrible quality of food or the fact that they lie about being Tio Wills just a new name to keep people confused. This is a COVID rich establishment. A roll of paper towels are placed on your table. You take what you want. When done it is placed on another table. You can't disinfect a full roll of towels. Done with this place very bad.\", 'November 2019 tried to order cater service. NO! The older lady hung up said she is busy. Forget it! \\nFOLKS DONT BOTHER---had the best catered food FROM DIFFERENT MEXICAN RESTAURANT she did me a favor :)', \"This place is so inefficient- fast food would not describe this joint. Every time it's 15+min and the order is always wrong... when you call to inform them they act like you're being annoying.. I'm sorry I paid extra for the additional items I requested and didn't get them\", \"We didn't even get the opportunity to try any of the drinks or food here. We were sat outside and then moved inside when a table opened up. The host brought us waters within a few minutes of being sat but no other employee approached us during the 25 minutes that we were at a table. We eventually just got up and left. This was my first time there and although I would love to support local businesses and love good beer, I can't imagine ever wanting to try this place again.\", 'Food was overprice, small portions and not very good flavors! Some friends invited me because they said the food and  ambiance was good. Not in my opinion!', \"Terrible! Chimichanga s soggy! Expensive and management had attitude. Will never go back..Big warning to all Mexican food lovers..nono.oro valley! Awful and didn't try to fix it after e r spending 34 and leaving 10 tip. We're done!! Spread the word for us home bound their taking advantage.\", \"The young overweight lady who runs the drive through window should NOT be in food service. Not trying to be disrespectful, but I'm not too sure how else to describe her. For 1, she had her phone in her back pocket that she was constantly grabbing along with her pants while making our drinks. Along with that she was not wearing gloves & grabbing her rear the whole time. Was simply watching her the whole time not amused.\", \"This place is a disaster. No one picks up the phone for to go orders and goes to a general mailbox. So I go there and the line is out the door for what is nothing more than a fast food chipotle restaurant. Don't even bother with this fake so called Mexican dining establishment\", \"Got this for our anniversary dinner- Kung Pao Chicken, Sesame Chicken and Chicken Lo Mein. Over all, although presentation was good the food was so overwhelming salty that we had to give in and throw it out. Ugh a big waste of hard earned money. So hard to find consistently good Chinese food. I guess we'll stick to home made.\", \"We used to order from here once or maybe twice a week. The food and the service were good. But this past week the left an item out of our order. I called to see how they would fix it. The manager never got on the phone. I was promised a refund for the missing item. Never got that (although they did manager to refund the whole order twice and then charge it 3 times to my card). Never got an apology either.\\n\\nIf they get your order right, it'll be pretty good. If they mess it up, don't expect ANYTHING to be done about it.\", 'Waitress new nothing about the menu which is void of pictures and limited in its descriptions.\\n\\nI was going to dine in but the table was sticky af. I moved tables, and that table too was sticky af.\\n\\nSo I decided to take my food to go. \\n\\nSome shrimp dish which was not good, no particular flavor. \\n\\nCertainly not authentic to any country in Asia that you would assume a comparable flavor profile. \\n\\nA mango sucking jelly drink which literally had two sips \\nof drink. \\n\\nThe rest was stuffed with a disgusting flavorless jello which was only suckable with great effort. \\n\\nThe desert I ordered was some \"layered pudding\" \\n\\nAgain, a similar flavorless \"pudding\" which was more jello than pudding and topped with some flavorless purple rice which was more brown than purple. \\n\\n$35 later I threw everything away because it just wasn\\'t good. Wasn\\'t good at all.', 'Taco Bell is better. Poor service. Grease pit... terrible food. Would rather eat my socks', 'Both my friend and I got food poising from this location. We tried to get a refund, and the manager was rude on the phone and did not care. I would never try this place again.', 'Very upset because about two months ago, my friend and I did an online delivery so I had to give my credit card info over the phone. The young girl taking my order sounded very nervous and new so my friend and I were a little sketched out. A few days go by and I notice a couple unauthorized transactions on the same credit card I used. It was a new credit card and no one had access to it so I was very confused on how someone could have gotten my information. Realized Rosatis was the only place I used it over the phone like that and called them to ask if this was normal. The manager I talked to said my order was not even in the system which made no sense bc I got charged for it. He then proceeded to tell me that he would have his GM call me back and they never did. To this day, I still get notifications that the person is still trying to use my credit card. I changed my number but it is just really upsetting at how unprofessional the whole situation was especially if it was one of the employees stealing my card numbers. The food was great dont get me wrong but I will not be returning :/', 'Worst sushi-Japanese slop in America. They sold us \"all you can eat sushi $20\" then brought my family 5 heaping plates of over-cooked rice -(like mashed potatoes) with mystery fish-flavored filling that is more like Army mess hall slop than Japanese food. They try and fill you up with mush. We complained and they sicked their security punks on us and escorted my wife and children out the front door. Very nice $100 dinner for my family. This place is run by organized crime NOT Native Americans...they are a front.', \"Did I order the wrong item on the menu?  Went there with my mom and although the service was excellent the food was below average and overpriced. Help me understand why this place is so crowded on the weekends and then maybe I'll return.\", 'The meat was uncooked. \\nGenerally not great food quality and they give you more rice than anything else.\\nOverall really disapointing.', \"Idiot employees, horrible food.  Place is nasty and avoid at all costs.  I wouldn't feed this food to a pack of wild dogs.\", \"So, I've only ever had service THAT horrendous one other time in my life. Working in the industry myself I'm very forgiving about things that go wrong, but this was just BAD. We were seated immediately, sweet. But, that was it. The only thing faster than being seated was being handed our bill. Never got chips or salsa. Food came in decent time at least, but only tasted so-so. Server only came to us 3 times, once to take the order, once to deliver food and once to give us the check.  \\n\\nExtremely disappointed in this place that's supposedly one of Tucson's best.\", \"This has to be the worst chipotle location I've ever been to. I've gone on three separate occasions and every single time my food has been cold, they've been out of chicken or just serve you the scraps, they didn't have any utensils stocked, and they didn't even give me a lid for my bowl. Save yourself the trip. Find another location.\", \"If i could give it a 0 I would. Do not order on any food delivery service, they do not listen to your requests. When you call to ask if you personally drive to the restaurant to exchange what you ordered politely they will be completely rude. 70$ on 5 things, and can't even get it right... meat was old, and tortillas tasted of cardboard. Thanks for ruining my night\", \"I was looking forward to telling everyone how bad this Wendy's location is. But it looks like everyone beat me to it. This place is not only dirty and in need of repair. But the employees and the owner are rude, unprofessional and apparently aren't above ripping off the public. I went to this location after ordering online and was told I couldn't have my food or money because I wasn't driving a car. They took my order and my payment then told me that the dining room was closed and I would have to go through the drive through. When I got there they told me I couldn't get my order or my money because I didn't have a car. I called customer service and was told I would get a call from the owner and I would get a refund. Neither happened. Thanks for ripping off a certified caregiver. Must make Wendy's feel special.\\nPlease send a message to Wendy's and don't buy anything from that location\", 'Not impressed.  We came from out of town and relied on the reviews from yelp.  Not sure where 4 stars came from......service was soooo slow, didnt get our food  for 45 minutes after order.  Drinks were horrible unless you are looking for straight fruit juice!  Not impressed. no atmosphere either.  Wont b returning....', \"This is the worst Chipotle. It's slow, the staff are unfriendly, and they never have mobile ordered food ready. I live nearby and when I order for delivery, it always comes on time, no problem. But if I order for pick up, it's literally never ready, even tho I get a message saying it is. And then they always tell me to just get in the line and order. It's ridiculous. I'm sure they just throw away pick up orders.\", 'I have only been here once and really enjoyed the food. I know it gets packed, so I came early to get a table for four people. To my surprise an old Hispanic lady told me that I could not have a table until all my party was there (which is B.S). 10 minutes passed by and my party arrived, needless to say there were no more tables available , and besides that we were sent outside. Unfortunately even though I like the place I am not returning, at least until they have someone who actually has customer service skills.', 'Service was terrible. Three servers/bartenders only 6 tables full in the whole restaurant. We watched our food sit in the window for ten minutes before our server decided to pull it from the window. The food was decent, except that the bbq pork sandwich we ordered was dry and needed more bbq sauce. We were shocked to see on the bill that we were charged $.89 for the requested side of bbq sauce to use on the dry sandwich. We had also asked for a side of ranch for our fries we were also charged $.89 for the ranch. That meant our bbq pork sandwich ended up costing $16+ after our requested condiments were charged. Not worth it. The condiment up charge is also not notated on the menu nor were we told by the server. The beer selection is great.']\n",
      "Document about 'service' in star 1 reviews: ['Very bad service call for takeout they got our order wrong and they wanted to charge me again to go pick up what they forgot very bad service will never go again to any of these restaurants', \"Super disappointed in the service at this Panera. I've had take-out orders that weren't correct, but I always blamed it on the DoorDash app - mishaps happen, right? \\n\\nBut the in restaurant service is also seriously lacking. They got my order wrong even though I was right there, eye-to-eye, and, to be honest, I don't think they care enough to really listen to you and get it right.\", 'They deleted my review! It was the worst experience of my life of customer service. Blue hair was rude and hated that we had questions. Yelp is a joke', 'Please do not ask me if I\\'m ready to order 8 times in the first 5 minutes of sitting especially when you can see I\\'m reading the menu. The \"team\" serving style makes in uncomfortable as none of them communicate with each other so it\\'s the same questions one after another or confusion between all of them. Usually have great service but there is one server that always works on Tuesday\\'s, I do not know her name but she is shorter with dirty blonde hair . She is very rude and condescending. Food is usually alright but nothing to call home about', \"Just sitting in the restaurant writing this review and I am appalled at the customer service at this resteraunt. I brought my 3 kids here and ordered corn dogs, they came out so burnt that they couldn't bite into it. I kindly asked for a corn dog that wasn't burnt and the lady blatantly ignored me and walked away. My husband simply asked if I just got ignored and I said yes and the cashier walked over with the corn dog and said here is your corn dog, she did not ignore you she got you the corn dog. When I mentioned I would contact the owner she said that she was the owner. I said I doubt the owner would run their establishment this way, she proceeded to stay in the back and talk shit. She should be fired, she makes the establishment and the owner look bad, not to mention she lacks fundamental customer service skills to work a customer service job. Worst experience\", \"We've always get Papa Murphys pizza, even at the same location. Tonight's pizza was horrible. Hardly any toppings at all let alone sauce. We orderd regular crust and it was thin. So disappointed this time around. Even the staff were not very friendly and barely acknowledged me when I came to pick up. Worst service all the way around.\", 'If you want to get overcharged and have your order take 20 minutes after you place it, come to this whataburger. The cashier \"Maite\" overcharged me $3.00. Whataburger has gone way down in service and quality.', \"The absolute worse McDonald's ever. Waited 15 minutes in drive thru the. 10 minutes out front for a Happy Meal. Consistently bad service\", \"1 star for my cold panini and salad that I asked to be chopped but wasn't. Besides the meal, the service was the cherry on top. Whatever you do, be sure to stay clear from the horrible server named JAKE. Took forever, never stopped by our table, and overall was a server with no talent. As a server myself, take it from me, this guy was awful! What a shame.. loved postinos.. but this, was not it! So whack.\", 'Terrible customer service. The people here are extremely rude, and always forget to give me back my card. Wont be coming to this location.', \"Super unpleasant owner.  Why operate a service business when you treat your customers like dirt.  I won't be back, but I'm sure owner doesn't care. Have a nice day champ.\", 'I ordered my pita and salad with no tomatoes, I am allergic . My dinner was covered with tomatoes. $30.00 which was outrageous to begin with for delivery.\\nSo DISAPPOINTED will never order again from here . I called and I I got was sorry .\\nNo offer to compensate me in any way.\\n$ 30.00 for sandwich I could barely eat maybe a quarter of it and 3 bites of salad covered with tomatoes. Chicken really tried out . It was awful!!!!!\\nDO NOT ORDER FROM THIS RESTAURANT.\\nShould of thrown $30.00 out the window .\\nVery pot management!!! No one that ok my distress seriously!!!! Poor customer service .', \"I've never staid at this resort and on my time there I Had the worst experience! Never going back! No one ever told us that we couldn't have snack in the pool and the security there were on us the whole time threatening us that we were going to be kicked out for having snacks for our daughters! Not only that, when we were in the pool we took some towels out of the machine and left them in chairs like every other guest, We noticed that someone was trying to charge our credit card and it was the Casino trying to charge me for some pool towels. I called and ask them and it was them and they told me that they were charging me the towels because we didn't return them! I was like are you going to charge every guest because I saw that a lot of people did not put the towels back in the machine and were just left in the pool chairs! Worst customer service ever!!!\"]\n"
     ]
    },
    {
     "name": "stderr",
     "output_type": "stream",
     "text": [
      "/usr/local/lib/python3.10/dist-packages/ipykernel/ipkernel.py:283: DeprecationWarning: `should_run_async` will not call `transform_cell` automatically in the future. Please pass the result to `transformed_cell` argument and any exception that happen during thetransform in `preprocessing_exc_tuple` in IPython 7.17 and above.\n",
      "  and should_run_async(code)\n"
     ]
    }
   ],
   "source": [
    "# document in star 1 reviews\n",
    "wait_1 = []\n",
    "food_1 = []\n",
    "service_1 = []\n",
    "\n",
    "review_1_star = star_1_data['text']\n",
    "for i in review_1_star:\n",
    "  if \"wait\" in i:\n",
    "    wait_1.append(i)\n",
    "  elif \"food\" in i:\n",
    "    food_1.append(i)\n",
    "  elif \"service\" in i:\n",
    "    service_1.append(i)\n",
    "  else:\n",
    "    continue\n",
    "\n",
    "print(f\"Numbers of document metion 'wait': {len(wait_1)}\")\n",
    "print(f\"Numbers of document metion 'food': {len(food_1)}\")\n",
    "print(f\"Numbers of document metion 'service': {len(service_1)}\")\n",
    "print(\" \")\n",
    "print(f\"Document about 'waiting time' in star 1 reviews: {wait_1}\")\n",
    "print(f\"Document about 'food' in star 1 reviews: {food_1}\")\n",
    "print(f\"Document about 'service' in star 1 reviews: {service_1}\")"
   ]
  },
  {
   "cell_type": "code",
   "execution_count": null,
   "metadata": {
    "colab": {
     "base_uri": "https://localhost:8080/"
    },
    "executionInfo": {
     "elapsed": 472,
     "status": "ok",
     "timestamp": 1706732769206,
     "user": {
      "displayName": "Homer Liu",
      "userId": "02498362625275100753"
     },
     "user_tz": 420
    },
    "id": "DblQhOQpBxzK",
    "outputId": "10d8fa40-1cd4-41fa-f3f5-97613a97cbe7"
   },
   "outputs": [
    {
     "name": "stdout",
     "output_type": "stream",
     "text": [
      "Numbers of document metion 'wait': 72\n",
      "Numbers of document metion 'food': 205\n",
      "Numbers of document metion 'service': 43\n",
      " \n",
      "Document about 'waiting time' in star 5 reviews: [\"My husband and I received a gift certificate from Charro Steak.  We looked at the menu and said WOW! We were not disappointed.  The food is fabulous, the staff is very responsive and we had a wonderful experience.  Make sure you make a reservation as it a very popular restaurant.  Lucky for us we received another gift certificate.  We can't wait to go back!!\", \"Came here celebrating law school graduation and it was the perfect place. Can't wait to get back soon.\", \"What a great place to now have in town here! The vibe is modern and comfortable. We were greeted and sat as soon as we came in. We went before 5pm so we were able to take advantage of their amazing drink specials $5 pitchers of beer and $5 glasses of wine. I had rosè and it was so refreshing & crisp, and I loved it. My husbamd got Sippin pretty which was a delicious and fresh tasting sour beer. We ordered prosciutto with brie and the bruschetta board plus 2 additional bruschetta. We got moz tomato and basil, warm artichoke, smoked salmon and pesto, burrata bacon arugula, and sweet n spicy jam w goat cheese. All were aaammmzzzsiiinnggg! Salmon and pesto were our favorite. This is a great spot for couples date night or brunch with friends. I can't wait to return!\", 'I love this place and their food our waitress Diana is amazing....chicken tacos are very good and we have had several family dinners there continue the good work', \"My son and I visited previously and picked up some bakery items.  I'm glad I waited to do a review until I'd had a meal.  My son enjoyed his french toast while my crepes and biscuits and gravy were perfection!  Everything was delicious!  This is a perfect breakfast and I'm looking forward to visiting again.\", 'Great service from krystal!!! \\nAwesome food and very patient on their toes wait staff!\\nI got the filet and chicken with basmati rice!!!\\nAmazing!!!', \"Such a great first experience here! I have been to Phoenix locations and was so excited when Postino opened in Tucson. With COVID and everything happening, didn't get here until now. Superb service, clean environment, not crowded and well socially distanced and again, amazing and friendly service. Can't wait to come back!\", \"Absolutely delicious! From Phoenix and was in the area for a mini weekend trip. We ended up at this place for brunch and all FIVE (couldn't make up our mind for 3 people) things we ordered did NOT disappoint. It's definitely a popular local place as there was a wait. But the wait is worth it\", \"Wow! We visited this place yesterday for lunch and it certainly did not disappoint. The atmosphere was so lively and fun, and the food was delicious! Their menu is small but I think that's nice because the quality of each food item is top notch. For appetizers we ordered fresh guacamole and chips - I couldn't stop eating them. Then we also tried the nachos - mouth drooling. So good! For my main menu item I asked for a Birria Burro which wasn't in the menu but they made it, and it was so flavorful and just a very filling burrito. My sister ordered the chicken tortilla soup and that also looked so delicious! Loved the ambiance and would come back again. They have outdoor dining as well. With COVID, they also have shields between each table inside which I liked. This layer of safety also didn't take away from the visual appeal of the aesthetic. So that was nice. Can't wait to come back. And I know parking can be a deterrent when it comes to downtown but they're actually right across the street from the parking garage so I considered that a bonus too!\", 'Came here for a birthday dinner. It was pretty busy we had to wait about 30 minutes. (Wish they had nowait!). Postinos is always delicious. My go-to is the 9-iron sandwich and my wife usually gets the bruschetta board.\\n\\nIt is also welcoming to see gluten free bread available as someone in our party had a gluten allergy. Will be back!', \"Called in order. Didn't wait long and was able to pay and take the most amazing food home! Tacos yaqui, large caramelos, carne asada tacos and chipilons with everything! Highly recommend it!\", \"After seeing all the pictures, I had to check this place out and our visit turned out as expected. YUM. It's a small restaurant, but cozy. If you go alone, you might be seated with someone you don't know. That's normal in Europe, but not usual in my experience in America. Because it's small and busy, you could also experience a wait, but it won't be long because their service is quick. Note their operation hours as they are closed between lunch and dinner. The food is an amazing presentation and the taste is even better. We also tried the hiro mule and it was quite tasty as well. The only negative (not for the restaurant), is you will probably have to park down the street in the residential areas since the parking lot is super small.\", \"Absolutely amazing service and delicious food. We were there last night for my mother n laws birthday and it was a large party with kids. Our waiter was accommodating to my allergies and treated our kids the same as the adults. He was so polite and friendly. He even opened the door for us as we were leaving. Absolutely great time. Will go again when I'm back in Tucson.\", \"We're from Oakland visiting in laws here and no restaurants were open early except this one as we left Tucson. \\n\\nAlso noticed that folks dont use Yelp as much as folks in Cali. This place just based on their breakfast burrito was soooo damn good! The tortilla was bomb and as someone who doesnt like beans...these beans are hella good!! Definitely one of those spots that feels like a Mexican grandma with a hanging elbow making something so simple tastes amazing. Also the man who took my order was hilarious and kind. Thanks Maico! Cant wait to visit Tucson again for this.\", \"Anxiously waited for Postino to open in Tucson since we'd been to the Scottsdale location. We were fortunate to go to soft opening. All I can say is WOW! Complimentary food with 2 drinks per person was awesome. We tried butcher block, every bruschetta, meatballs, and 3 desserts. Service was wonderful. Melissa took great care of us, but we had numerous others checking to make sure we were taken care of. Location is just right being across from Culinary Dropout and next door to Snooze (opening soon). Went for second time and had 1/2 panini and salad. Amber was our server and was great!\\nThis has quickly become our new fav place! Brunch is next.\", \"This place is awesome!  Calye, Brittany, Erika, Julie and everyone here are fanfreakintastic!  New food menu is pretty fuego!   Beer is great and always getting better, I can't wait till they get the full bar!\", 'Always a good choice for amazing food. To beat the rush we always go 2 hours prior to closing time. Usually we never have to wait long for a table.', \"Our waiter was named Lee, he was very attentive and eager to serve us. We had an absolutely wonderful meal, even with minor set backs such as a ravioli mix up. He immediately took care and recognized the problem and resolved it with the right order. My glass was cracked and leaking (was not his fault) and he changed and apologized for the mistake. It's servers like him, that keep me wanting to come back for more. He made great recommendations to order and I was very pleased with the delicious food as well.\", 'This place is amazing!!..we had to wait an hour for a table (on Saturday night) but it was so worth it.great service and delicious food. I had the #4 combo and she had the #5..freakin amazing!!..great service!!.. if you love Mexican, eat here before you die', \"I've been super excited to try this relatively new lunch spot downtown. The stylish decor includes bright pastel ceilings, artwork in primary colors and muted talaverna-style tile patterns that all blend together into a comfortable and trendy atmosphere. \\n\\nThe interior space is not divided into sections, and with nothing but hard surfaces in all directions, the acoustics are echoey, making conversation a little challenging. Some soft sound panels on the ceiling or one of the walls would really help soak up the rando chatter. \\n\\nThe Pineapple Margarita ($12) was light, with a muted pineapple flavor, a fresh pineapple wedge and served in a seasoned glass. Yum. \\n\\nThe chips that came with the Guacamole ($3) were crisp and nicely seasoned. And the salsa roja had a deep roasted flavor with a nice slow heat. The guac itself was a bit heavy on the bitter cumin and lacked a touch of saltiness. But it blended well with the chips and salsa. \\n\\nThe Trio De Enchiladas ($16) included birria con salsa roja, pollo con mole negro, and camarón con salsa suiza. Delicious! I ate every bit of this dish. Even the creamy pinto beans, fresh salad with pico and lightly seasoned rice with cilantro. The salsas are the stand-out here. In particular, the mole is fantastic. I prefer moles that don't taste like a candy bar. And this one hits the pallet with only a hint of chocolate amongst its layers of roasted flavor. And the suiza is wonderful. This is a salsa verde finished with a bit of dairy, named after Swiss immigrants who, as the legend goes, brought with them to Mexico rich cream to put into spicy salsa. Yummmmm. \\n\\nAt $16 this dish is a bargain. Especially compared to other downtown spots like Charro Del Rey that charge $30 for for something similar, yet are not nearly as delicious. \\n\\nMy only complaint is that the flavor of each of the proteins falls a little short of the richness of the salsas. A little more seasoning within the protein itself and I would pay twice the price for this dish and be happy about it. \\n\\nI've read some reviews that complained about the wait and/or the service. We came on a Wednesday afternoon and were immediately seated, and we had a drink in hand less than five minutes later. So I did not notice any problems with the service. Also, the bathrooms are clean and frequently serviced. And everything is COVID compliant too, including nicely styled outdoor seating. \\n\\nOverall, a La Chingada is wonderful. Check it out on a week day when it's not as busy. But even still, I wouldn't be upset about waiting for 30 minutes for a seat. The food, service and prices are fantastic.\", 'We have not had their regular food yet, but after trying this Thanksgiving meal we will be back. \\n\\nFirst, the waitress and staff were amazing!!! Everyone was very friendly and positive even working on Thanksgiving. Our waitress in particular was excellent, she was attentive, helpful and a delight to chat with this evening.  The ambiance was ok, the chairs were a bit hard and uncomfortable for length of the meal but perhaps it fits with the normal menu. The decor was cute, we were on the del Rey side, and echoed the surf and turf theme.\\n\\nWe had the turkey and Prim Rib, both were very juicy and flavorful but a bit cool. The prime rib was perfectly prepared and the highlight of the two meat dishes. The turkey was good, with the both the white and dark meat being moist. The highlight for the turkey and the mashed potatoes was the gravy which had a nice spice to it and really elevated both the potatoes and the turkey. The stuffing was really well done which a similar bit of heat and spice as the gravy. The cranberries were fresh, not canned, and the corn was prepared in a style similar to an elote street salad with a nice amount of citric acid to cut through all the fat elsewhere in the meal.\\n\\nWe started with the cast iron mushrooms stuffed with chorizo, which was not greasy and had a great balance against the cream sauce it was stewed in, and we end with two of the deserts. The pumpkin tamale was not too sweet and a nice smooth ending to the meal. The chocolate tres leche with peanut butter icing was sweeter but very moist and all the flavors were very balanced. The place had a nice selection of drinks including wine and whiskey.\\n\\nOverall, we were very impressed with the balance of the flavor profiles and some of the food stumbles were not severe particularly considering how busy they were on Thanksgiving. It is this flavor balance and the amazing staff that really stole the night for us.  Food we would rate around a 4-5, ambiance a 3-4, but the staff were easily a 5.', 'Big fan of postino. They have a big selection of amazing wines. I got an arugula salad with brussel sprouts and it was delicious. Get the bruscettas. All of them were AMAZING. The waiters were very friendly and attentive. The ambiance is very stylish for Tucson.', 'Really tasty food and baked goods. Would definitely be back again. Fair warning, the baked stuff sells out pretty quickly and there can be a hefty wait.', \"First time. My wife and I were very pleased with our lunches. Dined in during the pandemic. Our food arrived in less than 5 minutes. Red Chile and taco plates were on point, and the waitress was super! We'll be back soon.\", 'You walk through the doorway and are greeted with a smile and comfortable chatter.\\nThe waitstaff are friendly and efficient. The food choices are a bit different from the usual brunch fare and are delicious. The everything croissant breakfast is sandwich crazy good and the poutine is so yummy, you can add friend chicken (we did), which made it even tastier. Get here early though to be seated quickly.', \"I had heard really good things about this place from friends, but I never had the opportunity to go myself. I ended up going with my boyfriend the other day since we figured ramen would help his upset stomach. Since COVID happened we had to wait a little due to the limited seating cause of social distancing, but the wait wasn't too bad. The service was great and the food was amazing, overall it was a great experience. I was pleasantly surprised. I'm most definitely going back for more\", \"You have to have the Sonoran Dog.  I keep thinking about it, in Wyoming.  It was delicious.  I also loved the Raspberry Ale.  Our waitress was great.  I don't remember her name, but she was pregnant (she didn't look pregnant, but she was). The vibe was fabulous, but the service was better.   We tried several appetizers and they were all delicious.  The burgers were great and the amber beer was great too.  Can't wait to visit Tucson again.\", 'Ok, this place is AMAZING!!! Came here on a whim and so glad we did!! Atmosphere is great, very hip and \"cool\" but not stuffy. We sat at the bar. Zach, our waiter, was phenomenal. Happy hour is unreal. $20 bottles of wine!!!! Amazing. We go the meat balls, the butcher block, and some bruschetta - everything was amazing!!! The best bruschetta was the bacon, burrata, and tomato, but again, everything was awesome. We were a bit skeptical since this place is so new (only opened a week and a half ago!) but it was like a well oiled machine. Seriously phenomenal all around. Can\\'t wait to be back, AND check out the phx locations!!!', \"Absolutely phenomenal. We were visiting Tucson for 4 days and we came here 3 times. We were greeted with a beautiful bright and open seating area and an incredibly nice hostess. I saw some pastries in a glass case on my walk to the table and knew this was going to be good. I speak for all 3 times I've been here when I say the waitstaff are so friendly and helpful with making suggestions for the menu. \\n\\nAll 3 things I ordered were delicious but my favorite was the green chile french toast, they absolutely nailed it. Everything they do though has pizazz. Even their most basic dishes have a flare to them, which I love. \\n\\nAnother perk of coming three times was that I was also able to try three different drinks...vacation right? They have a lengthy cocktail menu of incredibly unique looking concoctions, as well as an entire list of different mimosas. They will still serve them on weekdays and not just weekend brunch...which is great for those vacationing where everyday is a weekend! I opted to try a few mimosas, and while all were excellent, my favorite was the rose lemon. Exceptional. \\n\\nNow the pastries...: Our first time there our sweet waiter brought us a tiramisu cronut on the house because we were new and WOW was it delicious (and also such a kind gesture). Definitely sold me on wanting to try more of their pastries. The next two times I took a pastry to go for later in the day...vacation right? I was able to try their earl grey scone and their stuffed apple brioche donut. They also change them daily so it's always a new surprise what they will have. My only complaint is that we still had another four days in a different part of Arizona and pastries wouldn't stay fresh enough for me to take home with me! My waistline thanks me but my tummy was sad. \\n\\nI rarely say a long wait is worth it, but for this place it really is.\", 'We are not from the area, but are passing through and craving decent ramen. We were impressed with the Yelp Reviews and rating for this establishment so we gave it a try.\\nThe basics: The business location may look like it\\'s a hole in the wall with the cramped and small parking lot. However, the inside it looks clean and taste fully decorated. The staff were also friendly. The wait for the pick up was exactly as stated (30 minutes). Kudos for that since our navigation system indicated it should take us approximately 20 minutes to get there from our rental.\\nThe order: Spicy Tonkotsu and Regular Tonkotsu. The order was to go (not for dine/in), so we were anticipating that when we do get back to our place to eat, it wouldn\\'t be as enjoyable. We were pleasantly surprised that it wasn\\'t the case as the meal was scrumptious! The broth for both were tasty, the pork in each serving was tender, and the egg halves for each order was perfectly cooked. We\\'ll be back for more next time we\\'re in the area and try other dishes (maybe even an appetizer or two). Thank you, Raijin!\\nFYI - We have been here in the Tucson area since March and should be leaving soon. Since our stay, we have mostly been sheltering in place, but on occasion do place orders for pick up or to go. Of all the places we\\'ve been to, we have not been able to write a Yelp review until now; therefore, the numerous Yelp reviews written in the past hour or so is simply due to us being able to actually take the time to write them. This is not a fake account or review and we simply provide our reviews based on OUR experience and taste buds/preference (same as other Yelpers). So for those who address our reviews as \"fake\" (Teaholic), that is your opinion and are entitled to it. Obviously the other reviews we wrote while we\\'re here in Tucson aren\\'t all bad (low in number of stars). Take for example this review of Ni Hao, Rocco\\'s, Guadalajara\\'s, Back Dough, and Raijin :)', \"Last time I was here to have lunch with my friend was on May 19th. 2019\\nI don't know who was a manager there but he was very rude and so has the waitress:(\\nThe problem is started with the waitress and the manager didn't even apologize or give us another table to sit down and eat so I was really upset for the first time visiting his place since I left California after 41 years and my friend usually orders food from this place for the heart place to work so her co-workers could have food at meetings!\\nShe got upset & promised not to ever come back\\nAnd on top of everything else DM never got back to us:(\\nSo today me and my friend decided to come to have lunch here:)\\nThis time the waitress Daniela was very helpful friendly and so as the manager who was in charge with a dark blue shirt which we didn't get his name as well as another gentleman who welcomed the store to this establishment:)\\nThis time I like to give everybody five stars especially Daniela and the food was good we'll wil be back again I don't know when but we will:)\", \"I am a big breakfast and brunch eater when I visit Tucson. Their amazing selection of restaurants for breakfast makes it my favorite meal of the day. Prep & Pastry makes that list of must go to spots!\\n\\nThere is usually a wait time because the place is so popular. They have a great selection of mimosas. My favorite dish is the chicken and french toast. I want to try other things on the menu, but can't bring myself to deviate from the spectacular flavor filled dish. \\n\\nThis is a place to go with friends, family, or by yourself. The food is amazing. The staff is busy running around serving everyone. They are efficient at their job. It is amazing to see how they glide around each other and make it almost look like a dance.\", \"Always a good choice for food, happy hour or just drinks (not just beer).. hidden off Toole only minutes from downtown.. this place is truly a hidden gem. \\n\\nI usually have a burger or sandwich with fries when I visit, but they have great salads and happy hour deals also.. wings, potato skins, chicken strips.. etc\\n\\nOn my recent visit I had the black & blue burger .. Cajun spice with Gorgonzola.. first of all it's huge! The menu says it's spicy.. I didn't think so.\\n\\nI paired it with a salad .. even though I wanted the fries.. because they are delicious .. as are the onion rings or beer battered fries.. I also enjoy their barrio margarita with Tajín rim. \\n\\nThey do also sell beer to-go. The hostess is waiting for you outside, she gets you seated right away.. inside, outside & bar seating available. Wait staff is friendly, I've never had a long wait for food or drinks.\", \"Couldn't decide what I wanted to eat so many choices on the menu.   Even though there was a longer wait for our large party the food sounded no delicious that it was definitely worth the wait.    There's a wait list of Yelp but maybe because of covid they weren't using it.   \\n\\nI ordered the preps breakfast sammie with a over medium egg instead of scrabbled, something about runny yolk in a sandwich always gets me.   The bacon and potatoes with my meal get a special mention since it made the dish, so so good.    Since I went with others got to taste a few other delicious dishes like the Monte Cristo, steak and egg sandwich, breakfast poutine.  And what's breakfast without mimosas.  My favorite was the Madras.  \\n\\nLoved their pastries section but unfortunately I was too full after brunch that I didn't get to try anything more than the cookie which hit the spot after my meal.   \\n\\nStaff was very friendly and food came out pretty quickly.   Great breakfast/brunch spot!!!\", \"This place is proof positive if you serve good food you will be a successful restaurant, even when you open during a pandemic.  We were here on a recent Sunday afternoon.  Wait time was 40 minutes.  So we waited.  We ended up with a table on their sidewalk patio area.  It was perfect.  The service was great even with a full restaurant.  The cocktails were delicious and beautifully presented.  I had this chamoy slushy martini with tajin.  Yummy.  The guacamole was fresh and some of the best I've had.  On the chilaquilas you get red and green sauce.  Both were bursting with flavor.  My husband had the tamale and egg.  The tamale was the perfect consistency and flavor.  The restaurant has a bar inside and about 10 tables.  Can't wait to go back and try their enchiladas!\", 'Really great breakfast place. \\n\\nThe food is delicious, and the prices match evenly. Really good coffee here and the wait staff are all professionals. \\n\\nI was very impressed. Will come here again.', 'The food here was amazing, but the service that Charlie provided as our waitress was absolutely amazing.  10/10 would come back here again if for no other reason than the great service she provided.  The food was also amazing, but there is something to be said for great service!  We will be back!', 'Neapolitan style wood fired pizza!!  Crisp crust, perfect rich flavors on the Ortolana white pizza, with mushrooms, artichoke hearts, arugula and added anchovies. $30 for a shared salad, pizza and gelatos. Watching pies hauled out of the oven is entertaining too. Make a reservation to avoid a wait. Oh. And service is excellent', \"Drooling thinking about them right now. Best breakfast potatoes I've ever had. Menu has soooo many great options. Can't wait to go back. Had the eggs Bennie with pork belly. Holy smokes. So good. Just go. You won't regret it. In fact the only thing you'll regret is how much you ate and drank while you were there because you couldn't stop eating. Legit one of my fav brunch spots in Tucson.\", \"It's tough to say this is the best pizza in Tucson when there are so many good places. But it's the best.  Worth the 45 minute drive from SE Tucson to get there.  Worth the wait. \\nThe on-site wood-fried oven is expertly manned by the owner, who turns around more pizza per human than I've ever seen. I love just sitting and waiting, smelling the deliciousness over a glass of wine, watching the well-oiled kitchen move pizzas faster than your eyes tell you is possible. \\nThere's many good joints around town. This is the best.\", \"Decided to try this place out after finding them on Instagram - ordered my food for pickup through their online menu which was very clean, designed well, and easy to navigate. I LOVE being able to order for pickup online, it just makes my life easier. \\n\\nI showed up a little before they were finished cooking but the server was extremely kind and made sure to keep me updated on its progress even though I didn't have to wait for very long. She also rushed out the door to bring me the side of rice they had missed, which I greatly appreciate! \\n\\nOnce I brought the food home and opened my bag I was pleasantly surprised to see that the portions for the Steak Bento Don and Fish Bento Don were ENORMOUS - way more than I was expecting!! I also ordered the fried dumplings and the crab puffs. The dumplings were solid, but the crab puffs were EASILY the best I have ever had, just absolutely delicious. And my Fish Don was also extremely flavorful and delicious and I would definitely order it again. I also ordered a milk tea that was really good and not too sweet, just how I like it! \\n\\nAll in all I had a very positive experience, and while I generally don't do dine-in these days, i noticed that the restaurant looked very clean and the few tables available were very widely spaced out which is nice. I also like its modern aesthetic. I live pretty far south of this place but I will definitely be returning, especially for those crab puffs!\", \"Had been here a few years back on vacation, and the food and drinks were amazing! When family was coming into Tucson to stay for a week, we wanted to get them a gift card here to have a great experience. I emailed the manager, Brennen, on the best way to get that to them, and he promptly wrote back within a few minutes. He said it wouldn't be a problem to call him and purchase it over the phone and have it waiting for them when they came in. He went as far to take a pic of my receipt, the gift card, and envelope with their names on it. They came in the next day, and had a great dinner and beer...or 3. :D\\nIt's going above and beyond to serve your customers that really stood out to me. Brennen is top-notch, and know Barrio's is blessed to have him!\", \"For sure will be returning here. Service and food were excellent. Food looks just like all pictures lol!! Place was jam packed - suggest getting there early lunch and early dinner. They close at 3pm and reopen at 5pm for dinner. It was worth the wait. Place is intimate good for group or date night! Parking garage directly across the street, I paid a whoppin 2$ on a Sat. Can't wait to come here again...\", \"BEST WINGS EVERRRRRRR!!!! I was introduced to Buffalo Bell about ten years ago and, even after moving away from Tucson, have NEVER forgotten them. Was lucky enough to stop by today and the wings were EXACTLY the same! You can't beat their honey mustard wings with a side of buffalo fries. It's been 4 hours or so since I had them and can't wait to stop again tomorrow before heading out of town. GREAT food! Their honeydew and taro drinks are AWESOME too!\", 'This is my favorite Mexican restaurant in Tucson! Staff is super friendly. Sometimes it can be very busy and you have to wait outside ( because of covid) but its worth it! Calling it in ahead of time will definitely help with the wait.', \"August Rhodes Market is now August Rhodes Bakery! While I am sad that their lovely sandwiches are gone for the time being, I am delighted to still have their bread!\\n\\nThis morning, I stopped in just after opening and got an oven-hot loaf of olive-pistachio sourdough bread and a package of six English muffins. The sourdough was nothing short of heavenly. When I got home, it was still very warm, and the fragrance when I cut into it was so beguiling I had to stop myself from ripping chunks off to eat without so much as sitting down, much less getting a plate. I did control myself long enough to get some butter and jam, which melted gorgeously into the pockets and crannies of the warm slices. (I will neither confirm nor deny whether breakfast entirely consisted of four thick slices of this loaf with various jams.) \\n\\nThe sourdough had the perfect tang, was light and airy, with just the right textural balance of the soft interior and the crisp crust. The olives and pistachios dotted throughout gave it a savory depth that I loved. I can't wait to try my English muffins, and go back next weekend to try more types of bread!\\n\\nAugust Rhodes will be open Thursday through Sunday from 9 a.m. until they sell out, but do yourself a favor and get there early so your chosen loaves will be still be warm when you buy them... and then eat them immediately.\", 'Christine is the absolute best waitress! I felt the restaurant was very clean and safe. Food and wine made for a great night with friends!', \"We love raijin ramen! me and my boyfriend come here at least twice a week. We both order the spicy ramen and it is devine! The staff is very friendly and will help you right away. Anthony is our favorite waiter, he is the best! The food service is so quick, if you're looking for a formal sit down this might not be your place but for a quick cheap bite to eat 10/10 would recommend this place!\", \"I dreamt about donuts last night so I woke up and went online to hunt for a donut shop that wasn't Dunkin' near me? I initially went to Amy's Donuts, which understandably is closed, so then I went to Donut King on Grant & Stone. I'm glad I went there!\\n\\nI got the cinnamon crunch donut and the cookies & crème blended iced coffee.\\n\\nThe two people working were friendly and were manning both the front counter and drive-thru at the same time. I didn't feel like I waited a long time for my drink either!\\n\\nI will definitely be coming back whenever I have a donut craving!\", 'Perfect! Finally Tucson gets an authentic, real ramen experience like the big cities have had for quite some time! Seriously no shills, feels straight out of Tokyo style! Long waits can happen at peak times though so definitely manage your expectations!', 'Amazing as always! I was so delighted to see the parking lot full at P&P this morning. People, including staff, were practicing healthy social distancing. The woman taking and retrieving orders had an intense \"I\\'m really busy - gotta do this and this and this\" look on her face but she was doing great and was super efficient and friendly. I got the chicken and toast, biscuits and gravy, and a dossant (yes, all for me cause I only get take out once or twice a month in this crazy time). They all taste perfect. Can\\'t wait to eat leftovers tomorrow! All my pics show half-eaten good cause I couldn\\'t wait to dig in.', \"My husband and I finally decided that it was time to get out and try to have some fun. With the heat, outside really wasn't an option for us. We thought we would give the casino a try. We walked in to find a temperature checkpoint for anyone entering the building and machines spaced. Literally they have spaced every machine, added shields in between machines, taken a ballroom and converted it into a new play area. I have never felt safer! New satellite bars where placed in several areas to ensure you could get drinks without a need to wait in line or socially distancing. You couldn't help but notice continual cleaning of all machines at all times either. It was fun, we had great service and would highly recommend to anyone!\", \"This place is great can't wait till it's all back to normal. Awesome location for lunch dinner drinks events and Great service. YOUNG leads by example as is the hardest worker(boss) in the building. Keep it up guys!\", 'This place is really good, and decent prices for what you get. The wait times are not that bad considering how busy they get and that they make your pizza fresh.', \"Tapas style! Ordered the skewers, carpaccio and meatballs with goat cheese. All amazing! The carpaccio was phenomenal! We tried to savor the flavor! Wished we ordered double! Definitely our favorite! The ambiance is amazing! They have a fireplace (outdoors), outdoor heaters and an amazing selection of wine and beer! 100/10! Our waiter Hunter was so kind and informative. Very attentive! We're new to the area and can't wait to be regulars, once we move here, due to our amazing experience and the great vibes! Thank you for the amazing end to our short trip to Tuscon, Postinos! Cya soon!\", 'This Waffle House is excellent! We were greeted by such a kind man who ensured we were comfortable while we waiting for our seats. Our waitress was wonderful and she continuously checked on us and asked if we needed anything. Food came out at a decent time and tasted great!', 'What can I say? Can you get much better than your neighborhood tortilla place? Spotless and simple environment? Check! Surprisingly expansive menu? Also check! \\n\\nI had no idea La Mesa existed; I stumbled across it today when I was intending to go to Ferguson to get a replacement part for the tub faucet, only to find it closed. Surely, there had to be another reason to drive all the way out from Oro Valley. This was, apparently, the reason to do so. I took a glance at the menu, and all looked good, but I was in a tamale mood; I had not had one since Winter. I took home half a dozen green corn, and half a dozen red chile beef. This place really goes with what works as far as tamale-making is concerned. Occasionally, you will run across a place that will try to re-invent the wheel, causing something to get lost in translation. Not the case here. These tamales are every bit as good as tamales that I know and love. They are not dried out, they are flavorful, and filling. They were a hit at home; all have been eaten.\\n\\nI cannot wait to try other items on their menu!', \"Where do I start? Don't be fooled by the long line outside, you won't wait more than 20 minutes even at the busiest time here. The dude at the front door with the clipboard is the real OG and gets people checked in and seated promptly. Great waitstaff, very polite and knowledgeable with good recommendations. Order anything- it's all top notch! Food comes quickly, is good quality and great quantity. Honestly stop reading this and just go there already.\", \"Adrianna was very kind and attentive! Excellent service, my friends and I love the environment at Barrio. Can't wait to come back.\", \"Extensive, varied, and delicious menu with plenty of veggie options. Delicious coffee and excellent service. We arrived at 8:45 on a Saturday and didn't have to wait, but by 9 there was already a growing wait as it was still too chilly for their many outdoor tables. Would definitely return.\", \"Very, very good. This was my third visit, and tried the Spicy Miso Ramen. Pork base, curly noodles, chashu (marinated pork), menma (bamboo shoots), scallions, seaweed, corn and tamago (egg). The broth is perfectly balanced, and the bowl is filling. No shortage of fine quality ingredients, which has eagerly brought me back. The owners also own Ginza Sushi at Sunrise and Kolb, one of my favorite sushi restaurants in town, and Jun usually takes Sundays off from sushi to make the broths here. If you're looking for authentic ramen, I highly recommend Raijin Ramen. The space is clean, the service efficient and quick. Lunch hours can be crowded, so I recommend going earlier than noon or after the rush at 1:30 if you want to be seated without waiting. Without a doubt, my favorite go-to for ramen.\", 'The best Mexican food in all of Tucson, honestly. I\\'ve seen this place posted all over the Tucson Foodie blog for some time and it was always on our \"places to tey\" list. Coincidentally, on Cinco de Mato, we happened to be near the restaurant and decided to check it out. Since the actual restaurant was bot permitted to dine-in at that time, we stood in line for their food truck that was put in the parking lot. It was pretty much a standard wait time for a food truck (especially when they are making real food on-the-spot) and the prices were incredibly affordable. They packed everything up and gave us a ton of their various salsas to try. When we got home, we couldn\\'t believe how good everything looked and it tasted even better. I honestly can\\'t pick a favorite thing that we had (pork adobada, carne asada, chicken caramel, some weird but amazing taco cooked inside a chile). We will definitely be back in the future.', 'Update 4-13-2020 take out only, still serving Margherita Monday 6$ pizza ! Also brought home their artesian styled bread loaf 4$ a good value & change of pace to the 5$ a loaf 21 grain bread in big box chain crowded grocery stores. Noon Monday ready in 10 minutes , no wait , no line , parked right in front of the store ! Keep the pizza oven fire burning scott v , thank you for local quality , tasty , pizza! \\n\\n Congratulations Scott Volpe / Fiamme Pizza internationally & nationally famous award winning pizza chef & pizza tossing star! Check out Tucson Weekly online or in stores to read his story in food /dining section 5-3-19.\\nFiamme Pizza swan/ sunrise SE in Safeway shopping mall between super cuts & Starbucks', 'Food and drink are great. Good service depends on the waitress. Sorry but had to say it.', \"If the new Postinos on Grant is even close to how great everything was yesterday, it is a sure hit! The soft opening made loyal fans out of us already. the three of us started everything off with a peach Bellini!  And we ordered everything to share. Favorites? The sauce on the Cauliflower appetizer made it a healthy and tangy starter. Try the Board - you get to choose any four (all great) and they slice them each into four pieces for easy sharing. the avocado toast with egg for brunch was above any I've ever had. \\nAnd save room- oh man, the chocolate dessert with vanilla ice cream and the smooth flan were share worth and so worth it! And I NEVER even like or order dessert! Great addition time mid- town dining. \\nWe cannot wait to go back!\", \"Aqui Con El Nene has been on my radar for some time as a place I really wanted to try (I mean, it's gotta be on all those foodie/Yelp lists for a reason), and I'm so glad I'm now in the know! Honestly, recalling my meal right now for this review has me salivating -- I can already sense another trip over there in my immediate future. \\n\\nSince it was my first visit, I tried the tacos so I could sample an array of their meats and flavors. I got the pollo (chicken), the adobada (marinated pork), and the carne asada (grilled steak). All three were good, but the carne asada was definitely my favorite, followed by the adobada. The meats were super flavorful, and not greasy at all, which I very much appreciated. \\n\\nThe tacos were on the smaller side, but served with delicious grilled scallions and a variety of excellent salsas. \\n\\nThey of course have a variety of tortas, burritos, and other offerings along with tacos, and I can't wait to try more!\", \"I'd definitely order in advance and take out unless you want to wait a bit.. there was a pretty decent line for people dining in.. food was amazing after a rainy day\", 'Had the best breakfast EVER!! The restaurant was quaint and comfortable, really made you feel at home with the ambiance, customer service and delicious food!! I would highly recommend this spot to anyone looking for a great meal!! If your big on great service make sure you ask for Sierra to wait on you!!', \"I dined here at 7am on a Sunday morning because I was told it was super busy in the mornings. It didn't get too busy until about 830am, but I was glad we were there early. The wait staff was super friendly and helpful in suggestions and were extremely patient when we couldn't make up our minds. The food was delicious. My only complaint is the price, but the sizes are large and the quality is on point.  I would definitely visit again.\", \"We came here for lunch and liked the atmosphere as soon as we walked in. The place looked clean and the waitress that greeted us was friendly. The pizza we had came out in a timely manner and tasted great and the drinks were on point. Next time we're in town we'll definitely visit again.\", 'A destination brunch spot with quaint outdoor and indoor dining. Very attentive and friendly team members with moderately priced food and quick service. There was a long wait but it is understandable considering they are taking covid-19 seriously. I had the carnitas benedict and the sauce was perfect. The carnitas were packed with flavor and melted in you mouth. \\n\\nI could go on about how good it was but you just have to try it for yourself.', 'I\\'ve heard good things about Prep & Pastry from others in the past, but I got to go here for the first time with my girlfriend and her family just the other day. There was a bit of a wait to be seated but it was so worth it! Our waitress was very friendly and engaging, the menu was easy to understand and the food was incredible. I had a cup of nitro cold brew before my meal, it was nicely extracted and smooth with a lovely acidity. I don\\'t know what brand they serve but I loved it. For my meal I got \"The Dip\", a French Dip sandwich that came with a side of made-in-house fries. The thing that surprised me most was the size, I really didn\\'t think it would be that big! Will definitely be coming here again.']\n",
      "Document about 'food' in star 5 reviews: [\"I've gone to claim Jumpers all over the US and they never disappoint this location is no different they cook their food very well and they have excellent desserts and the service at which they deliver everything is impeccable I would absolutely recommend this restaurant for a quality meal. Best place in Tucson to take your wife out for dinner hands down!!!\", \"This is the definition of a great family-run breakfast and lunch spot. We had a good breakfast and enjoyed it so much that we returned the next day for breakfast sandwiches to go. Loved the biscuits! Very warm and friendly service and the prices are extremely reasonable for the quality of the food. Would definitely return next time we're in town.\", \"This was the best breakfast we had on our whole vacation to Tucson five stars I'd give it more if I could the food was obviously cooked with love and every single bite seriously delicious!!!!!!!!\", 'I picked this place because the name reminds me of \"Baja Fish\" hahah and I don\\'t regret it!!! gaaah SO delicious. I\\'m Mexican so for me to find a legit delicious Mexican food place is RARE. I had a rice, beans & chicken bowl!', \"St Mary's mexican food easily makes my list of top 5 best mexican restaurants in Tucson! The chips are cooked to perfection and guac is creamy. I could eat these tacos every day.. the birria was full of flavor! Only downfall is they came in crispy shells, which I didn't know, so transferred them to soft shell when I got home. All items are super affordable and staff were friendly when I picked up my call ahead order. I will absolutely be back!\", 'I have been to the prep and pasty on Campbell since the shut down and their food was excellent! I also tried\\none of the scones and that was also really good!. I\\'m so glad I decided to try out this place again. \\n\\nI don\\'t know what happened to this place but ever since they moved to a bigger location and expanded to more locations the quality has gone down hill. It\\'s really disappointing because this used to my favorite breakfast place in Tucson. They used to have the best French toast that used to change every month. It was like a cake based french toast it was the best and unique to anywhere else. Now the French toast is just tasteless bread that taste more like overpriced frozen French toast sprinkled with cinnamon and given a fancy name to make it sound special, \"churro French toast\". The potatoes also used to be the best that were baked with rosemary but now are just deep fried potatoes. It\\'s really disappointing..', \"It's always great food and environment! Love the avocado toast and my kids love the food too!\", 'We arrived early to this restaurant, we were about to leave and the owner- Dennis opened up for us and offered us coffee and hot tea until he was officially open. Great food and reasonable prices - my husband had the burrito and thought it was great, I had an omelette and their toasted banana bread, bought a small loaf to take on our train ride it was so good. This family owned business is a gem and has excellent customer service and food.', 'The food is good and the service  is great. The only thing that makes me not go too often is the long lines that start around lunch and dinner. This place would be perfect  if it was  just a tad bigger! JusT be careful because spicy means SPICY', \"This is a little mom and pop place. We've always gotten the food to go, but there are little tables you can eat at.\\n\\nThe beans here are amazing!! Weve had a variety of things, from the tacos to the enchiladas.  All have them have been amazing. \\n\\nThis isnt a glamorous place, but if you want good mexican food this is the place!!\", \"I have been frequenting Rosati's for at least the past 2 years. (Particularly lately) Their food is outstanding, including the thin crust pizza, meatball sandwiches, italian beef and sausage sandwiches. They use very fresh ingredients. Staff is always very accommodating and responsive, especially during the pandemic. They practice no touch service and bring your meal to your vehicle. I highly recommend you try them!\", 'This review is coming from a non-pork eater who loves ramen. I usually get vegan/veggie ramen at most ramen places since all the other options are pork, but I was so happy to see this place had a chicken option. And on top of that, the chicken ramen was excellent! Really flavorful, and I added the spicy garlic which I highly recommend if you like spicy ramen. My husband got the veggie ramen and he also loved his food. We also got the chicken karaage, which was also good.  Will come back!', 'It keeps the flavor of the traditional taco truck but updates the atmosphere. Just great food and great service all around!', 'Love the decor and food at this place. From the French toast to the eggs everything rocked. Staff is friendly and served the food quickly. I was shocked when I got the bill and saw how cheap it was. Definitely a Tucson gem.', \"Am I back in Chicago?!?   A really solid meatball sub with hot giardiniera and a can of Old Style?  C'mon!  Yes!  The new bar is wonderfully comfortable, and the food and service are great.   The bar area lighting is just right too.   Not too bright.  I hate these new places that light up their bars like an operating room with bad fluorescent kitchen lighting.  No silly attitudes here, just nice, regular people serving Chicago neighborhood food in a comfy atmosphere.\", 'Omg I am shocked how good this place is!! The atmosphere is very clean and pleasant, my friend described the place as \"Tucson chic\"a which describes it perfectly. The food was great, I have no complaints! I definitely recommend.', \"I love this place.  I love the renovations.  I love that Bollywood is on the screens. These people have it together, provide a consistent product, and are a beloved part of Tucson's local food scene.\", 'One of the higher end middle eastern restaurants in Tucson. Delicious food! I enjoy coming here when I visit Tucson.', 'Absolutely great food!!!! Good service good atmosphere. And so reasonably priced. I was honestly shocked the prices were so modest!?!! Even if they were not worth the money. Definitely worth a visit if u live or visit Tucson and friendly service!!!!!', \"Delicious food and great service. My wife couldn't decide between the Green Chile French Toast and the Sweet Potato hash. The server suggested 1/2 portions of each....and both were delicious! I had a great simple omelet. We would go back here!\", \"Excellent food!! I had the Butcher's Block board and several bruschettas. Both were the best I've had in Tucson. The sweet & spicy pepper jam and goat cheese bruschetta was my favorite, but all of the ingredients were fresh, perfectly paired and very tasty. I ordered for pick up, but the restaurant looks like it has a very nice ambiance, and the music was nice. 10/10 will go again (very soon)!\", \"Flavor explosion! \\n\\nSo yummy! Shared two full paninis, tuna and brie with prosciutto, both were so wonderful we couldn't pick a favorite! \\n\\nGreat service and food, dog/pet friendly patio. Great cheese boards and wine offerings. Amazing iced tea!\\n\\nOffering takeout during the pandemic. \\n\\nFive stars!\", \"We just ate lunch here after landing in Tucson! Reviews are right! Wow, terrific meal and what wonderful people! I loved the fish tacos with lime crema and homemade guac and chips! Husband devoured the green chili cheesesteak special and boys loved their meals including spaghetti with homemade meatballs! Great food with no fuss and the kindest owners. Mint iced tea (also housemade) is outstanding and not too sweet. And, grab cookies to go! Don't miss a great bite!\", 'First time enjoying their food indoors. Always had gone through the drive-thru for their Sonoran hotdogs. The atmosphere was exciting. All servers were friendly! \\nMicheladas were amazing! Their secret seasoning in the drink definitely makes it unique.', 'This place is awesome!! Out here in Tucson for work from Vegas and have been desperately searching for good Mexican food and this is 100% the spot, looks like an apartment complex but who cars the guy that takes your order is funny and sarcastic, food tastes AMAZING havnt gotten a single bad item yet and 100% plan on going back ... again... and again. Great food, and get a couple laughs, very hard to spot just driving but from my mouth to you, STOP HERE!! Thank me later', \"This is one of my top restaurants to visit whenever I'm in Tucson. They never disappoint. The attention to customers is always above and beyond and the food is always overly satisfying. The menu is pretty extensive which I love. I've ordered different dishes on each visit and have always left satisfied to the core by each. This time around, I ordered the carne asada steak and enchilada plate (No. 45). The carne asada was a more-than-decent size for me and found it to be super flavorful, tender, and perfectly cooked. The enchiladas are good here, but I have to mention,  it's different from what I'm used to. Their red sauce has more of a tomato taste to it rather than the taste of spices and dried chilis which is fine with me. Just mentioning in case that may be a deal breaker for you. My BF ordered the mole enchilada dish which he orders on every visit. And, of course, he loved it. Thank you.\", 'Had a wonderful dinner served by Erica. She was a great resource as we had never had Persian food before. I will be  recommending this restaurant to ALL my friends!', \"Wow, so good! I loved the atmosphere and I loved the food even more. I got the enchilada trio and all 3 sauces were delicious, my partner got the birria tacos and said they were fantastic. It's a lively casual spot and we'll definitely be back.\", \"Hands down best fish tacos I've ever had!! I am from California and I used to think we had the best Mexican food but ever since visiting Tucson I have to say Arizona has the best Mexican food! I definitely recommend the fish tacos and use the house made creamy hot sauce on it! The masa is all made in house and it's fluffy and delicious! The next time I visit Arizona will be because I am craving tacos from Taqueria Pico De Gallo! If I could order tacos and have them shipped to Cali I would !\", \"Amazing food and lovely service. My friends visiting insisted on coming back before they left and weren't disappointed either time.\", 'All the recipes are from the old days, all of this food made from scratch. What a treat even the ice tea is brewed. \\n\\nWe Love the recipes and the atmosphere, both inside for lunch and in the evening in the garden.\\nWe purposely go out of our way for an opportunity to enjoy it.\\nWe buy their salad dressing by the quart and bring it home.... Yum!', \"Tray of spinach pasta salad. Great option for catering made easy :) can order online through EZcater. If you're not sure what you need you can call in to place an order.  They're very helpful with suggestions and making sure you have enough food for your event!\", \"What a nice restaurant located right across the street from my hotel in downtown Tucson. I read the reviews on Yelp before they opened and boy was I happy when I got there. \\n\\nThe restaurant has such a nice appeal. They have happy hour everyday from 3pm-6pm. Happy Hour gives you half off appetizers and select drinks. \\n\\nThe service was amazing. I wished I remembered my servers name because he was too notch. The food was great. I had the carne asada fries and they were soooo good. The only downfall was that I ordered a martini surprise and the bartender did not have the blue cheese stuffed olives. That's one of the main ingredients of the drink. Instead of making it without the stuffed olives it would be a good idea to ask if I still wanted the drink. \\n\\nThe entire experience was good that I plan to return tonight before leaving Tucson.\", \"What can I say. I'm a sucker for good company and Quality food. Staff is excellent. The bread is incredible, the meat was phenomenal. Everything I got went perfect with one of their draft beers. This place ins amazing.\", 'Excellent food, my wife got the spicy margarita, I got the carne asada steak and ceviche. Green chili mashed potatoes.\\nAll of it done perfectly,\\nService was great they sat us on a very busy night and still serviced us.\\nWould definitely come back.', \"Phenomenal! Food is fresh, tasty, and reasonably priced. With covid19 we switched to take-out and they do a beautiful job with separating the food so that things don't get all mixed together before you are ready. I love that they use sustainable/recyclable materials. One of my new favorites in Tucson!\", 'If you are looking for an amazing staff, good food, and great drinks this is the place for you! The staff was very outgoing and made it a point to make our groups day special. The general manager Zoe was extremely enthusiastic about making sure we had the best experience their restaurant has to offer. Thanks again Zoe!', 'Great authentic Mexican food We had the Sonoran hot dog and it was 10/10 we also had horchata it was 6/10 We had Tacos the meat was amazing 10/10 we also had quesadillas which were normal', 'Just absolutely amazing food, the duck soup was fire, the wonton soup was phenomenal, fantastic service and holy cow the portions are huge for the price. Will smash here again.', \"This was my first time coming here, and, wow! The food quality is amazing. I ordered the chicken piccata and it was so flavorful and really nicely seasoned. The pasta and chicken were perfectly cooked! I also really appreciated that they did not skimp on the capers. I'm so happy to live 5 minutes away and will for sure be back!\", \"We recently made a trip to the Southside in Tucson to visit a friend and decided to grab some take-out while we were in the area. When we pulled into the parking lot, the lot was almost completely full, which we took as a good sign in terms of food quality. We were not disappointed. It took us 40 minutes to drive home and the food was miraculously still warm (so, A+ effort on their packaging/wrapping abilities). We order a plate of carne asada, chile Colorado, and some churros. The carne asada was well-cooked and seasoned, but we did have to break out our kitchen shears to cut it up for easier consumption. The chile Colorado was flavorful, but not too spicy, and had plenty of beef in it. Both plates came with a side of rice and beans (the beans were excellent and not soupy, but creamy). I'm not a fan of churros, but my husband really enjoyed them. So, if you're looking for a place that does plated-Mexican classics really well, this is the spot!\", \"Update: Since the pandemic began I have pretty much gotten take out from here every. Single. Tuesday. \\n\\nI am obsessed with their garlic naan, aloo matar, mushroom chili and chana masala are AMAZING. Add in the fact that this place actually makes their food spicy and flavorful- it's to die for. \\n\\nMy husband actually didn't like Indian cuisine until I took him here and now he's a fanatic too! Best in town. No doubt about that.\", 'Great service.  Great food.  Great coffee.  Love their bacon.   Locally owned and operated.', \"All foods are crazy delicious. Good atmosphere with nostalgic Persian music. Cannot even top this in California. Bread (lavash/taftoon) was the best quality I had ever. Just be aware, portions are Huge. You can always ask for a to-go box, but it'll be more fun to bring a friend along to help finishing the meal lol\", \"I came here on a Monday afternoon with my boyfriend and his mom. Right from the start, Dennis welcomed us so kindly, and let us know about the menu! We ordered and sat down in their cute little dining area. He was so efficient and brought us utensils, sauces and cucumber water right away, all while serving other guests and taking orders. His two sons cooked us super delicious food while his lovely wife baked such sweet and heart warming cookies. Coming from a a city where you don't see many family owned restaurants, this placed truly touched my heart. Hard working individuals feeding the people of Tucson. I live over two hours away, but I'd drive back over here any day. Thank you Dennis, Connie and your two sons!!\", 'Deep fried alright alright alright! much more than generic fast food, Yelp needs to get with the program! garlic toast, French fries, grilled cheese, coleslaw, jalapeno poppers, butterfly shrimp, steak fingers, chicken fingers, gizzards...', 'Absolutely love this place.  Wonderful food, great service.  (We had one visit where service was slow, but there had been a family emergency, and the short-handed staff apologized profusely.)  My husband and I have never had any food that we didn\\'t think was amazing; as I frequently tell the staff, I think the chef could take a paper bag and turn it into ambrosia.  Tuesday is now \"we\\'re going to Ghini\\'s for lunch, right?\" in this household.  (Thanks to Dee, Sevena -did I spell that right? - and Matthew for excellent service on our most recent visit.)\\nAlso, kudos to Gabby and Raquel in the bakery - always friendly and smiling, and willing to explain whatever treat I\\'m looking at.\\nI try to make the pastries I buy last at least a day or so.  Nope - pretty much eaten in 24 hours.  So good!!', 'I cannot rave more about El Charro and their takeout help!! They went above and beyond for a small, funeral group all socially distanced in an outdoor location. Their food and setup helped us focus on our celebration and grief for our loving mother who LOVED Mexican food!! Apps tray, tacos were so plentiful and all supplies needed!! \\nThey are working so hard during COVID to survive!! We bless you so much for your help', \"We've been here a couple of times for breakfast. We really enjoyed sitting at the bar the first time there and enjoying breakfast and watching the bartender make drinks. This time due to social distancing requirements we were seated outside. I ordered the prep omelet with potatoes and hubs got the basic breakfast. We also ordered a cinnamon roll with bourbon bacon. I enjoyed the omelet with spinach, goat cheese and avocado. The potatoes were really good and sort of unusual in their preparation (crispy on the outside and soft and fluffy on the inside). The bacon here is sort of candied which is a real surprising delight. The cinnamon roll is not like the average cinnamon roll. It's more like a pastry than the usual gummy mess that normally passes as a cinnamon roll. It's texture was really food and the icing was nice and but not overpowering or sweet. Also had cute candied bacon garnish. I would love to indulge more often here but $40 is a bit much for breakfast. Maybe for coffer and pastries someday.\", \"If you're looking for fresh ingredients and flavorful, quality food that meets any dietary restrictions- this is the place.  Don't miss it!  We will be back again soon!!\", 'Great atmosphere, service, food and of course beer! My friends and I celebrated my boyfriends birthday here and it was the perfect place for my beer enthusiast and the perfect place for my food loving soul! I recommend coming here no matter the occasion and enjoying the atmosphere and quick service', \"There was a small mix up with the delivery but I can say I don't mind.  They were generous in the way they fixed it. \\nBut let's talk about the food.  Everything was perfectly spiced and the meat was tender.  The amount of food is incredible.  I will definitely be back.  We had chicken, steak, Greek salad, pita and rice.  All of it exceptional.  Worth trying out for sure.  Wonderful restaurant and beautiful people.\", 'Came here for a date night while I was in town visiting hubby. We ordered the seafood tower to share and it was amazing! I wish the lobster were a bit bigger, but overall it was great. Our server was amazing. We also ordered a bottle of Pinot and the mini Modelos that came with the seafood tower were a cute touch.', 'Penca deserves more than five stars. \\nLovely ambiance, warm, caring service, and incredibly great food. \\nI could rave about everything we ate, but the best thing was the mole sampling. \\nWhat a delight! \\nThe menu promises of culinary delight!', 'My wife and I love Persian food and we go to the restaurant every time we get a chance. It is a nice place, nice people and great food!\\nToday we ordered pickup due to the Corona virus. Food was nothing less than the sit down service. Everything so fresh and tasty. The owners are so nice and friendly and they take care of everything. \\nWe definitely will recommend this place to whoever is looking for authentic food.', \"I love the quality of the food and it's presentation. Im familiar with the Persian Room going tabaco to my days visiting the Scottsdale location. The Tucson location is just as good. The portions are tremendous and a great value. I like to get one entree for everyone and then have several meals afterwards. :) I highly recommend it and encourage you to have some homemade pistachio ice cream when it's available.\", \"Sher-e-Punjab has been a favorite restaurant of mine for years, but somehow I hadn't eaten there in quite some time. In an effort to both feed myself this evening and give a local restaurant some business during our COVID-19 isolation, I ordered delivery this evening. The food arrived in about 30 minutes, neatly packed, piping hot, and completely delicious. (I had chicken tikka masala, mushroom matar, and papadom, but I've never had anything there that wasn't delicious). Highly, highly recommend.\", \"ANY time I visit Tucson, even if I've been binge eating the entire time I'm there, I still make it a point to have eegees at some time during my stay. I got to stop by yesterday for my absolute favorite sandwich there: Veggie grinder on whole wheat with no tomatoes and extra house dressing. I could order that sandwich in my sleep! It is soooooo good and so fresh. Along with the sandwich, I tried their flavor of the month, Orange Dream, which was really good. The woman working at the window was very nice and the experience and food were both top notch. Eegee's is the best!\", 'Went in yesterday to pick up dinner. Everything looked/smelled cleans and fresh. The employees all wore masks and very friendly. The food was auuuuuuhmazing! Beat lemon vinaigrette ever!\\nThanks guys :)', 'Just YES!!!! The place is clean, the food was bomb.com, the staff was friendly,  and the environment was on point. Glad we stopped in and we will definitely be back. Well Done.', \"Maynard's is one of the best places in downtown Tucson for a high-quality and out-of-the-ordinary meal. We generally go for special occasions or date nights because it is on the pricier side, bug we are rarely let down. We most recently attended the prix fixe meal for Valentine's and it is a great way to try something you wouldn't ordinarily order or even have access to. I'm a notoriously picky eater, but I still enjoy all of the dishes that are offered. So, don't be afraid of fine dining if you're normally a picky person. They also source almost all of their food from Arizona vendors. My favorite things here are the vegetarian dishes, so you can't go wrote with any of those options. \\n\\nThe alcohol and wine selection are wonderful here and we have been able to take advantage of a sommelier service in the past. Check this place out sooner rather than later.\", \"Amazing food! The tacos were the best and so many options for toppings. Some of the best tacos I've ever had!! Will be coming again & again!\", \"Tried it for the first time since it's about a mile from my house and been looking for an alternative to Olive Garden for Italian food. \\n\\nI got the chicken Parmesan and was impressed! Spaghetti noodles were a perfect consistency. The chicken was perfectly grilled on the outside and juicy on inside. Ample amount of cheese. \\nThey even brought it right to my car and it was still piping hot, which was nice.\\n\\nAll in all, loved the dish and will def come again to try something else. I'll probably go for the wings next time!\", \"I recently got a job close by and my coworkers recommended I try this place during the lunch buffet. It's clean, a decent sized restaurant (it looked smaller from the outside) and the lunch buffet was delicious. I was able to try a little of everything and was pleased by all the variety of flavors! I would recommend giving this place a try if you're in the area or just have a craving for indian food in general.\", \"Love this place. For being a tap house, their food is just as amazing. The nachos are a must and the burgers a criteria. My favorite beer, hands down, the Sonoran White Chocolate. It even smells good. My kids ( yes, I take them) love their pulled pork sliders and chicken strips. And honestly, I don't blame them. Great place to hang out and just eat. While a tap houses isn't meant to be family friendly, Growler's gets it!\", 'This place is a diamond in the rough when it comes to appearance. The food is fantastic. Fresh. Seasoned superbly. Portioned and priced just right. If you want authentic this is right off the highway and down the road from VA and Costco. Again, you cannot go wrong. Enjoy. Bonus... fresh tamales.', 'A-mazingly delicious bone in ribeye. With grilled shrimp. Make your reservations NOW for Charro Steak & Del Rey. Everything else delicious too. But the steak took the prize. Also featured: ceviche and seafood enchiladas.', \"Having visited a few of the Phoenix locations, I was PUMPED for Postino to open in Tucson. Charcuterie is pretty much my life blood. Give me wine and cheese any day. I love their Butcher's Block and bruschetta boards. And I'll usually order a glass of bold red off their winelist, and I've never been mad about it.\\n\\nI hadn't been able to visit before coronavirus decided to show up and ruin everything. I saw Postino was offering a bruschetta and bottle special on Monday and Tuesday, so I called up for curbside. I ended up getting their date-night special, which was a snacky thing, bruschetta board, and salad for $25. The guy on the phone was super nice and let me know all their bottles of wine were $15 each. Wine not? He said they had just changed their wine program and didn't have the Centenario cab I wanted, but they had a new one that was really great. This feast cost me $43, including tax. Ordinarily, that would have been $80. And all I had to do was drive there and pull my car up front.\\n\\nThe food was all great. I was super pleased with their service as well. I wanted to give a good tip for how hard their staff is working, and the young lady who brought my order asked if she could include my tip as a donation for their #TakeoutForTeams program. All tip money is going to employees who aren't able to come in to work right now. I thought that was very heartwarming.\", 'Moved to Tucson about two years ago. First restaurant I visited was Prep & Pastry.  It was in a very charming non-fancy building.  The food and service was outstanding.  The coffee even better. \\nI have been a regular since and always take guests and family who are in town to P&P.  They are now in a new building.\\n Still great', \"This place is absolutely underrated. It deserves higher rating. Been here a couple times and every visit was amazing. Friendly service. Clean bathroom. Affordable food. They also have BBQ and sushi other than buffet. Disappointed with this lockdown as I can't get their food when I want. Will come back once they reopen\", \"I always enjoy my food, and the staff is really friendly and fun! They have it set up to move people through quickly so it's great on the go. Fully stocked bar if you want to hang out too.\", \"I am honestly impressed at the food choices offered, the alcohol offered, and the amazing weight stuff especially during this time. I would honestly take a bottle of their nacho cheese home that go with the pretzels. If you haven't tried it already I would honestly try their blonde beer. This place doesn't disappoint. The prices are amazingly low and support local. \\n\\nIf you want to book a large party (20 or more people) they have a private back room with a really nice atmosphere and tables.\", \"The NW side is sorely lacking in good taco shops. This might be the best. The food is great - authentic street tacos and burritos. The people complaining on Yelp about the price must be used to Nico's/Berto's food and prices. This is a different style of food for sure. It's more like El Guero or Aqui Con El Nene. Good food, but at slightly higher prices.\", 'Love love love...... we played hooky from work today and had an amazing time.  The wine is amazing.... The food is amazing..... and the staff is amazing.  We had the cheese board, the nine iron sandwich and the prosciutto and when I say EVERYTHING was sooooo good.  We will definitely be back.', \"This is honestly my all-time favorite restaurant in Tucson! I really mean this. I've been trying so hard to find authentic Asian food, especially Taiwanese or Cantonese cuisine. I'm so incredibly happy that this restaurant has opened here in town. Literally everything I have tried here has been amazing. From the chicken bites, roast duck rice, BBQ pork rice with egg, to all of their drinks. Their pork rib soup is so delicious and satisfying! Even their Hong Kong style lemon tea is absolutely divine. It is exactly what I've been searching for in Tucson. \\n\\nOn top of this, their service exceeds all expectations every time I've gone. This seems like a place that takes care of their employees and it shows based on the high quality of service. I've been here probably 5 times now, and every time I leave full of food and happiness.  I CANNOT RECOMMEND THIS PLACE ENOUGH. PLEASE COME HERE.\", \"Excellent food.  Everything was fresh and well cooked. I'm a great believer in doing a few good things with excellence rather than trying g to be all things to all people. This menu reflects that. I had the chilaquiles devorciados and they were very very good. The salsa roja is spicy and I could have licked it off the plate. Don't forget to try one of the aguas -- I had the pepino.  I could have drank a gallon of that good stuff. \\nWe will certainly go back -- and it's wonderful to find a downtown restaurant that is open on Sundays!  I encourage all of you to go and support this new local place.\", 'I love this place they are so hospitable and you can tell they cool their food with love! thank you so much', 'We love eating here.  If we lived in Tucson I would eat here several times a week.  We usually try for once a week or so when possible.  My mom loves their Duck Confet hash and I always have several favorite I switch off.  When we come on the weekend I have to have the Chicken and Toast.  Awesome food and drinks.', \"We're driving across the country back home -- California to Tennessee and now Tennessee to California , two dogs in the car (great both ways and sleep 97% of the time thankfully) and had one final stop before our stretch home. Needed a place to stop for breakfast with our dogs and we are so beyond thrilled we came across raptor canyon cafe. We stopped around 11am on a Tuesday morning during covid in December so you never know what'll be open, and it's by far the most incredibly comforting and delicious spot imaginable. My fiancé had the southwestern burrito, hash cake, and we split a waffle stick order of three. I went basic with the avocado toast and added a fried egg. Both came with green apple slices. I also had a coffee and the sweet owner included his wife's favorite vanilla creamer that I loved. Also, I read reviews on the home made chocolate cookies by none other than the wonderful wife-- and they. Were. So. Great. Physically restraining myself from eating every bit of those cookies immediately. \\n\\nI would consider myself a picky person, my fiancé would eat nearly anything-- and we both agreed that the food was not only delicious, affordable, unique, and comforting-- but the service and the family were truly one of a kind. I am so happy we had the pleasure to meet them and support the wonderful business they've built while enjoying the insanely yummy food.\\n\\nWe will absolutely be back even if it means coming 8 hours from home :)\", \"Always loved Freddy's when I went to Texas and was glad to see they have them in Arizona. This one prepared the best testing food and took pride in appearance. Will definitely go back the next time I'm out that way.\", 'We were unexpectedly staying at a nearby hotel and decided to try Charro Steak out. \\nWe sat at the bar and Cody was the bartender that night. He was awesome!\\nHe gave great service and also had some great suggestions for our meal. We split a t-bone. It was a little chewy but was cooked perfectly and had a great taste. I would get a different cut next time. \\nThe scallop type potatoes were eye-rolling delicious. We had mini-chimis for an appetizer and they were the best I have ever eaten. Everything was freshly made, no pre-frozen food here. All the employees were extremely nice and helpful. Loved this restaurant!', 'Amazing customer service! Everyone here was so friendly and the food was phenomenal! Will definitely be coming back to try their other dishes :)', 'Our server Kristi was absolutely amazing. Great service and moved us when she found a better fitting table. Super kind and is an absolute joy to be served by. The food is impeccable and came out n perfect timing. Would recommend this place to anyone!', 'Great atmosphere, food and drinks.  I\\'ve been here several times and I always leave happy. Check out the birria aka \"beeria\" tacos on taco Tuesday @ 2/$5   You will not be disappointed.', \"Ghini's is always the best. I go there mostly for the bread and patisseries. It is best to go early because everything sells out! However, whenever I sit down for a full meal, the service is quick and the food is great. Love it!\", 'I absolutely love this hidden gem. The outdoor seating has fantastic views of the mountains and shaded or sunny seating. The Kurdish tea served on a beautiful tea set cannot be found anywhere else. Homemade desserts are delicious as well. Every once in awhile a traditional Kurdish dish will appear on the menu. The omelets and pancakes are excellent for breakfast. Plenty of usual American food options as well as unique offerings.', \"Hands down the most authentic Chinese food you'll get in all of Tucson. It's amazing and definitely super filling and great prices. They are very welcoming and accommodating. They have so many items that you just can't get anywhere else\", \"Haven't posted in a while.  My wife and I came here for brunch today. We kept saying we gotta go every time we pass by.  \\nSide note.. for those who don't know in 2016 they participated in the 2016 World Margarita Championship in Tucson  and recieved 1st place for their Raspberry Rose Margarita in the People's Choice Category. \\nSo back to the food. We ordered Chicken Florentine crepe and a Croque Madame. Everything was perfect from the bechamel sauce to the hash browns. Good coffee too. Everything was on point. We took notice of all the food coming out of the kitchen and it all look tasty. Unfortunately this time i didnt take a picture of our meals but they were great. The staff was awesome. The portions weren't overwhelming. We plan on going back and trying different items and maybe doing dinner this month.  If you want try French cuisine give them a try.\", \"I didn't know that I could fall in love with food, but then I met Charro Steak and Del Rey! The moment you walked into either one of the connected restaurants, you notice the love that went into the environment. It is welcoming and inviting. So inviting we continue to come back. The team at Si Charro makes you feel at home, and they are all so gracious. I definitely appreciate it when the manager or Chef comes by and ensures that you have a good experience. \\n\\nMy favorite dishes here are the Lobster Tamalada, Surf & turf Enchiladas Banderas, and The Filet for steaks. Just about anything that you order will be a splendid experience for your palate. They also provide some incredible take-home meals for the holidays that are divine and easy to prepare.\\n\\nThe atmosphere and food is so fantastic that we hosted (pre-covid) our entire wedding party for our rehearsal dinner the night before our wedding. They definitely made that night a memorable one. One that I am forever grateful for. Their hospitality and service. Top-notch! \\n\\nYou won't be disappointed if you're on the hunt for a steakhouse or looking to catch some tasty seafood.  \\n\\nDuring the times of Covid-19, Si Charro restaurants have gone above and beyond to keep their customers safe. They have rolled out a 100 point plan that you can access on their website for more (and I mean MORE) details on what it is exactly they are doing for us, the customers. They provide curb-side take-out that and you can easily pull upright and front and have your food brought out to the car. \\n\\nWe are life long customers!!\", 'Started working in the \"field\" as they say\\nAnd I have to use a fleet gas card, on a pretty tight schedule, I don\\'t have time for anybody\\'s crap. At Quiktrip, they understand the fleet card system, they have food (spicy jalapeño & cheese dog, is super good... who knew.. gas station lunch... don\\'t get the sushi, not that I did but no one should get sushi at a gas station even if it is a quicktrip) The people working at this particular Quiktrip were very good, polite, followed Covid Stuff, and had a sense of humor. They all deserve raises!!!', \"Went here for breakfast right before leaving Tucson, and it was amazing. The food was great and service was awesome. I got the horchata, which was made from scratch, and also got the omelette with the Oaxacan cheese. If I'm ever In town again I'll definitely be stopping by for a bite to eat. Highly recommend it if your looking for a home meal.\", 'Wow, the best Mexican food in Tucson without a doubt. I love their side table guacamole too, so fun.', 'Fast and friendly. The food is amazing and they have outdoor seating! I recommend the margarita', 'Had dinner at Charro, food was amazing.  Had a quesadilla with carne saca.  Macy was awesome.  Best customer service. Thank you Macy!!', 'I very highly recommend this restaurant . The food was great the wine was great but what makes it stand head and shoulders above any place I have been to is the exceptional service. Our server Hunter was so knowledgeable about the wine and so great we went back for dinner and our other server Tristan was also great and knowledgeable about the food and wine. It was an amazing experience, they are so nice there and loved the atmosphere. Thank you!!!!!', \"So yummy and the staff is very friendly! The reviews drew me in, and the food would draw me back again. The medium salsa has a depth in the flavor unlike I've ever had. The fish burrito, outstanding!! I wish I had a second stomach because I didn't want to stop eating. This little place set the bar high on my first meal in Tucson! Restaurants all around town, take notice!\", \"I ordered from them the first time right after they first opened and didn't even have an online listing - Door Dash recommended them. I loved them so much, I went on Facebook and raved about them. I have ordered from them numerous times, and every time, the food has been delicious. I also like that there are so many different items that aren't all the same as other restaurants. I highly recommend them. :)\", 'Absolutely stunning decor, great service and wonderful food.  It had been a while since Nancy and I ate Persian and glad we found this restaurant.', 'Outstanding Chinese food. Wish it was not so far from my house. We really enjoy the duck soup and several other dishes.', 'Love Firetruck Brewing. Great staff, great food and great atmosphere. View from the patio is awesome. Come support this first responder establishment!', 'Love love love this place! Delicious food and a warm & caring staff! John, Rashid & Raven are just a few people that make Prep & Pastry the Awesome Place that it is.\\nA special thanks for making my Saturday morning! \\nXo!', 'Great food, even better service. Highly recommend. Got breakfast sandwich and home fries. Stayed in Tucson for the weekend and would recommend eating here for breakfast when in tow.', \"Stepping into this restaurant feels like stepping into a classic old mom and pop Italian restaurant. Low lighting, fake grapes, checkered tablecloths. The food wasn't fancy but comforting. Service was quick and it felt like a restaurant you would go to for a special occasion, without the high price.\", 'This place is a 10/10! My mom and I are new to Tucson, AZ and we live near here and decided to try it! Highly recommend! Great food and great service!', \"I loved this so much that I've had the same order 3 times in the last few weeks. The last order (for pick-up) was missing all of the meat in the Butcher's Block. Unfortunately, I didn't realize this until I had already made it home. My boyfriend and I decided to give them a call, to double check that we had the correct board and to let them know it was lacking some ingredients. The person we spoke to was apologetic, and not only replaced the entire board properly made, but delivered it to our house! Incredible service, as always. And the food was amazing!\", 'Just happened upon this place traveling through across Arizona. Glad we stopped, attentive service, size able portions, decent pricing. My kids loved their food as well, made it an extra plus.  Gyros are delicious!', \"This place is amazing, everyone is super friendly food is amazing. Must try. That's 5 til 5 is everything drink up\", 'This is one of the best wine bars I have been to. Today was my first time coming here since they had just opened up recently. The service was beyond amazing. The staff was very helpful and had a lot of knowledge. The atmosphere was light. The food came out in really good time even with them being busy. The bruschetta plate with a combination of choices was amazing. The goat cheese meatballs were delicious. The wine was also outstanding! I am definitely coming back!', 'Well now is now the food that has everybody on spcial media growing crazy, right next to tacos. Raijin has the most amazing authentic ramen I have had in Arizona yet, hands down! Be sure to get it extra spicy if you are feeling brave, especially with ths pork broth!', 'Village bakehouse is the best in my belief and caters to your every need. I told them that I wanted my birthday cake and they asked me what I wanted down it and inside it and told them  To the delicious raspberry filling along with the butter cream frosting over the white cake. I also told them to surprise me with the ocean scene with waves and the Sun and this is what they happily surprised me with. I love it and is super moist and tastes delicious. I wish I could have told them on this spot when I picked up my cake but  At least gave them a tip. Thank you so much for being open on my birthday this year and all the other years in the past! I would highly recommend everyone trying something there because all of their food is delicious but seriously have not had much breakfast  or lunch there. I just love my sweets and even their day old stuff is really tasty that is discounted.', 'This place is very nice to eat dinner once in a while. The interior is good and comfortable to hangout. It is always crowded; therefore, I always feel in a hurry to finish my food. I have been here several times. Probably one of the best ramen places in Tucson. The soup is slightly saltier than I would expect. The service is very good. Do not be surprised if you see long line. The queue goes faster than I expect. \\n\\nUpdate:\\n\\nThe soup was not salty this time. I ordered their limited time special, mapo tantanmen regular. If you are not spice tolerant, black roasted garlic tonkatsu and mapo regular would be the perfect choices. Trust me', \"This place never disappoints. Food is great, portions are generous. We drive about 25 minutes, but food it's worth the drive, every time.\", 'Do not miss coming here! The food is excellent, beautifully presented, quality ingredients and absolutely delicious flavors. Chicken tortilla soup and enchiladas will amaze you.', 'Always a solid experience. Good food and a really fun environment. I have enjoyed everything from the appetizers to the main courses.', \"Well went to famous BK's and it didn't disappoint at all! Finally had a chance to try the world famous Sonora dog!! Omg it was all what it was cracked up to be! All the food was amazing and delicious. The staff was great and on top of it! My drink was never empty!!! I did not have to ask which was awesome.... Everyone was happy with the choice of going here to eat! I will go back for sure\", 'The food is amazing! I could eat their basmati rice every meal! I did get carry out but was beyond impressed with packaging including all the little touches you get during dine in!', \"Great food, great service team, cute little dining spaces. Relaxed and romantic atmosphere. The prices are high compared to the rest of Tucson's restaurant market but they deliver well while not being overly stuffy about it. I felt the value was definitely there.\", \"We had dinner here tonight and WOW! Chinese food done right!!! \\nHonestly speaking, for me the acid test is dumplings. So we decided to start with them. They come in chicken or pork varieties, and can be either steamed or fried. We went with fried pork, And they came out fragrant from the kitchen on a charming fish platter, with a small bowl of dipping sauce. We each grabbed one with our chopsticks and dug in---they were perfect!! Light and airy with a moist, mildly seasoned pork filling. We inhaled them!!!!\\nThen it was just a question of what other dishes we should try since it was our first time at 81 Hong Kong Café; We opted for bacon cabbage, which was delightfully prepared the cabbage still crisp and the bacon and red peppers sizzling... and chicken lettuce wraps which were savory and sweet.\\nTables are nicely spread out, and the New York City mural even had Kiehl's pharmacy on it!!! We brought home leftovers and are already planning our next visit.\", 'Great food and mimosas. Would definitely recommend. Great biscuits and gravy but the gravy is on the thinker side.', 'Really great tasting food and awesome serving sizes! The customer service was really good! I was greeted by everyone. When I was ready to pay I was 54 cents short so I was going to pay with my card instead but the customer service person was nice enough to cover the rest of the cost. Overall a very welcoming and delicious experience! Will he coming back for lunch again soon', 'The quality of AJs fine foods is top notch. The service is efficient and friendly.  Everyone is wearing a mask and cleaning continuously in order to fight the corona Virus.', 'Great food and the menu has so many options for whatever mood you are in. I like how they are doing an order at the front style during Covid too. Their pastries never fail to impress me!', \"I really liked this place! Good vibes and great food! The ramen is also super good and the people are nice and willing to explain the menu if you're like me and don't usually get dine in ramen. 10/10 would recommend!\", 'The food is always good.  Service is mixed but always friendly.  I live quite some distance away.  After several months absence, the server remembered my preferences and served my dog water and dog biscuits. My one complaint - they are closed Mondays.', 'It had been awhile since had a real Sonoran hotdog and Michelada, living in Flagstaff there is nowhere that I can go there that compares to the great Tucson Mexican foods.  I was down and finally able to go in to sit, eat and drink.  You know how you have high expectations I was a little afraid I might be disappointed... be no!... the food and my long anticipated Michelada was AWESOME!!', \"Best Indian food in town! All their dishes are delicious, it's never disappointing when trying something new.\", 'You can never go wrong with some P&P. I\\'ve been getting it every weekend since this \"lockdown\" \"social distancing\" has been going one. And as much as I miss sitting down and having brunch with my friends. Getting my food and drinks to go has been amazing.', \"We had a WONDERFUL experience at Fully love's the night my daughter graduated from Tucson H. S.! GREAT food, OUTSTANDING service, TERRIFIC ambience! We will DEFINITELY continue to support Fullylove's!\", 'Had their Birria torta and it was delicious. Girls up front were nice and everything was perfect when they brought out our food. Will definitely go back.', 'Honestly the carne asada steak is insanely good. The meat was very tender and juicy and full if flavor. I also recommend the potatoes with Chile en rajas. Overall food and service 12/10.', \"Fantastic! The best Mexican food I've had in Tucson yet! The only down side was the queso we ordered was not what we thought it was. We were expecting a dip but it was a giant thing of skillet fried cheese. It was still good! Everything we had was amazing!\", 'Wow! Service was fast and friendly! The food was wonderful!.I had the Combination 5 with the Carne Seca. Chile Relleno, and a Cheese Enchilada....it was one of the best Chile Rellenos that I have eaten!', \"This is the best Mexican food i have ever encountered. The fajitas were one of the best meals i have ever had. Every bite made me physically dance. If you're near by you MUST stop here!\", 'Coming from a Persian background. This place is absolutely amazing. The food is so great. Huge portions. \\ntrue to Persian taste. The service is also great each time we went. Highly recommend trying it!', 'Now open for in dining. (3/28/2021) once again, good service and great food. GF and I had Teriyaki dinners. A bit pricey for some but worth it, IMO.', \"I just found my go to order out Chinese food... hands down they take the crown.\\n\\nHonestly the best I've had in many years.. I absolutely love the fact that they marinate and cook their fried items in the sauce and I absolutely love the flavor and presentation. I hate when places fry their food and deliver with the sauce on the side! I would much rather have them soggy with cooked flavor than dry and crisp. I am in no way saying it was soggy... honestly for me it was perfect.\\n\\nI absolutely recommend this place and I will order from her many many times.\", \"I eat here once a week and every time I come in i get the best service and the best ingredients. Everything is fresh and the owners/workers are extremely friendly and understanding. The food is absolutely amazing! I've never felt more safe during COVID!!\", \"Okay, I admit when I first tried eegee's a few years ago I didn't get it, but after living in Tucson a few years, I totally get it. This place is thoughtfully and pure Tucson. Why sandwiches? It's Tucson, it's hot why would you have a whole bunch of hot food?!?  Same with the slushees, why are they not liquidy? It's hot, so if they started out closer to a liquid than a solid it would turn it into a pure liquid in minutes. The sandwiches are tasty, the employees are friendly, this is a great Tucson institution!\", \"Our son chose this restaurant to celebrate his graduation from U of A. The food and service were both excellent. We thoroughly enjoyed the table side guacamole. In addition to delicious steaks and carne asada, they had many gf and vegetarian options to suit all of our needs. The branzino was wonderful! We were so full, we didn't take them up on their offer of a free dessert!\", 'Such a fun little restaurant. The food is amazing. Went with girlfriends for some day drinking and brunch. Everything was delicious. Service was stellar. Had a wonderful time. The owner is also the sweetest person ever and had really done a lot of work to promote other small businesses during COVID. This place is a real treat.', \"This place is fantastic!! Great old school bar feel!! If you're a fan of comedy, magic, or karaoke, this place is for you! They constantly have live shows with great acts. The drinks are fairly priced and the food is always on point! I've come here with my girlfriend and friends on multiple occasions and we always have a blast!\", \"Man I love this place. Seems to be the only place in Tucson to get Venezuelan street food. It's a 20 minute drive for me to get there but that's probably for the best. I would order way too often if they were any closer.\", \"Love this Tucson sushi spot! I've been 3-4x in the last couple of months. The food is consistent and timely!\", 'Excellent food, great service (both for dining in and calling in take out), reasonable prices and convenient east Tucson location. I particularly enjoy their lunch specials (especially the curry chicken and hot and sour soup), and look forward to patronizing this restaurant for a long time to come.', 'Wow, had a lovely dinner here this evening. Large place, social distancing and all of the procedures being followed. The ambience is peaceful, the menu is very diverse - meat, fish, vegetarian options. etc., All of the food was delicious, flavorful, and had just enough of spice. They have a very nice selection of reasonably priced beers and wine ($4-$5 glass). The service is excellent, you can take your time/not be rushed, and overall, I highly recommend if you are looking for a nice dinner in a nice restaurant with quality food. We will be back for sure!', 'Place was ready to reopen , greeted by Jeremy soon as I walked in staff was friendly. Good food see you soon.', 'My friend and I went here and absolutely loved it, thank you. I love the spicy one!! My friend got the seafood ramen and she ate the whole thing! Also it was both of our first time eating actual ramen!', 'Great restaurant! I went there with a friend and we ate on the dog friendly patio with my dog. The patio was great!  My dog had a great time meeting the people that walked by and each server that stopped to say hi. The food was amazing too!  I have the omelet and it was so light and fluffy!  Such a delicious breakfast!  I also had a latte. It was so good!  The foam was so fluffy and coffee was super fresh!  I also ordered a lavender infused mimosa. That was so yummy! I will be back to this restaurant for sure! 10/10 would highly recommend!', 'Amazing!!! Went here for the first time and the food & service were great! Will definitely be coming back!', \"I was a fan of Year's Asian Bistro that closed in June.  The 81 Hong Kong Cafe seems to be mostly the same people working but a new name and almost new menu.  \\n\\nI am not familiar with Hong Kong food, but I know they have the best and most unique Kung Pao Chicken I have ever tasted that I fell in love with when it was Year's. Four of us had lunch the other day and with four different dishes, everyone raved about the food.\", \"Good Indian food with a variety of drink selection.\\n\\nAmbiance - Lots of seating, spacious, has a bar and buffet area for the lunch buffets. There were also a couple of large tvs/projectors playing various sports. My husband was very entertained by the one playing cricket.\\n\\nService - Was a bit slow at times, but they were pretty packed and had a lot of to-go orders. The menu was in a hardcover book format which was super cool to see.\\n\\nFood -\\n§ Garlic Naan was flavorful and crispy, just how it should be!\\n§ Sher-E-Punjab Sampler came with a Samosa, 3 Batata Vada, 2 Finger Paneer, and 2 Veggie Pakora. Everything was fantastic at a very reasonable price especially since the sampler was shared between my husband and I.\\n§ Lamb Tikka Masala was delicious! The lamb meat was nice and tender and the tikka masala was very flavorful. It paired very well with the garlic naan.\\n\\nOverall, great Indian food at a decent price. Would return! Had some cool Indian beers too which I'd love to try next time!\", 'This place is decent for a Mongolian BBQ. They might not the best looking restaurant in town but their food and service are amazing. Their price are reasonable and they do give you good amount of food. I will definitely come back here 100%.', \"This store is like going to a food boutique! You'll find pretty much everything you need and stuff you are going to love. Every department is fantastic! Produce is pricey but great quality. Seafood is second to none and the meat counter is fantastic! Take the time to peruse grocery, liquor and even the cigar humidor. Make sure you get some sushi, pizza, baked goods or a delicious deli sandwich. It is all so GOOD!\", \"I pretty much order take out from Postino Grant once a week. The full mixed green salad, sweet potato wedges and vegetarian panini are TO DIE FOR. \\n\\nMany times you order vegetarian food and are left hungry or wanting for more flavor. All of these dishes are incredible- my husband who I think hates vegetables said the salad was the best he's ever had. Zero meat! \\n\\nPromise you will not be disappointed.\", \"We had the best date night ever here tonight.  We sat outside at bar, properly socially distanced. Restaurant was 100% covid safe - really appreciated the staffs wearing mask entire time and extra attention to PPE.\\n\\nNow on to the food and drinks; we had the cauliflower appetizer and I will promise you its the best vegetarian single dish item I've ever had. Awesome sauce with it, we finished every single morsel on the plate. \\n\\nThen we had some drinks, they only serve beer and wine here - which makes you try some new things, but each drink we had was delicious and reasonably priced\\n\\nFor our entrees, we both tried a panini. I had the vegetarian, my wife had one with chicken and bacon - and they were perfect.\\n\\nOverall ambiance was awesome for a couple looking for a great dinner and date. We will definitely be back! Great addition to tucson\", \"Rosati's Pub had me addicted. I kept ordering The Chef like several days in a row. I think their thin crust pizza is the best, but I did not have the Chicago deep dish. Everything I ate tasted fresh and....happily made. You can tell when someone takes pride in preparing your food. Excellent!\", 'Great place for ordering take out dinner for the family or yourself, as well as being a nice date place. I have eaten at Opas Grill a few times. The service is solid and the food delicious.  I recommend the Greek salad, gyro platter, falafel burger, and the lemon potatoes.', 'Delicious! Everything is great, but I especially enjoy their burger. At the Campbell location the outdoor seating is on Campbell so it can be noisy, but the food and service make up for it. Recommend!', \"I stopped in yesterday after a long spa day to grab a bite. Both employees that helped me were extremely nice. The female employee recommended a berry tea with fresh orange slices that was pretty yummy and since I was heading back to my family I needed a little caffeine kick too so I got a small hot coffee. She recommended I try their delicious churro flavored coffee of the day! The coffee was perfectly smooth and not too sweet. Surprisingly it didn't taste artificial- I'm usually not a big fan of flavored coffee but this was delicious. I downed it on the drive before even getting home and regretted not getting a bigger size. I grabbed a cold grilled chicken breast and a 1/2 lb of their cold orzo pasta salad to enjoy once I got home. The gentleman that helped me with the food said he didn't believe they seasoned either of their grilled salmon or chicken- I opted for chicken in case I needed to dip it into bbq or something- unseasoned or under salted salmon is a nightmare in my opinion- he was sweet and said they had salt and pepper packets to which I laughed and said no thanks- he understood. Haha so I got home and started sipping on the yummy iced tea and heated up my chicken breast which to my surprise WAS seasoned and very flavorful!! The orzo was also yummy! I was able to pick up some baked goods for my boys as well. Including a vegan and gluten free cookie for my kiddo with food allergies, a pleasant surprise! They also get you in and out of there asap which is so freaking nice. It's also kept very clean! At other grocery stores they are always understaffed and almost never offer to charge you out at the deli counter- NOT HERE! They are fast and efficient and extremely friendly! I'll be back when in the area for sure! It's definitely in a ritzy side of town inside of the la encantada mall so the prices match. For the customer service you receive and the amount of options they have it's worth the price. Unfortunately my boys inhaled their baked goods so I didn't snap a pic but I will share a pic of the chicken and orzo salad. From the bakery we got a chocolate cupcake, large cannoli and a vegan gf snickerdoodle cookie AND a slice of the most delicious lemon creme cake for me!  I recommend them for a quick meal or sweet treat- drink on the go when in the area!\", \"Great food and drinks, also amazing service Winter is the best server ever she was very nice and always there if I needed anything! \\nWould I return? I'm thinking yes...\", 'Great food, amazing potatoes! Super service!!! Wish there was one in Boise!!! We will definitely be back!', \"This is my to go spot for some good Mexican food. I usually get their enchilada combination plates which are bomb but, I've also tried their chimichanga, burritos, carna asada fries and their bomb ass breakfast burritos. Very good food and always great service!\", \"Eight of our networking group met at Ghini's to enjoy an informal lunch. We called to ask if they could accommodate our group. They have safety procedures, and distancing  for indoors and out. The staff was very professional, welcoming and attentive. The menu is varied and everyone commented on the excellent, delicious food. I am planning to go back for more of their coffee - many choices iced or hot! And a stop in the bakery for a treat to take home is a must! Ghini's is a locally owned restaurant and bakery with great food! Thank you Ghini's for a terrific experience all around! \\nSouthern Arizona Preferred Professionals\", \"Amazing, best Mexican food I've ever eaten. Service is great, I asked the server her favorite and took her word it would be good. Well it wasn't just good, I really want to lick the plate right now. Portions are unbelievable large, and the prices are cheap. You need the eat here! I'm from Philadelphia and I might just fly back for the food.\", 'Good food, good music. Ambience is nice, but the micheladas are better! Recommend the burger, even though it is a Mexican restaurant, it is amazing. Along with the cabeza and carne asade', \"Dios mio! Look out Arizona, this place is gonna blow up! I've lived in Arizona for over ten years now and this gem of a restaurant is hands down the BEST Sonoran Mexican joint I've been to. The food is impeccable, portions perfect, and the aquas amazing! Very laid back atmosphere but the hustle and bustle of the friendly staff lets you know they mean business. The restaurant is clean, well laid out, and there is easily accesible parking in the rear. COVID precautions are taken seriously here but you will barely feel their impact. You will not be disappointed!\", \"My wife and I try many different Mexican restaurants in Arizona and agreed this is one of the best. Their signature beef dish is amazing, good service, the rellenos are some of the best I've had. I had the seafood rellenos this time and it will be tough to get anything else when we go again. Definitely worth checking out.\", 'Lonchos surprised us given the \"okay\" reviews... \\n\\nMy bf & I would come into Tio Wills occasionally (prior owners) for the games & drinks etc. Then it was \"okay\". \\n\\nNow, the food & service at Lonchos are much, much better. *Must try Lonchos tacos-carnitas! Happy hour  (everyday 2-7). The quality of service is markedly improved. We sincerely appreciate the attention we receive from the owner who works most days and her daughter, the pride they take in their business and ingredients shows in your drinks & food. \\n\\nThe place isn\\'t fancy place, but absolutely perfect for getting out for great affordable meals, a casual, friendly environment, big screens with games on, & local chill vibe. \\n\\nLove this place, our new happy hour fav!', \"This was our first eating-out restaurant trip since Covid locked everything down. We were in Tucson on our way back from Mayo to El Paso and stopped for lunch. I was concerned it would be busy based on the parking lot but they found s us a nice outdoor place immediately. Service was very fast and friendly. I had the beer pretzels and hipster beer - both amazing! Only could ask for cheese to dip the pretzel in by that's just because I'm a a fat ass - the spicy mustard was great. Husband had carne asada quesadilla and loved them. Absolutely will repeat if I need more Mayo tests. Great ambience, great food\", 'Wondering experience! Excellent service!!!!! Delicious food! A must visit, the ambiance is lovely and authentic  I do not review but when I do It was earned.', \"Great food! Hot and Sour soup is great! Drinks options were abundant.  The black sweet lemon tea was very sweet and nice and bold (like grandma's sun tea).  The restaurant was clean, and tables are spaced apart. There is bar area seating, clean restrooms and they can accommodate larger groups.  I would personally prefer for some tofu in my hot and sour soup, but their soup was very tasty and delicious. The Kung Pao chicken was also great, i would prefer more peanuts and less onion though.  The beef and broccoli was well liked by my lunch date and i tried the broccoli and it was very delicious and crunchy fresh.  I look forward to trying more dishes and beverages here!\", 'Been there a few times not.  Good food and salsa.   Gets busy at times... again, good food', \"I love everything I have tried from Maico to date. Most recently, I had a carne asada burrito that rivaled the best in town. Don't let the unassuming brick storefront fool you, the food is terrific.\", 'The food here is soooo good. Have gotten takeout a few times. Everything was delicious. Prices very reasonable. They kids meal was a ton of food. The eggplant is my favorite.', 'Took home several pizzas and sales as well as a pastrami sandwich.  All the food was fabulous.  Great flavors and textures!  Concept is a thing of the future with the computer screens to order from and they were very helpful in doing the ordering.  Look forward to many fresh, healthy Mediterranean meals.', 'Amazing food , amazing service with time and food \\n\\namazing manger and he gave us goodies today \\n\\nwe definitely coming back here', \"Postino Grant's curbside pickup has been the most wonderful part of staying home! We have yet to be able to dine in but their food is delicious. Our favorite is the board, appetizer, and salad combo deal. The price is very reasonable and it's plenty of food for the perfect date night for two. THANK YOU for coming to Tucson!!\", 'First off, it made me chuckle when I opened the door to enter the restaurant and the gentleman at the door greeted me with \"welcome to la chingada.\" Mexican Spanish speakers find it a kick. The food was delicious and the beverages are pretty good. I found the agua de sandía to be a little underwhelming, but in all fairness, it\\'s not watermelon season. I look forward to trying it in the summer. The agua de pepino is delicious and refreshing. The Mazapán horchata is a fun twist.', 'The gentleman running food out for the drive thru this afternoon was extremely helpful and kind. He made this experience a great one!', \"Favorite place I eat I would drive here no matter how far it is this one of the reasons I don't wanna move outta Arizona this good food\", \"I go to this location multiple times a week for multiple reasons. The food is always top notch, the service is excellent, and the atmosphere is great. Always good music playing which is the icing to the cake. ALL of the staff are great but theres one individual who sticks out to me. Matt Is a great bartender and is very knowledgeable on the wines they have in house. He's very fun and friendly and always makes my family feel welcomed every time we come. Plus you cant beat the $5 deal! Ill never stop coming here!\", 'The food is excellent, my favorite were the scallion pancakes and the taro milk tea with sakura boba! Would definitely eat here again.', \"Not only is this a local business but the door here is always top notch. You can tell the chef and owner take pride in sieving good unique food while keep the traditional Mexican vibe. If you haven't been I recommend you go soon!\", \"We always try to stop in at the trident grill when in Tucson. We love the food, the service, and the atmosphere. I was there last week on business and stopped in for lunch. Like a knucklehead, I left my visa on the table. I had a business trip and needed my card but live in Phoenix, and trying to get to Tucson before I left was proving to be difficult. T.K. stepped in and saved the day! She took time out of her busy schedule to overnight my card which arrived today, just in time for my trip. Thank you, T.K.!! I will make it up to you next time I'm in.\\n\\n-Shane\", 'This is a new restaurant in Tucson and it is very good ! Authentic Mexican food made in house and you can taste how pure and real the taste is. They also follow COVID precautions excellent ! They have barriers next to each table to have the guests feel more comfortable. Alonso was my server and he did great! This is a perfect place to support, we will be back :)', 'Favorite brunch spot for my girlfriend and I. Great service and awesome food. Highly recommend the mexi beni. Three years, still loving this place!', \"Never had Persian food before I ate here and I'm addicted. The food is good but the rice, holy cow I could eat their rice all day everyday! It's a tad pricey but you do get massive portions (it's kind of like one of those sharing plates kinda places). Already been back multiple times and don't plan to stop anytime soon. If you have a chance to eat inside, their dining area is beautiful. Great stuff all around!!\", 'I absolutely love this place. I just moved here to Tucson a few months ago from California. I did not expect to find such an authentic Chinese restaurant like this. The quality of the food and portions are definitely worth it. I usually order the pepper chicken,  cucumber salad, seafood xo seafood fried rice and the water boiled fish filet. Well, last night I made my usual order, and the lady who took my order called me back to inform me that they ran out of my cucumber salad. She helped me get a bok choy with clear broth instead. I definitely will be a regular here.', \"Their happy hour is the best! Everyone is distanced well and it's amazing environment. Took some time to get my food, but it's expected with a larger table (party of 6)\", \"it's been so hard to find a clean and friendly environment to have dinner due to the corona but they have done a wonderful job in personalizing their interactions with every guest ! I really enjoy coming here the food is amazing and I feel so welcome\", \"Finally got to try Fullylove's & it definitely lived up to the hype! Warm family run establishment w/ chef casual food. I love places where you get amazing quality but don't have to pay for the frills, which is exactly what you get here. I had the chicken sliders w/ fries. I'm a fry snob and these were on point. The chicken sliders had an original flavor combo of coleslaw, honey mustard, and pineapple on a Hawaiian roll. It was the perfect combo of sweet and tangy. The chicken was breaded and fried just the way I like it (& didn't have any of that chewy sinew which you run into at a lot of places). We had our food delivered to the back bar which they just opened yesterday. Cold beer (they had my fave, Pizza Port Chronic Amber) & awesome service w/ a laid back artsy atmosphere. Looking forward to trying a paint class! I ate my food too fast to snap a photo, but I did get photos of the beautiful hallway on the way out (one of the owners painted the art/hallway herself). Highly recommended!\", \"Pricy, but the food was awesome, I had the Harisa Shashimoto (wrong spelling) and it was great.   The $5.00 pumpkin pie donut wasn't that good.\", \"I never thought I'd be so impressed with the service and cleanliness at a Waffle House. This location had friendly staff, obsessive sanitizing and yummy food. Great management and staff all around!\", 'I never write reviews, but this is such a great stand! They have the best authentic Sonoran dogs near The university of Arizona. The man attending the stand was super nice. Great food', \"My favorite restaurant in Tucson. Delicious food which is clean and healthy. The minced lamb and Rock Cornish game hen is my favorite. It's a beautiful well appointed restaurant.\", \"Great concept in 'fast food'! good service & delicious food - especially the olive oil cake! \\n\\nHv had a couple of different salads & sandwiches - very fresh, tasty, & healthy. Take-out or eat in, no disappointments here!\", \"My top brunch spot in Tucson!\\n\\nI will agree with other reviewers that this is not traditional French food, but what they do have is great brunch food with French roots. \\n\\nThey have a few different kinds of mimosa's to choose from as well. Service is good, and the dishes are tasty. (At least the brunch type dishes)\", \"Looking for a quick healthy meal? Look no further. This is the place. Want Keto? No prob. Want vegan? No prob. Want meatballs? No prob. Want a glass of wine with that? No prob. Want a beer? No prob. Want to eat outdoors on a patio? You can! Keep in mind, this is not a full service restaurant. You order yourself - on a full color monitor - yes, you see pics of the food you want to eat. All categorized. Nice! I highly recommend the chicken meatballs. Delish! I had the option of a protein with 2 sides. I went with the balls, and sides of broccolini and a cauliflower risotto- it did not disappoint and I felt healthier already! My pops had the funghi veggie pizza and he advised it was wonderful. There is also a serve yourself water station- if you like sparkling water, it's complimentary:). How fabulous. This is a high end take-out/eat in place. I have a feeling we will see more of these take out places soon. Look out McDonalds!\", \"Amazing! So glad you guys are in the north area. Delicious food, doing their best during this crazy time. Will continue to eat here as long as they're open.\", \"SOOOO good. I have to admit that I almost always get the vegetarian torta but it's so good that I crave it and it appears in my dreams, although not in the ones where I've plucked my eyebrows all wrong or have forgotten to put my pants on.  Only in the good dreams about eating amazing food.  \\n\\nLove their super-efficient setup, and the staff are always helpful and friendly and efficient and hand me a delicious torta, which is bound to overcome almost anything they might do that I'd be upset about.  Rude and then you get a delicious sandwich?  Splendid.  NICE and then you get a delicious sandwich.  EVEN BETTER.  \\n\\nAlso, there is a robot guy to greet you at the front door.  He's pretty cool.\", 'Sunset drinks and dinner here with the most stunning views and best service  - what more can you ask for! It was the perfect birthday celebration! :) \\n\\nHappy hour specials are amazing and the food was delish! Everything about this resort is just amazing! Highly recommend :)', 'I LOVE LOVE their environment!! The food was good  nice for a dinner date with your loved one.\\nVery nice staff and friendly service', \"I used Persian Room to cater my wedding, and it was an absolute hit! The guests were so excited to have something other than your average chicken or fish dishes, and the staff at Persian room were fantastic at staying organized, keeping me abreast of everything, and making feel good about trusting them with my wedding day.\\n\\nAs for eating at their restaurant: it's always a privilege. Any time something worth celebrating happens, we head to Persian Room. The dining room is beautiful, the food is always well-prepared, and I appreciate the professional demeanor of the staff.\\n\\nThank you guys!\", \"So glad to have Seis here in Oro Valley! The space is gorgeous and spacious and there's a lovely patio with a view of Pusch Ridge. We visited and enjoyed some delicious margaritas and split the nachos - so yummy and plenty of food to share. You order at the counter and they deliver the food and drinks to your seat. Our service was quick and the everything was delicious. The watermelon marg is one of my favorite in town. Welcome to OV!\", 'Love this place. Awesome Tucson vibes, great food and drinks and sophisticated chic ambience. Tucson needs the place, so go check them out. I received amazing service from Brandon, Riley, and Zack and will be back often when in town.']\n",
      "Document about 'service' in star 5 reviews: ['This place has the best gluten free options I have seen in town. The paninis are great and the artichoke dip appetizer is my favorite. They have a terrific beer and wine list and the service is amazing. Go check it out!', 'Amazing flavor!! You will not be disappointed. Went in with my family. Got great service. Food was prepared as ordered, it was nice, hot and fresh. Highly recommend in a nice rainy day but I have even gotten soup on a hot Arizona day!!', \"I'm kind of boring when it comes to my coffee order here - but the nitro cold brew is so good just plain! I'm excited that this new spot - which has incredible mountain views - is so close to home. I moved in just about a mile away this weekend, and they already recognized me on my second visit! The staff are so friendly and upbeat, and ordering from your car and picking up in drive-through is so efficient and easy. (Walk-up not available right now due to COVID-19.) Punch cards are not allowed right now, BUT they have a great text rewards program and I earned a free drink right away. Upbeat staff, good coffee, quick service - what's not to love? Check it out and don't forget to tip your barista.\", \"Best New York or Neapolitan style pizza in the Tucson area. Even though it is a 45 minute drive for us,  we  go there for the Brooklyn style pizza. I am from Broooklyn '&  will state unequivocally  that it is the closest thing to real New York pizza I have found  since leaving New York, Never disappoints in quality or service.  Their fresh bread  also is excellent\", 'We were there for the soft opening. Everything was complementary and was absolutely amazing! We had the meatball and goat cheese appetizer. Also the cauliflower which we would order again. Than we had a veggie and a meat panini. First ones that were superb. Wine, service, atmosphere was great. Will return!', 'Went here 2 adults & 2 children. The adjustments for cov are fine & the service was excellent. Highly recommend the classic French toast for the kiddos. The adults ate light just coffee and scone but both were excellent & nice to enjoy on the outside patio.', 'Great service bar staff and servers are very friendly and quick to help. Beer selection is good with a good variety for everyone. Wings are smoked and not fried, different better, very good must try. Very clean and sanitary.', 'We thoroughly enjoyed our visit to the happy hour. Food was delicious and service great. Enjoyed outdoor patio experience.', 'Great customer service, even with Covid-19 their staff is cheerful and helpful. Even with low customers flow they still have a full stock of bagels to choose from. Looks like they are doing half batches to lower stock but to still supply what is wanted.', 'Not sure what the lady at the drive thru name is but wow!! Super awesome service very friendly and super nice totally will come back because of how good the service was', 'This place has really changed.  It is now a very enjoyable place to visit.  Very fast FRIENDLY service.  Great atmosphere.  Very helpful nice efficient server/bartender.  I did not get her name but was OUTSTANDING  (Sunday aft 3/8/20)', 'Food is fire  service as well I will definitely come again. Even though I live in Phoenix Az', \"Raijin Ramen deserves another five-star rating from us as their dishes are consistently delicious with excellent service/customer care! You can't go wrong with their dine-in or takeout experience :)\\n\\nWe came back for lunch today and were not disappointed. I got my usual Red Tonkatsu with a side of extra pork, whereas my fiancé couldn't decide between getting ramen or trying out their yakisoba. Cesar was our server, very attentive and helpful. He suggested the Pork Yakisoba and we're so glad he did! I knew the ramen was good, but man I might actually get their Yakisoba next time! Lots of noodles, seasoned to perfection. They didn't skimp on the pork either! The spicy sauce on the side wasn't too spicy when added and gave the dish a blackened/smokey taste. We also got their Takoyaki balls as a side and those were also delicious.\\n\\nWe've also done their takeout service and it was a wonderful experience. Ordered in person and they bring it out to your car! The noodles and soup were separated to prevent soggy noodles. A great touch! We wouldn't hesitate to come back or order to-go from Raijin Ramen :)\", \"I love a Good Bakery and one that combines a restaurant with the perfect ambiance, service and menu you wish you could sample it in one sitting was what I felt my secret find in Tucson. I did tried a combination of menu items and each was served as if a French Chef was preparing it just to impress me but that is their standard obviously and everything tasted as good as it looked. Atmosphere is exactly as you'd imagine to be if you were on the streets of Paris, warm, inviting, comfortable enough to do a brunch date or business lunch. DO NOT FORGET TO STOP IN THE BAKERY BEFORE LEAVING & TAKE HOME FRESH BAGUETTE OR ROLLS-AND A FEW PASTRIES THAT ARE OUT OF THIS WORLD\", \"We ordered our pizza  from the Little Ceasar's APP while we were out & about running errands. Our online order process was very easy. We stayed notified of when our order was ready and how to use the self service pizza portal. This location was fast, fresh, accurate and easy in & out service!! We definitely can recommend this Little Caesar's location for all! Thanks L.C. team & keep up the good work!\", 'Update - after being made aware of the problem described below, they immediately made it right by remaking the meal and bringing it to my location. Have changed the review from 1 star to 5 stars. That Is customer service!\\n\\nTakeout. Ridiculously small amount of tiki masala. See pic. Less than half of a compartment. $12. No brown rice, instead put in cauliflower rice. Just awful. .', 'Super good and authentic ! Everyone is super friendly, great service! I had the chicken tortilla soup, it was sooo tasty  100% recommend.', 'Love this place! Best gyros in Tucson! Got takeout today everything was very clean and quick service!! I would order from here every week but the hours are iffy but I still love this place! The inside has authentic decorations from Greece and the owner is so nice!', 'I was there last night for dinner the place was packed I had an amazing antipasto salad, and pasta with clams, mussels, scallops and shrimp. The service was very efficient and very nice. And the garlic bread was amazing.', \"I went last night 1-14-2021 for some drinks.\\n\\nNice place to relax after work; great customer service;\\n\\nEmployees very nice and friendly and professional.\\n\\nDrinks were Fantastic!\\n\\nWe are going back next week for Dinner.\\n\\n5-Star's All-The-Way:\", \"After months of searching after my beloved Dry River closed forever (RIP), I have found my new favorite pizza spot. This place is incredible! It's quite small and very cozy. We ordered a Caesar salad to split. Without even asking, the server (I forgot her name!) brought it out on two separate plates, which was very nice. It was one of the best Caesar salads I've ever had! For the pizza, we ordered the margherita DOP and added soppressata salami. It was amazing! The sauce was super flavorful and the crust was perfectly charred and slightly chewy, just the way I like it. The service was great and the two employees who helped us were very nice and knowledgeable. We will definitely be back!!\", 'Christine is the most personable and amazing server!!! She took time out of her shift to converse with us and had many amazing wine recommendations! If you want a good experience and exceptional service request Christine!', \"Delicious! A gem filled with locals when we stopped in for lunch. The corn tortillas are some of the best I've ever had. \\n\\nDefinitely get the fried fish taco and carne asada tacos. Excellent value and generous portion sizes. \\n\\nQuick service, socially-distanced tables and bus person wiping down tables after each customer. Limited outdoor seating, but there is a picnic table outside.\", 'I love this place!!! I cant get enough of the Tamal con huevos! And the service is always great! I will be coming back more often.', 'A hidden gem at Catalina Foothills. Everything we ordered was absolutely delicious and very fresh! The garlic shrimp and Tuscan slaw were my favorite! Excellent customer service. Lots of vegetarian options too! If you are ever in this area, highly recommend.', 'Beyond delicious!!!!!!!!! We will be back for sure. Loved the Grandma pizza and arugula salad! Everything was fresh and fabulous! Thank you to everyone (salad maker and pizza cook) that works there and to Spencer for his friendly welcome & prompt service', 'Excellent customer service and delicious drinks!  \\nYou can customize your drink sweetness level.  They also sell dessert and reusable boba straws.\\nI called to order ahead this past Friday but their smoothie machine was unfortunately out of order.  About 2 hours later, I received an unexpected call back from Chatime telling me their machine was back up and running and that they wanted to give me a freebie!  How cool is that!', 'We drove straight through from Austin Tx to Tucson today. Staying in a local hotel. Debated between room service at the hotel and Fresco. After reading the reviews and awards, we ordered pizza from Fresco. Easy ordering process on the phone, super helpful staff and friendly delivery. The pizza is amazing!! Loaded with toppings and great crust. Highly recommend and it came quickly!!', 'Great place for breakfast.  Friendly service, and quick.  Call ahead for takeout if you are in a big hurry, and Connie makes the cookies on site!  I like the omlette since they have multiple choice on ingredients, but the wraps are a big hit with my group.  And the crunchy hash browns. Highly recommend this place.', 'I spent my last 16 years in China, and I have to say the flavors they offer here are very authentic and on point. Order something you haven\\'t order before and let that flavor take you on a journey, don\\'t just get \"orange chicken\" everytime you go to a Chinese restaurant lol. On top of that, the service was great and caring, definitely will be coming here more', 'My recent tour of restaurants, post Covid shutdown, is revisiting all of my favorites, including Kung Fu Noodles. It is great to know many of my favorite restaurants made it through the shutdown.  Kung Fu has been my go-to spot for Chinese noodles (my favorite is Tomato noodles). This tims i expanded my repertoire with Spicy Garlic Whole Fish, and It was fantastic! It was a truly authentic Asian experience without leaving the country. The presentation, ingredients, and taste left me thinking that I was in a back alley of China having a culinary ecstasy while enjoying great service (often Asian restaurants skimp on service).', 'Their chips and salsa are fresh and homemade. So many traditional and unique choices including vegan and gluten-free. I had the tamales which was melt in your mouth delicious! My friend had the shrimp special dish which had good sized shrimp in a creamy lime sauce, along with fresh corn tortillas. We opted for regular instead of table side guacamole but it was delicious! The service was a bit spotty because they were serving some big tables but overall satisfactory. Enjoy!', \"I liked Caruso's a lot it was my first time there. I ordered a salad and eggplant Parmesan. It was very good love the sauce. I would like to go back and try the chicken Parmesan. I heard that's pretty good to. I was happy they have a lift to get into the building because they have steps and I have hip issues. The service was also very good. I will go back.\", \"We dined here on Saturday for the first time. The vibe of the restaurant is beautiful and you truly feel like you're eating in a dining car on the train. The service was great and we loved our drinks. We ordered the cherry tomatoes, melon, ricotta / caramelle pasta / whipstone potatoes / Skirt steak. Everything was so delicious and fresh! The best flavors we've tasted in a long time. We will definitely be back!\", 'Always reliably good. I ordered carne asada tacos and a Sonoran hotdog. Fast service. Friendly people. Always decisions. Go for those quesadillas too!', 'I have lived in Tucson for almost five years and have been constantly seeking great fish. Chef Nathan nailed it with the halibut special Sunday evening. Cooked to perfection in the same manner as their trout dish \"guajillo & ancho chile rub | tequila dijon reduction | charred vegetables\" . I could not have been more pleased.\\nOur caesar salad was prepared to order by the sous chef, sorry I missed his name. My companion loved his escargot appetizer and we had attentive and well paced service by Katie. Our busser with the mask his mother made, was keeping pace. It made for a very positive dining experience and, dare I say, the best fish in town?', 'We are glad they are back in business.  We had great service, and two terrific plates (fish of the day and duck).  It was a special occasion dinner, and nothing about it disappointed us.', \"I love this place simply because it's so simple. I went there with my wife and it was chipotle style. You walk up, they ask your tortilla type, then you go down the assembly line. At the end you get amazing tacos. \\n\\nUsually I'd end it there but the customer service was amazing and enhanced my experience. I asked for a hot salsa that isn't too hot. The guy behind the counter showed me that if you take the medium green salsa and do 10 drops of the hot one in it, it will change your life. \\n\\nLet's just say it was hot but not too hot and I really enjoyed the fact he went above and beyond to assist me.\", 'Wow! Really very good. 17 people in gathering. All dishes ordered were excellent. Very good service.', 'Had a nice experience during COVID. They were practicing appropriate guidelines to make my wife and I feel safe. Food and service were great. Will return and recommend to others.', \"Awesome tacos & awesome customer service, what more do you need? Parking might be challenging since its limited to metered street parking but hey what's a few loops around the block if the end result is super yummy tacos? \\n\\nIt's a casual concept. Stand in line, pick your tortilla (corn or flour), pick your filling (I like the steak and the fish), pick your toppings (gringo or street style), select your drink and sides and pay. I highly recommend getting your tacos street style, it's the best! Enjoy!\", 'Delicious pork tacos , quesadillas, and the chicken burrito was awesome. Great customer service , very friendly', \"We ordered breakfast to go this morning. Friendly service over the phone, order tasty and correct, and ready when they said it would be. Yay for New Year's Day breakfast to start the year off right!\"]\n"
     ]
    },
    {
     "name": "stderr",
     "output_type": "stream",
     "text": [
      "/usr/local/lib/python3.10/dist-packages/ipykernel/ipkernel.py:283: DeprecationWarning: `should_run_async` will not call `transform_cell` automatically in the future. Please pass the result to `transformed_cell` argument and any exception that happen during thetransform in `preprocessing_exc_tuple` in IPython 7.17 and above.\n",
      "  and should_run_async(code)\n"
     ]
    }
   ],
   "source": [
    "# document in star 5 reviews\n",
    "wait_5 = []\n",
    "food_5 = []\n",
    "service_5 = []\n",
    "\n",
    "review_5_star = star_5_data['text']\n",
    "for j in review_5_star:\n",
    "  if \"wait\" in j:\n",
    "    wait_5.append(j)\n",
    "  elif \"food\" in j:\n",
    "    food_5.append(j)\n",
    "  elif \"service\" in j:\n",
    "    service_5.append(j)\n",
    "  else:\n",
    "    continue\n",
    "\n",
    "print(f\"Numbers of document metion 'wait': {len(wait_5)}\")\n",
    "print(f\"Numbers of document metion 'food': {len(food_5)}\")\n",
    "print(f\"Numbers of document metion 'service': {len(service_5)}\")\n",
    "print(\" \")\n",
    "print(f\"Document about 'waiting time' in star 5 reviews: {wait_5}\")\n",
    "print(f\"Document about 'food' in star 5 reviews: {food_5}\")\n",
    "print(f\"Document about 'service' in star 5 reviews: {service_5}\")"
   ]
  },
  {
   "cell_type": "markdown",
   "metadata": {
    "id": "hh6zhytEM6n3"
   },
   "source": [
    "## Observation"
   ]
  },
  {
   "cell_type": "markdown",
   "metadata": {
    "id": "ctqWEcxlM89U"
   },
   "source": [
    "I observed the documents that contain \"wait,\" \"food,\" and \"service\" in 1-star and 5-star reviews, respectively.\\\n",
    "I found that the number of texts including \"food\" is higher than those including \"wait\" and \"service\" in 5-star reviews. However, in 1-star reviews, the number of texts including \"wait\" is higher than those including the other two words. \\\n",
    "As a result, we could say that in 5-star reviews, most people praise the restaurant for its food. In 1-star reviews, on the other hand, most people complain about the waiting time."
   ]
  },
  {
   "cell_type": "markdown",
   "metadata": {
    "id": "DA9YdQxBM9fi"
   },
   "source": [
    "## Acknowledgment"
   ]
  },
  {
   "cell_type": "markdown",
   "metadata": {
    "id": "jQBlVW5iNM-4"
   },
   "source": [
    "I did not use GenAI to create code this time, most of my code is from the template on class.\\\n",
    "However, I asked GenAI what I should know if I want to select the K value in coherence measure."
   ]
  },
  {
   "cell_type": "markdown",
   "metadata": {
    "id": "lgaS1M7mN1tH"
   },
   "source": [
    "## Create HTML File"
   ]
  },
  {
   "cell_type": "code",
   "execution_count": 2,
   "metadata": {
    "colab": {
     "base_uri": "https://localhost:8080/"
    },
    "executionInfo": {
     "elapsed": 15952,
     "status": "ok",
     "timestamp": 1706986069469,
     "user": {
      "displayName": "Homer Liu",
      "userId": "02498362625275100753"
     },
     "user_tz": 420
    },
    "id": "_DvXmVfQQiMo",
    "outputId": "980d536f-cb36-408a-820d-d31b197a4d81"
   },
   "outputs": [
    {
     "name": "stdout",
     "output_type": "stream",
     "text": [
      "\u001b[2K     \u001b[90m━━━━━━━━━━━━━━━━━━━━━━━━━━━━━━━━━━━━━━━━\u001b[0m \u001b[32m123.4/123.4 kB\u001b[0m \u001b[31m2.9 MB/s\u001b[0m eta \u001b[36m0:00:00\u001b[0m\n",
      "\u001b[2K     \u001b[90m━━━━━━━━━━━━━━━━━━━━━━━━━━━━━━━━━━━━━━━━\u001b[0m \u001b[32m93.5/93.5 kB\u001b[0m \u001b[31m4.5 MB/s\u001b[0m eta \u001b[36m0:00:00\u001b[0m\n",
      "\u001b[2K     \u001b[90m━━━━━━━━━━━━━━━━━━━━━━━━━━━━━━━━━━━━━━━━\u001b[0m \u001b[32m1.6/1.6 MB\u001b[0m \u001b[31m7.7 MB/s\u001b[0m eta \u001b[36m0:00:00\u001b[0m\n",
      "\u001b[?25h"
     ]
    }
   ],
   "source": [
    "!pip install -q jupyter\n",
    "!pip install -q nbconvert"
   ]
  },
  {
   "cell_type": "code",
   "execution_count": 5,
   "metadata": {
    "colab": {
     "base_uri": "https://localhost:8080/"
    },
    "executionInfo": {
     "elapsed": 3146,
     "status": "ok",
     "timestamp": 1706986192527,
     "user": {
      "displayName": "Homer Liu",
      "userId": "02498362625275100753"
     },
     "user_tz": 420
    },
    "id": "msN7GFkwDFBP",
    "outputId": "632d3fe5-68ed-4305-b23b-ee8573575d03"
   },
   "outputs": [
    {
     "name": "stdout",
     "output_type": "stream",
     "text": [
      "[NbConvertApp] Converting notebook /content/drive/MyDrive/Colab Notebooks/LA3_Liu_KuanHung.ipynb to html\n",
      "[NbConvertApp] Writing 1255038 bytes to /content/drive/MyDrive/Colab Notebooks/LA3_Liu_KuanHung.html\n"
     ]
    }
   ],
   "source": [
    "!jupyter nbconvert \"/content/drive/MyDrive/Colab Notebooks/LA3_Liu_KuanHung.ipynb\" --to html"
   ]
  },
  {
   "cell_type": "code",
   "execution_count": null,
   "metadata": {
    "id": "l81d-eYxPr5H"
   },
   "outputs": [],
   "source": []
  }
 ],
 "metadata": {
  "colab": {
   "authorship_tag": "ABX9TyMYQKgL3eTZecTszd5WFinC",
   "provenance": [],
   "toc_visible": true
  },
  "kernelspec": {
   "display_name": "Python 3 (ipykernel)",
   "language": "python",
   "name": "python3"
  },
  "language_info": {
   "codemirror_mode": {
    "name": "ipython",
    "version": 3
   },
   "file_extension": ".py",
   "mimetype": "text/x-python",
   "name": "python",
   "nbconvert_exporter": "python",
   "pygments_lexer": "ipython3",
   "version": "3.11.4"
  }
 },
 "nbformat": 4,
 "nbformat_minor": 1
}
