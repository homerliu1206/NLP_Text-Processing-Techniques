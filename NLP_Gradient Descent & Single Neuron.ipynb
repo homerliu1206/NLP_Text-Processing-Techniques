{
 "cells": [
  {
   "cell_type": "markdown",
   "metadata": {
    "id": "sgReYw-olAfx"
   },
   "source": [
    "# **Lab Assignment 4**"
   ]
  },
  {
   "cell_type": "markdown",
   "metadata": {
    "id": "eP47Y8TGok6G"
   },
   "source": [
    "## Personal Information\n",
    "- Author Name: Kuan-Hung Liu\n",
    "- ASU ID: 1230540209\n",
    "- File Creation Date: 2/8/2024"
   ]
  },
  {
   "cell_type": "markdown",
   "metadata": {
    "id": "swN48cdllBhr"
   },
   "source": [
    "## Exercise 1 (Gradient Descent)"
   ]
  },
  {
   "cell_type": "markdown",
   "metadata": {
    "id": "RUeyjzDqbAiK"
   },
   "source": [
    "* In this assignment, you will first use the gradient descent algorithm to find the optimal value of w1 which minimizes the given cost function (Steps 1.1 through 1.5). You will earn 5% points for each step and 25% in total.\n",
    "\n",
    "* You will run the algorithm for 4 different scenarios, each with a different value of alpha. For each scenario, you will log the responses in the last cell of this notebook (Step 1.6). You will earn 5% points for each scenario and 20%  in total."
   ]
  },
  {
   "cell_type": "code",
   "execution_count": 2,
   "metadata": {
    "executionInfo": {
     "elapsed": 300,
     "status": "ok",
     "timestamp": 1707506146858,
     "user": {
      "displayName": "Homer Liu",
      "userId": "02498362625275100753"
     },
     "user_tz": 420
    },
    "id": "lzBsIAYXbAiM"
   },
   "outputs": [],
   "source": [
    "# DO NOT edit this cell!\n",
    "# You must use this cost function and its derivative as-is\n",
    "\n",
    "# cost at particular value of w1\n",
    "def calc_J(w1):\n",
    "    return (5.5*w1*w1 - 1463*w1 + 100812.5)\n",
    "\n",
    "# slope at particular value of w1\n",
    "def calc_dJ_dw1(w1):\n",
    "    return (11*w1 - 1463)"
   ]
  },
  {
   "cell_type": "code",
   "execution_count": 3,
   "metadata": {
    "colab": {
     "base_uri": "https://localhost:8080/"
    },
    "executionInfo": {
     "elapsed": 5,
     "status": "ok",
     "timestamp": 1707506160281,
     "user": {
      "displayName": "Homer Liu",
      "userId": "02498362625275100753"
     },
     "user_tz": 420
    },
    "id": "tMUYheJcbAiO",
    "outputId": "54e34460-1850-467a-b6ec-b1130bb0565b"
   },
   "outputs": [
    {
     "name": "stdout",
     "output_type": "stream",
     "text": [
      "Initial w1: 60 Initial J: 32832.5\n",
      "Iteration 1 - w1: 100.15 J: 9458.17\n",
      "Iteration 2 - w1: 118.22 J: 4724.87\n",
      "Iteration 3 - w1: 126.35 J: 3766.38\n",
      "Iteration 4 - w1: 130.01 J: 3572.28\n",
      "Iteration 5 - w1: 131.65 J: 3532.98\n",
      "Iteration 6 - w1: 132.39 J: 3525.02\n",
      "Iteration 7 - w1: 132.73 J: 3523.41\n",
      "Iteration 8 - w1: 132.88 J: 3523.08\n",
      "Iteration 9 - w1: 132.94 J: 3523.02\n",
      "Iteration 10 - w1: 132.98 J: 3523.0\n",
      "Iteration 11 - w1: 132.99 J: 3523.0\n",
      "Iteration 12 - w1: 132.99 J: 3523.0\n",
      "Iteration 13 - w1: 133.0 J: 3523.0\n",
      "Iteration 14 - w1: 133.0 J: 3523.0\n",
      "Iteration 15 - w1: 133.0 J: 3523.0\n",
      "Iteration 16 - w1: 133.0 J: 3523.0\n",
      "Iteration 17 - w1: 133.0 J: 3523.0\n",
      "Iteration 18 - w1: 133.0 J: 3523.0\n",
      "Iteration 19 - w1: 133.0 J: 3523.0\n",
      "Iteration 20 - w1: 133.0 J: 3523.0\n",
      "Iteration 21 - w1: 133.0 J: 3523.0\n",
      "Iteration 22 - w1: 133.0 J: 3523.0\n",
      "Iteration 23 - w1: 133.0 J: 3523.0\n",
      "Iteration 24 - w1: 133.0 J: 3523.0\n",
      "Iteration 25 - w1: 133.0 J: 3523.0\n"
     ]
    }
   ],
   "source": [
    "# First, complete coding Steps 1.1 through 1.5 in this cell.\n",
    "# Then, run this cell for each of the four scenarios below,\n",
    "# and log your responses for each scenario run in the next cell (Step 1.6)\n",
    "# alpha=0.08; niterations = 25; w1 = 60 # Scenario 1\n",
    "alpha=0.05; niterations = 25; w1 = 60 # Scenario 2\n",
    "# alpha=0.15; niterations = 25; w1 = 60 # Scenario 3\n",
    "# alpha=0.19; niterations = 25; w1 = 60 # Scenario 4\n",
    "\n",
    "# Step 1.1: calculate current value of J at current value of w1\n",
    "J = calc_J(w1)\n",
    "\n",
    "# Step 1.2: print w1 (rounded to 2 decimal places) and J (rounded to 2 decimal places)\n",
    "print(\"Initial w1:\", round(w1, 2), \"Initial J:\", round(J, 2))\n",
    "\n",
    "# run gradient descent for niterations\n",
    "for i in range(niterations):\n",
    "\n",
    "    # Step 1.3: calculate new value of w1\n",
    "    w1 = w1 - alpha * calc_dJ_dw1(w1)\n",
    "\n",
    "    # Step 1.4: calculate new value of J at new w1\n",
    "    J = calc_J(w1)\n",
    "\n",
    "    # Step 1.5: print w1 (rounded to 2 decimal places) and J (rounded to 2 decimal places)\n",
    "    print(\"Iteration\", i+1, \"- w1:\", round(w1, 2), \"J:\", round(J, 2))\n"
   ]
  },
  {
   "cell_type": "code",
   "execution_count": null,
   "metadata": {
    "id": "s8XQpscNbAiO"
   },
   "outputs": [],
   "source": [
    "# Step 1.6: for each Scenario, answer the following questions based on the output (20%)\n",
    "# type your answers below for each question\n",
    "#\n",
    "### Scenario 1 (alpha=0.08; niterations = 25; w1 = 60):\n",
    "# did the cost steadily decrease as training progressed?\n",
    "# >> Yes, but the cost stop decreasing since the 5th iteration\n",
    "# did the gradient descent algorithm converge?\n",
    "# >> Yes, the gradient descent algorithm converged because it reaches a local minimum of the cost function.\n",
    "# what is the minimum cost?\n",
    "# >> 3523.0\n",
    "# what is the optimal value of w1?\n",
    "# >> 133.0\n",
    "# in how many iterations did gradient descent converge (at which row # in the output)?\n",
    "# >> 5th\n",
    "#\n",
    "### Scenario 2 (alpha=0.05; niterations = 25; w1 = 60):\n",
    "# did the cost steadily decrease as training progressed?\n",
    "# >> Yes, but the cost stop decreasing since the 13th iteration\n",
    "# did the gradient descent algorithm converge?\n",
    "# >> Yes, the gradient descent algorithm converged because it reaches a local minimum of the cost function.\n",
    "# what is the minimum cost?\n",
    "# >> 3523.0\n",
    "# what is the optimal value of w1?\n",
    "# >> 133.0\n",
    "# in how many iterations did gradient descent converge (at which row # in the output)?\n",
    "# >> 13th\n",
    "#\n",
    "### Scenario 3 (alpha=0.15; niterations = 25; w1 = 60):\n",
    "# did the cost steadily decrease as training progressed?\n",
    "# >> Yes, but the cost stop decreasing since the 23th iteration\n",
    "# did the gradient descent algorithm converge?\n",
    "# >> Yes, the gradient descent algorithm converged because it reaches a local minimum of the cost function.\n",
    "# what is the minimum cost?\n",
    "# >> 3523.0\n",
    "# what is the optimal value of w1?\n",
    "# >> 133.0\n",
    "# in how many iterations did gradient descent converge (at which row # in the output)?\n",
    "# >> 23th\n",
    "#\n",
    "### Scenario 4 (alpha=0.19; niterations = 25; w1 = 60):\n",
    "# did the cost steadily decrease as training progressed?\n",
    "# >> No, the cost keep increasing.\n",
    "# did the gradient descent algorithm converge?\n",
    "# >> No, the gradient descent algorithm didn't converge because it didn't reach a local minimum of the cost function.\n",
    "# what is the minimum cost?\n",
    "# >> 38345.62\n",
    "# what is the optimal value of w1?\n",
    "# >> -444.51\n",
    "# in how many iterations did gradient descent converge (at which row # in the output)?\n",
    "# >> It didn't converage in 25 trials."
   ]
  },
  {
   "cell_type": "markdown",
   "metadata": {
    "id": "16sJ8vw2lFf7"
   },
   "source": [
    "## Exercise 2 (Single Neuron)"
   ]
  },
  {
   "cell_type": "markdown",
   "metadata": {
    "id": "PgCVy2aUgUMj"
   },
   "source": [
    "### Then, you will apply deep learning thinking in modeling a single neuron to build logistic regression and linear regression models. You need also to Apply the idea of vectorization to efficiently train your models and implement gradient descent from scratch (using multiple iterations of the forward pass, backward propagation, and gradient descent steps) to minimize the loss functions and determine model parameters.\n",
    "\n",
    "### Specifically, there are two parts in this assignment:\n",
    "* In the first part, you will train a logistic regression model using the breast cancer data set. This part has 7 parts (2.1.1 through 2.1.7) that you will need to code (see framework for more details).\n",
    "* In the second part, you will train a linear regression model using the diabetes data set. This part has 7 parts (2.2.1 through 2.2.7) that you will need to code (see framework for more details)."
   ]
  },
  {
   "cell_type": "code",
   "execution_count": 1,
   "metadata": {
    "executionInfo": {
     "elapsed": 1304,
     "status": "ok",
     "timestamp": 1707506134809,
     "user": {
      "displayName": "Homer Liu",
      "userId": "02498362625275100753"
     },
     "user_tz": 420
    },
    "id": "VM2vgB55gcPu"
   },
   "outputs": [],
   "source": [
    "### DO NOT EDIT THIS CELL!!!\n",
    "### DO NOT IMPORT ANY ADDITIONAL PACKAGES\n",
    "\n",
    "import numpy as np\n",
    "import scipy\n",
    "from sklearn import metrics\n",
    "import matplotlib.pyplot as plt\n",
    "%matplotlib inline"
   ]
  },
  {
   "cell_type": "markdown",
   "metadata": {
    "id": "SG7_IZIVhzGZ"
   },
   "source": [
    "### PART 1\n",
    "\n",
    "* Logistic Regression for Binary Classification using the breast cancer dataset\n",
    "\n",
    "* We aren't going to preprocess data or split into train/test since the focus here is purely on the gradient descent algorithm\n",
    "\n",
    "* NOTE: YOU WILL ONLY EDIT ONE CELL FOR PART-1 (SEE BELOW) (5% for each step, but 25% in total)"
   ]
  },
  {
   "cell_type": "code",
   "execution_count": 30,
   "metadata": {
    "colab": {
     "base_uri": "https://localhost:8080/"
    },
    "executionInfo": {
     "elapsed": 262,
     "status": "ok",
     "timestamp": 1707508255589,
     "user": {
      "displayName": "Homer Liu",
      "userId": "02498362625275100753"
     },
     "user_tz": 420
    },
    "id": "2P8AGX0PhoCA",
    "outputId": "bd8bf7a7-2993-445c-93d5-db36ffafbdea"
   },
   "outputs": [
    {
     "name": "stdout",
     "output_type": "stream",
     "text": [
      "X:  (569, 30)\n",
      "y:  (569, 1)\n",
      "m:  569\n",
      "n:  30\n",
      "features:  ['mean radius' 'mean texture' 'mean perimeter' 'mean area'\n",
      " 'mean smoothness' 'mean compactness' 'mean concavity'\n",
      " 'mean concave points' 'mean symmetry' 'mean fractal dimension'\n",
      " 'radius error' 'texture error' 'perimeter error' 'area error'\n",
      " 'smoothness error' 'compactness error' 'concavity error'\n",
      " 'concave points error' 'symmetry error' 'fractal dimension error'\n",
      " 'worst radius' 'worst texture' 'worst perimeter' 'worst area'\n",
      " 'worst smoothness' 'worst compactness' 'worst concavity'\n",
      " 'worst concave points' 'worst symmetry' 'worst fractal dimension']\n"
     ]
    }
   ],
   "source": [
    "### DO NOT EDIT THIS CELL!!!\n",
    "\n",
    "# read the breast cancer dataset from sklearn\n",
    "from sklearn.datasets import load_breast_cancer\n",
    "\n",
    "dataset = load_breast_cancer()\n",
    "\n",
    "# feature matrix X: mxn\n",
    "X = dataset.data\n",
    "print (\"X: \", X.shape)\n",
    "\n",
    "# target vector y: mx1\n",
    "y = dataset.target\n",
    "y = y.reshape(y.shape[0], 1)\n",
    "print (\"y: \", y.shape)\n",
    "\n",
    "# number of samples: m\n",
    "m = X.shape[0]\n",
    "print (\"m: \", m)\n",
    "\n",
    "# number of features: n\n",
    "n = X.shape[1]\n",
    "features = dataset.feature_names\n",
    "print (\"n: \",n)\n",
    "print (\"features: \", features)"
   ]
  },
  {
   "cell_type": "code",
   "execution_count": 31,
   "metadata": {
    "colab": {
     "base_uri": "https://localhost:8080/",
     "height": 489
    },
    "executionInfo": {
     "elapsed": 1046,
     "status": "ok",
     "timestamp": 1707508258300,
     "user": {
      "displayName": "Homer Liu",
      "userId": "02498362625275100753"
     },
     "user_tz": 420
    },
    "id": "4H6Zy2Oxh5Gc",
    "outputId": "d1a2f635-f0fa-46ce-c5b0-2ad3b06d5720"
   },
   "outputs": [
    {
     "name": "stdout",
     "output_type": "stream",
     "text": [
      "Accuracy: 0.9191564147627417\n"
     ]
    },
    {
     "data": {
      "image/png": "[encoded data removed]",
      "text/plain": [
       "<Figure size 640x480 with 1 Axes>"
      ]
     },
     "metadata": {},
     "output_type": "display_data"
    }
   ],
   "source": [
    "### THIS IS THE ONLY CELL YOU MUST EDIT FOR PART-1\n",
    "\n",
    "# train the logistic regression model\n",
    "\n",
    "# initializae hyperparameters nepochs and alpha\n",
    "nepochs = 5000\n",
    "alpha = 2.5e-6\n",
    "\n",
    "# initialize model parameters w and b\n",
    "w = np.zeros((n,1))\n",
    "b = 0\n",
    "\n",
    "# this list will collect loss for each iteration\n",
    "costs = []\n",
    "\n",
    "def sigmoid(z):\n",
    "    return 1 / (1 + np.exp(-z))\n",
    "\n",
    "# repeat for nepochs\n",
    "for epoch in range(nepochs):\n",
    "\n",
    "    # forward pass (calculate current loss)\n",
    "    z = np.dot(X, w) + b\n",
    "    yhat = sigmoid(z)\n",
    "    loss = -np.mean(y * np.log(yhat) + (1 - y) * np.log(1 - yhat))\n",
    "\n",
    "    # backward propagation (calculate current gradient)\n",
    "    dw = (1 / m) * np.dot(X.T, (yhat - y))\n",
    "    db = (1 / m) * np.sum(yhat - y)\n",
    "\n",
    "    # gradient descent (update parameters)\n",
    "    w = w - alpha * dw\n",
    "    b = b - alpha * db\n",
    "\n",
    "    # append loss to costs\n",
    "    costs.append(loss)\n",
    "\n",
    "# use final parameters w and b to calculate accuracy for training data X, y\n",
    "z = np.dot(X, w) + b\n",
    "yhat = sigmoid(z)\n",
    "yhat = np.round(yhat)\n",
    "accuracy = metrics.accuracy_score(y, yhat)\n",
    "print(\"Accuracy:\", accuracy)\n",
    "\n",
    "# use plt.plot(costs) to plot costs against iterations and show the plot\n",
    "plt.plot(costs)\n",
    "plt.xlabel('Iterations')\n",
    "plt.ylabel('Cost')\n",
    "plt.title('Cost vs. Iterations')\n",
    "plt.show()\n",
    "\n"
   ]
  },
  {
   "cell_type": "code",
   "execution_count": 32,
   "metadata": {
    "colab": {
     "base_uri": "https://localhost:8080/"
    },
    "executionInfo": {
     "elapsed": 592,
     "status": "ok",
     "timestamp": 1707508261786,
     "user": {
      "displayName": "Homer Liu",
      "userId": "02498362625275100753"
     },
     "user_tz": 420
    },
    "id": "9C3LactGiB2c",
    "outputId": "2af526b8-cf7b-4c4c-8a7f-21e2a68a9578"
   },
   "outputs": [
    {
     "name": "stderr",
     "output_type": "stream",
     "text": [
      "/usr/local/lib/python3.10/dist-packages/sklearn/linear_model/_stochastic_gradient.py:163: FutureWarning: The loss 'log' was deprecated in v1.1 and will be removed in version 1.3. Use `loss='log_loss'` which is equivalent.\n",
      "  warnings.warn(\n"
     ]
    },
    {
     "name": "stdout",
     "output_type": "stream",
     "text": [
      "0.92\n"
     ]
    }
   ],
   "source": [
    "### DO NOT EDIT THIS CELL!!!\n",
    "\n",
    "# compare results from your implementation to that of SGDClassifier\n",
    "# your accuracy score above should match (or be very close to) what you get from here\n",
    "\n",
    "nepochs = 5000\n",
    "alpha = 2.5e-6\n",
    "y = y.reshape(y.shape[0],) # to avoid warning\n",
    "\n",
    "from sklearn.linear_model import SGDClassifier\n",
    "clf = SGDClassifier(loss='log', # loss function for logistic regression\n",
    "                    penalty=None, alpha=0, # no regularization\n",
    "                    max_iter=nepochs, tol=None, # stop based only on nepochs\n",
    "                    shuffle=False, random_state=0, # don't shuffle, use random state to replicate results\n",
    "                    learning_rate='constant', eta0=alpha) # constant learning rate of alpha\n",
    "clf.fit(X,y)\n",
    "print (round(clf.score(X,y),2))"
   ]
  },
  {
   "cell_type": "markdown",
   "metadata": {
    "id": "gYG7VIaliH4K"
   },
   "source": [
    "### Part 2\n",
    "\n",
    "* Linear Regression using the diabetes dataset\n",
    "\n",
    "* We aren't going to preprocess data or split  into train/test since the focus here is purely on the gradient descent algorithm\n",
    "\n",
    "* NOTE: YOU WILL ONLY EDIT ONE CELL FOR PART-2 (SEE BELOW) (5% for each step, but 25% in total)"
   ]
  },
  {
   "cell_type": "code",
   "execution_count": 34,
   "metadata": {
    "colab": {
     "base_uri": "https://localhost:8080/"
    },
    "executionInfo": {
     "elapsed": 283,
     "status": "ok",
     "timestamp": 1707508269675,
     "user": {
      "displayName": "Homer Liu",
      "userId": "02498362625275100753"
     },
     "user_tz": 420
    },
    "id": "LbCoueECa7Kv",
    "outputId": "ac96f8b6-cbc3-459c-88d0-047c9b5154d0"
   },
   "outputs": [
    {
     "name": "stdout",
     "output_type": "stream",
     "text": [
      "X:  (442, 10)\n",
      "y:  (442, 1)\n",
      "m:  442\n",
      "n:  10\n",
      "features:  ['age', 'sex', 'bmi', 'bp', 's1', 's2', 's3', 's4', 's5', 's6']\n"
     ]
    }
   ],
   "source": [
    "### DO NOT EDIT THIS CELL!!!\n",
    "\n",
    "# read the breast cancer dataset from sklearn\n",
    "from sklearn.datasets import load_diabetes\n",
    "\n",
    "dataset = load_diabetes()\n",
    "\n",
    "# feature matrix X: mxn\n",
    "X = dataset.data\n",
    "print (\"X: \", X.shape)\n",
    "\n",
    "# target vector y: mx1\n",
    "y = dataset.target\n",
    "y = y.reshape(y.shape[0], 1)\n",
    "print (\"y: \", y.shape)\n",
    "\n",
    "# number of samples: m\n",
    "m = X.shape[0]\n",
    "print (\"m: \", m)\n",
    "\n",
    "# number of features: n\n",
    "n = X.shape[1]\n",
    "features = dataset.feature_names\n",
    "print (\"n: \",n)\n",
    "print (\"features: \", features)"
   ]
  },
  {
   "cell_type": "code",
   "execution_count": 35,
   "metadata": {
    "colab": {
     "base_uri": "https://localhost:8080/",
     "height": 507
    },
    "executionInfo": {
     "elapsed": 851,
     "status": "ok",
     "timestamp": 1707508271678,
     "user": {
      "displayName": "Homer Liu",
      "userId": "02498362625275100753"
     },
     "user_tz": 420
    },
    "id": "FBPCJeyWiOHC",
    "outputId": "79972e9b-7a6e-471e-c305-0b4ec021f408"
   },
   "outputs": [
    {
     "name": "stdout",
     "output_type": "stream",
     "text": [
      "Mean Squared Error: 2880.4940919140995\n",
      "R-squared Score: 0.5142411459934224\n"
     ]
    },
    {
     "data": {
      "image/png": "[encoded data removed]",
      "text/plain": [
       "<Figure size 640x480 with 1 Axes>"
      ]
     },
     "metadata": {},
     "output_type": "display_data"
    }
   ],
   "source": [
    "### THIS IS THE ONLY CELL YOU MUST EDIT FOR PART-2\n",
    "\n",
    "# train the linear regression model\n",
    "\n",
    "# initialize hyperparameters nepochs and alpha\n",
    "nepochs = 5000\n",
    "alpha = 0.5\n",
    "\n",
    "# initialize model parameters w and b\n",
    "w = np.zeros((n,1))\n",
    "b = 0\n",
    "\n",
    "# this list will collect loss for each iteration\n",
    "costs = []\n",
    "\n",
    "# repeat for nepochs\n",
    "### (2.2.1) YOUR CODE HERE\n",
    "for epoch in range(nepochs):\n",
    "\n",
    "    # forward pass (calculate current loss)\n",
    "    ### (2.2.2) YOUR CODE HERE\n",
    "    z = np.dot(X, w) + b\n",
    "    yhat = z\n",
    "    loss = np.mean((yhat - y) ** 2) / 2  # MSE loss\n",
    "\n",
    "\n",
    "    # backward propagation (calculate current gradient)\n",
    "    ### (2.2.3) YOUR CODE HERE\n",
    "    dw = np.dot(X.T, (yhat - y)) / m\n",
    "    db = np.mean(yhat - y)\n",
    "\n",
    "\n",
    "\n",
    "    # gradient descent (update parameters)\n",
    "    ### (2.2.4) YOUR CODE HERE\n",
    "    w -= alpha * dw.reshape(-1, 1)\n",
    "    b -= alpha * db\n",
    "\n",
    "\n",
    "    # append loss to costs: This step is done to keep track of how the loss changes over the course of training\n",
    "    # Costs: It is likely initialized as an empty list before the training loop. It is used to store the loss values at each iteration.\n",
    "    ### (2.2.5) YOUR COD HERE\n",
    "    costs.append(loss)\n",
    "\n",
    "\n",
    "# use final parameters w and b to calcualte mse and r2 for training data X, y\n",
    "#  - do a single forward pass for X: calcualte z, yhat\n",
    "#  - calculate metrics.mean_squared_error(y, yhat) and print it\n",
    "#  - calculate metrics.r2_score(y, yhat) and print it\n",
    "### (2.2.6) YOUR CODE HERE\n",
    "z = np.dot(X, w) + b\n",
    "yhat = z\n",
    "mse = np.mean((y - yhat) ** 2)\n",
    "print(\"Mean Squared Error:\", mse)\n",
    "r2 = 1 - np.sum((y - yhat) ** 2) / np.sum((y - np.mean(y)) ** 2)\n",
    "print(\"R-squared Score:\", r2)\n",
    "\n",
    "# use plt.plot(costs) to plot costs against iterations and show the plot\n",
    "plt.plot(costs)\n",
    "plt.xlabel('Iterations')\n",
    "plt.ylabel('Cost')\n",
    "plt.title('Cost vs. Iterations')\n",
    "plt.show()\n"
   ]
  },
  {
   "cell_type": "code",
   "execution_count": 36,
   "metadata": {
    "colab": {
     "base_uri": "https://localhost:8080/"
    },
    "executionInfo": {
     "elapsed": 335,
     "status": "ok",
     "timestamp": 1707508274369,
     "user": {
      "displayName": "Homer Liu",
      "userId": "02498362625275100753"
     },
     "user_tz": 420
    },
    "id": "t0fI3RBEiTGx",
    "outputId": "d9824301-6356-4999-f2d1-81cfb1862e2b"
   },
   "outputs": [
    {
     "name": "stdout",
     "output_type": "stream",
     "text": [
      "2922.89\n",
      "0.51\n"
     ]
    }
   ],
   "source": [
    "### DO NOT EDIT THIS CELL!!!\n",
    "\n",
    "# compare results from our implementation to that of SGDRegressor\n",
    "# your mse and r2 score above should match (or be very close to) what you get from here\n",
    "\n",
    "nepochs = 5000\n",
    "alpha = 0.5\n",
    "y = y.reshape(y.shape[0],) # to avoid warning\n",
    "\n",
    "from sklearn.linear_model import SGDRegressor\n",
    "clf = SGDRegressor(loss='squared_error', # mse for linear regression\n",
    "                    penalty=None, alpha=0, # no regularization\n",
    "                    max_iter=nepochs, tol=None, # stop based on only on nepochs\n",
    "                    shuffle=False, random_state=0, # don't shuffle, use random state to replicate results\n",
    "                    learning_rate='constant', eta0=alpha) # constant learning rate of alpha\n",
    "clf.fit(X,y)\n",
    "yhat = clf.predict(X)\n",
    "print (round(metrics.mean_squared_error(y, yhat),2))\n",
    "print (round(clf.score(X,y),2))"
   ]
  },
  {
   "cell_type": "markdown",
   "metadata": {
    "id": "nxneXnBSqLgk"
   },
   "source": [
    "## Acknowledgment\n",
    "\n",
    "I have used  GenAI tools in this assignment to create most of the code and I also discussed the assignment with my classmate, Shih-Shin Fan."
   ]
  },
  {
   "cell_type": "markdown",
   "metadata": {
    "id": "HPSOQGSDiRsJ"
   },
   "source": [
    "## Create HTML File"
   ]
  },
  {
   "cell_type": "code",
   "execution_count": 41,
   "metadata": {
    "colab": {
     "base_uri": "https://localhost:8080/"
    },
    "executionInfo": {
     "elapsed": 18920,
     "status": "ok",
     "timestamp": 1707508502160,
     "user": {
      "displayName": "Homer Liu",
      "userId": "02498362625275100753"
     },
     "user_tz": 420
    },
    "id": "ttzAk3e1b7dj",
    "outputId": "7efcc325-5bd5-4d6c-8e17-545995e91624"
   },
   "outputs": [
    {
     "name": "stdout",
     "output_type": "stream",
     "text": [
      "Mounted at /content/drive\n"
     ]
    }
   ],
   "source": [
    "from google.colab import drive\n",
    "drive.mount('/content/drive')"
   ]
  },
  {
   "cell_type": "code",
   "execution_count": 43,
   "metadata": {
    "executionInfo": {
     "elapsed": 33945,
     "status": "ok",
     "timestamp": 1707508553944,
     "user": {
      "displayName": "Homer Liu",
      "userId": "02498362625275100753"
     },
     "user_tz": 420
    },
    "id": "JpKD5_2XbryJ"
   },
   "outputs": [],
   "source": [
    "!pip install -q jupyter\n",
    "!pip install -q nbconvert"
   ]
  },
  {
   "cell_type": "code",
   "execution_count": 44,
   "metadata": {
    "colab": {
     "base_uri": "https://localhost:8080/"
    },
    "executionInfo": {
     "elapsed": 4261,
     "status": "ok",
     "timestamp": 1707508562370,
     "user": {
      "displayName": "Homer Liu",
      "userId": "02498362625275100753"
     },
     "user_tz": 420
    },
    "id": "vZN0qweOiUfY",
    "outputId": "614017d4-e685-45c8-a333-8e81b61cdf90"
   },
   "outputs": [
    {
     "name": "stdout",
     "output_type": "stream",
     "text": [
      "[NbConvertApp] Converting notebook /content/drive/MyDrive/Colab Notebooks/Lab_Assignment_4_Liu_KuanHung.ipynb to html\n",
      "[NbConvertApp] Writing 693766 bytes to /content/drive/MyDrive/Colab Notebooks/Lab_Assignment_4_Liu_KuanHung.html\n"
     ]
    }
   ],
   "source": [
    "!jupyter nbconvert \"/content/drive/MyDrive/Colab Notebooks/Lab_Assignment_4_Liu_KuanHung.ipynb\" --to html"
   ]
  },
  {
   "cell_type": "code",
   "execution_count": null,
   "metadata": {
    "id": "P8nlwQPZbaNt"
   },
   "outputs": [],
   "source": []
  }
 ],
 "metadata": {
  "colab": {
   "provenance": [],
   "toc_visible": true
  },
  "kernelspec": {
   "display_name": "Python 3 (ipykernel)",
   "language": "python",
   "name": "python3"
  },
  "language_info": {
   "codemirror_mode": {
    "name": "ipython",
    "version": 3
   },
   "file_extension": ".py",
   "mimetype": "text/x-python",
   "name": "python",
   "nbconvert_exporter": "python",
   "pygments_lexer": "ipython3",
   "version": "3.11.4"
  }
 },
 "nbformat": 4,
 "nbformat_minor": 1
}
