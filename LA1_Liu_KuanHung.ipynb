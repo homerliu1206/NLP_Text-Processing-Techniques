{
  "cells": [
    {
      "cell_type": "markdown",
      "source": [
        "Title: Text Processing Techniques\\\n",
        "Name: Kuan-Hung Liu\\\n",
        "ASU ID: 1230540209\\\n",
        "File creation date: Jan/19/2024"
      ],
      "metadata": {
        "id": "fYMYrnLAoVPJ"
      }
    },
    {
      "cell_type": "markdown",
      "metadata": {
        "id": "w-L1oRwburt3"
      },
      "source": [
        "# Text Processing Pipeline"
      ]
    },
    {
      "cell_type": "markdown",
      "metadata": {
        "id": "c6GxStwZurt4"
      },
      "source": [
        "## 1. Library and Data Import"
      ]
    },
    {
      "cell_type": "code",
      "source": [
        "# Connect to Google Drive\n",
        "from google.colab import drive\n",
        "drive.mount('/content/drive')"
      ],
      "metadata": {
        "colab": {
          "base_uri": "https://localhost:8080/"
        },
        "id": "qB1e-T_HqDh5",
        "outputId": "35442645-ba2c-4a7e-bd8e-0c907692a9da"
      },
      "execution_count": null,
      "outputs": [
        {
          "output_type": "stream",
          "name": "stdout",
          "text": [
            "Mounted at /content/drive\n"
          ]
        }
      ]
    },
    {
      "cell_type": "code",
      "execution_count": null,
      "metadata": {
        "id": "pwVzAaHFurt5",
        "scrolled": true
      },
      "outputs": [],
      "source": [
        "# Import packages\n",
        "import spacy\n",
        "import nltk\n",
        "import spacy.cli\n",
        "import pandas as pd\n",
        "from nltk import pos_tag\n",
        "from nltk.tokenize import word_tokenize\n",
        "from nltk.corpus import stopwords\n",
        "from collections import Counter"
      ]
    },
    {
      "cell_type": "code",
      "source": [
        "# Download packages\n",
        "nltk.download('wordnet')\n",
        "nltk.download('omw-1.4')\n",
        "nltk.download('punkt')\n",
        "nltk.download('stopwords')\n",
        "nltk.download('averaged_perceptron_tagger')\n",
        "spacy.cli.download(\"en_core_web_lg\")\n",
        "nlp = spacy.load(\"en_core_web_lg\")"
      ],
      "metadata": {
        "id": "mVeO0vzOyP8t"
      },
      "execution_count": null,
      "outputs": []
    },
    {
      "cell_type": "code",
      "execution_count": null,
      "metadata": {
        "id": "w8nJYH1YqA3b"
      },
      "outputs": [],
      "source": [
        "path = '/content/drive/MyDrive/CIS_509/restaurant_reviews_az.csv'"
      ]
    },
    {
      "cell_type": "code",
      "source": [
        "df = pd.read_csv(path) # import csv file"
      ],
      "metadata": {
        "id": "cxjMbdNHq4Bv"
      },
      "execution_count": null,
      "outputs": []
    },
    {
      "cell_type": "code",
      "execution_count": null,
      "metadata": {
        "colab": {
          "base_uri": "https://localhost:8080/"
        },
        "id": "bL4cpaLhqA3b",
        "outputId": "f5deb458-2352-435a-9ac6-ae588ed703d6"
      },
      "outputs": [
        {
          "output_type": "stream",
          "name": "stdout",
          "text": [
            "<class 'pandas.core.frame.DataFrame'>\n",
            "RangeIndex: 48147 entries, 0 to 48146\n",
            "Data columns (total 10 columns):\n",
            " #   Column       Non-Null Count  Dtype \n",
            "---  ------       --------------  ----- \n",
            " 0   review_id    48147 non-null  object\n",
            " 1   user_id      48147 non-null  object\n",
            " 2   business_id  48147 non-null  object\n",
            " 3   stars        48147 non-null  int64 \n",
            " 4   useful       48147 non-null  int64 \n",
            " 5   funny        48147 non-null  int64 \n",
            " 6   cool         48147 non-null  int64 \n",
            " 7   text         48147 non-null  object\n",
            " 8   date         48147 non-null  object\n",
            " 9   Sentiment    48147 non-null  int64 \n",
            "dtypes: int64(5), object(5)\n",
            "memory usage: 3.7+ MB\n"
          ]
        }
      ],
      "source": [
        "df.info() # summary of input data"
      ]
    },
    {
      "cell_type": "markdown",
      "metadata": {
        "id": "kfwFFoWFqA3b"
      },
      "source": [
        "## 2. Select Dataset\n",
        "Select the 1 star reviews and 5 star reviews from the dataset"
      ]
    },
    {
      "cell_type": "code",
      "execution_count": null,
      "metadata": {
        "scrolled": true,
        "id": "RrpMT0tmqA3b"
      },
      "outputs": [],
      "source": [
        "# Select the 1 star reviews and 5 star reviews from the dataset\n",
        "reviews_1_star_df = df[df['stars'] == 1]\n",
        "reviews_5_star_df = df[df['stars'] == 5]"
      ]
    },
    {
      "cell_type": "code",
      "source": [
        "reviews_1_star_df\n",
        "reviews_5_star_df"
      ],
      "metadata": {
        "colab": {
          "base_uri": "https://localhost:8080/",
          "height": 424
        },
        "id": "AmGqQAUyA7KR",
        "outputId": "332f985f-6742-4408-ff2b-4756a6da78dd"
      },
      "execution_count": null,
      "outputs": [
        {
          "output_type": "execute_result",
          "data": {
            "text/plain": [
              "                    review_id                 user_id             business_id  \\\n",
              "1      QP2pSzSqpJTMWOCuUuyXkQ  JBLWSXBTKFvJYYiM-FnCOQ  3w7NRntdQ9h0KwDsksIt5Q   \n",
              "2      oK0cGYStgDOusZKz9B1qug  2_9fKnXChUjC5xArfF8BLg  OMnPtRGmbY8qH_wIILfYKA   \n",
              "3      E_ABvFCNVLbfOgRg3Pv1KQ  9MExTQ76GSKhxSWnTS901g  V9XlikTxq0My4gE8LULsjw   \n",
              "6      DblKoOM1O6Bug_0b6YcpIQ  8o2iLbpduMiPefS2Gy_28g  wJmyu7W1K9A_gE8Ed4Bc9w   \n",
              "7      vW2w4F27XNIkD2toYu0PKg  t9LqNtCGuNUqBeFKWoFOPg  u4P6hqDz6-QG9PR2Pj5KIw   \n",
              "...                       ...                     ...                     ...   \n",
              "48138  XtRsx73YCHC3WiDh_oZrDA  2n1VIiuJueBRHDytgTq9Zg  wIXYreqGaO5AEVjNQulbKQ   \n",
              "48141  VkXr54yJMN4Qu4dRznAN8Q  4jEdEPDNAAa3aS7rYhQ60w  MK0OMY_u9unl8xSqjPLtMw   \n",
              "48143  Zu4ng3tjf_2oa9LlnEvUmQ  ItQzeC91hJF6qvvE7-OZmQ  Yzh7Xo1_JBDWUl2BzRiYaQ   \n",
              "48145  dkGbETTcSQZTwHSnAMnLUw  _RmG_5kxRPgTWP7RptaFgQ  Bq0CQcwk5R8yhm-MGfHxCA   \n",
              "48146  YGUyDcnAxZsUAjlK3QF99g  Qa5MBgb7Xyrr9Pg5bD4taQ  jh8j-DWqgWkbRe_a2XtKFQ   \n",
              "\n",
              "       stars  useful  funny  cool  \\\n",
              "1          5       1      1     1   \n",
              "2          5       1      0     0   \n",
              "3          5       0      0     0   \n",
              "6          5       0      0     0   \n",
              "7          5       0      0     0   \n",
              "...      ...     ...    ...   ...   \n",
              "48138      5       2      0     2   \n",
              "48141      5       3      0     0   \n",
              "48143      5       0      0     0   \n",
              "48145      5       6      2     4   \n",
              "48146      5       0      0     1   \n",
              "\n",
              "                                                    text              date  \\\n",
              "1      Pandemic pit stop to have an ice cream.... onl...    4/19/2020 5:33   \n",
              "2      I was lucky enough to go to the soft opening a...   2/29/2020 19:43   \n",
              "3      I've gone to claim Jumpers all over the US and...   3/14/2020 21:47   \n",
              "6      In town after a long weekend of hiking and cam...    1/20/2020 4:55   \n",
              "7      This is the definition of a great family-run b...    1/16/2020 4:58   \n",
              "...                                                  ...               ...   \n",
              "48138  We had heard of this place from my daughter wh...   2/21/2021 22:03   \n",
              "48141  ALWAYS love this place! And it's always busy, ...   1/17/2020 20:58   \n",
              "48143  Fresh and delicious food, served fast. What mo...  10/30/2021 20:17   \n",
              "48145  Bosnian food?? \\n\\n--- location. This is a HID...     1/5/2020 4:20   \n",
              "48146  My secret to finding good food often starts by...  11/28/2021 22:24   \n",
              "\n",
              "       Sentiment  \n",
              "1              1  \n",
              "2              1  \n",
              "3              1  \n",
              "6              1  \n",
              "7              1  \n",
              "...          ...  \n",
              "48138          1  \n",
              "48141          1  \n",
              "48143          1  \n",
              "48145          1  \n",
              "48146          1  \n",
              "\n",
              "[24467 rows x 10 columns]"
            ],
            "text/html": [
              "\n",
              "  <div id=\"df-dd695477-1b53-4947-9ab3-4ded8579b6b4\" class=\"colab-df-container\">\n",
              "    <div>\n",
              "<style scoped>\n",
              "    .dataframe tbody tr th:only-of-type {\n",
              "        vertical-align: middle;\n",
              "    }\n",
              "\n",
              "    .dataframe tbody tr th {\n",
              "        vertical-align: top;\n",
              "    }\n",
              "\n",
              "    .dataframe thead th {\n",
              "        text-align: right;\n",
              "    }\n",
              "</style>\n",
              "<table border=\"1\" class=\"dataframe\">\n",
              "  <thead>\n",
              "    <tr style=\"text-align: right;\">\n",
              "      <th></th>\n",
              "      <th>review_id</th>\n",
              "      <th>user_id</th>\n",
              "      <th>business_id</th>\n",
              "      <th>stars</th>\n",
              "      <th>useful</th>\n",
              "      <th>funny</th>\n",
              "      <th>cool</th>\n",
              "      <th>text</th>\n",
              "      <th>date</th>\n",
              "      <th>Sentiment</th>\n",
              "    </tr>\n",
              "  </thead>\n",
              "  <tbody>\n",
              "    <tr>\n",
              "      <th>1</th>\n",
              "      <td>QP2pSzSqpJTMWOCuUuyXkQ</td>\n",
              "      <td>JBLWSXBTKFvJYYiM-FnCOQ</td>\n",
              "      <td>3w7NRntdQ9h0KwDsksIt5Q</td>\n",
              "      <td>5</td>\n",
              "      <td>1</td>\n",
              "      <td>1</td>\n",
              "      <td>1</td>\n",
              "      <td>Pandemic pit stop to have an ice cream.... onl...</td>\n",
              "      <td>4/19/2020 5:33</td>\n",
              "      <td>1</td>\n",
              "    </tr>\n",
              "    <tr>\n",
              "      <th>2</th>\n",
              "      <td>oK0cGYStgDOusZKz9B1qug</td>\n",
              "      <td>2_9fKnXChUjC5xArfF8BLg</td>\n",
              "      <td>OMnPtRGmbY8qH_wIILfYKA</td>\n",
              "      <td>5</td>\n",
              "      <td>1</td>\n",
              "      <td>0</td>\n",
              "      <td>0</td>\n",
              "      <td>I was lucky enough to go to the soft opening a...</td>\n",
              "      <td>2/29/2020 19:43</td>\n",
              "      <td>1</td>\n",
              "    </tr>\n",
              "    <tr>\n",
              "      <th>3</th>\n",
              "      <td>E_ABvFCNVLbfOgRg3Pv1KQ</td>\n",
              "      <td>9MExTQ76GSKhxSWnTS901g</td>\n",
              "      <td>V9XlikTxq0My4gE8LULsjw</td>\n",
              "      <td>5</td>\n",
              "      <td>0</td>\n",
              "      <td>0</td>\n",
              "      <td>0</td>\n",
              "      <td>I've gone to claim Jumpers all over the US and...</td>\n",
              "      <td>3/14/2020 21:47</td>\n",
              "      <td>1</td>\n",
              "    </tr>\n",
              "    <tr>\n",
              "      <th>6</th>\n",
              "      <td>DblKoOM1O6Bug_0b6YcpIQ</td>\n",
              "      <td>8o2iLbpduMiPefS2Gy_28g</td>\n",
              "      <td>wJmyu7W1K9A_gE8Ed4Bc9w</td>\n",
              "      <td>5</td>\n",
              "      <td>0</td>\n",
              "      <td>0</td>\n",
              "      <td>0</td>\n",
              "      <td>In town after a long weekend of hiking and cam...</td>\n",
              "      <td>1/20/2020 4:55</td>\n",
              "      <td>1</td>\n",
              "    </tr>\n",
              "    <tr>\n",
              "      <th>7</th>\n",
              "      <td>vW2w4F27XNIkD2toYu0PKg</td>\n",
              "      <td>t9LqNtCGuNUqBeFKWoFOPg</td>\n",
              "      <td>u4P6hqDz6-QG9PR2Pj5KIw</td>\n",
              "      <td>5</td>\n",
              "      <td>0</td>\n",
              "      <td>0</td>\n",
              "      <td>0</td>\n",
              "      <td>This is the definition of a great family-run b...</td>\n",
              "      <td>1/16/2020 4:58</td>\n",
              "      <td>1</td>\n",
              "    </tr>\n",
              "    <tr>\n",
              "      <th>...</th>\n",
              "      <td>...</td>\n",
              "      <td>...</td>\n",
              "      <td>...</td>\n",
              "      <td>...</td>\n",
              "      <td>...</td>\n",
              "      <td>...</td>\n",
              "      <td>...</td>\n",
              "      <td>...</td>\n",
              "      <td>...</td>\n",
              "      <td>...</td>\n",
              "    </tr>\n",
              "    <tr>\n",
              "      <th>48138</th>\n",
              "      <td>XtRsx73YCHC3WiDh_oZrDA</td>\n",
              "      <td>2n1VIiuJueBRHDytgTq9Zg</td>\n",
              "      <td>wIXYreqGaO5AEVjNQulbKQ</td>\n",
              "      <td>5</td>\n",
              "      <td>2</td>\n",
              "      <td>0</td>\n",
              "      <td>2</td>\n",
              "      <td>We had heard of this place from my daughter wh...</td>\n",
              "      <td>2/21/2021 22:03</td>\n",
              "      <td>1</td>\n",
              "    </tr>\n",
              "    <tr>\n",
              "      <th>48141</th>\n",
              "      <td>VkXr54yJMN4Qu4dRznAN8Q</td>\n",
              "      <td>4jEdEPDNAAa3aS7rYhQ60w</td>\n",
              "      <td>MK0OMY_u9unl8xSqjPLtMw</td>\n",
              "      <td>5</td>\n",
              "      <td>3</td>\n",
              "      <td>0</td>\n",
              "      <td>0</td>\n",
              "      <td>ALWAYS love this place! And it's always busy, ...</td>\n",
              "      <td>1/17/2020 20:58</td>\n",
              "      <td>1</td>\n",
              "    </tr>\n",
              "    <tr>\n",
              "      <th>48143</th>\n",
              "      <td>Zu4ng3tjf_2oa9LlnEvUmQ</td>\n",
              "      <td>ItQzeC91hJF6qvvE7-OZmQ</td>\n",
              "      <td>Yzh7Xo1_JBDWUl2BzRiYaQ</td>\n",
              "      <td>5</td>\n",
              "      <td>0</td>\n",
              "      <td>0</td>\n",
              "      <td>0</td>\n",
              "      <td>Fresh and delicious food, served fast. What mo...</td>\n",
              "      <td>10/30/2021 20:17</td>\n",
              "      <td>1</td>\n",
              "    </tr>\n",
              "    <tr>\n",
              "      <th>48145</th>\n",
              "      <td>dkGbETTcSQZTwHSnAMnLUw</td>\n",
              "      <td>_RmG_5kxRPgTWP7RptaFgQ</td>\n",
              "      <td>Bq0CQcwk5R8yhm-MGfHxCA</td>\n",
              "      <td>5</td>\n",
              "      <td>6</td>\n",
              "      <td>2</td>\n",
              "      <td>4</td>\n",
              "      <td>Bosnian food?? \\n\\n--- location. This is a HID...</td>\n",
              "      <td>1/5/2020 4:20</td>\n",
              "      <td>1</td>\n",
              "    </tr>\n",
              "    <tr>\n",
              "      <th>48146</th>\n",
              "      <td>YGUyDcnAxZsUAjlK3QF99g</td>\n",
              "      <td>Qa5MBgb7Xyrr9Pg5bD4taQ</td>\n",
              "      <td>jh8j-DWqgWkbRe_a2XtKFQ</td>\n",
              "      <td>5</td>\n",
              "      <td>0</td>\n",
              "      <td>0</td>\n",
              "      <td>1</td>\n",
              "      <td>My secret to finding good food often starts by...</td>\n",
              "      <td>11/28/2021 22:24</td>\n",
              "      <td>1</td>\n",
              "    </tr>\n",
              "  </tbody>\n",
              "</table>\n",
              "<p>24467 rows × 10 columns</p>\n",
              "</div>\n",
              "    <div class=\"colab-df-buttons\">\n",
              "\n",
              "  <div class=\"colab-df-container\">\n",
              "    <button class=\"colab-df-convert\" onclick=\"convertToInteractive('df-dd695477-1b53-4947-9ab3-4ded8579b6b4')\"\n",
              "            title=\"Convert this dataframe to an interactive table.\"\n",
              "            style=\"display:none;\">\n",
              "\n",
              "  <svg xmlns=\"http://www.w3.org/2000/svg\" height=\"24px\" viewBox=\"0 -960 960 960\">\n",
              "    <path d=\"M120-120v-720h720v720H120Zm60-500h600v-160H180v160Zm220 220h160v-160H400v160Zm0 220h160v-160H400v160ZM180-400h160v-160H180v160Zm440 0h160v-160H620v160ZM180-180h160v-160H180v160Zm440 0h160v-160H620v160Z\"/>\n",
              "  </svg>\n",
              "    </button>\n",
              "\n",
              "  <style>\n",
              "    .colab-df-container {\n",
              "      display:flex;\n",
              "      gap: 12px;\n",
              "    }\n",
              "\n",
              "    .colab-df-convert {\n",
              "      background-color: #E8F0FE;\n",
              "      border: none;\n",
              "      border-radius: 50%;\n",
              "      cursor: pointer;\n",
              "      display: none;\n",
              "      fill: #1967D2;\n",
              "      height: 32px;\n",
              "      padding: 0 0 0 0;\n",
              "      width: 32px;\n",
              "    }\n",
              "\n",
              "    .colab-df-convert:hover {\n",
              "      background-color: #E2EBFA;\n",
              "      box-shadow: 0px 1px 2px rgba(60, 64, 67, 0.3), 0px 1px 3px 1px rgba(60, 64, 67, 0.15);\n",
              "      fill: #174EA6;\n",
              "    }\n",
              "\n",
              "    .colab-df-buttons div {\n",
              "      margin-bottom: 4px;\n",
              "    }\n",
              "\n",
              "    [theme=dark] .colab-df-convert {\n",
              "      background-color: #3B4455;\n",
              "      fill: #D2E3FC;\n",
              "    }\n",
              "\n",
              "    [theme=dark] .colab-df-convert:hover {\n",
              "      background-color: #434B5C;\n",
              "      box-shadow: 0px 1px 3px 1px rgba(0, 0, 0, 0.15);\n",
              "      filter: drop-shadow(0px 1px 2px rgba(0, 0, 0, 0.3));\n",
              "      fill: #FFFFFF;\n",
              "    }\n",
              "  </style>\n",
              "\n",
              "    <script>\n",
              "      const buttonEl =\n",
              "        document.querySelector('#df-dd695477-1b53-4947-9ab3-4ded8579b6b4 button.colab-df-convert');\n",
              "      buttonEl.style.display =\n",
              "        google.colab.kernel.accessAllowed ? 'block' : 'none';\n",
              "\n",
              "      async function convertToInteractive(key) {\n",
              "        const element = document.querySelector('#df-dd695477-1b53-4947-9ab3-4ded8579b6b4');\n",
              "        const dataTable =\n",
              "          await google.colab.kernel.invokeFunction('convertToInteractive',\n",
              "                                                    [key], {});\n",
              "        if (!dataTable) return;\n",
              "\n",
              "        const docLinkHtml = 'Like what you see? Visit the ' +\n",
              "          '<a target=\"_blank\" href=https://colab.research.google.com/notebooks/data_table.ipynb>data table notebook</a>'\n",
              "          + ' to learn more about interactive tables.';\n",
              "        element.innerHTML = '';\n",
              "        dataTable['output_type'] = 'display_data';\n",
              "        await google.colab.output.renderOutput(dataTable, element);\n",
              "        const docLink = document.createElement('div');\n",
              "        docLink.innerHTML = docLinkHtml;\n",
              "        element.appendChild(docLink);\n",
              "      }\n",
              "    </script>\n",
              "  </div>\n",
              "\n",
              "\n",
              "<div id=\"df-d9a2aea4-c69e-4020-a0a9-39918d8cebbe\">\n",
              "  <button class=\"colab-df-quickchart\" onclick=\"quickchart('df-d9a2aea4-c69e-4020-a0a9-39918d8cebbe')\"\n",
              "            title=\"Suggest charts\"\n",
              "            style=\"display:none;\">\n",
              "\n",
              "<svg xmlns=\"http://www.w3.org/2000/svg\" height=\"24px\"viewBox=\"0 0 24 24\"\n",
              "     width=\"24px\">\n",
              "    <g>\n",
              "        <path d=\"M19 3H5c-1.1 0-2 .9-2 2v14c0 1.1.9 2 2 2h14c1.1 0 2-.9 2-2V5c0-1.1-.9-2-2-2zM9 17H7v-7h2v7zm4 0h-2V7h2v10zm4 0h-2v-4h2v4z\"/>\n",
              "    </g>\n",
              "</svg>\n",
              "  </button>\n",
              "\n",
              "<style>\n",
              "  .colab-df-quickchart {\n",
              "      --bg-color: #E8F0FE;\n",
              "      --fill-color: #1967D2;\n",
              "      --hover-bg-color: #E2EBFA;\n",
              "      --hover-fill-color: #174EA6;\n",
              "      --disabled-fill-color: #AAA;\n",
              "      --disabled-bg-color: #DDD;\n",
              "  }\n",
              "\n",
              "  [theme=dark] .colab-df-quickchart {\n",
              "      --bg-color: #3B4455;\n",
              "      --fill-color: #D2E3FC;\n",
              "      --hover-bg-color: #434B5C;\n",
              "      --hover-fill-color: #FFFFFF;\n",
              "      --disabled-bg-color: #3B4455;\n",
              "      --disabled-fill-color: #666;\n",
              "  }\n",
              "\n",
              "  .colab-df-quickchart {\n",
              "    background-color: var(--bg-color);\n",
              "    border: none;\n",
              "    border-radius: 50%;\n",
              "    cursor: pointer;\n",
              "    display: none;\n",
              "    fill: var(--fill-color);\n",
              "    height: 32px;\n",
              "    padding: 0;\n",
              "    width: 32px;\n",
              "  }\n",
              "\n",
              "  .colab-df-quickchart:hover {\n",
              "    background-color: var(--hover-bg-color);\n",
              "    box-shadow: 0 1px 2px rgba(60, 64, 67, 0.3), 0 1px 3px 1px rgba(60, 64, 67, 0.15);\n",
              "    fill: var(--button-hover-fill-color);\n",
              "  }\n",
              "\n",
              "  .colab-df-quickchart-complete:disabled,\n",
              "  .colab-df-quickchart-complete:disabled:hover {\n",
              "    background-color: var(--disabled-bg-color);\n",
              "    fill: var(--disabled-fill-color);\n",
              "    box-shadow: none;\n",
              "  }\n",
              "\n",
              "  .colab-df-spinner {\n",
              "    border: 2px solid var(--fill-color);\n",
              "    border-color: transparent;\n",
              "    border-bottom-color: var(--fill-color);\n",
              "    animation:\n",
              "      spin 1s steps(1) infinite;\n",
              "  }\n",
              "\n",
              "  @keyframes spin {\n",
              "    0% {\n",
              "      border-color: transparent;\n",
              "      border-bottom-color: var(--fill-color);\n",
              "      border-left-color: var(--fill-color);\n",
              "    }\n",
              "    20% {\n",
              "      border-color: transparent;\n",
              "      border-left-color: var(--fill-color);\n",
              "      border-top-color: var(--fill-color);\n",
              "    }\n",
              "    30% {\n",
              "      border-color: transparent;\n",
              "      border-left-color: var(--fill-color);\n",
              "      border-top-color: var(--fill-color);\n",
              "      border-right-color: var(--fill-color);\n",
              "    }\n",
              "    40% {\n",
              "      border-color: transparent;\n",
              "      border-right-color: var(--fill-color);\n",
              "      border-top-color: var(--fill-color);\n",
              "    }\n",
              "    60% {\n",
              "      border-color: transparent;\n",
              "      border-right-color: var(--fill-color);\n",
              "    }\n",
              "    80% {\n",
              "      border-color: transparent;\n",
              "      border-right-color: var(--fill-color);\n",
              "      border-bottom-color: var(--fill-color);\n",
              "    }\n",
              "    90% {\n",
              "      border-color: transparent;\n",
              "      border-bottom-color: var(--fill-color);\n",
              "    }\n",
              "  }\n",
              "</style>\n",
              "\n",
              "  <script>\n",
              "    async function quickchart(key) {\n",
              "      const quickchartButtonEl =\n",
              "        document.querySelector('#' + key + ' button');\n",
              "      quickchartButtonEl.disabled = true;  // To prevent multiple clicks.\n",
              "      quickchartButtonEl.classList.add('colab-df-spinner');\n",
              "      try {\n",
              "        const charts = await google.colab.kernel.invokeFunction(\n",
              "            'suggestCharts', [key], {});\n",
              "      } catch (error) {\n",
              "        console.error('Error during call to suggestCharts:', error);\n",
              "      }\n",
              "      quickchartButtonEl.classList.remove('colab-df-spinner');\n",
              "      quickchartButtonEl.classList.add('colab-df-quickchart-complete');\n",
              "    }\n",
              "    (() => {\n",
              "      let quickchartButtonEl =\n",
              "        document.querySelector('#df-d9a2aea4-c69e-4020-a0a9-39918d8cebbe button');\n",
              "      quickchartButtonEl.style.display =\n",
              "        google.colab.kernel.accessAllowed ? 'block' : 'none';\n",
              "    })();\n",
              "  </script>\n",
              "</div>\n",
              "\n",
              "  <div id=\"id_0dc41baf-d710-4719-8da2-6b6283cca6e8\">\n",
              "    <style>\n",
              "      .colab-df-generate {\n",
              "        background-color: #E8F0FE;\n",
              "        border: none;\n",
              "        border-radius: 50%;\n",
              "        cursor: pointer;\n",
              "        display: none;\n",
              "        fill: #1967D2;\n",
              "        height: 32px;\n",
              "        padding: 0 0 0 0;\n",
              "        width: 32px;\n",
              "      }\n",
              "\n",
              "      .colab-df-generate:hover {\n",
              "        background-color: #E2EBFA;\n",
              "        box-shadow: 0px 1px 2px rgba(60, 64, 67, 0.3), 0px 1px 3px 1px rgba(60, 64, 67, 0.15);\n",
              "        fill: #174EA6;\n",
              "      }\n",
              "\n",
              "      [theme=dark] .colab-df-generate {\n",
              "        background-color: #3B4455;\n",
              "        fill: #D2E3FC;\n",
              "      }\n",
              "\n",
              "      [theme=dark] .colab-df-generate:hover {\n",
              "        background-color: #434B5C;\n",
              "        box-shadow: 0px 1px 3px 1px rgba(0, 0, 0, 0.15);\n",
              "        filter: drop-shadow(0px 1px 2px rgba(0, 0, 0, 0.3));\n",
              "        fill: #FFFFFF;\n",
              "      }\n",
              "    </style>\n",
              "    <button class=\"colab-df-generate\" onclick=\"generateWithVariable('reviews_5_star_df')\"\n",
              "            title=\"Generate code using this dataframe.\"\n",
              "            style=\"display:none;\">\n",
              "\n",
              "  <svg xmlns=\"http://www.w3.org/2000/svg\" height=\"24px\"viewBox=\"0 0 24 24\"\n",
              "       width=\"24px\">\n",
              "    <path d=\"M7,19H8.4L18.45,9,17,7.55,7,17.6ZM5,21V16.75L18.45,3.32a2,2,0,0,1,2.83,0l1.4,1.43a1.91,1.91,0,0,1,.58,1.4,1.91,1.91,0,0,1-.58,1.4L9.25,21ZM18.45,9,17,7.55Zm-12,3A5.31,5.31,0,0,0,4.9,8.1,5.31,5.31,0,0,0,1,6.5,5.31,5.31,0,0,0,4.9,4.9,5.31,5.31,0,0,0,6.5,1,5.31,5.31,0,0,0,8.1,4.9,5.31,5.31,0,0,0,12,6.5,5.46,5.46,0,0,0,6.5,12Z\"/>\n",
              "  </svg>\n",
              "    </button>\n",
              "    <script>\n",
              "      (() => {\n",
              "      const buttonEl =\n",
              "        document.querySelector('#id_0dc41baf-d710-4719-8da2-6b6283cca6e8 button.colab-df-generate');\n",
              "      buttonEl.style.display =\n",
              "        google.colab.kernel.accessAllowed ? 'block' : 'none';\n",
              "\n",
              "      buttonEl.onclick = () => {\n",
              "        google.colab.notebook.generateWithVariable('reviews_5_star_df');\n",
              "      }\n",
              "      })();\n",
              "    </script>\n",
              "  </div>\n",
              "\n",
              "    </div>\n",
              "  </div>\n"
            ]
          },
          "metadata": {},
          "execution_count": 55
        }
      ]
    },
    {
      "cell_type": "markdown",
      "metadata": {
        "id": "4p5BxfB0qA3d"
      },
      "source": [
        "## 3. Find Nouns\n",
        "Text Processing + find the top 20 frequently used nouns in 1 star reviews and 5 star **reviews**, respectively"
      ]
    },
    {
      "cell_type": "code",
      "execution_count": null,
      "metadata": {
        "colab": {
          "base_uri": "https://localhost:8080/"
        },
        "id": "9l4kRQxXqA3d",
        "outputId": "f3fd96fb-c955-41fe-a6ae-b0e76d38feeb"
      },
      "outputs": [
        {
          "output_type": "stream",
          "name": "stdout",
          "text": [
            "Top 20 Nouns in 1-star reviews: [('food', 6575), ('order', 4744), ('time', 3407), ('service', 3043), ('place', 2975), ('minutes', 2388), ('manager', 1591), ('restaurant', 1571), ('people', 1440), ('customer', 1341), ('way', 1109), ('location', 1097), ('staff', 1044), ('experience', 1023), ('times', 925), ('customers', 871), ('money', 857), ('hour', 838), ('chicken', 822), ('pizza', 816)]\n",
            "Top 20 Nouns in 5-star reviews: [('food', 15846), ('place', 9499), ('service', 7435), ('time', 5579), ('staff', 4177), ('tucson', 3812), ('order', 3607), ('restaurant', 3233), ('everything', 2944), ('menu', 2277), ('pizza', 2127), ('experience', 2101), ('chicken', 2077), ('try', 1965), ('family', 1700), ('spot', 1693), ('breakfast', 1655), ('town', 1653), ('love', 1606), ('day', 1520)]\n"
          ]
        }
      ],
      "source": [
        "# Function to get nouns from a list of reviews\n",
        "def get_nouns(reviews):\n",
        "    nouns = []\n",
        "    stop_words = set(stopwords.words(\"english\"))\n",
        "\n",
        "    for review in reviews:\n",
        "        words = word_tokenize(review)\n",
        "        words = [word.lower() for word in words if word.isalpha() and word.lower() not in stop_words]\n",
        "        tagged_words = pos_tag(words)\n",
        "        nouns.extend([word for word, pos in tagged_words if pos.startswith('NN')])\n",
        "\n",
        "    return nouns\n",
        "\n",
        "# Get nouns for 1-star and 5-star reviews\n",
        "reviews_1_star = reviews_1_star_df['text'].tolist()\n",
        "reviews_5_star = reviews_5_star_df['text'].tolist()\n",
        "\n",
        "nouns_1_star = get_nouns(reviews_1_star)\n",
        "nouns_5_star = get_nouns(reviews_5_star)\n",
        "\n",
        "# Get top 20 nouns for each category\n",
        "top_nouns_1_star = Counter(nouns_1_star).most_common(20)\n",
        "top_nouns_5_star = Counter(nouns_5_star).most_common(20)\n",
        "\n",
        "print(\"Top 20 Nouns in 1-star reviews:\", top_nouns_1_star)\n",
        "print(\"Top 20 Nouns in 5-star reviews:\", top_nouns_5_star)"
      ]
    },
    {
      "cell_type": "markdown",
      "source": [
        "## 4. Find Adjectives\n",
        "Text Processing + find the top 20 frequently used adjectives in 1 star reviews and 5 star, respectively"
      ],
      "metadata": {
        "id": "A9HzCwBXy5JR"
      }
    },
    {
      "cell_type": "code",
      "execution_count": null,
      "metadata": {
        "colab": {
          "base_uri": "https://localhost:8080/"
        },
        "id": "1KLmsxRTqA3d",
        "outputId": "cd72be69-9e52-4157-ca1b-13f98d52bd45"
      },
      "outputs": [
        {
          "output_type": "stream",
          "name": "stdout",
          "text": [
            "Top 20 Adjectives in 1-star reviews: [('good', 1814), ('bad', 1234), ('last', 944), ('table', 806), ('terrible', 774), ('horrible', 765), ('worst', 760), ('first', 740), ('great', 727), ('wrong', 687), ('new', 632), ('sure', 594), ('many', 556), ('cheese', 554), ('cold', 525), ('much', 523), ('small', 511), ('disappointed', 504), ('old', 498), ('little', 481)]\n",
            "Top 20 Adjectives in 5-star reviews: [('great', 12434), ('good', 9454), ('delicious', 7360), ('best', 4728), ('fresh', 3246), ('nice', 2892), ('friendly', 2605), ('favorite', 2224), ('excellent', 2102), ('little', 1897), ('first', 1880), ('new', 1859), ('hot', 1784), ('happy', 1576), ('wonderful', 1485), ('many', 1426), ('perfect', 1412), ('amazing', 1408), ('sure', 1407), ('cheese', 1382)]\n"
          ]
        }
      ],
      "source": [
        "# Function to get adjectives from a list of reviews\n",
        "def get_adjectives(reviews):\n",
        "    adjectives = []\n",
        "    stop_words = set(stopwords.words(\"english\"))\n",
        "\n",
        "    for review in reviews:\n",
        "        words = word_tokenize(review)\n",
        "        words = [word.lower() for word in words if word.isalpha() and word.lower() not in stop_words]\n",
        "        tagged_words = pos_tag(words)\n",
        "        adjectives.extend([word for word, pos in tagged_words if pos.startswith('JJ')])\n",
        "\n",
        "    return adjectives\n",
        "\n",
        "# Get nouns for 1-star and 5-star reviews\n",
        "reviews_1_star = reviews_1_star_df['text'].tolist()\n",
        "reviews_5_star = reviews_5_star_df['text'].tolist()\n",
        "\n",
        "adjectives_1_star = get_adjectives(reviews_1_star)\n",
        "adjectives_5_star = get_adjectives(reviews_5_star)\n",
        "\n",
        "# Get top 20 adjectives for each category\n",
        "top_adjectives_1_star = Counter(adjectives_1_star).most_common(20)\n",
        "top_adjectives_5_star = Counter(adjectives_5_star).most_common(20)\n",
        "\n",
        "print(\"Top 20 Adjectives in 1-star reviews:\", top_adjectives_1_star)\n",
        "print(\"Top 20 Adjectives in 5-star reviews:\", top_adjectives_5_star)"
      ]
    },
    {
      "cell_type": "markdown",
      "source": [
        "## 5. Find Verbs\n",
        "Text Processing + find the top 20 frequently used verbs in 1 star reviews and 5 star reviews, respectively."
      ],
      "metadata": {
        "id": "Nd0WAh975lND"
      }
    },
    {
      "cell_type": "code",
      "execution_count": null,
      "metadata": {
        "colab": {
          "base_uri": "https://localhost:8080/"
        },
        "id": "b9cL6I-JqA3d",
        "outputId": "cbc3abe4-10d2-43a5-81ab-fc51271fe1ac"
      },
      "outputs": [
        {
          "output_type": "stream",
          "name": "stdout",
          "text": [
            "Top 20 Verbs in 1-star reviews: [('ordered', 2529), ('go', 2483), ('get', 2425), ('said', 2391), ('got', 2359), ('asked', 1938), ('went', 1700), ('came', 1670), ('told', 1647), ('going', 1320), ('took', 1117), ('know', 1012), ('called', 976), ('come', 955), ('waiting', 945), ('made', 935), ('take', 921), ('waited', 905), ('make', 891), ('say', 837)]\n",
            "Top 20 Verbs in 5-star reviews: [('go', 4400), ('amazing', 4040), ('got', 3648), ('ordered', 3485), ('get', 3065), ('made', 2622), ('love', 2597), ('recommend', 2360), ('came', 2202), ('come', 1986), ('went', 1805), ('loved', 1625), ('make', 1602), ('try', 1592), ('take', 1516), ('going', 1444), ('tried', 1434), ('coming', 1295), ('say', 1202), ('wait', 1136)]\n"
          ]
        }
      ],
      "source": [
        "# Function to get verbs from a list of reviews\n",
        "def get_verbs(reviews):\n",
        "    verbs = []\n",
        "    stop_words = set(stopwords.words(\"english\"))\n",
        "\n",
        "    for review in reviews:\n",
        "        words = word_tokenize(review)\n",
        "        words = [word.lower() for word in words if word.isalpha() and word.lower() not in stop_words]\n",
        "        tagged_words = pos_tag(words)\n",
        "        verbs.extend([word for word, pos in tagged_words if pos.startswith('VB')])\n",
        "\n",
        "    return verbs\n",
        "\n",
        "# Get nouns for 1-star and 5-star reviews\n",
        "reviews_1_star = reviews_1_star_df['text'].tolist()\n",
        "reviews_5_star = reviews_5_star_df['text'].tolist()\n",
        "\n",
        "verbs_1_star = get_verbs(reviews_1_star)\n",
        "verbs_5_star = get_verbs(reviews_5_star)\n",
        "\n",
        "# Get top 20 verbs for each category\n",
        "top_verbs_1_star = Counter(verbs_1_star).most_common(20)\n",
        "top_verbs_5_star = Counter(verbs_5_star).most_common(20)\n",
        "\n",
        "print(\"Top 20 Verbs in 1-star reviews:\", top_verbs_1_star)\n",
        "print(\"Top 20 Verbs in 5-star reviews:\", top_verbs_5_star)"
      ]
    },
    {
      "cell_type": "markdown",
      "source": [
        "## 6. Find Named Entity\n",
        "Text Processing + find the top 20 frequently used named entities from the selected reviews."
      ],
      "metadata": {
        "id": "KELRvhi8DD-S"
      }
    },
    {
      "cell_type": "code",
      "execution_count": null,
      "metadata": {
        "colab": {
          "base_uri": "https://localhost:8080/"
        },
        "id": "hVvKKG1JqA3d",
        "outputId": "27577f77-7008-44a2-9b21-79040af8cf8f"
      },
      "outputs": [
        {
          "output_type": "stream",
          "name": "stdout",
          "text": [
            "Top 20 Named Entities in 1-star reviews: [('one', 1084), ('first', 935), ('two', 857), ('2', 765), ('3', 568), ('Tucson', 562), ('today', 465), ('1', 366), ('4', 360), ('second', 287), ('three', 284), ('half', 281), ('First', 273), ('5', 268), ('Mexican', 260), ('tonight', 258), ('zero', 211), ('an hour', 211), ('One', 205), ('10', 184)]\n",
            "Top 20 Named Entities in 5-star reviews: [('Tucson', 4843), ('first', 1932), ('one', 1284), ('two', 1243), ('Mexican', 1169), ('2', 742), ('5', 736), ('today', 677), ('One', 644), ('First', 571), ('3', 515), ('Italian', 514), ('Chinese', 432), ('Thai', 402), ('Indian', 376), ('4', 356), ('three', 340), ('half', 326), ('French', 321), ('second', 317)]\n"
          ]
        }
      ],
      "source": [
        "# Function to get named entities from a list of reviews\n",
        "def get_named_entities(reviews):\n",
        "    named_entities = []\n",
        "\n",
        "    for review in reviews:\n",
        "        doc = nlp(review)\n",
        "        named_entities.extend([ent.text for ent in doc.ents])\n",
        "\n",
        "    return named_entities\n",
        "\n",
        "reviews_1_star = reviews_1_star_df['text'].tolist()\n",
        "reviews_5_star = reviews_5_star_df['text'].tolist()\n",
        "\n",
        "# Get named entities from selected reviews\n",
        "named_entities_list_1_star = get_named_entities(reviews_1_star)\n",
        "named_entities_list_5_star = get_named_entities(reviews_5_star)\n",
        "\n",
        "# Get the top 20 named entities\n",
        "top_named_entities_1_star = Counter(named_entities_list_1_star).most_common(20)\n",
        "top_named_entities_5_star = Counter(named_entities_list_5_star).most_common(20)\n",
        "\n",
        "print(\"Top 20 Named Entities in 1-star reviews:\", top_named_entities_1_star)\n",
        "print(\"Top 20 Named Entities in 5-star reviews:\", top_named_entities_5_star)"
      ]
    },
    {
      "cell_type": "markdown",
      "source": [
        "## 7. Observation\n",
        "What is the key to a good restaurant experience?"
      ],
      "metadata": {
        "id": "QraMBUbFKlJs"
      }
    },
    {
      "cell_type": "markdown",
      "source": [
        "\n",
        "1. In 5 star reviews, there are several common words:\n",
        "* Nouns: service, staff, experience, love, family\n",
        "* Adjectives: delicious, fresh, friendly\n",
        "* Verbs: love, recommend\n",
        "\n",
        "\\\n",
        "2. In 1 star reviews, there are several common words:\n",
        "* Nouns: food, order, time, service, minute, manager, staff, experience, hour\n",
        "* Adjectives: disappointed, old, little,\n",
        "* Verbs: wait\n",
        "\n",
        "\\\n",
        "3. Conclusion:\n",
        "As a result, I found that users usually care about:\n",
        "* The quality of the restaurant's food.\n",
        "* The level of service provided by staff and management.\n",
        "* The duration of waiting times.\n",
        "\n",
        "\\\n",
        "These aspects significantly impact customers' experiences and shape their overall perceptions of the restaurants. Consequently, restaurants should prioritize these key elements to enhance customer satisfaction.\n",
        "\n",
        "\n"
      ],
      "metadata": {
        "id": "0LE8DgnINH1P"
      }
    },
    {
      "cell_type": "markdown",
      "source": [
        "## 8. Acknowlege of usage of GenAI tools"
      ],
      "metadata": {
        "id": "LMPcVVWhK0Qk"
      }
    },
    {
      "cell_type": "markdown",
      "source": [
        "GenAI helped me to generate the most of code. The GenAI usually use function to process the data and extract different types of words."
      ],
      "metadata": {
        "id": "WZxk1bIyNEiP"
      }
    },
    {
      "cell_type": "code",
      "source": [],
      "metadata": {
        "id": "5tF7r2yopGtp"
      },
      "execution_count": null,
      "outputs": []
    }
  ],
  "metadata": {
    "colab": {
      "provenance": []
    },
    "kernelspec": {
      "display_name": "Python 3 (ipykernel)",
      "language": "python",
      "name": "python3"
    },
    "language_info": {
      "codemirror_mode": {
        "name": "ipython",
        "version": 3
      },
      "file_extension": ".py",
      "mimetype": "text/x-python",
      "name": "python",
      "nbconvert_exporter": "python",
      "pygments_lexer": "ipython3",
      "version": "3.11.4"
    }
  },
  "nbformat": 4,
  "nbformat_minor": 0
}